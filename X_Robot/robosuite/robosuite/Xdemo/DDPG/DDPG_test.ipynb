{
 "cells": [
  {
   "cell_type": "code",
   "execution_count": 1,
   "metadata": {},
   "outputs": [],
   "source": [
    "import scipy.signal\n",
    "import sys\n",
    "import torch\n",
    "import torch.nn as nn\n",
    "import numpy as np"
   ]
  },
  {
   "cell_type": "code",
   "execution_count": 2,
   "metadata": {},
   "outputs": [],
   "source": [
    "from typing import Dict, List, Optional, Tuple\n",
    "import gym\n",
    "from PIL import Image\n",
    "# from pyvirtualdisplay import Display\n",
    "# Display().start()\n",
    "from datetime import datetime\n",
    "from tqdm import tqdm"
   ]
  },
  {
   "cell_type": "code",
   "execution_count": 3,
   "metadata": {},
   "outputs": [],
   "source": [
    "import math\n",
    "import random\n",
    "from copy import deepcopy\n",
    "import torch\n",
    "from torch.optim import Adam\n",
    "from torch.optim import RMSprop\n",
    "import gym\n",
    "import time\n",
    "from collections import namedtuple, deque\n",
    "import neptune.new as neptune"
   ]
  },
  {
   "cell_type": "code",
   "execution_count": 4,
   "metadata": {},
   "outputs": [],
   "source": [
    "import robosuite as suite\n",
    "from robosuite.controllers import load_controller_config\n",
    "from robosuite.controllers.controller_factory import reset_controllers\n",
    "from robosuite.utils import observables\n",
    "from robosuite.utils.input_utils import *\n",
    "from robosuite.robots import Bimanual\n",
    "import imageio\n",
    "import numpy as np\n",
    "import robosuite.utils.macros as macros\n",
    "macros.IMAGE_CONVENTION = \"opencv\""
   ]
  },
  {
   "cell_type": "code",
   "execution_count": 5,
   "metadata": {},
   "outputs": [
    {
     "name": "stdout",
     "output_type": "stream",
     "text": [
      "https://app.neptune.ai/xhnfirst/DDPG-robosuite/e/DDPGROB-150\n",
      "Remember to stop your run once you’ve finished logging your metadata (https://docs.neptune.ai/api-reference/run#.stop). It will be stopped automatically only when the notebook kernel/interactive console is terminated.\n"
     ]
    }
   ],
   "source": [
    "nep_log = neptune.init(\n",
    "    project=\"xhnfirst/DDPG-robosuite\",\n",
    "    api_token=\"eyJhcGlfYWRkcmVzcyI6Imh0dHBzOi8vYXBwLm5lcHR1bmUuYWkiLCJhcGlfdXJsIjoiaHR0cHM6Ly9hcHAubmVwdHVuZS5haSIsImFwaV9rZXkiOiI1NTg5MDI2OS01MTVmLTQ2YjUtODA1Yy02ZWQyNDgxZDcwN2UifQ==\",\n",
    ")"
   ]
  },
  {
   "cell_type": "code",
   "execution_count": 6,
   "metadata": {},
   "outputs": [
    {
     "name": "stdout",
     "output_type": "stream",
     "text": [
      "device =  cuda\n"
     ]
    }
   ],
   "source": [
    "options = {\n",
    "    'env_name': 'EElab_test2',\n",
    "    \"robots\": \"UR5e\"\n",
    "}\n",
    "controller_name = \"JOINT_VELOCITY\"\n",
    "options[\"controller_configs\"] = suite.load_controller_config(default_controller=controller_name)\n",
    "\n",
    "env = suite.make(\n",
    "    **options,\n",
    "    has_renderer=False,\n",
    "    has_offscreen_renderer=True,\n",
    "    ignore_done=True,\n",
    "    use_camera_obs=False,\n",
    "    gripper_types=None,\n",
    "    renderer = 'mujoco',\n",
    "\n",
    ")\n",
    "\n",
    "test_env = suite.make(\n",
    "    **options,\n",
    "    has_renderer=False,\n",
    "    has_offscreen_renderer=True,\n",
    "    ignore_done=True,\n",
    "    use_camera_obs=False,\n",
    "    gripper_types=None,\n",
    "    renderer = 'mujoco',\n",
    ")\n",
    "\n",
    "\n",
    "video_env = suite.make(\n",
    "    **options,\n",
    "    gripper_types=None,\n",
    "    has_renderer=False,\n",
    "    has_offscreen_renderer=True,\n",
    "    ignore_done=True,\n",
    "    use_camera_obs=True,\n",
    "    use_object_obs=True, \n",
    "    camera_names='Labviewer',\n",
    "    camera_heights=512,\n",
    "    camera_widths=512,\n",
    "    # control_freq=200,\n",
    "    renderer = 'mujoco',\n",
    ")\n",
    "\n",
    "frame = []\n",
    "device= torch.device(\"cuda\" if torch.cuda.is_available() else \"cpu\")\n",
    "print('device = ', device)"
   ]
  },
  {
   "cell_type": "code",
   "execution_count": 7,
   "metadata": {},
   "outputs": [],
   "source": [
    "def mlp(sizes, activation, output_activation=nn.Identity):\n",
    "    layers = []\n",
    "    for j in range(len(sizes)-1):\n",
    "        act = activation if j < len(sizes)-2 else output_activation\n",
    "        layers += [nn.Linear(sizes[j], sizes[j+1]), act()]\n",
    "    return nn.Sequential(*layers)\n",
    "\n",
    "\n",
    "class MLPActor(nn.Module):\n",
    "\n",
    "    def __init__(self, obs_dim, act_dim, hidden_sizes, activation, act_limit):\n",
    "        super().__init__()\n",
    "        pi_sizes = [obs_dim] + list(hidden_sizes) + [act_dim]\n",
    "        self.pi = mlp(pi_sizes, activation, nn.Tanh)\n",
    "        self.act_limit = act_limit\n",
    "\n",
    "    def forward(self, obs):\n",
    "        # Return output from network scaled to action space limits.\n",
    "        return self.act_limit * self.pi(obs)\n",
    "\n",
    "class MLPQFunction(nn.Module):\n",
    "\n",
    "    def __init__(self, obs_dim, act_dim, hidden_sizes, activation):\n",
    "        super().__init__()\n",
    "        self.q = mlp([obs_dim + act_dim] + list(hidden_sizes) + [1], activation)\n",
    "\n",
    "    def forward(self, obs, act):\n",
    "        q = self.q(torch.cat([obs, act], dim=-1))\n",
    "        return torch.squeeze(q, -1) # Critical to ensure q has right shape.\n",
    "\n",
    "class MLPActorCritic(nn.Module):\n",
    "\n",
    "    def __init__(self, hidden_sizes=(256,256),\n",
    "                 activation=nn.ReLU, device=torch.device(\"cuda\" if torch.cuda.is_available() else \"cpu\")):\n",
    "        super().__init__()\n",
    "\n",
    "        obs_dim = 35\n",
    "        act_dim = 6\n",
    "        act_limit = 1\n",
    "\n",
    "        # build policy and value functions\n",
    "        self.pi = MLPActor(obs_dim, act_dim, hidden_sizes, activation, act_limit).to(device)\n",
    "        self.q = MLPQFunction(obs_dim, act_dim, hidden_sizes, activation).to(device)\n",
    "\n",
    "    def act(self, obs):\n",
    "        with torch.no_grad():\n",
    "            return self.pi(obs)"
   ]
  },
  {
   "cell_type": "code",
   "execution_count": 8,
   "metadata": {},
   "outputs": [],
   "source": [
    "Transition = namedtuple('Transition',\n",
    "                        ('obs', 'act', 'rew', 'next_obs', 'done'))\n",
    "\n",
    "class ReplayMemory(object):\n",
    "\n",
    "    def __init__(self, capacity):\n",
    "        self.memory = deque([],maxlen=capacity)\n",
    "\n",
    "    def push(self, *args):\n",
    "        \"\"\"Save a transition\"\"\"\n",
    "        self.memory.append(Transition(*args))\n",
    "\n",
    "    def sample(self, batch_size):\n",
    "        return random.sample(self.memory, batch_size)\n",
    "\n",
    "    def __len__(self):\n",
    "        return len(self.memory)"
   ]
  },
  {
   "cell_type": "code",
   "execution_count": 9,
   "metadata": {},
   "outputs": [],
   "source": [
    "\n",
    "params = {\n",
    "    \"dropout\": 0.2,\n",
    "    \"learning_rate\": 0.001,\n",
    "    \"optimizer\": \"Adam\",\n",
    "    \"hid\": 256,\n",
    "    \"l\": 3,\n",
    "    \"seed\": 0,\n",
    "    \"steps_per_epoch\": 3000,\n",
    "    \"steps_video\": 30000,\n",
    "    \"epochs\": 1000,\n",
    "    \"replay_size\": int(1e8),\n",
    "    \"gamma\": 0.99,\n",
    "    \"polyak\": 0.995,\n",
    "    \"pi_lr\": 1e-4,\n",
    "    \"q_lr\": 1e-4,\n",
    "    \"batch_size\": 1000,\n",
    "    \"start_steps\": 10000, \n",
    "    \"update_after\": 5000,\n",
    "    \"update_every\": 100,\n",
    "    \"act_noise\": 0.01,\n",
    "    \"num_test_episodes\": 5,\n",
    "    \"max_ep_len\": 1000,\n",
    "    \"max_video_len\": 1000,\n",
    "    \"save_model_len\": 10000,\n",
    "    # \"obs_dim\": 47,\n",
    "    # \"act_dim\": 7,\n",
    "    # \"act_limit\": 1\n",
    "}\n",
    "\n",
    "ac_kwargs=dict(hidden_sizes=[params[\"hid\"]]*params[\"l\"])"
   ]
  },
  {
   "cell_type": "code",
   "execution_count": 10,
   "metadata": {},
   "outputs": [
    {
     "name": "stdout",
     "output_type": "stream",
     "text": [
      "obs_dim =  35\n",
      "act_dim =  6\n",
      "act_limit =  1\n"
     ]
    }
   ],
   "source": [
    "nep_log[\"parameters\"] = params\n",
    "\n",
    "torch.manual_seed(params[\"seed\"])\n",
    "np.random.seed(params[\"seed\"])\n",
    "\n",
    "obs_dim = 35\n",
    "print('obs_dim = ', obs_dim)\n",
    "act_dim = 6\n",
    "print('act_dim = ', act_dim)\n",
    "# Action limit for clamping: critically, assumes all dimensions share the same bound!\n",
    "act_limit = 1\n",
    "print('act_limit = ', act_limit)\n",
    "# Create actor-critic module and target networks\n",
    "ac = MLPActorCritic(**ac_kwargs)\n",
    "ac_targ = deepcopy(ac)\n",
    "\n",
    "# Freeze target networks with respect to optimizers (only update via polyak averaging)\n",
    "for p in ac_targ.parameters():\n",
    "    p.requires_grad = False\n",
    "\n",
    "memory = ReplayMemory(params[\"replay_size\"])"
   ]
  },
  {
   "cell_type": "code",
   "execution_count": 11,
   "metadata": {},
   "outputs": [],
   "source": [
    "# Set up function for computing DDPG Q-loss\n",
    "def compute_loss_q(data):\n",
    "\n",
    "    o = torch.cat(data.obs).float()\n",
    "    a = torch.cat(data.act).float()\n",
    "    r = torch.cat(data.rew).float()\n",
    "    o2 =torch.cat(data.next_obs).float()\n",
    "    d = torch.cat(data.done).float()\n",
    "\n",
    "    q = ac.q(o,a)\n",
    "\n",
    "\n",
    "    # Bellman backup for Q function\n",
    "    with torch.no_grad():\n",
    "        q_pi_targ = ac_targ.q(o2, ac_targ.pi(o2))\n",
    "        backup = r + params[\"gamma\"] * (1 - d) * q_pi_targ\n",
    "\n",
    "    # MSE loss against Bellman backup\n",
    "    loss_q = ((q - backup)**2).mean()\n",
    "\n",
    "    return loss_q\n",
    "\n",
    "# Set up function for computing DDPG pi loss\n",
    "def compute_loss_pi(data):\n",
    "\n",
    "    o = torch.cat(data.obs).float()\n",
    "\n",
    "    q_pi = ac.q(o, ac.pi(o))\n",
    "\n",
    "    return -q_pi.mean()\n"
   ]
  },
  {
   "cell_type": "code",
   "execution_count": 12,
   "metadata": {},
   "outputs": [],
   "source": [
    "pi_optimizer = RMSprop(ac.pi.parameters(), lr=params[\"pi_lr\"])\n",
    "q_optimizer = RMSprop(ac.q.parameters(), lr=params[\"q_lr\"])\n",
    "\n",
    "def update(data):\n",
    "    # First run one gradient descent step for Q.\n",
    "\n",
    "\n",
    "    q_optimizer.zero_grad()\n",
    "    loss_q = compute_loss_q(data)\n",
    "\n",
    "    loss_q.backward()\n",
    "\n",
    "    q_optimizer.step()\n",
    "\n",
    "\n",
    "    # Freeze Q-network so you don't waste computational effort \n",
    "    # computing gradients for it during the policy learning step.\n",
    "    for p in ac.q.parameters():\n",
    "        p.requires_grad = False\n",
    "\n",
    "    # Next run one gradient descent step for pi.\n",
    "    pi_optimizer.zero_grad()\n",
    "    loss_pi = compute_loss_pi(data)\n",
    "    loss_pi.backward()\n",
    "    pi_optimizer.step()\n",
    "\n",
    "    # Unfreeze Q-network so you can optimize it at next DDPG step.\n",
    "    for p in ac.q.parameters():\n",
    "        p.requires_grad = True\n",
    "\n",
    "\n",
    "\n",
    "    # Finally, update target networks by polyak averaging.\n",
    "    with torch.no_grad():\n",
    "        for p, p_targ in zip(ac.parameters(), ac_targ.parameters()):\n",
    "            # NB: We use an in-place operations \"mul_\", \"add_\" to update target\n",
    "            # params, as opposed to \"mul\" and \"add\", which would make new tensors.\n",
    "            p_targ.data.mul_(params[\"polyak\"])\n",
    "            p_targ.data.add_((1 - params[\"polyak\"]) * p.data)\n"
   ]
  },
  {
   "cell_type": "code",
   "execution_count": 13,
   "metadata": {},
   "outputs": [],
   "source": [
    "\n",
    "\n",
    "\n",
    "def get_action(o, noise_scale):\n",
    "    a = ac.act(torch.as_tensor(o, dtype=torch.float32))\n",
    "    a += noise_scale * torch.randn(act_dim).to(device)\n",
    "    return torch.clip(a, -act_limit, act_limit)\n",
    "\n",
    "def test_agent(epoch):\n",
    "    test_main = 0\n",
    "    test_step = 0\n",
    "    for j in range(params[\"num_test_episodes\"]):\n",
    "        obs, d, test_ep_ret, test_ep_len = test_env.reset(), False, 0, 0\n",
    "        o = list(obs['robot0_proprio-state']) + list(obs['object-state'])\n",
    "        o = torch.tensor([o], dtype=torch.float32, device=device)\n",
    "        while not(d or (test_ep_len == params[\"max_ep_len\"])):\n",
    "            a_cpu = get_action(o, 0).cpu().data.numpy()\n",
    "            obs, r, d, _ = test_env.step(a_cpu[0])\n",
    "            o = list(obs['robot0_proprio-state']) + list(obs['object-state'])\n",
    "            o = torch.tensor([o], dtype=torch.float32, device=device)\n",
    "            test_ep_ret += r\n",
    "            test_ep_len += 1\n",
    "        test_ep_main = test_ep_ret/test_ep_len\n",
    "        test_step +=1\n",
    "        test_main += test_ep_main\n",
    "    print('test_rew_main = ', float(test_main/test_step))\n",
    "    nep_log[\"test/reward\"].log(test_main/test_step)\n",
    "    \n",
    "def video_agent(epoch):\n",
    "    obs, d, test_ep_len = video_env.reset(), False, 0\n",
    "    o = list(obs['robot0_proprio-state']) + list(obs['object-state'])\n",
    "    o = torch.tensor([o], dtype=torch.float32, device=device)\n",
    "    now = datetime.now()\n",
    "    current_time = str(now.isoformat())\n",
    "    writer = imageio.get_writer(\n",
    "        \"/home/xhnfly/Cosmic_rays_X/X_Robot/robosuite/robosuite/demos/video/DDPG_UR5_%s_ep_%d.mp4\" % (current_time, epoch), fps=100)\n",
    "    frame = obs[\"Labviewer_image\"]\n",
    "    writer.append_data(frame)\n",
    "\n",
    "    while not(d or (test_ep_len == params[\"max_video_len\"])):\n",
    "        a_cpu = get_action(o, 0).cpu().data.numpy()\n",
    "        obs, _, d, _ = video_env.step(a_cpu[0])\n",
    "        o = list(obs['robot0_proprio-state']) + list(obs['object-state'])\n",
    "        o = torch.tensor([o], dtype=torch.float32, device=device)\n",
    "        frame = obs[\"Labviewer_image\"]\n",
    "        writer.append_data(frame)\n",
    "        test_ep_len += 1\n",
    "    writer.close()\n",
    "    nep_log['video'] = neptune.types.File('/home/xhnfly/Cosmic_rays_X/X_Robot/robosuite/robosuite/demos/video/DDPG_UR5_%s_ep_%d.mp4' % (current_time, epoch))\n",
    "\n",
    "\n",
    "\n"
   ]
  },
  {
   "cell_type": "code",
   "execution_count": 14,
   "metadata": {},
   "outputs": [],
   "source": [
    "# obs = {\n",
    "#     'robot0_joint_pos_cos': None,\n",
    "#     'robot0_joint_pos_sin': None,\n",
    "#     'robot0_joint_vel': None,\n",
    "#     'robot0_eef_pos': None,\n",
    "#     'robot0_eef_quat': None,\n",
    "#     'robot0_gripper_qpos': None,\n",
    "#     'robot0_gripper_qvel': None,\n",
    "#     'cubeA_pos': None,\n",
    "#     'cubeA_quat': None,\n",
    "#     'cubeB_pos': None,\n",
    "#     'cubeB_quat': None,\n",
    "#     'gripper_to_cubeA': None,\n",
    "#     'gripper_to_cubeB': None,\n",
    "#     'cubeA_to_cubeB': None,\n",
    "# }\n",
    "\n",
    "obs, ep_ret, ep_len = env.reset(), 0, 0\n",
    "\n",
    "o = list(obs['robot0_proprio-state']) + list(obs['object-state'])\n",
    "\n",
    "# env.viewer.set_camera(camera_id=0)\n",
    "\n",
    "\n",
    "# Define neutral value\n",
    "neutral = np.zeros(7)\n",
    "\n",
    "# Keep track of done variable to know when to break loop\n",
    "\n",
    "# Prepare for interaction with environment\n",
    "total_steps = params[\"steps_per_epoch\"] * params[\"epochs\"]\n",
    "start_time = time.time()\n",
    "\n",
    "o = torch.tensor([o], device=device)\n",
    "\n",
    "\n",
    "start_time_rec = datetime.now()\n",
    "r_true = 0\n",
    "total_main = 0\n",
    "ep_rew_main = 0\n",
    "reward_dict={}"
   ]
  },
  {
   "cell_type": "code",
   "execution_count": 15,
   "metadata": {},
   "outputs": [
    {
     "name": "stderr",
     "output_type": "stream",
     "text": [
      "  0%|          | 2990/3000000 [00:37<9:09:08, 90.96it/s] "
     ]
    },
    {
     "name": "stdout",
     "output_type": "stream",
     "text": [
      "ep_rew_main =  [8.597451e-09]\n"
     ]
    },
    {
     "name": "stderr",
     "output_type": "stream",
     "text": [
      "  0%|          | 3009/3000000 [01:27<906:55:21,  1.09s/it] "
     ]
    },
    {
     "name": "stdout",
     "output_type": "stream",
     "text": [
      "test_rew_main =  1.0161862348865292e-07\n"
     ]
    },
    {
     "name": "stderr",
     "output_type": "stream",
     "text": [
      "  0%|          | 5995/3000000 [02:15<10:01:35, 82.95it/s] "
     ]
    },
    {
     "name": "stdout",
     "output_type": "stream",
     "text": [
      "ep_rew_main =  [5.730241e-09]\n"
     ]
    },
    {
     "name": "stderr",
     "output_type": "stream",
     "text": [
      "  0%|          | 6000/3000000 [03:25<2087:56:17,  2.51s/it]"
     ]
    },
    {
     "name": "stdout",
     "output_type": "stream",
     "text": [
      "test_rew_main =  6.196886793914428e-05\n"
     ]
    },
    {
     "name": "stderr",
     "output_type": "stream",
     "text": [
      "  0%|          | 8998/3000000 [04:37<10:30:30, 79.06it/s]  "
     ]
    },
    {
     "name": "stdout",
     "output_type": "stream",
     "text": [
      "ep_rew_main =  [4.9229847e-08]\n"
     ]
    },
    {
     "name": "stderr",
     "output_type": "stream",
     "text": [
      "  0%|          | 9000/3000000 [05:44<2428:52:30,  2.92s/it]"
     ]
    },
    {
     "name": "stdout",
     "output_type": "stream",
     "text": [
      "test_rew_main =  2.44473897303723e-06\n"
     ]
    },
    {
     "name": "stderr",
     "output_type": "stream",
     "text": [
      "  0%|          | 11993/3000000 [07:01<13:14:13, 62.70it/s] "
     ]
    },
    {
     "name": "stdout",
     "output_type": "stream",
     "text": [
      "ep_rew_main =  [8.902153e-06]\n"
     ]
    },
    {
     "name": "stderr",
     "output_type": "stream",
     "text": [
      "  0%|          | 12000/3000000 [08:09<2430:16:14,  2.93s/it]"
     ]
    },
    {
     "name": "stdout",
     "output_type": "stream",
     "text": [
      "test_rew_main =  0.00030100237501047816\n"
     ]
    },
    {
     "name": "stderr",
     "output_type": "stream",
     "text": [
      "  0%|          | 14999/3000000 [09:31<16:39:00, 49.80it/s]  "
     ]
    },
    {
     "name": "stdout",
     "output_type": "stream",
     "text": [
      "ep_rew_main =  [0.00031335]\n"
     ]
    },
    {
     "name": "stderr",
     "output_type": "stream",
     "text": [
      "  0%|          | 15000/3000000 [10:44<4036:15:27,  4.87s/it]"
     ]
    },
    {
     "name": "stdout",
     "output_type": "stream",
     "text": [
      "test_rew_main =  0.0018866426597890999\n"
     ]
    },
    {
     "name": "stderr",
     "output_type": "stream",
     "text": [
      "  1%|          | 17995/3000000 [12:07<13:24:53, 61.75it/s]  "
     ]
    },
    {
     "name": "stdout",
     "output_type": "stream",
     "text": [
      "ep_rew_main =  [1.1483119e-05]\n"
     ]
    },
    {
     "name": "stderr",
     "output_type": "stream",
     "text": [
      "  1%|          | 18000/3000000 [13:16<2702:32:42,  3.26s/it]"
     ]
    },
    {
     "name": "stdout",
     "output_type": "stream",
     "text": [
      "test_rew_main =  0.0031980769210294253\n"
     ]
    },
    {
     "name": "stderr",
     "output_type": "stream",
     "text": [
      "  1%|          | 20996/3000000 [14:39<13:54:40, 59.48it/s]  "
     ]
    },
    {
     "name": "stdout",
     "output_type": "stream",
     "text": [
      "ep_rew_main =  [2.8387456e-05]\n"
     ]
    },
    {
     "name": "stderr",
     "output_type": "stream",
     "text": [
      "  1%|          | 21000/3000000 [15:48<2842:28:44,  3.44s/it]"
     ]
    },
    {
     "name": "stdout",
     "output_type": "stream",
     "text": [
      "test_rew_main =  1.415209907410535e-05\n"
     ]
    },
    {
     "name": "stderr",
     "output_type": "stream",
     "text": [
      "  1%|          | 23997/3000000 [17:11<13:24:57, 61.62it/s]  "
     ]
    },
    {
     "name": "stdout",
     "output_type": "stream",
     "text": [
      "ep_rew_main =  [0.00025407]\n"
     ]
    },
    {
     "name": "stderr",
     "output_type": "stream",
     "text": [
      "  1%|          | 24000/3000000 [18:18<2877:35:39,  3.48s/it]"
     ]
    },
    {
     "name": "stdout",
     "output_type": "stream",
     "text": [
      "test_rew_main =  1.0732264373358948e-06\n"
     ]
    },
    {
     "name": "stderr",
     "output_type": "stream",
     "text": [
      "  1%|          | 26999/3000000 [19:41<15:02:03, 54.93it/s]  "
     ]
    },
    {
     "name": "stdout",
     "output_type": "stream",
     "text": [
      "ep_rew_main =  [1.6191741e-07]\n"
     ]
    },
    {
     "name": "stderr",
     "output_type": "stream",
     "text": [
      "  1%|          | 27000/3000000 [20:41<3318:33:48,  4.02s/it]"
     ]
    },
    {
     "name": "stdout",
     "output_type": "stream",
     "text": [
      "test_rew_main =  1.4039673487495904e-07\n"
     ]
    },
    {
     "name": "stderr",
     "output_type": "stream",
     "text": [
      "  1%|          | 29993/3000000 [22:01<13:30:36, 61.07it/s]  "
     ]
    },
    {
     "name": "stdout",
     "output_type": "stream",
     "text": [
      "ep_rew_main =  [0.00018366]\n"
     ]
    },
    {
     "name": "stderr",
     "output_type": "stream",
     "text": [
      "  1%|          | 29993/3000000 [22:20<13:30:36, 61.07it/s]"
     ]
    },
    {
     "name": "stdout",
     "output_type": "stream",
     "text": [
      "test_rew_main =  2.8848262679035372e-05\n",
      "current_time =  2022-02-02T22:28:33.827759\n"
     ]
    },
    {
     "name": "stderr",
     "output_type": "stream",
     "text": [
      "  1%|          | 30000/3000000 [24:29<5231:54:44,  6.34s/it]"
     ]
    },
    {
     "name": "stdout",
     "output_type": "stream",
     "text": [
      "current_time =  2022-02-02T22:29:56.597569\n"
     ]
    },
    {
     "name": "stderr",
     "output_type": "stream",
     "text": [
      "  1%|          | 32993/3000000 [25:51<12:54:41, 63.83it/s]  "
     ]
    },
    {
     "name": "stdout",
     "output_type": "stream",
     "text": [
      "ep_rew_main =  [2.5441335e-07]\n"
     ]
    },
    {
     "name": "stderr",
     "output_type": "stream",
     "text": [
      "  1%|          | 33000/3000000 [26:54<2233:13:56,  2.71s/it]"
     ]
    },
    {
     "name": "stdout",
     "output_type": "stream",
     "text": [
      "test_rew_main =  0.00045103840501196506\n"
     ]
    },
    {
     "name": "stderr",
     "output_type": "stream",
     "text": [
      "  1%|          | 35996/3000000 [28:11<12:41:35, 64.86it/s]  "
     ]
    },
    {
     "name": "stdout",
     "output_type": "stream",
     "text": [
      "ep_rew_main =  [0.07967763]\n"
     ]
    },
    {
     "name": "stderr",
     "output_type": "stream",
     "text": [
      "  1%|          | 36000/3000000 [29:08<2288:50:47,  2.78s/it]"
     ]
    },
    {
     "name": "stdout",
     "output_type": "stream",
     "text": [
      "test_rew_main =  0.0005354601048341747\n"
     ]
    },
    {
     "name": "stderr",
     "output_type": "stream",
     "text": [
      "  1%|▏         | 38993/3000000 [30:21<11:04:44, 74.24it/s]  "
     ]
    },
    {
     "name": "stdout",
     "output_type": "stream",
     "text": [
      "ep_rew_main =  [0.05740261]\n"
     ]
    },
    {
     "name": "stderr",
     "output_type": "stream",
     "text": [
      "  1%|▏         | 39000/3000000 [31:18<1674:37:05,  2.04s/it]"
     ]
    },
    {
     "name": "stdout",
     "output_type": "stream",
     "text": [
      "test_rew_main =  0.00018165100894398912\n"
     ]
    },
    {
     "name": "stderr",
     "output_type": "stream",
     "text": [
      "  1%|▏         | 41994/3000000 [32:36<12:33:52, 65.40it/s]  "
     ]
    },
    {
     "name": "stdout",
     "output_type": "stream",
     "text": [
      "ep_rew_main =  [0.00012279]\n"
     ]
    },
    {
     "name": "stderr",
     "output_type": "stream",
     "text": [
      "  1%|▏         | 42000/3000000 [33:48<2530:42:04,  3.08s/it]"
     ]
    },
    {
     "name": "stdout",
     "output_type": "stream",
     "text": [
      "test_rew_main =  0.00010354304610152465\n"
     ]
    },
    {
     "name": "stderr",
     "output_type": "stream",
     "text": [
      "  1%|▏         | 44995/3000000 [35:10<13:15:27, 61.91it/s]  "
     ]
    },
    {
     "name": "stdout",
     "output_type": "stream",
     "text": [
      "ep_rew_main =  [4.19085e-09]\n"
     ]
    },
    {
     "name": "stderr",
     "output_type": "stream",
     "text": [
      "  2%|▏         | 45000/3000000 [36:13<2454:15:30,  2.99s/it]"
     ]
    },
    {
     "name": "stdout",
     "output_type": "stream",
     "text": [
      "test_rew_main =  0.00012866374579257787\n"
     ]
    },
    {
     "name": "stderr",
     "output_type": "stream",
     "text": [
      "  2%|▏         | 47996/3000000 [37:29<12:01:51, 68.16it/s]  "
     ]
    },
    {
     "name": "stdout",
     "output_type": "stream",
     "text": [
      "ep_rew_main =  [3.9289117e-07]\n"
     ]
    },
    {
     "name": "stderr",
     "output_type": "stream",
     "text": [
      "  2%|▏         | 48000/3000000 [38:36<2415:14:40,  2.95s/it]"
     ]
    },
    {
     "name": "stdout",
     "output_type": "stream",
     "text": [
      "test_rew_main =  0.0029052286458225575\n"
     ]
    },
    {
     "name": "stderr",
     "output_type": "stream",
     "text": [
      "  2%|▏         | 50998/3000000 [39:55<14:18:15, 57.27it/s]  "
     ]
    },
    {
     "name": "stdout",
     "output_type": "stream",
     "text": [
      "ep_rew_main =  [8.3307775e-08]\n"
     ]
    },
    {
     "name": "stderr",
     "output_type": "stream",
     "text": [
      "  2%|▏         | 51000/3000000 [41:03<3354:39:05,  4.10s/it]"
     ]
    },
    {
     "name": "stdout",
     "output_type": "stream",
     "text": [
      "test_rew_main =  0.0005822826675302461\n"
     ]
    },
    {
     "name": "stderr",
     "output_type": "stream",
     "text": [
      "  2%|▏         | 53994/3000000 [42:26<15:57:02, 51.30it/s]  "
     ]
    },
    {
     "name": "stdout",
     "output_type": "stream",
     "text": [
      "ep_rew_main =  [8.829305e-09]\n"
     ]
    },
    {
     "name": "stderr",
     "output_type": "stream",
     "text": [
      "  2%|▏         | 54000/3000000 [43:28<2545:31:47,  3.11s/it]"
     ]
    },
    {
     "name": "stdout",
     "output_type": "stream",
     "text": [
      "test_rew_main =  0.001552992540217076\n"
     ]
    },
    {
     "name": "stderr",
     "output_type": "stream",
     "text": [
      "  2%|▏         | 56994/3000000 [44:46<10:56:42, 74.69it/s]  "
     ]
    },
    {
     "name": "stdout",
     "output_type": "stream",
     "text": [
      "ep_rew_main =  [0.0015115]\n"
     ]
    },
    {
     "name": "stderr",
     "output_type": "stream",
     "text": [
      "  2%|▏         | 57000/3000000 [45:43<1813:57:23,  2.22s/it]"
     ]
    },
    {
     "name": "stdout",
     "output_type": "stream",
     "text": [
      "test_rew_main =  0.00729416735002385\n"
     ]
    },
    {
     "name": "stderr",
     "output_type": "stream",
     "text": [
      "  2%|▏         | 59999/3000000 [47:01<13:02:11, 62.64it/s]  "
     ]
    },
    {
     "name": "stdout",
     "output_type": "stream",
     "text": [
      "ep_rew_main =  [1.1029733e-06]\n"
     ]
    },
    {
     "name": "stderr",
     "output_type": "stream",
     "text": [
      "  2%|▏         | 59999/3000000 [47:12<13:02:11, 62.64it/s]"
     ]
    },
    {
     "name": "stdout",
     "output_type": "stream",
     "text": [
      "test_rew_main =  0.0012399734344019067\n",
      "current_time =  2022-02-02T22:53:24.847299\n"
     ]
    },
    {
     "name": "stderr",
     "output_type": "stream",
     "text": [
      "  2%|▏         | 60000/3000000 [49:18<6442:10:02,  7.89s/it]"
     ]
    },
    {
     "name": "stdout",
     "output_type": "stream",
     "text": [
      "current_time =  2022-02-02T22:54:45.411959\n"
     ]
    },
    {
     "name": "stderr",
     "output_type": "stream",
     "text": [
      "  2%|▏         | 62998/3000000 [50:33<11:33:41, 70.56it/s]  "
     ]
    },
    {
     "name": "stdout",
     "output_type": "stream",
     "text": [
      "ep_rew_main =  [2.379138e-06]\n"
     ]
    },
    {
     "name": "stderr",
     "output_type": "stream",
     "text": [
      "  2%|▏         | 63000/3000000 [51:26<2126:05:14,  2.61s/it]"
     ]
    },
    {
     "name": "stdout",
     "output_type": "stream",
     "text": [
      "test_rew_main =  0.00023574508892115648\n"
     ]
    },
    {
     "name": "stderr",
     "output_type": "stream",
     "text": [
      "  2%|▏         | 65992/3000000 [52:42<11:35:48, 70.28it/s]  "
     ]
    },
    {
     "name": "stdout",
     "output_type": "stream",
     "text": [
      "ep_rew_main =  [0.02508348]\n"
     ]
    },
    {
     "name": "stderr",
     "output_type": "stream",
     "text": [
      "  2%|▏         | 66000/3000000 [53:39<1731:08:28,  2.12s/it]"
     ]
    },
    {
     "name": "stdout",
     "output_type": "stream",
     "text": [
      "test_rew_main =  0.005089419174714787\n"
     ]
    },
    {
     "name": "stderr",
     "output_type": "stream",
     "text": [
      "  2%|▏         | 68999/3000000 [55:00<13:46:13, 59.12it/s]  "
     ]
    },
    {
     "name": "stdout",
     "output_type": "stream",
     "text": [
      "ep_rew_main =  [6.1765306e-05]\n"
     ]
    },
    {
     "name": "stderr",
     "output_type": "stream",
     "text": [
      "  2%|▏         | 69000/3000000 [56:01<2878:42:33,  3.54s/it]"
     ]
    },
    {
     "name": "stdout",
     "output_type": "stream",
     "text": [
      "test_rew_main =  0.004422435706805214\n"
     ]
    },
    {
     "name": "stderr",
     "output_type": "stream",
     "text": [
      "  2%|▏         | 71997/3000000 [57:19<9:57:06, 81.73it/s]   "
     ]
    },
    {
     "name": "stdout",
     "output_type": "stream",
     "text": [
      "ep_rew_main =  [4.137912e-07]\n"
     ]
    },
    {
     "name": "stderr",
     "output_type": "stream",
     "text": [
      "  2%|▏         | 72000/3000000 [58:10<1640:32:03,  2.02s/it]"
     ]
    },
    {
     "name": "stdout",
     "output_type": "stream",
     "text": [
      "test_rew_main =  0.002585790754274145\n"
     ]
    },
    {
     "name": "stderr",
     "output_type": "stream",
     "text": [
      "  2%|▏         | 74998/3000000 [59:32<12:05:17, 67.21it/s]  "
     ]
    },
    {
     "name": "stdout",
     "output_type": "stream",
     "text": [
      "ep_rew_main =  [0.0259785]\n"
     ]
    },
    {
     "name": "stderr",
     "output_type": "stream",
     "text": [
      "  2%|▎         | 75000/3000000 [1:00:31<2345:53:57,  2.89s/it]"
     ]
    },
    {
     "name": "stdout",
     "output_type": "stream",
     "text": [
      "test_rew_main =  0.00036406530419289603\n"
     ]
    },
    {
     "name": "stderr",
     "output_type": "stream",
     "text": [
      "  3%|▎         | 77993/3000000 [1:01:50<12:24:17, 65.43it/s]  "
     ]
    },
    {
     "name": "stdout",
     "output_type": "stream",
     "text": [
      "ep_rew_main =  [0.00040044]\n"
     ]
    },
    {
     "name": "stderr",
     "output_type": "stream",
     "text": [
      "  3%|▎         | 78000/3000000 [1:02:46<1822:19:29,  2.25s/it]"
     ]
    },
    {
     "name": "stdout",
     "output_type": "stream",
     "text": [
      "test_rew_main =  0.0008812065043548349\n"
     ]
    },
    {
     "name": "stderr",
     "output_type": "stream",
     "text": [
      "  3%|▎         | 80998/3000000 [1:04:05<14:59:01, 54.11it/s]  "
     ]
    },
    {
     "name": "stdout",
     "output_type": "stream",
     "text": [
      "ep_rew_main =  [1.4408273e-06]\n"
     ]
    },
    {
     "name": "stderr",
     "output_type": "stream",
     "text": [
      "  3%|▎         | 81000/3000000 [1:05:02<2939:01:12,  3.62s/it]"
     ]
    },
    {
     "name": "stdout",
     "output_type": "stream",
     "text": [
      "test_rew_main =  0.017576851816373914\n"
     ]
    },
    {
     "name": "stderr",
     "output_type": "stream",
     "text": [
      "  3%|▎         | 83999/3000000 [1:06:21<11:41:26, 69.29it/s]  "
     ]
    },
    {
     "name": "stdout",
     "output_type": "stream",
     "text": [
      "ep_rew_main =  [0.01903733]\n"
     ]
    },
    {
     "name": "stderr",
     "output_type": "stream",
     "text": [
      "  3%|▎         | 84000/3000000 [1:07:29<2798:07:54,  3.45s/it]"
     ]
    },
    {
     "name": "stdout",
     "output_type": "stream",
     "text": [
      "test_rew_main =  0.001585207112951903\n"
     ]
    },
    {
     "name": "stderr",
     "output_type": "stream",
     "text": [
      "  3%|▎         | 86993/3000000 [1:08:54<13:04:21, 61.90it/s]  "
     ]
    },
    {
     "name": "stdout",
     "output_type": "stream",
     "text": [
      "ep_rew_main =  [0.00504738]\n"
     ]
    },
    {
     "name": "stderr",
     "output_type": "stream",
     "text": [
      "  3%|▎         | 87000/3000000 [1:10:03<2406:22:14,  2.97s/it]"
     ]
    },
    {
     "name": "stdout",
     "output_type": "stream",
     "text": [
      "test_rew_main =  7.62398028397058e-05\n"
     ]
    },
    {
     "name": "stderr",
     "output_type": "stream",
     "text": [
      "  3%|▎         | 89994/3000000 [1:11:28<12:19:23, 65.60it/s]  "
     ]
    },
    {
     "name": "stdout",
     "output_type": "stream",
     "text": [
      "ep_rew_main =  [0.00013596]\n"
     ]
    },
    {
     "name": "stderr",
     "output_type": "stream",
     "text": [
      "  3%|▎         | 89994/3000000 [1:11:44<12:19:23, 65.60it/s]"
     ]
    },
    {
     "name": "stdout",
     "output_type": "stream",
     "text": [
      "test_rew_main =  0.0016606658947940262\n",
      "current_time =  2022-02-02T23:18:02.978392\n"
     ]
    },
    {
     "name": "stderr",
     "output_type": "stream",
     "text": [
      "  3%|▎         | 90000/3000000 [1:13:58<5164:06:14,  6.39s/it]"
     ]
    },
    {
     "name": "stdout",
     "output_type": "stream",
     "text": [
      "current_time =  2022-02-02T23:19:25.975140\n"
     ]
    },
    {
     "name": "stderr",
     "output_type": "stream",
     "text": [
      "  3%|▎         | 92999/3000000 [1:15:26<14:12:14, 56.85it/s]  "
     ]
    },
    {
     "name": "stdout",
     "output_type": "stream",
     "text": [
      "ep_rew_main =  [0.02370111]\n"
     ]
    },
    {
     "name": "stderr",
     "output_type": "stream",
     "text": [
      "  3%|▎         | 93000/3000000 [1:16:36<3767:06:15,  4.67s/it]"
     ]
    },
    {
     "name": "stdout",
     "output_type": "stream",
     "text": [
      "test_rew_main =  0.0002575112382087757\n"
     ]
    },
    {
     "name": "stderr",
     "output_type": "stream",
     "text": [
      "  3%|▎         | 95997/3000000 [1:17:57<11:13:21, 71.88it/s]  "
     ]
    },
    {
     "name": "stdout",
     "output_type": "stream",
     "text": [
      "ep_rew_main =  [0.00023911]\n"
     ]
    },
    {
     "name": "stderr",
     "output_type": "stream",
     "text": [
      "  3%|▎         | 96000/3000000 [1:18:57<2187:45:04,  2.71s/it]"
     ]
    },
    {
     "name": "stdout",
     "output_type": "stream",
     "text": [
      "test_rew_main =  0.0036513376405651215\n"
     ]
    },
    {
     "name": "stderr",
     "output_type": "stream",
     "text": [
      "  3%|▎         | 98996/3000000 [1:20:18<11:19:34, 71.15it/s]  "
     ]
    },
    {
     "name": "stdout",
     "output_type": "stream",
     "text": [
      "ep_rew_main =  [0.01322937]\n"
     ]
    },
    {
     "name": "stderr",
     "output_type": "stream",
     "text": [
      "  3%|▎         | 99000/3000000 [1:21:26<2407:50:33,  2.99s/it]"
     ]
    },
    {
     "name": "stdout",
     "output_type": "stream",
     "text": [
      "test_rew_main =  0.0003532461935592963\n"
     ]
    },
    {
     "name": "stderr",
     "output_type": "stream",
     "text": [
      "  3%|▎         | 101996/3000000 [1:22:48<12:38:07, 63.71it/s] "
     ]
    },
    {
     "name": "stdout",
     "output_type": "stream",
     "text": [
      "ep_rew_main =  [7.735505e-06]\n"
     ]
    },
    {
     "name": "stderr",
     "output_type": "stream",
     "text": [
      "  3%|▎         | 102000/3000000 [1:23:43<2169:23:31,  2.69s/it]"
     ]
    },
    {
     "name": "stdout",
     "output_type": "stream",
     "text": [
      "test_rew_main =  0.009895414166895527\n"
     ]
    },
    {
     "name": "stderr",
     "output_type": "stream",
     "text": [
      "  3%|▎         | 104996/3000000 [1:25:01<11:12:19, 71.77it/s]  "
     ]
    },
    {
     "name": "stdout",
     "output_type": "stream",
     "text": [
      "ep_rew_main =  [0.00485979]\n"
     ]
    },
    {
     "name": "stderr",
     "output_type": "stream",
     "text": [
      "  4%|▎         | 105000/3000000 [1:25:54<1881:33:16,  2.34s/it]"
     ]
    },
    {
     "name": "stdout",
     "output_type": "stream",
     "text": [
      "test_rew_main =  0.010354430766919644\n"
     ]
    },
    {
     "name": "stderr",
     "output_type": "stream",
     "text": [
      "  4%|▎         | 107996/3000000 [1:27:17<14:52:30, 54.01it/s]  "
     ]
    },
    {
     "name": "stdout",
     "output_type": "stream",
     "text": [
      "ep_rew_main =  [3.726849e-05]\n"
     ]
    },
    {
     "name": "stderr",
     "output_type": "stream",
     "text": [
      "  4%|▎         | 108000/3000000 [1:28:16<2646:30:50,  3.29s/it]"
     ]
    },
    {
     "name": "stdout",
     "output_type": "stream",
     "text": [
      "test_rew_main =  0.0068665041452367365\n"
     ]
    },
    {
     "name": "stderr",
     "output_type": "stream",
     "text": [
      "  4%|▎         | 110993/3000000 [1:29:38<11:28:53, 69.90it/s]  "
     ]
    },
    {
     "name": "stdout",
     "output_type": "stream",
     "text": [
      "ep_rew_main =  [1.1075029e-07]\n"
     ]
    },
    {
     "name": "stderr",
     "output_type": "stream",
     "text": [
      "  4%|▎         | 111000/3000000 [1:30:36<1830:56:00,  2.28s/it]"
     ]
    },
    {
     "name": "stdout",
     "output_type": "stream",
     "text": [
      "test_rew_main =  0.00014758158101660785\n"
     ]
    },
    {
     "name": "stderr",
     "output_type": "stream",
     "text": [
      "  4%|▍         | 113995/3000000 [1:31:57<13:58:38, 57.35it/s]  "
     ]
    },
    {
     "name": "stdout",
     "output_type": "stream",
     "text": [
      "ep_rew_main =  [0.00243578]\n"
     ]
    },
    {
     "name": "stderr",
     "output_type": "stream",
     "text": [
      "  4%|▍         | 114000/3000000 [1:32:55<2189:34:23,  2.73s/it]"
     ]
    },
    {
     "name": "stdout",
     "output_type": "stream",
     "text": [
      "test_rew_main =  0.00016270865094611067\n"
     ]
    },
    {
     "name": "stderr",
     "output_type": "stream",
     "text": [
      "  4%|▍         | 116995/3000000 [1:34:15<13:19:06, 60.13it/s]  "
     ]
    },
    {
     "name": "stdout",
     "output_type": "stream",
     "text": [
      "ep_rew_main =  [6.893005e-05]\n"
     ]
    },
    {
     "name": "stderr",
     "output_type": "stream",
     "text": [
      "  4%|▍         | 117000/3000000 [1:35:12<2146:58:58,  2.68s/it]"
     ]
    },
    {
     "name": "stdout",
     "output_type": "stream",
     "text": [
      "test_rew_main =  4.878899144713068e-07\n"
     ]
    },
    {
     "name": "stderr",
     "output_type": "stream",
     "text": [
      "  4%|▍         | 119998/3000000 [1:36:33<11:43:13, 68.26it/s]  "
     ]
    },
    {
     "name": "stdout",
     "output_type": "stream",
     "text": [
      "ep_rew_main =  [1.0935428e-09]\n"
     ]
    },
    {
     "name": "stderr",
     "output_type": "stream",
     "text": [
      "  4%|▍         | 119998/3000000 [1:36:45<11:43:13, 68.26it/s]"
     ]
    },
    {
     "name": "stdout",
     "output_type": "stream",
     "text": [
      "test_rew_main =  2.6252952500721346e-06\n",
      "current_time =  2022-02-02T23:42:54.604060\n"
     ]
    },
    {
     "name": "stderr",
     "output_type": "stream",
     "text": [
      "  4%|▍         | 120000/3000000 [1:38:46<5153:10:02,  6.44s/it]"
     ]
    },
    {
     "name": "stdout",
     "output_type": "stream",
     "text": [
      "current_time =  2022-02-02T23:44:13.872068\n"
     ]
    },
    {
     "name": "stderr",
     "output_type": "stream",
     "text": [
      "  4%|▍         | 122998/3000000 [1:40:07<11:15:32, 70.98it/s]  "
     ]
    },
    {
     "name": "stdout",
     "output_type": "stream",
     "text": [
      "ep_rew_main =  [2.5144582e-08]\n"
     ]
    },
    {
     "name": "stderr",
     "output_type": "stream",
     "text": [
      "  4%|▍         | 123000/3000000 [1:41:03<1969:01:10,  2.46s/it]"
     ]
    },
    {
     "name": "stdout",
     "output_type": "stream",
     "text": [
      "test_rew_main =  4.178507879082361e-08\n"
     ]
    },
    {
     "name": "stderr",
     "output_type": "stream",
     "text": [
      "  4%|▍         | 125994/3000000 [1:42:25<11:04:17, 72.11it/s]  "
     ]
    },
    {
     "name": "stdout",
     "output_type": "stream",
     "text": [
      "ep_rew_main =  [8.236421e-07]\n"
     ]
    },
    {
     "name": "stderr",
     "output_type": "stream",
     "text": [
      "  4%|▍         | 126000/3000000 [1:43:18<1620:29:32,  2.03s/it]"
     ]
    },
    {
     "name": "stdout",
     "output_type": "stream",
     "text": [
      "test_rew_main =  0.003713792651541558\n"
     ]
    },
    {
     "name": "stderr",
     "output_type": "stream",
     "text": [
      "  4%|▍         | 128998/3000000 [1:44:43<10:41:34, 74.58it/s]  "
     ]
    },
    {
     "name": "stdout",
     "output_type": "stream",
     "text": [
      "ep_rew_main =  [0.01088975]\n"
     ]
    },
    {
     "name": "stderr",
     "output_type": "stream",
     "text": [
      "  4%|▍         | 129000/3000000 [1:45:38<1940:03:02,  2.43s/it]"
     ]
    },
    {
     "name": "stdout",
     "output_type": "stream",
     "text": [
      "test_rew_main =  0.002343418499559188\n"
     ]
    },
    {
     "name": "stderr",
     "output_type": "stream",
     "text": [
      "  4%|▍         | 131998/3000000 [1:47:09<11:22:39, 70.02it/s]  "
     ]
    },
    {
     "name": "stdout",
     "output_type": "stream",
     "text": [
      "ep_rew_main =  [0.06016265]\n"
     ]
    },
    {
     "name": "stderr",
     "output_type": "stream",
     "text": [
      "  4%|▍         | 132000/3000000 [1:48:01<2033:25:40,  2.55s/it]"
     ]
    },
    {
     "name": "stdout",
     "output_type": "stream",
     "text": [
      "test_rew_main =  0.012047960294070457\n"
     ]
    },
    {
     "name": "stderr",
     "output_type": "stream",
     "text": [
      "  4%|▍         | 134996/3000000 [1:49:23<10:40:42, 74.53it/s]  "
     ]
    },
    {
     "name": "stdout",
     "output_type": "stream",
     "text": [
      "ep_rew_main =  [0.00104262]\n"
     ]
    },
    {
     "name": "stderr",
     "output_type": "stream",
     "text": [
      "  4%|▍         | 135000/3000000 [1:50:19<1788:58:16,  2.25s/it]"
     ]
    },
    {
     "name": "stdout",
     "output_type": "stream",
     "text": [
      "test_rew_main =  0.0006017892733364804\n"
     ]
    },
    {
     "name": "stderr",
     "output_type": "stream",
     "text": [
      "  5%|▍         | 137998/3000000 [1:51:40<10:38:12, 74.74it/s]  "
     ]
    },
    {
     "name": "stdout",
     "output_type": "stream",
     "text": [
      "ep_rew_main =  [9.9818026e-05]\n"
     ]
    },
    {
     "name": "stderr",
     "output_type": "stream",
     "text": [
      "  5%|▍         | 138000/3000000 [1:52:34<1867:21:19,  2.35s/it]"
     ]
    },
    {
     "name": "stdout",
     "output_type": "stream",
     "text": [
      "test_rew_main =  1.8783170522633784e-07\n"
     ]
    },
    {
     "name": "stderr",
     "output_type": "stream",
     "text": [
      "  5%|▍         | 140994/3000000 [1:53:57<12:29:03, 63.61it/s]  "
     ]
    },
    {
     "name": "stdout",
     "output_type": "stream",
     "text": [
      "ep_rew_main =  [0.03405017]\n"
     ]
    },
    {
     "name": "stderr",
     "output_type": "stream",
     "text": [
      "  5%|▍         | 141000/3000000 [1:54:56<2105:37:04,  2.65s/it]"
     ]
    },
    {
     "name": "stdout",
     "output_type": "stream",
     "text": [
      "test_rew_main =  0.0014516337601329283\n"
     ]
    },
    {
     "name": "stderr",
     "output_type": "stream",
     "text": [
      "  5%|▍         | 143993/3000000 [1:56:21<12:01:35, 65.97it/s]  "
     ]
    },
    {
     "name": "stdout",
     "output_type": "stream",
     "text": [
      "ep_rew_main =  [0.01993808]\n"
     ]
    },
    {
     "name": "stderr",
     "output_type": "stream",
     "text": [
      "  5%|▍         | 144000/3000000 [1:57:25<1999:48:34,  2.52s/it]"
     ]
    },
    {
     "name": "stdout",
     "output_type": "stream",
     "text": [
      "test_rew_main =  0.0013980985013153364\n"
     ]
    },
    {
     "name": "stderr",
     "output_type": "stream",
     "text": [
      "  5%|▍         | 146993/3000000 [1:58:52<11:58:00, 66.22it/s]  "
     ]
    },
    {
     "name": "stdout",
     "output_type": "stream",
     "text": [
      "ep_rew_main =  [0.13782655]\n"
     ]
    },
    {
     "name": "stderr",
     "output_type": "stream",
     "text": [
      "  5%|▍         | 147000/3000000 [1:59:49<1963:42:42,  2.48s/it]"
     ]
    },
    {
     "name": "stdout",
     "output_type": "stream",
     "text": [
      "test_rew_main =  0.0012543156675846874\n"
     ]
    },
    {
     "name": "stderr",
     "output_type": "stream",
     "text": [
      "  5%|▍         | 149999/3000000 [2:01:14<11:11:14, 70.77it/s]  "
     ]
    },
    {
     "name": "stdout",
     "output_type": "stream",
     "text": [
      "ep_rew_main =  [4.416694e-05]\n"
     ]
    },
    {
     "name": "stderr",
     "output_type": "stream",
     "text": [
      "  5%|▍         | 149999/3000000 [2:01:27<11:11:14, 70.77it/s]"
     ]
    },
    {
     "name": "stdout",
     "output_type": "stream",
     "text": [
      "test_rew_main =  0.047429157091563735\n",
      "current_time =  2022-02-03T00:07:40.798982\n"
     ]
    },
    {
     "name": "stderr",
     "output_type": "stream",
     "text": [
      "  5%|▌         | 150000/3000000 [2:03:35<5689:26:03,  7.19s/it]"
     ]
    },
    {
     "name": "stdout",
     "output_type": "stream",
     "text": [
      "current_time =  2022-02-03T00:09:02.288574\n"
     ]
    },
    {
     "name": "stderr",
     "output_type": "stream",
     "text": [
      "  5%|▌         | 152995/3000000 [2:04:59<11:01:48, 71.70it/s]  "
     ]
    },
    {
     "name": "stdout",
     "output_type": "stream",
     "text": [
      "ep_rew_main =  [0.01262472]\n"
     ]
    },
    {
     "name": "stderr",
     "output_type": "stream",
     "text": [
      "  5%|▌         | 153000/3000000 [2:05:55<1781:17:02,  2.25s/it]"
     ]
    },
    {
     "name": "stdout",
     "output_type": "stream",
     "text": [
      "test_rew_main =  0.025938860223424953\n"
     ]
    },
    {
     "name": "stderr",
     "output_type": "stream",
     "text": [
      "  5%|▌         | 155992/3000000 [2:07:20<11:56:31, 66.15it/s]  "
     ]
    },
    {
     "name": "stdout",
     "output_type": "stream",
     "text": [
      "ep_rew_main =  [0.00840623]\n"
     ]
    },
    {
     "name": "stderr",
     "output_type": "stream",
     "text": [
      "  5%|▌         | 156000/3000000 [2:08:14<1606:11:49,  2.03s/it]"
     ]
    },
    {
     "name": "stdout",
     "output_type": "stream",
     "text": [
      "test_rew_main =  0.022195525903354982\n"
     ]
    },
    {
     "name": "stderr",
     "output_type": "stream",
     "text": [
      "  5%|▌         | 158993/3000000 [2:09:40<11:26:53, 68.93it/s]  "
     ]
    },
    {
     "name": "stdout",
     "output_type": "stream",
     "text": [
      "ep_rew_main =  [0.00333583]\n"
     ]
    },
    {
     "name": "stderr",
     "output_type": "stream",
     "text": [
      "  5%|▌         | 159000/3000000 [2:10:36<1717:37:42,  2.18s/it]"
     ]
    },
    {
     "name": "stdout",
     "output_type": "stream",
     "text": [
      "test_rew_main =  0.014991525797433392\n"
     ]
    },
    {
     "name": "stderr",
     "output_type": "stream",
     "text": [
      "  5%|▌         | 161999/3000000 [2:12:03<11:44:46, 67.11it/s]  "
     ]
    },
    {
     "name": "stdout",
     "output_type": "stream",
     "text": [
      "ep_rew_main =  [0.03258107]\n"
     ]
    },
    {
     "name": "stderr",
     "output_type": "stream",
     "text": [
      "  5%|▌         | 162000/3000000 [2:13:04<2562:27:57,  3.25s/it]"
     ]
    },
    {
     "name": "stdout",
     "output_type": "stream",
     "text": [
      "test_rew_main =  0.02485282867387472\n"
     ]
    },
    {
     "name": "stderr",
     "output_type": "stream",
     "text": [
      "  5%|▌         | 164992/3000000 [2:14:29<11:05:56, 70.95it/s]  "
     ]
    },
    {
     "name": "stdout",
     "output_type": "stream",
     "text": [
      "ep_rew_main =  [0.04742249]\n"
     ]
    },
    {
     "name": "stderr",
     "output_type": "stream",
     "text": [
      "  6%|▌         | 165000/3000000 [2:15:22<1584:56:15,  2.01s/it]"
     ]
    },
    {
     "name": "stdout",
     "output_type": "stream",
     "text": [
      "test_rew_main =  0.03727017880819761\n"
     ]
    },
    {
     "name": "stderr",
     "output_type": "stream",
     "text": [
      "  6%|▌         | 167993/3000000 [2:16:48<11:58:19, 65.71it/s]  "
     ]
    },
    {
     "name": "stdout",
     "output_type": "stream",
     "text": [
      "ep_rew_main =  [0.1392212]\n"
     ]
    },
    {
     "name": "stderr",
     "output_type": "stream",
     "text": [
      "  6%|▌         | 168000/3000000 [2:17:47<1969:57:46,  2.50s/it]"
     ]
    },
    {
     "name": "stdout",
     "output_type": "stream",
     "text": [
      "test_rew_main =  0.04139996278285303\n"
     ]
    },
    {
     "name": "stderr",
     "output_type": "stream",
     "text": [
      "  6%|▌         | 170997/3000000 [2:19:18<11:58:03, 65.66it/s]  "
     ]
    },
    {
     "name": "stdout",
     "output_type": "stream",
     "text": [
      "ep_rew_main =  [0.00771281]\n"
     ]
    },
    {
     "name": "stderr",
     "output_type": "stream",
     "text": [
      "  6%|▌         | 171000/3000000 [2:20:15<2343:28:51,  2.98s/it]"
     ]
    },
    {
     "name": "stdout",
     "output_type": "stream",
     "text": [
      "test_rew_main =  0.027767413072678392\n"
     ]
    },
    {
     "name": "stderr",
     "output_type": "stream",
     "text": [
      "  6%|▌         | 173998/3000000 [2:21:43<12:06:55, 64.79it/s]  "
     ]
    },
    {
     "name": "stdout",
     "output_type": "stream",
     "text": [
      "ep_rew_main =  [0.13431434]\n"
     ]
    },
    {
     "name": "stderr",
     "output_type": "stream",
     "text": [
      "  6%|▌         | 174000/3000000 [2:22:43<2279:27:57,  2.90s/it]"
     ]
    },
    {
     "name": "stdout",
     "output_type": "stream",
     "text": [
      "test_rew_main =  0.007877338953666407\n"
     ]
    },
    {
     "name": "stderr",
     "output_type": "stream",
     "text": [
      "  6%|▌         | 176999/3000000 [2:24:13<11:46:51, 66.56it/s]  "
     ]
    },
    {
     "name": "stdout",
     "output_type": "stream",
     "text": [
      "ep_rew_main =  [0.10021824]\n"
     ]
    },
    {
     "name": "stderr",
     "output_type": "stream",
     "text": [
      "  6%|▌         | 177000/3000000 [2:25:09<2233:15:37,  2.85s/it]"
     ]
    },
    {
     "name": "stdout",
     "output_type": "stream",
     "text": [
      "test_rew_main =  0.0244643019560748\n"
     ]
    },
    {
     "name": "stderr",
     "output_type": "stream",
     "text": [
      "  6%|▌         | 179999/3000000 [2:26:37<11:53:41, 65.85it/s]  "
     ]
    },
    {
     "name": "stdout",
     "output_type": "stream",
     "text": [
      "ep_rew_main =  [0.09106527]\n"
     ]
    },
    {
     "name": "stderr",
     "output_type": "stream",
     "text": [
      "  6%|▌         | 179999/3000000 [2:26:49<11:53:41, 65.85it/s]"
     ]
    },
    {
     "name": "stdout",
     "output_type": "stream",
     "text": [
      "test_rew_main =  0.04203691113243667\n",
      "current_time =  2022-02-03T00:33:04.521265\n"
     ]
    },
    {
     "name": "stderr",
     "output_type": "stream",
     "text": [
      "  6%|▌         | 180000/3000000 [2:28:58<5689:03:10,  7.26s/it]"
     ]
    },
    {
     "name": "stdout",
     "output_type": "stream",
     "text": [
      "current_time =  2022-02-03T00:34:26.171941\n"
     ]
    },
    {
     "name": "stderr",
     "output_type": "stream",
     "text": [
      "  6%|▌         | 182995/3000000 [2:30:29<11:47:34, 66.35it/s]  "
     ]
    },
    {
     "name": "stdout",
     "output_type": "stream",
     "text": [
      "ep_rew_main =  [0.00897413]\n"
     ]
    },
    {
     "name": "stderr",
     "output_type": "stream",
     "text": [
      "  6%|▌         | 183000/3000000 [2:31:29<2098:22:46,  2.68s/it]"
     ]
    },
    {
     "name": "stdout",
     "output_type": "stream",
     "text": [
      "test_rew_main =  0.023284742753306477\n"
     ]
    },
    {
     "name": "stderr",
     "output_type": "stream",
     "text": [
      "  6%|▌         | 185999/3000000 [2:33:02<12:02:28, 64.92it/s]  "
     ]
    },
    {
     "name": "stdout",
     "output_type": "stream",
     "text": [
      "ep_rew_main =  [0.00645387]\n"
     ]
    },
    {
     "name": "stderr",
     "output_type": "stream",
     "text": [
      "  6%|▌         | 186000/3000000 [2:34:00<2529:29:33,  3.24s/it]"
     ]
    },
    {
     "name": "stdout",
     "output_type": "stream",
     "text": [
      "test_rew_main =  0.026249777764612174\n"
     ]
    },
    {
     "name": "stderr",
     "output_type": "stream",
     "text": [
      "  6%|▋         | 188998/3000000 [2:35:31<12:24:41, 62.91it/s]  "
     ]
    },
    {
     "name": "stdout",
     "output_type": "stream",
     "text": [
      "ep_rew_main =  [0.0456701]\n"
     ]
    },
    {
     "name": "stderr",
     "output_type": "stream",
     "text": [
      "  6%|▋         | 189000/3000000 [2:36:31<2449:29:21,  3.14s/it]"
     ]
    },
    {
     "name": "stdout",
     "output_type": "stream",
     "text": [
      "test_rew_main =  0.11001822909441361\n"
     ]
    },
    {
     "name": "stderr",
     "output_type": "stream",
     "text": [
      "  6%|▋         | 191992/3000000 [2:38:03<12:00:42, 64.94it/s]  "
     ]
    },
    {
     "name": "stdout",
     "output_type": "stream",
     "text": [
      "ep_rew_main =  [0.02091077]\n"
     ]
    },
    {
     "name": "stderr",
     "output_type": "stream",
     "text": [
      "  6%|▋         | 192000/3000000 [2:39:01<1695:47:18,  2.17s/it]"
     ]
    },
    {
     "name": "stdout",
     "output_type": "stream",
     "text": [
      "test_rew_main =  0.026394250992162138\n"
     ]
    },
    {
     "name": "stderr",
     "output_type": "stream",
     "text": [
      "  6%|▋         | 194999/3000000 [2:40:32<11:45:22, 66.28it/s]  "
     ]
    },
    {
     "name": "stdout",
     "output_type": "stream",
     "text": [
      "ep_rew_main =  [0.01241282]\n"
     ]
    },
    {
     "name": "stderr",
     "output_type": "stream",
     "text": [
      "  6%|▋         | 195000/3000000 [2:41:30<2315:31:36,  2.97s/it]"
     ]
    },
    {
     "name": "stdout",
     "output_type": "stream",
     "text": [
      "test_rew_main =  0.010760363897714809\n"
     ]
    },
    {
     "name": "stderr",
     "output_type": "stream",
     "text": [
      "  7%|▋         | 197998/3000000 [2:43:04<12:22:18, 62.91it/s]  "
     ]
    },
    {
     "name": "stdout",
     "output_type": "stream",
     "text": [
      "ep_rew_main =  [0.03469228]\n"
     ]
    },
    {
     "name": "stderr",
     "output_type": "stream",
     "text": [
      "  7%|▋         | 198000/3000000 [2:44:01<2364:16:52,  3.04s/it]"
     ]
    },
    {
     "name": "stdout",
     "output_type": "stream",
     "text": [
      "test_rew_main =  0.07401349962177366\n"
     ]
    },
    {
     "name": "stderr",
     "output_type": "stream",
     "text": [
      "  7%|▋         | 200994/3000000 [2:45:33<12:09:14, 63.97it/s]  "
     ]
    },
    {
     "name": "stdout",
     "output_type": "stream",
     "text": [
      "ep_rew_main =  [0.01375365]\n"
     ]
    },
    {
     "name": "stderr",
     "output_type": "stream",
     "text": [
      "  7%|▋         | 201000/3000000 [2:46:31<2021:21:21,  2.60s/it]"
     ]
    },
    {
     "name": "stdout",
     "output_type": "stream",
     "text": [
      "test_rew_main =  0.015090806704884895\n"
     ]
    },
    {
     "name": "stderr",
     "output_type": "stream",
     "text": [
      "  7%|▋         | 203995/3000000 [2:48:06<12:24:35, 62.59it/s]  "
     ]
    },
    {
     "name": "stdout",
     "output_type": "stream",
     "text": [
      "ep_rew_main =  [0.00431916]\n"
     ]
    },
    {
     "name": "stderr",
     "output_type": "stream",
     "text": [
      "  7%|▋         | 204000/3000000 [2:49:02<1978:35:35,  2.55s/it]"
     ]
    },
    {
     "name": "stdout",
     "output_type": "stream",
     "text": [
      "test_rew_main =  0.03656811991240109\n"
     ]
    },
    {
     "name": "stderr",
     "output_type": "stream",
     "text": [
      "  7%|▋         | 206993/3000000 [2:50:35<11:24:10, 68.04it/s]  "
     ]
    },
    {
     "name": "stdout",
     "output_type": "stream",
     "text": [
      "ep_rew_main =  [0.20688571]\n"
     ]
    },
    {
     "name": "stderr",
     "output_type": "stream",
     "text": [
      "  7%|▋         | 207000/3000000 [2:51:34<1785:02:49,  2.30s/it]"
     ]
    },
    {
     "name": "stdout",
     "output_type": "stream",
     "text": [
      "test_rew_main =  0.05181840960216825\n"
     ]
    },
    {
     "name": "stderr",
     "output_type": "stream",
     "text": [
      "  7%|▋         | 209996/3000000 [2:53:09<11:54:08, 65.11it/s]  "
     ]
    },
    {
     "name": "stdout",
     "output_type": "stream",
     "text": [
      "ep_rew_main =  [0.117553]\n"
     ]
    },
    {
     "name": "stderr",
     "output_type": "stream",
     "text": [
      "  7%|▋         | 209996/3000000 [2:53:21<11:54:08, 65.11it/s]"
     ]
    },
    {
     "name": "stdout",
     "output_type": "stream",
     "text": [
      "test_rew_main =  0.05132262997898361\n",
      "current_time =  2022-02-03T00:59:35.289910\n"
     ]
    },
    {
     "name": "stderr",
     "output_type": "stream",
     "text": [
      "  7%|▋         | 210000/3000000 [2:55:30<5162:59:54,  6.66s/it]"
     ]
    },
    {
     "name": "stdout",
     "output_type": "stream",
     "text": [
      "current_time =  2022-02-03T01:00:57.346426\n"
     ]
    },
    {
     "name": "stderr",
     "output_type": "stream",
     "text": [
      "  7%|▋         | 212992/3000000 [2:57:03<10:41:53, 72.37it/s]  "
     ]
    },
    {
     "name": "stdout",
     "output_type": "stream",
     "text": [
      "ep_rew_main =  [0.04896966]\n"
     ]
    },
    {
     "name": "stderr",
     "output_type": "stream",
     "text": [
      "  7%|▋         | 213000/3000000 [2:58:03<1618:57:15,  2.09s/it]"
     ]
    },
    {
     "name": "stdout",
     "output_type": "stream",
     "text": [
      "test_rew_main =  0.08666980052537127\n"
     ]
    },
    {
     "name": "stderr",
     "output_type": "stream",
     "text": [
      "  7%|▋         | 215992/3000000 [2:59:39<11:14:28, 68.79it/s]  "
     ]
    },
    {
     "name": "stdout",
     "output_type": "stream",
     "text": [
      "ep_rew_main =  [1.6487232e-09]\n"
     ]
    },
    {
     "name": "stderr",
     "output_type": "stream",
     "text": [
      "  7%|▋         | 216000/3000000 [3:00:38<1726:05:49,  2.23s/it]"
     ]
    },
    {
     "name": "stdout",
     "output_type": "stream",
     "text": [
      "test_rew_main =  0.04057984267565689\n"
     ]
    },
    {
     "name": "stderr",
     "output_type": "stream",
     "text": [
      "  7%|▋         | 218993/3000000 [3:02:15<11:50:21, 65.25it/s]  "
     ]
    },
    {
     "name": "stdout",
     "output_type": "stream",
     "text": [
      "ep_rew_main =  [0.39869756]\n"
     ]
    },
    {
     "name": "stderr",
     "output_type": "stream",
     "text": [
      "  7%|▋         | 219000/3000000 [3:03:15<1830:19:10,  2.37s/it]"
     ]
    },
    {
     "name": "stdout",
     "output_type": "stream",
     "text": [
      "test_rew_main =  0.01774532101350139\n"
     ]
    },
    {
     "name": "stderr",
     "output_type": "stream",
     "text": [
      "  7%|▋         | 221994/3000000 [3:04:52<11:56:19, 64.64it/s]  "
     ]
    },
    {
     "name": "stdout",
     "output_type": "stream",
     "text": [
      "ep_rew_main =  [0.20207442]\n"
     ]
    },
    {
     "name": "stderr",
     "output_type": "stream",
     "text": [
      "  7%|▋         | 222000/3000000 [3:05:48<1954:29:08,  2.53s/it]"
     ]
    },
    {
     "name": "stdout",
     "output_type": "stream",
     "text": [
      "test_rew_main =  0.028727827262465967\n"
     ]
    },
    {
     "name": "stderr",
     "output_type": "stream",
     "text": [
      "  7%|▋         | 224992/3000000 [3:07:24<10:55:33, 70.55it/s]  "
     ]
    },
    {
     "name": "stdout",
     "output_type": "stream",
     "text": [
      "ep_rew_main =  [0.0113766]\n"
     ]
    },
    {
     "name": "stderr",
     "output_type": "stream",
     "text": [
      "  8%|▊         | 225000/3000000 [3:08:23<1645:36:58,  2.13s/it]"
     ]
    },
    {
     "name": "stdout",
     "output_type": "stream",
     "text": [
      "test_rew_main =  0.21128503216163336\n"
     ]
    },
    {
     "name": "stderr",
     "output_type": "stream",
     "text": [
      "  8%|▊         | 227994/3000000 [3:10:01<12:50:20, 59.97it/s]  "
     ]
    },
    {
     "name": "stdout",
     "output_type": "stream",
     "text": [
      "ep_rew_main =  [0.00081013]\n"
     ]
    },
    {
     "name": "stderr",
     "output_type": "stream",
     "text": [
      "  8%|▊         | 228000/3000000 [3:10:59<2026:17:41,  2.63s/it]"
     ]
    },
    {
     "name": "stdout",
     "output_type": "stream",
     "text": [
      "test_rew_main =  0.044063914827224236\n"
     ]
    },
    {
     "name": "stderr",
     "output_type": "stream",
     "text": [
      "  8%|▊         | 230995/3000000 [3:12:34<11:28:58, 66.98it/s]  "
     ]
    },
    {
     "name": "stdout",
     "output_type": "stream",
     "text": [
      "ep_rew_main =  [3.4733262e-06]\n"
     ]
    },
    {
     "name": "stderr",
     "output_type": "stream",
     "text": [
      "  8%|▊         | 231000/3000000 [3:13:34<1776:11:58,  2.31s/it]"
     ]
    },
    {
     "name": "stdout",
     "output_type": "stream",
     "text": [
      "test_rew_main =  0.026252535102151177\n"
     ]
    },
    {
     "name": "stderr",
     "output_type": "stream",
     "text": [
      "  8%|▊         | 233995/3000000 [3:15:10<11:51:33, 64.79it/s]  "
     ]
    },
    {
     "name": "stdout",
     "output_type": "stream",
     "text": [
      "ep_rew_main =  [0.15044864]\n"
     ]
    },
    {
     "name": "stderr",
     "output_type": "stream",
     "text": [
      "  8%|▊         | 234000/3000000 [3:16:09<2049:35:39,  2.67s/it]"
     ]
    },
    {
     "name": "stdout",
     "output_type": "stream",
     "text": [
      "test_rew_main =  0.1425331898986441\n"
     ]
    },
    {
     "name": "stderr",
     "output_type": "stream",
     "text": [
      "  8%|▊         | 236993/3000000 [3:17:48<11:19:08, 67.81it/s]  "
     ]
    },
    {
     "name": "stdout",
     "output_type": "stream",
     "text": [
      "ep_rew_main =  [5.4162323e-05]\n"
     ]
    },
    {
     "name": "stderr",
     "output_type": "stream",
     "text": [
      "  8%|▊         | 237000/3000000 [3:18:46<1725:53:41,  2.25s/it]"
     ]
    },
    {
     "name": "stdout",
     "output_type": "stream",
     "text": [
      "test_rew_main =  0.07407103475986002\n"
     ]
    },
    {
     "name": "stderr",
     "output_type": "stream",
     "text": [
      "  8%|▊         | 239996/3000000 [3:20:25<11:06:46, 68.99it/s]  "
     ]
    },
    {
     "name": "stdout",
     "output_type": "stream",
     "text": [
      "ep_rew_main =  [0.22641759]\n"
     ]
    },
    {
     "name": "stderr",
     "output_type": "stream",
     "text": [
      "  8%|▊         | 239996/3000000 [3:20:43<11:06:46, 68.99it/s]"
     ]
    },
    {
     "name": "stdout",
     "output_type": "stream",
     "text": [
      "test_rew_main =  0.06773289534538311\n",
      "current_time =  2022-02-03T01:26:52.151533\n"
     ]
    },
    {
     "name": "stderr",
     "output_type": "stream",
     "text": [
      "  8%|▊         | 240000/3000000 [3:22:47<4821:44:00,  6.29s/it]"
     ]
    },
    {
     "name": "stdout",
     "output_type": "stream",
     "text": [
      "current_time =  2022-02-03T01:28:14.663137\n"
     ]
    },
    {
     "name": "stderr",
     "output_type": "stream",
     "text": [
      "  8%|▊         | 242997/3000000 [3:24:28<12:06:45, 63.23it/s]  "
     ]
    },
    {
     "name": "stdout",
     "output_type": "stream",
     "text": [
      "ep_rew_main =  [0.2695197]\n"
     ]
    },
    {
     "name": "stderr",
     "output_type": "stream",
     "text": [
      "  8%|▊         | 243000/3000000 [3:25:25<2226:30:36,  2.91s/it]"
     ]
    },
    {
     "name": "stdout",
     "output_type": "stream",
     "text": [
      "test_rew_main =  0.037728201842881094\n"
     ]
    },
    {
     "name": "stderr",
     "output_type": "stream",
     "text": [
      "  8%|▊         | 245993/3000000 [3:27:06<11:42:38, 65.33it/s]  "
     ]
    },
    {
     "name": "stdout",
     "output_type": "stream",
     "text": [
      "ep_rew_main =  [0.21198255]\n"
     ]
    },
    {
     "name": "stderr",
     "output_type": "stream",
     "text": [
      "  8%|▊         | 246000/3000000 [3:28:04<1770:16:10,  2.31s/it]"
     ]
    },
    {
     "name": "stdout",
     "output_type": "stream",
     "text": [
      "test_rew_main =  0.024646577201989338\n"
     ]
    },
    {
     "name": "stderr",
     "output_type": "stream",
     "text": [
      "  8%|▊         | 248997/3000000 [3:29:44<12:20:28, 61.92it/s]  "
     ]
    },
    {
     "name": "stdout",
     "output_type": "stream",
     "text": [
      "ep_rew_main =  [0.16508512]\n"
     ]
    },
    {
     "name": "stderr",
     "output_type": "stream",
     "text": [
      "  8%|▊         | 249000/3000000 [3:30:46<2443:56:54,  3.20s/it]"
     ]
    },
    {
     "name": "stdout",
     "output_type": "stream",
     "text": [
      "test_rew_main =  0.09989105502922568\n"
     ]
    },
    {
     "name": "stderr",
     "output_type": "stream",
     "text": [
      "  8%|▊         | 251997/3000000 [3:32:26<11:39:51, 65.44it/s]  "
     ]
    },
    {
     "name": "stdout",
     "output_type": "stream",
     "text": [
      "ep_rew_main =  [0.20278107]\n"
     ]
    },
    {
     "name": "stderr",
     "output_type": "stream",
     "text": [
      "  8%|▊         | 252000/3000000 [3:33:21<1999:01:02,  2.62s/it]"
     ]
    },
    {
     "name": "stdout",
     "output_type": "stream",
     "text": [
      "test_rew_main =  0.08008525115858037\n"
     ]
    },
    {
     "name": "stderr",
     "output_type": "stream",
     "text": [
      "  8%|▊         | 254999/3000000 [3:35:03<12:05:52, 63.03it/s]  "
     ]
    },
    {
     "name": "stdout",
     "output_type": "stream",
     "text": [
      "ep_rew_main =  [0.10200661]\n"
     ]
    },
    {
     "name": "stderr",
     "output_type": "stream",
     "text": [
      "  8%|▊         | 255000/3000000 [3:36:01<2235:41:01,  2.93s/it]"
     ]
    },
    {
     "name": "stdout",
     "output_type": "stream",
     "text": [
      "test_rew_main =  0.05280843033810312\n"
     ]
    },
    {
     "name": "stderr",
     "output_type": "stream",
     "text": [
      "  9%|▊         | 257997/3000000 [3:37:39<11:34:04, 65.84it/s]  "
     ]
    },
    {
     "name": "stdout",
     "output_type": "stream",
     "text": [
      "ep_rew_main =  [1.7988428e-06]\n"
     ]
    },
    {
     "name": "stderr",
     "output_type": "stream",
     "text": [
      "  9%|▊         | 258000/3000000 [3:38:36<1985:40:38,  2.61s/it]"
     ]
    },
    {
     "name": "stdout",
     "output_type": "stream",
     "text": [
      "test_rew_main =  0.06939393587457705\n"
     ]
    },
    {
     "name": "stderr",
     "output_type": "stream",
     "text": [
      "  9%|▊         | 260992/3000000 [3:40:16<12:04:18, 63.03it/s]  "
     ]
    },
    {
     "name": "stdout",
     "output_type": "stream",
     "text": [
      "ep_rew_main =  [0.2522321]\n"
     ]
    },
    {
     "name": "stderr",
     "output_type": "stream",
     "text": [
      "  9%|▊         | 261000/3000000 [3:41:16<1772:02:01,  2.33s/it]"
     ]
    },
    {
     "name": "stdout",
     "output_type": "stream",
     "text": [
      "test_rew_main =  0.061748559338058354\n"
     ]
    },
    {
     "name": "stderr",
     "output_type": "stream",
     "text": [
      "  9%|▉         | 263992/3000000 [3:42:57<10:09:01, 74.87it/s]  "
     ]
    },
    {
     "name": "stdout",
     "output_type": "stream",
     "text": [
      "ep_rew_main =  [3.4958513e-05]\n"
     ]
    },
    {
     "name": "stderr",
     "output_type": "stream",
     "text": [
      "  9%|▉         | 264000/3000000 [3:43:54<1485:15:52,  1.95s/it]"
     ]
    },
    {
     "name": "stdout",
     "output_type": "stream",
     "text": [
      "test_rew_main =  0.01951107724904703\n"
     ]
    },
    {
     "name": "stderr",
     "output_type": "stream",
     "text": [
      "  9%|▉         | 266992/3000000 [3:45:34<11:20:06, 66.97it/s]  "
     ]
    },
    {
     "name": "stdout",
     "output_type": "stream",
     "text": [
      "ep_rew_main =  [0.01770785]\n"
     ]
    },
    {
     "name": "stderr",
     "output_type": "stream",
     "text": [
      "  9%|▉         | 267000/3000000 [3:46:32<1654:22:14,  2.18s/it]"
     ]
    },
    {
     "name": "stdout",
     "output_type": "stream",
     "text": [
      "test_rew_main =  0.04459487750780003\n"
     ]
    },
    {
     "name": "stderr",
     "output_type": "stream",
     "text": [
      "  9%|▉         | 269997/3000000 [3:48:15<11:38:16, 65.16it/s]  "
     ]
    },
    {
     "name": "stdout",
     "output_type": "stream",
     "text": [
      "ep_rew_main =  [0.0530229]\n"
     ]
    },
    {
     "name": "stderr",
     "output_type": "stream",
     "text": [
      "  9%|▉         | 269997/3000000 [3:48:35<11:38:16, 65.16it/s]"
     ]
    },
    {
     "name": "stdout",
     "output_type": "stream",
     "text": [
      "test_rew_main =  0.09201602831394509\n",
      "current_time =  2022-02-03T01:54:38.868893\n"
     ]
    },
    {
     "name": "stderr",
     "output_type": "stream",
     "text": [
      "  9%|▉         | 270000/3000000 [3:50:34<4962:10:08,  6.54s/it]"
     ]
    },
    {
     "name": "stdout",
     "output_type": "stream",
     "text": [
      "current_time =  2022-02-03T01:56:01.602235\n"
     ]
    },
    {
     "name": "stderr",
     "output_type": "stream",
     "text": [
      "  9%|▉         | 272997/3000000 [3:52:18<12:09:11, 62.33it/s]  "
     ]
    },
    {
     "name": "stdout",
     "output_type": "stream",
     "text": [
      "ep_rew_main =  [0.10464182]\n"
     ]
    },
    {
     "name": "stderr",
     "output_type": "stream",
     "text": [
      "  9%|▉         | 273000/3000000 [3:53:17<2312:36:46,  3.05s/it]"
     ]
    },
    {
     "name": "stdout",
     "output_type": "stream",
     "text": [
      "test_rew_main =  0.042947625965014904\n"
     ]
    },
    {
     "name": "stderr",
     "output_type": "stream",
     "text": [
      "  9%|▉         | 275999/3000000 [3:54:58<10:59:47, 68.81it/s]  "
     ]
    },
    {
     "name": "stdout",
     "output_type": "stream",
     "text": [
      "ep_rew_main =  [0.00429216]\n"
     ]
    },
    {
     "name": "stderr",
     "output_type": "stream",
     "text": [
      "  9%|▉         | 276000/3000000 [3:55:52<2044:30:40,  2.70s/it]"
     ]
    },
    {
     "name": "stdout",
     "output_type": "stream",
     "text": [
      "test_rew_main =  0.03416289218121221\n"
     ]
    },
    {
     "name": "stderr",
     "output_type": "stream",
     "text": [
      "  9%|▉         | 278997/3000000 [3:57:41<14:01:48, 53.87it/s]  "
     ]
    },
    {
     "name": "stdout",
     "output_type": "stream",
     "text": [
      "ep_rew_main =  [1.625993e-05]\n"
     ]
    },
    {
     "name": "stderr",
     "output_type": "stream",
     "text": [
      "  9%|▉         | 279000/3000000 [3:58:32<2310:25:40,  3.06s/it]"
     ]
    },
    {
     "name": "stdout",
     "output_type": "stream",
     "text": [
      "test_rew_main =  0.010456169536557433\n"
     ]
    },
    {
     "name": "stderr",
     "output_type": "stream",
     "text": [
      "  9%|▉         | 281997/3000000 [4:00:17<13:00:54, 58.01it/s]  "
     ]
    },
    {
     "name": "stdout",
     "output_type": "stream",
     "text": [
      "ep_rew_main =  [1.1381096e-05]\n"
     ]
    },
    {
     "name": "stderr",
     "output_type": "stream",
     "text": [
      "  9%|▉         | 282000/3000000 [4:01:17<2417:13:44,  3.20s/it]"
     ]
    },
    {
     "name": "stdout",
     "output_type": "stream",
     "text": [
      "test_rew_main =  0.03748885466795111\n"
     ]
    },
    {
     "name": "stderr",
     "output_type": "stream",
     "text": [
      "  9%|▉         | 284996/3000000 [4:03:02<11:18:32, 66.69it/s]  "
     ]
    },
    {
     "name": "stdout",
     "output_type": "stream",
     "text": [
      "ep_rew_main =  [0.30116948]\n"
     ]
    },
    {
     "name": "stderr",
     "output_type": "stream",
     "text": [
      " 10%|▉         | 285000/3000000 [4:03:54<1760:23:45,  2.33s/it]"
     ]
    },
    {
     "name": "stdout",
     "output_type": "stream",
     "text": [
      "test_rew_main =  0.13496694575235213\n"
     ]
    },
    {
     "name": "stderr",
     "output_type": "stream",
     "text": [
      " 10%|▉         | 287991/3000000 [4:05:39<10:21:13, 72.76it/s]  "
     ]
    },
    {
     "name": "stdout",
     "output_type": "stream",
     "text": [
      "ep_rew_main =  [0.04484585]\n"
     ]
    },
    {
     "name": "stderr",
     "output_type": "stream",
     "text": [
      " 10%|▉         | 288000/3000000 [4:06:30<1267:05:42,  1.68s/it]"
     ]
    },
    {
     "name": "stdout",
     "output_type": "stream",
     "text": [
      "test_rew_main =  0.09120444416765099\n"
     ]
    },
    {
     "name": "stderr",
     "output_type": "stream",
     "text": [
      " 10%|▉         | 290999/3000000 [4:08:17<11:38:36, 64.63it/s]  "
     ]
    },
    {
     "name": "stdout",
     "output_type": "stream",
     "text": [
      "ep_rew_main =  [0.00112149]\n"
     ]
    },
    {
     "name": "stderr",
     "output_type": "stream",
     "text": [
      " 10%|▉         | 291000/3000000 [4:09:16<2555:38:17,  3.40s/it]"
     ]
    },
    {
     "name": "stdout",
     "output_type": "stream",
     "text": [
      "test_rew_main =  0.08164130699370423\n"
     ]
    },
    {
     "name": "stderr",
     "output_type": "stream",
     "text": [
      " 10%|▉         | 293996/3000000 [4:11:03<11:39:39, 64.46it/s]  "
     ]
    },
    {
     "name": "stdout",
     "output_type": "stream",
     "text": [
      "ep_rew_main =  [0.50963986]\n"
     ]
    },
    {
     "name": "stderr",
     "output_type": "stream",
     "text": [
      " 10%|▉         | 294000/3000000 [4:12:00<1966:54:40,  2.62s/it]"
     ]
    },
    {
     "name": "stdout",
     "output_type": "stream",
     "text": [
      "test_rew_main =  0.13281325746058661\n"
     ]
    },
    {
     "name": "stderr",
     "output_type": "stream",
     "text": [
      " 10%|▉         | 296996/3000000 [4:13:48<11:30:30, 65.24it/s]  "
     ]
    },
    {
     "name": "stdout",
     "output_type": "stream",
     "text": [
      "ep_rew_main =  [0.37883458]\n"
     ]
    },
    {
     "name": "stderr",
     "output_type": "stream",
     "text": [
      " 10%|▉         | 297000/3000000 [4:14:46<1927:32:57,  2.57s/it]"
     ]
    },
    {
     "name": "stdout",
     "output_type": "stream",
     "text": [
      "test_rew_main =  0.019477838688676235\n"
     ]
    },
    {
     "name": "stderr",
     "output_type": "stream",
     "text": [
      " 10%|▉         | 299995/3000000 [4:16:34<12:43:51, 58.91it/s]  "
     ]
    },
    {
     "name": "stdout",
     "output_type": "stream",
     "text": [
      "ep_rew_main =  [0.16942252]\n"
     ]
    },
    {
     "name": "stderr",
     "output_type": "stream",
     "text": [
      " 10%|▉         | 299995/3000000 [4:16:46<12:43:51, 58.91it/s]"
     ]
    },
    {
     "name": "stdout",
     "output_type": "stream",
     "text": [
      "test_rew_main =  0.09278287406814789\n",
      "current_time =  2022-02-03T02:23:00.009744\n"
     ]
    },
    {
     "name": "stderr",
     "output_type": "stream",
     "text": [
      " 10%|█         | 300000/3000000 [4:18:54<4928:44:52,  6.57s/it]"
     ]
    },
    {
     "name": "stdout",
     "output_type": "stream",
     "text": [
      "current_time =  2022-02-03T02:24:21.518130\n"
     ]
    },
    {
     "name": "stderr",
     "output_type": "stream",
     "text": [
      " 10%|█         | 302995/3000000 [4:20:42<11:16:17, 66.46it/s]  "
     ]
    },
    {
     "name": "stdout",
     "output_type": "stream",
     "text": [
      "ep_rew_main =  [0.34818545]\n"
     ]
    },
    {
     "name": "stderr",
     "output_type": "stream",
     "text": [
      " 10%|█         | 303000/3000000 [4:21:40<1860:18:53,  2.48s/it]"
     ]
    },
    {
     "name": "stdout",
     "output_type": "stream",
     "text": [
      "test_rew_main =  0.024981039444432897\n"
     ]
    },
    {
     "name": "stderr",
     "output_type": "stream",
     "text": [
      " 10%|█         | 305995/3000000 [4:23:30<11:13:32, 66.66it/s]  "
     ]
    },
    {
     "name": "stdout",
     "output_type": "stream",
     "text": [
      "ep_rew_main =  [0.12814154]\n"
     ]
    },
    {
     "name": "stderr",
     "output_type": "stream",
     "text": [
      " 10%|█         | 306000/3000000 [4:24:25<1730:11:06,  2.31s/it]"
     ]
    },
    {
     "name": "stdout",
     "output_type": "stream",
     "text": [
      "test_rew_main =  0.1497228215758691\n"
     ]
    },
    {
     "name": "stderr",
     "output_type": "stream",
     "text": [
      " 10%|█         | 308993/3000000 [4:26:16<12:13:47, 61.12it/s]  "
     ]
    },
    {
     "name": "stdout",
     "output_type": "stream",
     "text": [
      "ep_rew_main =  [2.373659e-10]\n"
     ]
    },
    {
     "name": "stderr",
     "output_type": "stream",
     "text": [
      " 10%|█         | 309000/3000000 [4:27:19<2021:59:56,  2.71s/it]"
     ]
    },
    {
     "name": "stdout",
     "output_type": "stream",
     "text": [
      "test_rew_main =  0.003541726758186376\n"
     ]
    },
    {
     "name": "stderr",
     "output_type": "stream",
     "text": [
      " 10%|█         | 311998/3000000 [4:29:09<11:37:13, 64.25it/s]  "
     ]
    },
    {
     "name": "stdout",
     "output_type": "stream",
     "text": [
      "ep_rew_main =  [0.16000095]\n"
     ]
    },
    {
     "name": "stderr",
     "output_type": "stream",
     "text": [
      " 10%|█         | 312000/3000000 [4:30:06<2070:12:10,  2.77s/it]"
     ]
    },
    {
     "name": "stdout",
     "output_type": "stream",
     "text": [
      "test_rew_main =  0.052402061044795445\n"
     ]
    },
    {
     "name": "stderr",
     "output_type": "stream",
     "text": [
      " 10%|█         | 314998/3000000 [4:32:02<12:03:07, 61.88it/s]  "
     ]
    },
    {
     "name": "stdout",
     "output_type": "stream",
     "text": [
      "ep_rew_main =  [0.33094332]\n"
     ]
    },
    {
     "name": "stderr",
     "output_type": "stream",
     "text": [
      " 10%|█         | 315000/3000000 [4:32:58<2078:45:02,  2.79s/it]"
     ]
    },
    {
     "name": "stdout",
     "output_type": "stream",
     "text": [
      "test_rew_main =  0.15252441172847292\n"
     ]
    },
    {
     "name": "stderr",
     "output_type": "stream",
     "text": [
      " 11%|█         | 317995/3000000 [4:34:52<13:30:35, 55.14it/s]  "
     ]
    },
    {
     "name": "stdout",
     "output_type": "stream",
     "text": [
      "ep_rew_main =  [0.00139498]\n"
     ]
    },
    {
     "name": "stderr",
     "output_type": "stream",
     "text": [
      " 11%|█         | 318000/3000000 [4:35:51<2115:51:45,  2.84s/it]"
     ]
    },
    {
     "name": "stdout",
     "output_type": "stream",
     "text": [
      "test_rew_main =  0.03667827590872647\n"
     ]
    },
    {
     "name": "stderr",
     "output_type": "stream",
     "text": [
      " 11%|█         | 320995/3000000 [4:37:41<10:46:30, 69.06it/s]  "
     ]
    },
    {
     "name": "stdout",
     "output_type": "stream",
     "text": [
      "ep_rew_main =  [0.00045809]\n"
     ]
    },
    {
     "name": "stderr",
     "output_type": "stream",
     "text": [
      " 11%|█         | 321000/3000000 [4:38:35<1645:52:12,  2.21s/it]"
     ]
    },
    {
     "name": "stdout",
     "output_type": "stream",
     "text": [
      "test_rew_main =  7.075413297199486e-05\n"
     ]
    },
    {
     "name": "stderr",
     "output_type": "stream",
     "text": [
      " 11%|█         | 323994/3000000 [4:40:26<11:09:13, 66.65it/s]  "
     ]
    },
    {
     "name": "stdout",
     "output_type": "stream",
     "text": [
      "ep_rew_main =  [0.00010913]\n"
     ]
    },
    {
     "name": "stderr",
     "output_type": "stream",
     "text": [
      " 11%|█         | 324000/3000000 [4:41:21<1639:24:22,  2.21s/it]"
     ]
    },
    {
     "name": "stdout",
     "output_type": "stream",
     "text": [
      "test_rew_main =  0.0037732769769703517\n"
     ]
    },
    {
     "name": "stderr",
     "output_type": "stream",
     "text": [
      " 11%|█         | 326993/3000000 [4:43:11<11:36:04, 64.00it/s]  "
     ]
    },
    {
     "name": "stdout",
     "output_type": "stream",
     "text": [
      "ep_rew_main =  [0.2596528]\n"
     ]
    },
    {
     "name": "stderr",
     "output_type": "stream",
     "text": [
      " 11%|█         | 327000/3000000 [4:44:10<1721:28:31,  2.32s/it]"
     ]
    },
    {
     "name": "stdout",
     "output_type": "stream",
     "text": [
      "test_rew_main =  0.013770659756678164\n"
     ]
    },
    {
     "name": "stderr",
     "output_type": "stream",
     "text": [
      " 11%|█         | 329997/3000000 [4:46:05<12:57:33, 57.23it/s]  "
     ]
    },
    {
     "name": "stdout",
     "output_type": "stream",
     "text": [
      "ep_rew_main =  [1.4421185e-07]\n"
     ]
    },
    {
     "name": "stderr",
     "output_type": "stream",
     "text": [
      " 11%|█         | 329997/3000000 [4:46:18<12:57:33, 57.23it/s]"
     ]
    },
    {
     "name": "stdout",
     "output_type": "stream",
     "text": [
      "test_rew_main =  0.010824550626253626\n",
      "current_time =  2022-02-03T02:52:31.525734\n"
     ]
    },
    {
     "name": "stderr",
     "output_type": "stream",
     "text": [
      " 11%|█         | 330000/3000000 [4:48:27<6145:45:53,  8.29s/it]"
     ]
    },
    {
     "name": "stdout",
     "output_type": "stream",
     "text": [
      "current_time =  2022-02-03T02:53:54.428898\n"
     ]
    },
    {
     "name": "stderr",
     "output_type": "stream",
     "text": [
      " 11%|█         | 332996/3000000 [4:50:21<11:50:08, 62.59it/s]  "
     ]
    },
    {
     "name": "stdout",
     "output_type": "stream",
     "text": [
      "ep_rew_main =  [0.12799829]\n"
     ]
    },
    {
     "name": "stderr",
     "output_type": "stream",
     "text": [
      " 11%|█         | 333000/3000000 [4:51:20<2115:07:12,  2.86s/it]"
     ]
    },
    {
     "name": "stdout",
     "output_type": "stream",
     "text": [
      "test_rew_main =  0.05251277443715276\n"
     ]
    },
    {
     "name": "stderr",
     "output_type": "stream",
     "text": [
      " 11%|█         | 335999/3000000 [4:53:11<10:25:23, 70.99it/s]  "
     ]
    },
    {
     "name": "stdout",
     "output_type": "stream",
     "text": [
      "ep_rew_main =  [0.00178951]\n"
     ]
    },
    {
     "name": "stderr",
     "output_type": "stream",
     "text": [
      " 11%|█         | 336000/3000000 [4:54:16<2148:33:19,  2.90s/it]"
     ]
    },
    {
     "name": "stdout",
     "output_type": "stream",
     "text": [
      "test_rew_main =  0.03579143868656189\n"
     ]
    },
    {
     "name": "stderr",
     "output_type": "stream",
     "text": [
      " 11%|█▏        | 338994/3000000 [4:56:11<13:04:32, 56.53it/s]  "
     ]
    },
    {
     "name": "stdout",
     "output_type": "stream",
     "text": [
      "ep_rew_main =  [1.18242795e-07]\n"
     ]
    },
    {
     "name": "stderr",
     "output_type": "stream",
     "text": [
      " 11%|█▏        | 339000/3000000 [4:57:13<2290:43:14,  3.10s/it]"
     ]
    },
    {
     "name": "stdout",
     "output_type": "stream",
     "text": [
      "test_rew_main =  0.005815085823970226\n"
     ]
    },
    {
     "name": "stderr",
     "output_type": "stream",
     "text": [
      " 11%|█▏        | 341999/3000000 [4:59:08<12:02:26, 61.32it/s]  "
     ]
    },
    {
     "name": "stdout",
     "output_type": "stream",
     "text": [
      "ep_rew_main =  [0.00186569]\n"
     ]
    },
    {
     "name": "stderr",
     "output_type": "stream",
     "text": [
      " 11%|█▏        | 342000/3000000 [5:00:08<2418:56:10,  3.28s/it]"
     ]
    },
    {
     "name": "stdout",
     "output_type": "stream",
     "text": [
      "test_rew_main =  0.04449277711695453\n"
     ]
    },
    {
     "name": "stderr",
     "output_type": "stream",
     "text": [
      " 11%|█▏        | 344993/3000000 [5:02:03<11:34:53, 63.68it/s]  "
     ]
    },
    {
     "name": "stdout",
     "output_type": "stream",
     "text": [
      "ep_rew_main =  [0.08948574]\n"
     ]
    },
    {
     "name": "stderr",
     "output_type": "stream",
     "text": [
      " 12%|█▏        | 345000/3000000 [5:02:58<1591:57:29,  2.16s/it]"
     ]
    },
    {
     "name": "stdout",
     "output_type": "stream",
     "text": [
      "test_rew_main =  0.003936674127621429\n"
     ]
    },
    {
     "name": "stderr",
     "output_type": "stream",
     "text": [
      " 12%|█▏        | 347995/3000000 [5:04:54<13:54:25, 52.97it/s]  "
     ]
    },
    {
     "name": "stdout",
     "output_type": "stream",
     "text": [
      "ep_rew_main =  [0.02315201]\n"
     ]
    },
    {
     "name": "stderr",
     "output_type": "stream",
     "text": [
      " 12%|█▏        | 348000/3000000 [5:05:50<2192:49:35,  2.98s/it]"
     ]
    },
    {
     "name": "stdout",
     "output_type": "stream",
     "text": [
      "test_rew_main =  0.0069157382310357\n"
     ]
    },
    {
     "name": "stderr",
     "output_type": "stream",
     "text": [
      " 12%|█▏        | 350997/3000000 [5:07:48<11:57:12, 61.56it/s]  "
     ]
    },
    {
     "name": "stdout",
     "output_type": "stream",
     "text": [
      "ep_rew_main =  [0.12482032]\n"
     ]
    },
    {
     "name": "stderr",
     "output_type": "stream",
     "text": [
      " 12%|█▏        | 351000/3000000 [5:08:44<2164:57:12,  2.94s/it]"
     ]
    },
    {
     "name": "stdout",
     "output_type": "stream",
     "text": [
      "test_rew_main =  0.037521304781295894\n"
     ]
    },
    {
     "name": "stderr",
     "output_type": "stream",
     "text": [
      " 12%|█▏        | 353992/3000000 [5:10:41<10:23:20, 70.75it/s]  "
     ]
    },
    {
     "name": "stdout",
     "output_type": "stream",
     "text": [
      "ep_rew_main =  [0.00136795]\n"
     ]
    },
    {
     "name": "stderr",
     "output_type": "stream",
     "text": [
      " 12%|█▏        | 354000/3000000 [5:11:38<1447:14:49,  1.97s/it]"
     ]
    },
    {
     "name": "stdout",
     "output_type": "stream",
     "text": [
      "test_rew_main =  0.05203108310793394\n"
     ]
    },
    {
     "name": "stderr",
     "output_type": "stream",
     "text": [
      " 12%|█▏        | 356992/3000000 [5:13:33<11:08:47, 65.87it/s]  "
     ]
    },
    {
     "name": "stdout",
     "output_type": "stream",
     "text": [
      "ep_rew_main =  [1.6016123e-05]\n"
     ]
    },
    {
     "name": "stderr",
     "output_type": "stream",
     "text": [
      " 12%|█▏        | 357000/3000000 [5:14:32<1639:15:15,  2.23s/it]"
     ]
    },
    {
     "name": "stdout",
     "output_type": "stream",
     "text": [
      "test_rew_main =  0.10058540465982968\n"
     ]
    },
    {
     "name": "stderr",
     "output_type": "stream",
     "text": [
      " 12%|█▏        | 359998/3000000 [5:16:26<10:39:47, 68.77it/s]  "
     ]
    },
    {
     "name": "stdout",
     "output_type": "stream",
     "text": [
      "ep_rew_main =  [1.527977e-07]\n"
     ]
    },
    {
     "name": "stderr",
     "output_type": "stream",
     "text": [
      " 12%|█▏        | 359998/3000000 [5:16:39<10:39:47, 68.77it/s]"
     ]
    },
    {
     "name": "stdout",
     "output_type": "stream",
     "text": [
      "test_rew_main =  0.0860307237793765\n",
      "current_time =  2022-02-03T03:22:50.494656\n"
     ]
    },
    {
     "name": "stderr",
     "output_type": "stream",
     "text": [
      " 12%|█▏        | 360000/3000000 [5:18:44<4385:03:33,  5.98s/it]"
     ]
    },
    {
     "name": "stdout",
     "output_type": "stream",
     "text": [
      "current_time =  2022-02-03T03:24:11.262741\n"
     ]
    },
    {
     "name": "stderr",
     "output_type": "stream",
     "text": [
      " 12%|█▏        | 362999/3000000 [5:20:41<11:33:56, 63.33it/s]  "
     ]
    },
    {
     "name": "stdout",
     "output_type": "stream",
     "text": [
      "ep_rew_main =  [0.26233295]\n"
     ]
    },
    {
     "name": "stderr",
     "output_type": "stream",
     "text": [
      " 12%|█▏        | 363000/3000000 [5:21:37<2117:30:34,  2.89s/it]"
     ]
    },
    {
     "name": "stdout",
     "output_type": "stream",
     "text": [
      "test_rew_main =  0.06027660883551593\n"
     ]
    },
    {
     "name": "stderr",
     "output_type": "stream",
     "text": [
      " 12%|█▏        | 365999/3000000 [5:23:39<14:06:59, 51.83it/s]  "
     ]
    },
    {
     "name": "stdout",
     "output_type": "stream",
     "text": [
      "ep_rew_main =  [0.01827315]\n"
     ]
    },
    {
     "name": "stderr",
     "output_type": "stream",
     "text": [
      " 12%|█▏        | 366000/3000000 [5:24:37<2842:35:42,  3.89s/it]"
     ]
    },
    {
     "name": "stdout",
     "output_type": "stream",
     "text": [
      "test_rew_main =  0.01806963357662308\n"
     ]
    },
    {
     "name": "stderr",
     "output_type": "stream",
     "text": [
      " 12%|█▏        | 368996/3000000 [5:26:35<11:14:41, 64.99it/s]  "
     ]
    },
    {
     "name": "stdout",
     "output_type": "stream",
     "text": [
      "ep_rew_main =  [0.3025106]\n"
     ]
    },
    {
     "name": "stderr",
     "output_type": "stream",
     "text": [
      " 12%|█▏        | 369000/3000000 [5:27:40<2115:54:15,  2.90s/it]"
     ]
    },
    {
     "name": "stdout",
     "output_type": "stream",
     "text": [
      "test_rew_main =  0.03201785419309532\n"
     ]
    },
    {
     "name": "stderr",
     "output_type": "stream",
     "text": [
      " 12%|█▏        | 371995/3000000 [5:29:41<11:32:03, 63.29it/s]  "
     ]
    },
    {
     "name": "stdout",
     "output_type": "stream",
     "text": [
      "ep_rew_main =  [0.12290753]\n"
     ]
    },
    {
     "name": "stderr",
     "output_type": "stream",
     "text": [
      " 12%|█▏        | 372000/3000000 [5:30:39<2008:11:48,  2.75s/it]"
     ]
    },
    {
     "name": "stdout",
     "output_type": "stream",
     "text": [
      "test_rew_main =  0.028620147232095515\n"
     ]
    },
    {
     "name": "stderr",
     "output_type": "stream",
     "text": [
      " 12%|█▏        | 374994/3000000 [5:32:40<11:25:33, 63.82it/s]  "
     ]
    },
    {
     "name": "stdout",
     "output_type": "stream",
     "text": [
      "ep_rew_main =  [0.339482]\n"
     ]
    },
    {
     "name": "stderr",
     "output_type": "stream",
     "text": [
      " 12%|█▎        | 375000/3000000 [5:33:44<1934:28:25,  2.65s/it]"
     ]
    },
    {
     "name": "stdout",
     "output_type": "stream",
     "text": [
      "test_rew_main =  0.047107549622803384\n"
     ]
    },
    {
     "name": "stderr",
     "output_type": "stream",
     "text": [
      " 13%|█▎        | 377998/3000000 [5:35:44<11:15:59, 64.65it/s]  "
     ]
    },
    {
     "name": "stdout",
     "output_type": "stream",
     "text": [
      "ep_rew_main =  [1.9616535e-07]\n"
     ]
    },
    {
     "name": "stderr",
     "output_type": "stream",
     "text": [
      " 13%|█▎        | 378000/3000000 [5:36:44<2143:17:43,  2.94s/it]"
     ]
    },
    {
     "name": "stdout",
     "output_type": "stream",
     "text": [
      "test_rew_main =  0.03152044658297228\n"
     ]
    },
    {
     "name": "stderr",
     "output_type": "stream",
     "text": [
      " 13%|█▎        | 380996/3000000 [5:38:44<11:37:55, 62.54it/s]  "
     ]
    },
    {
     "name": "stdout",
     "output_type": "stream",
     "text": [
      "ep_rew_main =  [0.05121677]\n"
     ]
    },
    {
     "name": "stderr",
     "output_type": "stream",
     "text": [
      " 13%|█▎        | 381000/3000000 [5:39:38<1889:41:42,  2.60s/it]"
     ]
    },
    {
     "name": "stdout",
     "output_type": "stream",
     "text": [
      "test_rew_main =  0.0878912554620069\n"
     ]
    },
    {
     "name": "stderr",
     "output_type": "stream",
     "text": [
      " 13%|█▎        | 383997/3000000 [5:41:36<11:10:09, 65.06it/s]  "
     ]
    },
    {
     "name": "stdout",
     "output_type": "stream",
     "text": [
      "ep_rew_main =  [0.18563373]\n"
     ]
    },
    {
     "name": "stderr",
     "output_type": "stream",
     "text": [
      " 13%|█▎        | 384000/3000000 [5:42:32<1920:57:11,  2.64s/it]"
     ]
    },
    {
     "name": "stdout",
     "output_type": "stream",
     "text": [
      "test_rew_main =  0.00893558972314057\n"
     ]
    },
    {
     "name": "stderr",
     "output_type": "stream",
     "text": [
      " 13%|█▎        | 386995/3000000 [5:44:35<11:14:38, 64.55it/s]  "
     ]
    },
    {
     "name": "stdout",
     "output_type": "stream",
     "text": [
      "ep_rew_main =  [0.35263237]\n"
     ]
    },
    {
     "name": "stderr",
     "output_type": "stream",
     "text": [
      " 13%|█▎        | 387000/3000000 [5:45:41<2047:06:32,  2.82s/it]"
     ]
    },
    {
     "name": "stdout",
     "output_type": "stream",
     "text": [
      "test_rew_main =  0.15081335196240506\n"
     ]
    },
    {
     "name": "stderr",
     "output_type": "stream",
     "text": [
      " 13%|█▎        | 389996/3000000 [5:47:50<10:34:17, 68.58it/s]  "
     ]
    },
    {
     "name": "stdout",
     "output_type": "stream",
     "text": [
      "ep_rew_main =  [0.26363227]\n"
     ]
    },
    {
     "name": "stderr",
     "output_type": "stream",
     "text": [
      " 13%|█▎        | 389996/3000000 [5:48:02<10:34:17, 68.58it/s]"
     ]
    },
    {
     "name": "stdout",
     "output_type": "stream",
     "text": [
      "test_rew_main =  0.08355114672489268\n",
      "current_time =  2022-02-03T03:54:15.431531\n"
     ]
    },
    {
     "name": "stderr",
     "output_type": "stream",
     "text": [
      " 13%|█▎        | 390000/3000000 [5:50:09<4055:07:52,  5.59s/it]"
     ]
    },
    {
     "name": "stdout",
     "output_type": "stream",
     "text": [
      "current_time =  2022-02-03T03:55:36.464630\n"
     ]
    },
    {
     "name": "stderr",
     "output_type": "stream",
     "text": [
      " 13%|█▎        | 392994/3000000 [5:52:13<10:32:58, 68.64it/s]  "
     ]
    },
    {
     "name": "stdout",
     "output_type": "stream",
     "text": [
      "ep_rew_main =  [0.00100724]\n"
     ]
    },
    {
     "name": "stderr",
     "output_type": "stream",
     "text": [
      " 13%|█▎        | 393000/3000000 [5:53:14<1734:24:57,  2.40s/it]"
     ]
    },
    {
     "name": "stdout",
     "output_type": "stream",
     "text": [
      "test_rew_main =  0.1508407459614532\n"
     ]
    },
    {
     "name": "stderr",
     "output_type": "stream",
     "text": [
      " 13%|█▎        | 395992/3000000 [5:55:17<11:31:10, 62.79it/s]  "
     ]
    },
    {
     "name": "stdout",
     "output_type": "stream",
     "text": [
      "ep_rew_main =  [0.4299707]\n"
     ]
    },
    {
     "name": "stderr",
     "output_type": "stream",
     "text": [
      " 13%|█▎        | 396000/3000000 [5:56:25<1833:54:53,  2.54s/it]"
     ]
    },
    {
     "name": "stdout",
     "output_type": "stream",
     "text": [
      "test_rew_main =  0.13505305099177659\n"
     ]
    },
    {
     "name": "stderr",
     "output_type": "stream",
     "text": [
      " 13%|█▎        | 398996/3000000 [5:58:31<12:46:49, 56.53it/s]  "
     ]
    },
    {
     "name": "stdout",
     "output_type": "stream",
     "text": [
      "ep_rew_main =  [4.2278163e-08]\n"
     ]
    },
    {
     "name": "stderr",
     "output_type": "stream",
     "text": [
      " 13%|█▎        | 399000/3000000 [5:59:30<2109:17:29,  2.92s/it]"
     ]
    },
    {
     "name": "stdout",
     "output_type": "stream",
     "text": [
      "test_rew_main =  0.17610831510367705\n"
     ]
    },
    {
     "name": "stderr",
     "output_type": "stream",
     "text": [
      " 13%|█▎        | 401994/3000000 [6:01:35<10:54:17, 66.18it/s]  "
     ]
    },
    {
     "name": "stdout",
     "output_type": "stream",
     "text": [
      "ep_rew_main =  [0.00378981]\n"
     ]
    },
    {
     "name": "stderr",
     "output_type": "stream",
     "text": [
      " 13%|█▎        | 402000/3000000 [6:02:37<1672:41:44,  2.32s/it]"
     ]
    },
    {
     "name": "stdout",
     "output_type": "stream",
     "text": [
      "test_rew_main =  0.00410595813354519\n"
     ]
    },
    {
     "name": "stderr",
     "output_type": "stream",
     "text": [
      " 13%|█▎        | 404995/3000000 [6:04:45<11:26:39, 62.99it/s]  "
     ]
    },
    {
     "name": "stdout",
     "output_type": "stream",
     "text": [
      "ep_rew_main =  [0.35819447]\n"
     ]
    },
    {
     "name": "stderr",
     "output_type": "stream",
     "text": [
      " 14%|█▎        | 405000/3000000 [6:05:42<1870:30:29,  2.59s/it]"
     ]
    },
    {
     "name": "stdout",
     "output_type": "stream",
     "text": [
      "test_rew_main =  0.05844004881588226\n"
     ]
    },
    {
     "name": "stderr",
     "output_type": "stream",
     "text": [
      " 14%|█▎        | 407997/3000000 [6:07:47<11:15:26, 63.96it/s]  "
     ]
    },
    {
     "name": "stdout",
     "output_type": "stream",
     "text": [
      "ep_rew_main =  [0.22285874]\n"
     ]
    },
    {
     "name": "stderr",
     "output_type": "stream",
     "text": [
      " 14%|█▎        | 408000/3000000 [6:08:41<1805:40:44,  2.51s/it]"
     ]
    },
    {
     "name": "stdout",
     "output_type": "stream",
     "text": [
      "test_rew_main =  0.25013002316777605\n"
     ]
    },
    {
     "name": "stderr",
     "output_type": "stream",
     "text": [
      " 14%|█▎        | 410997/3000000 [6:10:48<14:09:29, 50.79it/s]  "
     ]
    },
    {
     "name": "stdout",
     "output_type": "stream",
     "text": [
      "ep_rew_main =  [0.00615185]\n"
     ]
    },
    {
     "name": "stderr",
     "output_type": "stream",
     "text": [
      " 14%|█▎        | 411000/3000000 [6:11:51<2680:03:41,  3.73s/it]"
     ]
    },
    {
     "name": "stdout",
     "output_type": "stream",
     "text": [
      "test_rew_main =  0.18366807798374435\n"
     ]
    },
    {
     "name": "stderr",
     "output_type": "stream",
     "text": [
      " 14%|█▍        | 413994/3000000 [6:13:59<11:22:28, 63.15it/s]  "
     ]
    },
    {
     "name": "stdout",
     "output_type": "stream",
     "text": [
      "ep_rew_main =  [0.09709208]\n"
     ]
    },
    {
     "name": "stderr",
     "output_type": "stream",
     "text": [
      " 14%|█▍        | 414000/3000000 [6:14:58<1876:13:48,  2.61s/it]"
     ]
    },
    {
     "name": "stdout",
     "output_type": "stream",
     "text": [
      "test_rew_main =  0.016604760963731095\n"
     ]
    },
    {
     "name": "stderr",
     "output_type": "stream",
     "text": [
      " 14%|█▍        | 416998/3000000 [6:17:03<10:55:38, 65.66it/s]  "
     ]
    },
    {
     "name": "stdout",
     "output_type": "stream",
     "text": [
      "ep_rew_main =  [0.01001744]\n"
     ]
    },
    {
     "name": "stderr",
     "output_type": "stream",
     "text": [
      " 14%|█▍        | 417000/3000000 [6:18:01<1822:29:41,  2.54s/it]"
     ]
    },
    {
     "name": "stdout",
     "output_type": "stream",
     "text": [
      "test_rew_main =  0.19592830794418864\n"
     ]
    },
    {
     "name": "stderr",
     "output_type": "stream",
     "text": [
      " 14%|█▍        | 419999/3000000 [6:20:09<11:16:14, 63.59it/s]  "
     ]
    },
    {
     "name": "stdout",
     "output_type": "stream",
     "text": [
      "ep_rew_main =  [0.3195118]\n"
     ]
    },
    {
     "name": "stderr",
     "output_type": "stream",
     "text": [
      " 14%|█▍        | 419999/3000000 [6:20:25<11:16:14, 63.59it/s]"
     ]
    },
    {
     "name": "stdout",
     "output_type": "stream",
     "text": [
      "test_rew_main =  0.049841637442215134\n",
      "current_time =  2022-02-03T04:26:32.459378\n"
     ]
    },
    {
     "name": "stderr",
     "output_type": "stream",
     "text": [
      " 14%|█▍        | 420000/3000000 [6:22:26<5012:02:56,  6.99s/it]"
     ]
    },
    {
     "name": "stdout",
     "output_type": "stream",
     "text": [
      "current_time =  2022-02-03T04:27:54.020902\n"
     ]
    },
    {
     "name": "stderr",
     "output_type": "stream",
     "text": [
      " 14%|█▍        | 422995/3000000 [6:24:35<14:38:09, 48.91it/s]  "
     ]
    },
    {
     "name": "stdout",
     "output_type": "stream",
     "text": [
      "ep_rew_main =  [9.262924e-07]\n"
     ]
    },
    {
     "name": "stderr",
     "output_type": "stream",
     "text": [
      " 14%|█▍        | 423000/3000000 [6:25:33<2203:01:47,  3.08s/it]"
     ]
    },
    {
     "name": "stdout",
     "output_type": "stream",
     "text": [
      "test_rew_main =  0.10044103759329585\n"
     ]
    },
    {
     "name": "stderr",
     "output_type": "stream",
     "text": [
      " 14%|█▍        | 425998/3000000 [6:27:39<10:17:58, 69.42it/s]  "
     ]
    },
    {
     "name": "stdout",
     "output_type": "stream",
     "text": [
      "ep_rew_main =  [0.00274941]\n"
     ]
    },
    {
     "name": "stderr",
     "output_type": "stream",
     "text": [
      " 14%|█▍        | 426000/3000000 [6:28:36<1987:56:34,  2.78s/it]"
     ]
    },
    {
     "name": "stdout",
     "output_type": "stream",
     "text": [
      "test_rew_main =  0.1542389385156907\n"
     ]
    },
    {
     "name": "stderr",
     "output_type": "stream",
     "text": [
      " 14%|█▍        | 428995/3000000 [6:30:47<11:10:06, 63.95it/s]  "
     ]
    },
    {
     "name": "stdout",
     "output_type": "stream",
     "text": [
      "ep_rew_main =  [0.37832698]\n"
     ]
    },
    {
     "name": "stderr",
     "output_type": "stream",
     "text": [
      " 14%|█▍        | 429000/3000000 [6:31:43<1725:46:18,  2.42s/it]"
     ]
    },
    {
     "name": "stdout",
     "output_type": "stream",
     "text": [
      "test_rew_main =  0.08290019156215746\n"
     ]
    },
    {
     "name": "stderr",
     "output_type": "stream",
     "text": [
      " 14%|█▍        | 431995/3000000 [6:33:54<11:22:28, 62.71it/s]  "
     ]
    },
    {
     "name": "stdout",
     "output_type": "stream",
     "text": [
      "ep_rew_main =  [0.23666392]\n"
     ]
    },
    {
     "name": "stderr",
     "output_type": "stream",
     "text": [
      " 14%|█▍        | 432000/3000000 [6:34:51<1833:58:16,  2.57s/it]"
     ]
    },
    {
     "name": "stdout",
     "output_type": "stream",
     "text": [
      "test_rew_main =  0.04714134135649779\n"
     ]
    },
    {
     "name": "stderr",
     "output_type": "stream",
     "text": [
      " 14%|█▍        | 434994/3000000 [6:37:06<11:20:26, 62.83it/s]  "
     ]
    },
    {
     "name": "stdout",
     "output_type": "stream",
     "text": [
      "ep_rew_main =  [0.09278177]\n"
     ]
    },
    {
     "name": "stderr",
     "output_type": "stream",
     "text": [
      " 14%|█▍        | 435000/3000000 [6:38:04<1703:19:07,  2.39s/it]"
     ]
    },
    {
     "name": "stdout",
     "output_type": "stream",
     "text": [
      "test_rew_main =  0.031380912713373545\n"
     ]
    },
    {
     "name": "stderr",
     "output_type": "stream",
     "text": [
      " 15%|█▍        | 437993/3000000 [6:40:14<11:20:19, 62.76it/s]  "
     ]
    },
    {
     "name": "stdout",
     "output_type": "stream",
     "text": [
      "ep_rew_main =  [0.05808852]\n"
     ]
    },
    {
     "name": "stderr",
     "output_type": "stream",
     "text": [
      " 15%|█▍        | 438000/3000000 [6:41:15<1815:26:23,  2.55s/it]"
     ]
    },
    {
     "name": "stdout",
     "output_type": "stream",
     "text": [
      "test_rew_main =  0.073595319988449\n"
     ]
    },
    {
     "name": "stderr",
     "output_type": "stream",
     "text": [
      " 15%|█▍        | 440999/3000000 [6:43:27<11:24:21, 62.32it/s]  "
     ]
    },
    {
     "name": "stdout",
     "output_type": "stream",
     "text": [
      "ep_rew_main =  [0.18773267]\n"
     ]
    },
    {
     "name": "stderr",
     "output_type": "stream",
     "text": [
      " 15%|█▍        | 441000/3000000 [6:44:25<2099:52:41,  2.95s/it]"
     ]
    },
    {
     "name": "stdout",
     "output_type": "stream",
     "text": [
      "test_rew_main =  0.05728282930853044\n"
     ]
    },
    {
     "name": "stderr",
     "output_type": "stream",
     "text": [
      " 15%|█▍        | 443994/3000000 [6:46:39<11:32:52, 61.48it/s]  "
     ]
    },
    {
     "name": "stdout",
     "output_type": "stream",
     "text": [
      "ep_rew_main =  [9.831435e-06]\n"
     ]
    },
    {
     "name": "stderr",
     "output_type": "stream",
     "text": [
      " 15%|█▍        | 444000/3000000 [6:47:36<1661:34:49,  2.34s/it]"
     ]
    },
    {
     "name": "stdout",
     "output_type": "stream",
     "text": [
      "test_rew_main =  0.03308703490101721\n"
     ]
    },
    {
     "name": "stderr",
     "output_type": "stream",
     "text": [
      " 15%|█▍        | 446997/3000000 [6:49:47<11:27:39, 61.88it/s]  "
     ]
    },
    {
     "name": "stdout",
     "output_type": "stream",
     "text": [
      "ep_rew_main =  [0.0871871]\n"
     ]
    },
    {
     "name": "stderr",
     "output_type": "stream",
     "text": [
      " 15%|█▍        | 447000/3000000 [6:50:43<1839:34:44,  2.59s/it]"
     ]
    },
    {
     "name": "stdout",
     "output_type": "stream",
     "text": [
      "test_rew_main =  0.023186103451760372\n"
     ]
    },
    {
     "name": "stderr",
     "output_type": "stream",
     "text": [
      " 15%|█▍        | 449998/3000000 [6:52:53<11:09:33, 63.47it/s]  "
     ]
    },
    {
     "name": "stdout",
     "output_type": "stream",
     "text": [
      "ep_rew_main =  [0.02462333]\n"
     ]
    },
    {
     "name": "stderr",
     "output_type": "stream",
     "text": [
      " 15%|█▍        | 449998/3000000 [6:53:09<11:09:33, 63.47it/s]"
     ]
    },
    {
     "name": "stdout",
     "output_type": "stream",
     "text": [
      "test_rew_main =  0.15492807495018557\n",
      "current_time =  2022-02-03T04:59:27.536666\n"
     ]
    },
    {
     "name": "stderr",
     "output_type": "stream",
     "text": [
      " 15%|█▌        | 450000/3000000 [6:55:20<5120:32:26,  7.23s/it]"
     ]
    },
    {
     "name": "stdout",
     "output_type": "stream",
     "text": [
      "current_time =  2022-02-03T05:00:47.446541\n"
     ]
    },
    {
     "name": "stderr",
     "output_type": "stream",
     "text": [
      " 15%|█▌        | 452994/3000000 [6:57:35<11:13:45, 63.00it/s]  "
     ]
    },
    {
     "name": "stdout",
     "output_type": "stream",
     "text": [
      "ep_rew_main =  [0.41327825]\n"
     ]
    },
    {
     "name": "stderr",
     "output_type": "stream",
     "text": [
      " 15%|█▌        | 453000/3000000 [6:58:34<1714:24:07,  2.42s/it]"
     ]
    },
    {
     "name": "stdout",
     "output_type": "stream",
     "text": [
      "test_rew_main =  0.11359183929185386\n"
     ]
    },
    {
     "name": "stderr",
     "output_type": "stream",
     "text": [
      " 15%|█▌        | 455995/3000000 [7:00:47<11:17:55, 62.54it/s]  "
     ]
    },
    {
     "name": "stdout",
     "output_type": "stream",
     "text": [
      "ep_rew_main =  [0.21677856]\n"
     ]
    },
    {
     "name": "stderr",
     "output_type": "stream",
     "text": [
      " 15%|█▌        | 456000/3000000 [7:01:46<1937:19:10,  2.74s/it]"
     ]
    },
    {
     "name": "stdout",
     "output_type": "stream",
     "text": [
      "test_rew_main =  0.1298284011843271\n"
     ]
    },
    {
     "name": "stderr",
     "output_type": "stream",
     "text": [
      " 15%|█▌        | 458994/3000000 [7:04:00<11:28:04, 61.55it/s]  "
     ]
    },
    {
     "name": "stdout",
     "output_type": "stream",
     "text": [
      "ep_rew_main =  [0.3385278]\n"
     ]
    },
    {
     "name": "stderr",
     "output_type": "stream",
     "text": [
      " 15%|█▌        | 459000/3000000 [7:05:01<1916:10:27,  2.71s/it]"
     ]
    },
    {
     "name": "stdout",
     "output_type": "stream",
     "text": [
      "test_rew_main =  0.24039464780810116\n"
     ]
    },
    {
     "name": "stderr",
     "output_type": "stream",
     "text": [
      " 15%|█▌        | 461999/3000000 [7:07:13<10:27:15, 67.44it/s]  "
     ]
    },
    {
     "name": "stdout",
     "output_type": "stream",
     "text": [
      "ep_rew_main =  [0.01206308]\n"
     ]
    },
    {
     "name": "stderr",
     "output_type": "stream",
     "text": [
      " 15%|█▌        | 462000/3000000 [7:08:14<2202:43:26,  3.12s/it]"
     ]
    },
    {
     "name": "stdout",
     "output_type": "stream",
     "text": [
      "test_rew_main =  0.09932794049699131\n"
     ]
    },
    {
     "name": "stderr",
     "output_type": "stream",
     "text": [
      " 15%|█▌        | 464994/3000000 [7:10:33<10:56:33, 64.35it/s]  "
     ]
    },
    {
     "name": "stdout",
     "output_type": "stream",
     "text": [
      "ep_rew_main =  [0.581923]\n"
     ]
    },
    {
     "name": "stderr",
     "output_type": "stream",
     "text": [
      " 16%|█▌        | 465000/3000000 [7:11:31<1669:26:15,  2.37s/it]"
     ]
    },
    {
     "name": "stdout",
     "output_type": "stream",
     "text": [
      "test_rew_main =  0.3084882391405333\n"
     ]
    },
    {
     "name": "stderr",
     "output_type": "stream",
     "text": [
      " 16%|█▌        | 467997/3000000 [7:13:45<10:59:48, 63.96it/s]  "
     ]
    },
    {
     "name": "stdout",
     "output_type": "stream",
     "text": [
      "ep_rew_main =  [0.16201402]\n"
     ]
    },
    {
     "name": "stderr",
     "output_type": "stream",
     "text": [
      " 16%|█▌        | 468000/3000000 [7:14:40<1986:34:25,  2.82s/it]"
     ]
    },
    {
     "name": "stdout",
     "output_type": "stream",
     "text": [
      "test_rew_main =  0.1618395894608074\n"
     ]
    },
    {
     "name": "stderr",
     "output_type": "stream",
     "text": [
      " 16%|█▌        | 470998/3000000 [7:16:54<11:04:44, 63.41it/s]  "
     ]
    },
    {
     "name": "stdout",
     "output_type": "stream",
     "text": [
      "ep_rew_main =  [0.20619465]\n"
     ]
    },
    {
     "name": "stderr",
     "output_type": "stream",
     "text": [
      " 16%|█▌        | 471000/3000000 [7:17:50<1898:00:56,  2.70s/it]"
     ]
    },
    {
     "name": "stdout",
     "output_type": "stream",
     "text": [
      "test_rew_main =  0.11379191931139158\n"
     ]
    },
    {
     "name": "stderr",
     "output_type": "stream",
     "text": [
      " 16%|█▌        | 473994/3000000 [7:20:05<11:22:17, 61.70it/s]  "
     ]
    },
    {
     "name": "stdout",
     "output_type": "stream",
     "text": [
      "ep_rew_main =  [0.11160808]\n"
     ]
    },
    {
     "name": "stderr",
     "output_type": "stream",
     "text": [
      " 16%|█▌        | 474000/3000000 [7:21:02<1641:37:40,  2.34s/it]"
     ]
    },
    {
     "name": "stdout",
     "output_type": "stream",
     "text": [
      "test_rew_main =  0.12855881047602802\n"
     ]
    },
    {
     "name": "stderr",
     "output_type": "stream",
     "text": [
      " 16%|█▌        | 476997/3000000 [7:23:17<11:18:25, 61.98it/s]  "
     ]
    },
    {
     "name": "stdout",
     "output_type": "stream",
     "text": [
      "ep_rew_main =  [0.32629082]\n"
     ]
    },
    {
     "name": "stderr",
     "output_type": "stream",
     "text": [
      " 16%|█▌        | 477000/3000000 [7:24:16<1925:38:47,  2.75s/it]"
     ]
    },
    {
     "name": "stdout",
     "output_type": "stream",
     "text": [
      "test_rew_main =  0.018361650037475398\n"
     ]
    },
    {
     "name": "stderr",
     "output_type": "stream",
     "text": [
      " 16%|█▌        | 479999/3000000 [7:26:36<12:44:51, 54.91it/s]  "
     ]
    },
    {
     "name": "stdout",
     "output_type": "stream",
     "text": [
      "ep_rew_main =  [0.00562548]\n"
     ]
    },
    {
     "name": "stderr",
     "output_type": "stream",
     "text": [
      " 16%|█▌        | 479999/3000000 [7:26:52<12:44:51, 54.91it/s]"
     ]
    },
    {
     "name": "stdout",
     "output_type": "stream",
     "text": [
      "test_rew_main =  0.22385022018937714\n",
      "current_time =  2022-02-03T05:33:07.492646\n"
     ]
    },
    {
     "name": "stderr",
     "output_type": "stream",
     "text": [
      " 16%|█▌        | 480000/3000000 [7:29:01<5892:42:14,  8.42s/it]"
     ]
    },
    {
     "name": "stdout",
     "output_type": "stream",
     "text": [
      "current_time =  2022-02-03T05:34:28.719754\n"
     ]
    },
    {
     "name": "stderr",
     "output_type": "stream",
     "text": [
      " 16%|█▌        | 482996/3000000 [7:31:23<13:50:23, 50.52it/s]  "
     ]
    },
    {
     "name": "stdout",
     "output_type": "stream",
     "text": [
      "ep_rew_main =  [0.00152841]\n"
     ]
    },
    {
     "name": "stderr",
     "output_type": "stream",
     "text": [
      " 16%|█▌        | 483000/3000000 [7:32:20<2244:55:18,  3.21s/it]"
     ]
    },
    {
     "name": "stdout",
     "output_type": "stream",
     "text": [
      "test_rew_main =  0.09789484733000198\n"
     ]
    },
    {
     "name": "stderr",
     "output_type": "stream",
     "text": [
      " 16%|█▌        | 485998/3000000 [7:34:39<12:51:19, 54.32it/s]  "
     ]
    },
    {
     "name": "stdout",
     "output_type": "stream",
     "text": [
      "ep_rew_main =  [0.00211384]\n"
     ]
    },
    {
     "name": "stderr",
     "output_type": "stream",
     "text": [
      " 16%|█▌        | 486000/3000000 [7:35:40<2499:21:20,  3.58s/it]"
     ]
    },
    {
     "name": "stdout",
     "output_type": "stream",
     "text": [
      "test_rew_main =  0.16858949058922418\n"
     ]
    },
    {
     "name": "stderr",
     "output_type": "stream",
     "text": [
      " 16%|█▋        | 488993/3000000 [7:38:00<11:23:34, 61.22it/s]  "
     ]
    },
    {
     "name": "stdout",
     "output_type": "stream",
     "text": [
      "ep_rew_main =  [0.2286536]\n"
     ]
    },
    {
     "name": "stderr",
     "output_type": "stream",
     "text": [
      " 16%|█▋        | 489000/3000000 [7:39:07<1843:21:55,  2.64s/it]"
     ]
    },
    {
     "name": "stdout",
     "output_type": "stream",
     "text": [
      "test_rew_main =  0.10254606147062591\n"
     ]
    },
    {
     "name": "stderr",
     "output_type": "stream",
     "text": [
      " 16%|█▋        | 491998/3000000 [7:41:25<11:08:49, 62.50it/s]  "
     ]
    },
    {
     "name": "stdout",
     "output_type": "stream",
     "text": [
      "ep_rew_main =  [0.22733487]\n"
     ]
    },
    {
     "name": "stderr",
     "output_type": "stream",
     "text": [
      " 16%|█▋        | 492000/3000000 [7:42:19<1846:51:15,  2.65s/it]"
     ]
    },
    {
     "name": "stdout",
     "output_type": "stream",
     "text": [
      "test_rew_main =  0.07012806908262814\n"
     ]
    },
    {
     "name": "stderr",
     "output_type": "stream",
     "text": [
      " 16%|█▋        | 494995/3000000 [7:44:44<13:12:45, 52.66it/s]  "
     ]
    },
    {
     "name": "stdout",
     "output_type": "stream",
     "text": [
      "ep_rew_main =  [5.2148126e-09]\n"
     ]
    },
    {
     "name": "stderr",
     "output_type": "stream",
     "text": [
      " 16%|█▋        | 495000/3000000 [7:45:46<2270:42:33,  3.26s/it]"
     ]
    },
    {
     "name": "stdout",
     "output_type": "stream",
     "text": [
      "test_rew_main =  0.03753379662181189\n"
     ]
    },
    {
     "name": "stderr",
     "output_type": "stream",
     "text": [
      " 17%|█▋        | 497999/3000000 [7:48:05<11:24:42, 60.90it/s]  "
     ]
    },
    {
     "name": "stdout",
     "output_type": "stream",
     "text": [
      "ep_rew_main =  [0.41770795]\n"
     ]
    },
    {
     "name": "stderr",
     "output_type": "stream",
     "text": [
      " 17%|█▋        | 498000/3000000 [7:49:08<2516:14:16,  3.62s/it]"
     ]
    },
    {
     "name": "stdout",
     "output_type": "stream",
     "text": [
      "test_rew_main =  0.07402833233681724\n"
     ]
    },
    {
     "name": "stderr",
     "output_type": "stream",
     "text": [
      " 17%|█▋        | 500994/3000000 [7:51:29<12:05:52, 57.38it/s]  "
     ]
    },
    {
     "name": "stdout",
     "output_type": "stream",
     "text": [
      "ep_rew_main =  [9.5504575e-08]\n"
     ]
    },
    {
     "name": "stderr",
     "output_type": "stream",
     "text": [
      " 17%|█▋        | 501000/3000000 [7:52:24<1723:32:44,  2.48s/it]"
     ]
    },
    {
     "name": "stdout",
     "output_type": "stream",
     "text": [
      "test_rew_main =  0.05032285381702922\n"
     ]
    },
    {
     "name": "stderr",
     "output_type": "stream",
     "text": [
      " 17%|█▋        | 503997/3000000 [7:54:47<10:58:23, 63.18it/s]  "
     ]
    },
    {
     "name": "stdout",
     "output_type": "stream",
     "text": [
      "ep_rew_main =  [0.00803701]\n"
     ]
    },
    {
     "name": "stderr",
     "output_type": "stream",
     "text": [
      " 17%|█▋        | 504000/3000000 [7:55:45<1866:39:02,  2.69s/it]"
     ]
    },
    {
     "name": "stdout",
     "output_type": "stream",
     "text": [
      "test_rew_main =  0.11766326946184498\n"
     ]
    },
    {
     "name": "stderr",
     "output_type": "stream",
     "text": [
      " 17%|█▋        | 506994/3000000 [7:58:08<11:13:46, 61.67it/s]  "
     ]
    },
    {
     "name": "stdout",
     "output_type": "stream",
     "text": [
      "ep_rew_main =  [0.26483935]\n"
     ]
    },
    {
     "name": "stderr",
     "output_type": "stream",
     "text": [
      " 17%|█▋        | 507000/3000000 [7:59:06<1638:57:54,  2.37s/it]"
     ]
    },
    {
     "name": "stdout",
     "output_type": "stream",
     "text": [
      "test_rew_main =  0.09893647341713593\n"
     ]
    },
    {
     "name": "stderr",
     "output_type": "stream",
     "text": [
      " 17%|█▋        | 509992/3000000 [8:01:26<10:10:53, 67.93it/s]  "
     ]
    },
    {
     "name": "stdout",
     "output_type": "stream",
     "text": [
      "ep_rew_main =  [9.2417205e-05]\n"
     ]
    },
    {
     "name": "stderr",
     "output_type": "stream",
     "text": [
      " 17%|█▋        | 509992/3000000 [8:01:44<10:10:53, 67.93it/s]"
     ]
    },
    {
     "name": "stdout",
     "output_type": "stream",
     "text": [
      "test_rew_main =  0.17934520578428517\n",
      "current_time =  2022-02-03T06:07:50.914041\n"
     ]
    },
    {
     "name": "stderr",
     "output_type": "stream",
     "text": [
      " 17%|█▋        | 510000/3000000 [8:03:44<3435:30:36,  4.97s/it]"
     ]
    },
    {
     "name": "stdout",
     "output_type": "stream",
     "text": [
      "current_time =  2022-02-03T06:09:12.177602\n"
     ]
    },
    {
     "name": "stderr",
     "output_type": "stream",
     "text": [
      " 17%|█▋        | 512997/3000000 [8:06:07<11:20:40, 60.90it/s]  "
     ]
    },
    {
     "name": "stdout",
     "output_type": "stream",
     "text": [
      "ep_rew_main =  [0.02829485]\n"
     ]
    },
    {
     "name": "stderr",
     "output_type": "stream",
     "text": [
      " 17%|█▋        | 513000/3000000 [8:07:07<2175:08:46,  3.15s/it]"
     ]
    },
    {
     "name": "stdout",
     "output_type": "stream",
     "text": [
      "test_rew_main =  0.12330611246252712\n"
     ]
    },
    {
     "name": "stderr",
     "output_type": "stream",
     "text": [
      " 17%|█▋        | 515998/3000000 [8:09:32<11:25:27, 60.40it/s]  "
     ]
    },
    {
     "name": "stdout",
     "output_type": "stream",
     "text": [
      "ep_rew_main =  [0.0621952]\n"
     ]
    },
    {
     "name": "stderr",
     "output_type": "stream",
     "text": [
      " 17%|█▋        | 516000/3000000 [8:10:29<1955:13:57,  2.83s/it]"
     ]
    },
    {
     "name": "stdout",
     "output_type": "stream",
     "text": [
      "test_rew_main =  0.0760925694738852\n"
     ]
    },
    {
     "name": "stderr",
     "output_type": "stream",
     "text": [
      " 17%|█▋        | 518998/3000000 [8:12:49<10:35:53, 65.03it/s]  "
     ]
    },
    {
     "name": "stdout",
     "output_type": "stream",
     "text": [
      "ep_rew_main =  [0.01633278]\n"
     ]
    },
    {
     "name": "stderr",
     "output_type": "stream",
     "text": [
      " 17%|█▋        | 519000/3000000 [8:13:50<1948:13:53,  2.83s/it]"
     ]
    },
    {
     "name": "stdout",
     "output_type": "stream",
     "text": [
      "test_rew_main =  0.26783542323815535\n"
     ]
    },
    {
     "name": "stderr",
     "output_type": "stream",
     "text": [
      " 17%|█▋        | 521993/3000000 [8:16:18<11:32:27, 59.64it/s]  "
     ]
    },
    {
     "name": "stdout",
     "output_type": "stream",
     "text": [
      "ep_rew_main =  [2.0856264e-07]\n"
     ]
    },
    {
     "name": "stderr",
     "output_type": "stream",
     "text": [
      " 17%|█▋        | 522000/3000000 [8:17:12<1599:10:24,  2.32s/it]"
     ]
    },
    {
     "name": "stdout",
     "output_type": "stream",
     "text": [
      "test_rew_main =  0.13318309462682248\n"
     ]
    },
    {
     "name": "stderr",
     "output_type": "stream",
     "text": [
      " 17%|█▋        | 524994/3000000 [8:19:34<11:12:53, 61.30it/s]  "
     ]
    },
    {
     "name": "stdout",
     "output_type": "stream",
     "text": [
      "ep_rew_main =  [0.02706273]\n"
     ]
    },
    {
     "name": "stderr",
     "output_type": "stream",
     "text": [
      " 18%|█▊        | 525000/3000000 [8:20:34<1654:40:37,  2.41s/it]"
     ]
    },
    {
     "name": "stdout",
     "output_type": "stream",
     "text": [
      "test_rew_main =  0.12285965749910999\n"
     ]
    },
    {
     "name": "stderr",
     "output_type": "stream",
     "text": [
      " 18%|█▊        | 527999/3000000 [8:23:00<11:50:25, 57.99it/s]  "
     ]
    },
    {
     "name": "stdout",
     "output_type": "stream",
     "text": [
      "ep_rew_main =  [0.00485171]\n"
     ]
    },
    {
     "name": "stderr",
     "output_type": "stream",
     "text": [
      " 18%|█▊        | 528000/3000000 [8:24:01<2459:16:00,  3.58s/it]"
     ]
    },
    {
     "name": "stdout",
     "output_type": "stream",
     "text": [
      "test_rew_main =  0.020394781883453828\n"
     ]
    },
    {
     "name": "stderr",
     "output_type": "stream",
     "text": [
      " 18%|█▊        | 530997/3000000 [8:26:27<10:50:14, 63.28it/s]  "
     ]
    },
    {
     "name": "stdout",
     "output_type": "stream",
     "text": [
      "ep_rew_main =  [0.00215231]\n"
     ]
    },
    {
     "name": "stderr",
     "output_type": "stream",
     "text": [
      " 18%|█▊        | 531000/3000000 [8:27:28<1932:25:26,  2.82s/it]"
     ]
    },
    {
     "name": "stdout",
     "output_type": "stream",
     "text": [
      "test_rew_main =  0.06420993533341972\n"
     ]
    },
    {
     "name": "stderr",
     "output_type": "stream",
     "text": [
      " 18%|█▊        | 533995/3000000 [8:30:01<12:28:03, 54.94it/s]  "
     ]
    },
    {
     "name": "stdout",
     "output_type": "stream",
     "text": [
      "ep_rew_main =  [3.19611e-08]\n"
     ]
    },
    {
     "name": "stderr",
     "output_type": "stream",
     "text": [
      " 18%|█▊        | 534000/3000000 [8:30:58<2090:00:56,  3.05s/it]"
     ]
    },
    {
     "name": "stdout",
     "output_type": "stream",
     "text": [
      "test_rew_main =  0.004639562911025954\n"
     ]
    },
    {
     "name": "stderr",
     "output_type": "stream",
     "text": [
      " 18%|█▊        | 536994/3000000 [8:33:29<12:11:51, 56.09it/s]  "
     ]
    },
    {
     "name": "stdout",
     "output_type": "stream",
     "text": [
      "ep_rew_main =  [6.030894e-06]\n"
     ]
    },
    {
     "name": "stderr",
     "output_type": "stream",
     "text": [
      " 18%|█▊        | 537000/3000000 [8:34:29<1991:47:26,  2.91s/it]"
     ]
    },
    {
     "name": "stdout",
     "output_type": "stream",
     "text": [
      "test_rew_main =  0.00353902998523309\n"
     ]
    },
    {
     "name": "stderr",
     "output_type": "stream",
     "text": [
      " 18%|█▊        | 539998/3000000 [8:36:59<11:01:54, 61.94it/s]  "
     ]
    },
    {
     "name": "stdout",
     "output_type": "stream",
     "text": [
      "ep_rew_main =  [0.2168202]\n"
     ]
    },
    {
     "name": "stderr",
     "output_type": "stream",
     "text": [
      " 18%|█▊        | 539998/3000000 [8:37:16<11:01:54, 61.94it/s]"
     ]
    },
    {
     "name": "stdout",
     "output_type": "stream",
     "text": [
      "test_rew_main =  0.050705902819078975\n",
      "current_time =  2022-02-03T06:43:28.805212\n"
     ]
    },
    {
     "name": "stderr",
     "output_type": "stream",
     "text": [
      " 18%|█▊        | 540000/3000000 [8:39:22<4760:58:58,  6.97s/it]"
     ]
    },
    {
     "name": "stdout",
     "output_type": "stream",
     "text": [
      "current_time =  2022-02-03T06:44:50.018760\n"
     ]
    },
    {
     "name": "stderr",
     "output_type": "stream",
     "text": [
      " 18%|█▊        | 542993/3000000 [8:41:47<11:22:15, 60.02it/s]  "
     ]
    },
    {
     "name": "stdout",
     "output_type": "stream",
     "text": [
      "ep_rew_main =  [0.4223481]\n"
     ]
    },
    {
     "name": "stderr",
     "output_type": "stream",
     "text": [
      " 18%|█▊        | 543000/3000000 [8:42:46<1597:41:11,  2.34s/it]"
     ]
    },
    {
     "name": "stdout",
     "output_type": "stream",
     "text": [
      "test_rew_main =  0.09327779112767312\n"
     ]
    },
    {
     "name": "stderr",
     "output_type": "stream",
     "text": [
      " 18%|█▊        | 545998/3000000 [8:45:15<11:00:32, 61.92it/s]  "
     ]
    },
    {
     "name": "stdout",
     "output_type": "stream",
     "text": [
      "ep_rew_main =  [0.00325153]\n"
     ]
    },
    {
     "name": "stderr",
     "output_type": "stream",
     "text": [
      " 18%|█▊        | 546000/3000000 [8:46:23<2265:25:38,  3.32s/it]"
     ]
    },
    {
     "name": "stdout",
     "output_type": "stream",
     "text": [
      "test_rew_main =  3.1918527870841326e-05\n"
     ]
    },
    {
     "name": "stderr",
     "output_type": "stream",
     "text": [
      " 18%|█▊        | 548992/3000000 [8:48:53<10:55:46, 62.29it/s]  "
     ]
    },
    {
     "name": "stdout",
     "output_type": "stream",
     "text": [
      "ep_rew_main =  [1.0592024e-06]\n"
     ]
    },
    {
     "name": "stderr",
     "output_type": "stream",
     "text": [
      " 18%|█▊        | 549000/3000000 [8:49:59<1668:58:51,  2.45s/it]"
     ]
    },
    {
     "name": "stdout",
     "output_type": "stream",
     "text": [
      "test_rew_main =  0.06416118708218238\n"
     ]
    },
    {
     "name": "stderr",
     "output_type": "stream",
     "text": [
      " 18%|█▊        | 551997/3000000 [8:52:31<10:43:53, 63.37it/s]  "
     ]
    },
    {
     "name": "stdout",
     "output_type": "stream",
     "text": [
      "ep_rew_main =  [0.01185853]\n"
     ]
    },
    {
     "name": "stderr",
     "output_type": "stream",
     "text": [
      " 18%|█▊        | 552000/3000000 [8:53:39<2091:42:23,  3.08s/it]"
     ]
    },
    {
     "name": "stdout",
     "output_type": "stream",
     "text": [
      "test_rew_main =  0.00014024540259210727\n"
     ]
    },
    {
     "name": "stderr",
     "output_type": "stream",
     "text": [
      " 18%|█▊        | 554999/3000000 [8:56:11<10:53:27, 62.36it/s]  "
     ]
    },
    {
     "name": "stdout",
     "output_type": "stream",
     "text": [
      "ep_rew_main =  [0.01344162]\n"
     ]
    },
    {
     "name": "stderr",
     "output_type": "stream",
     "text": [
      " 18%|█▊        | 555000/3000000 [8:57:12<2035:05:15,  3.00s/it]"
     ]
    },
    {
     "name": "stdout",
     "output_type": "stream",
     "text": [
      "test_rew_main =  0.014206909126200781\n"
     ]
    },
    {
     "name": "stderr",
     "output_type": "stream",
     "text": [
      " 19%|█▊        | 557996/3000000 [8:59:47<13:01:03, 52.11it/s]  "
     ]
    },
    {
     "name": "stdout",
     "output_type": "stream",
     "text": [
      "ep_rew_main =  [0.00677679]\n"
     ]
    },
    {
     "name": "stderr",
     "output_type": "stream",
     "text": [
      " 19%|█▊        | 558000/3000000 [9:00:54<2543:48:09,  3.75s/it]"
     ]
    },
    {
     "name": "stdout",
     "output_type": "stream",
     "text": [
      "test_rew_main =  0.010716592336453109\n"
     ]
    },
    {
     "name": "stderr",
     "output_type": "stream",
     "text": [
      " 19%|█▊        | 560995/3000000 [9:03:27<11:51:30, 57.13it/s]  "
     ]
    },
    {
     "name": "stdout",
     "output_type": "stream",
     "text": [
      "ep_rew_main =  [8.5049915e-06]\n"
     ]
    },
    {
     "name": "stderr",
     "output_type": "stream",
     "text": [
      " 19%|█▊        | 561000/3000000 [9:04:30<2021:22:16,  2.98s/it]"
     ]
    },
    {
     "name": "stdout",
     "output_type": "stream",
     "text": [
      "test_rew_main =  0.016774099024127215\n"
     ]
    },
    {
     "name": "stderr",
     "output_type": "stream",
     "text": [
      " 19%|█▉        | 563997/3000000 [9:07:05<12:18:11, 55.00it/s]  "
     ]
    },
    {
     "name": "stdout",
     "output_type": "stream",
     "text": [
      "ep_rew_main =  [0.00580641]\n"
     ]
    },
    {
     "name": "stderr",
     "output_type": "stream",
     "text": [
      " 19%|█▉        | 564000/3000000 [9:08:09<2252:15:11,  3.33s/it]"
     ]
    },
    {
     "name": "stdout",
     "output_type": "stream",
     "text": [
      "test_rew_main =  0.00037517029265389496\n"
     ]
    },
    {
     "name": "stderr",
     "output_type": "stream",
     "text": [
      " 19%|█▉        | 566995/3000000 [9:10:42<12:02:55, 56.09it/s]  "
     ]
    },
    {
     "name": "stdout",
     "output_type": "stream",
     "text": [
      "ep_rew_main =  [0.00012978]\n"
     ]
    },
    {
     "name": "stderr",
     "output_type": "stream",
     "text": [
      " 19%|█▉        | 567000/3000000 [9:11:45<2210:01:13,  3.27s/it]"
     ]
    },
    {
     "name": "stdout",
     "output_type": "stream",
     "text": [
      "test_rew_main =  0.050047168972328734\n"
     ]
    },
    {
     "name": "stderr",
     "output_type": "stream",
     "text": [
      " 19%|█▉        | 569999/3000000 [9:14:17<11:13:18, 60.15it/s]  "
     ]
    },
    {
     "name": "stdout",
     "output_type": "stream",
     "text": [
      "ep_rew_main =  [0.1704392]\n"
     ]
    },
    {
     "name": "stderr",
     "output_type": "stream",
     "text": [
      " 19%|█▉        | 569999/3000000 [9:14:29<11:13:18, 60.15it/s]"
     ]
    },
    {
     "name": "stdout",
     "output_type": "stream",
     "text": [
      "test_rew_main =  0.0003715650204035853\n",
      "current_time =  2022-02-03T07:20:42.730554\n"
     ]
    },
    {
     "name": "stderr",
     "output_type": "stream",
     "text": [
      " 19%|█▉        | 570000/3000000 [9:16:38<4884:37:46,  7.24s/it]"
     ]
    },
    {
     "name": "stdout",
     "output_type": "stream",
     "text": [
      "current_time =  2022-02-03T07:22:06.023304\n"
     ]
    },
    {
     "name": "stderr",
     "output_type": "stream",
     "text": [
      " 19%|█▉        | 572994/3000000 [9:19:14<11:58:09, 56.33it/s]  "
     ]
    },
    {
     "name": "stdout",
     "output_type": "stream",
     "text": [
      "ep_rew_main =  [3.59778e-05]\n"
     ]
    },
    {
     "name": "stderr",
     "output_type": "stream",
     "text": [
      " 19%|█▉        | 573000/3000000 [9:20:13<1842:41:56,  2.73s/it]"
     ]
    },
    {
     "name": "stdout",
     "output_type": "stream",
     "text": [
      "test_rew_main =  0.0007331769598277627\n"
     ]
    },
    {
     "name": "stderr",
     "output_type": "stream",
     "text": [
      " 19%|█▉        | 575993/3000000 [9:22:44<10:59:34, 61.25it/s]  "
     ]
    },
    {
     "name": "stdout",
     "output_type": "stream",
     "text": [
      "ep_rew_main =  [2.9592213e-06]\n"
     ]
    },
    {
     "name": "stderr",
     "output_type": "stream",
     "text": [
      " 19%|█▉        | 576000/3000000 [9:23:40<1463:40:37,  2.17s/it]"
     ]
    },
    {
     "name": "stdout",
     "output_type": "stream",
     "text": [
      "test_rew_main =  0.00701650771144194\n"
     ]
    },
    {
     "name": "stderr",
     "output_type": "stream",
     "text": [
      " 19%|█▉        | 578996/3000000 [9:26:16<10:54:41, 61.63it/s]  "
     ]
    },
    {
     "name": "stdout",
     "output_type": "stream",
     "text": [
      "ep_rew_main =  [3.758916e-08]\n"
     ]
    },
    {
     "name": "stderr",
     "output_type": "stream",
     "text": [
      " 19%|█▉        | 579000/3000000 [9:27:15<1759:17:20,  2.62s/it]"
     ]
    },
    {
     "name": "stdout",
     "output_type": "stream",
     "text": [
      "test_rew_main =  0.00015153519156062227\n"
     ]
    },
    {
     "name": "stderr",
     "output_type": "stream",
     "text": [
      " 19%|█▉        | 581999/3000000 [9:29:48<11:51:34, 56.63it/s]  "
     ]
    },
    {
     "name": "stdout",
     "output_type": "stream",
     "text": [
      "ep_rew_main =  [0.00010698]\n"
     ]
    },
    {
     "name": "stderr",
     "output_type": "stream",
     "text": [
      " 19%|█▉        | 582000/3000000 [9:30:43<2161:40:20,  3.22s/it]"
     ]
    },
    {
     "name": "stdout",
     "output_type": "stream",
     "text": [
      "test_rew_main =  0.00017696195760146427\n"
     ]
    },
    {
     "name": "stderr",
     "output_type": "stream",
     "text": [
      " 19%|█▉        | 584997/3000000 [9:33:17<10:52:24, 61.69it/s]  "
     ]
    },
    {
     "name": "stdout",
     "output_type": "stream",
     "text": [
      "ep_rew_main =  [0.00088159]\n"
     ]
    },
    {
     "name": "stderr",
     "output_type": "stream",
     "text": [
      " 20%|█▉        | 585000/3000000 [9:34:13<1430:03:43,  2.13s/it]"
     ]
    },
    {
     "name": "stdout",
     "output_type": "stream",
     "text": [
      "test_rew_main =  1.3450158542714918e-06\n"
     ]
    },
    {
     "name": "stderr",
     "output_type": "stream",
     "text": [
      " 20%|█▉        | 587995/3000000 [9:36:47<11:12:03, 59.82it/s]  "
     ]
    },
    {
     "name": "stdout",
     "output_type": "stream",
     "text": [
      "ep_rew_main =  [8.2525673e-07]\n"
     ]
    },
    {
     "name": "stderr",
     "output_type": "stream",
     "text": [
      " 20%|█▉        | 588000/3000000 [9:37:41<1721:20:46,  2.57s/it]"
     ]
    },
    {
     "name": "stdout",
     "output_type": "stream",
     "text": [
      "test_rew_main =  6.667947724500311e-05\n"
     ]
    },
    {
     "name": "stderr",
     "output_type": "stream",
     "text": [
      " 20%|█▉        | 590994/3000000 [9:40:18<12:54:59, 51.81it/s]  "
     ]
    },
    {
     "name": "stdout",
     "output_type": "stream",
     "text": [
      "ep_rew_main =  [1.2838246e-06]\n"
     ]
    },
    {
     "name": "stderr",
     "output_type": "stream",
     "text": [
      " 20%|█▉        | 591000/3000000 [9:41:13<1853:45:59,  2.77s/it]"
     ]
    },
    {
     "name": "stdout",
     "output_type": "stream",
     "text": [
      "test_rew_main =  0.0003934544677513126\n"
     ]
    },
    {
     "name": "stderr",
     "output_type": "stream",
     "text": [
      " 20%|█▉        | 593999/3000000 [9:43:45<10:21:03, 64.57it/s]  "
     ]
    },
    {
     "name": "stdout",
     "output_type": "stream",
     "text": [
      "ep_rew_main =  [0.01902102]\n"
     ]
    },
    {
     "name": "stderr",
     "output_type": "stream",
     "text": [
      " 20%|█▉        | 594000/3000000 [9:44:36<1598:35:03,  2.39s/it]"
     ]
    },
    {
     "name": "stdout",
     "output_type": "stream",
     "text": [
      "test_rew_main =  0.0008103062473601534\n"
     ]
    },
    {
     "name": "stderr",
     "output_type": "stream",
     "text": [
      " 20%|█▉        | 596998/3000000 [9:47:10<10:55:48, 61.07it/s]  "
     ]
    },
    {
     "name": "stdout",
     "output_type": "stream",
     "text": [
      "ep_rew_main =  [1.1061837e-08]\n"
     ]
    },
    {
     "name": "stderr",
     "output_type": "stream",
     "text": [
      " 20%|█▉        | 597000/3000000 [9:48:02<1528:58:16,  2.29s/it]"
     ]
    },
    {
     "name": "stdout",
     "output_type": "stream",
     "text": [
      "test_rew_main =  0.0005704941260665529\n"
     ]
    },
    {
     "name": "stderr",
     "output_type": "stream",
     "text": [
      " 20%|█▉        | 599998/3000000 [9:50:33<9:57:26, 66.95it/s]   "
     ]
    },
    {
     "name": "stdout",
     "output_type": "stream",
     "text": [
      "ep_rew_main =  [2.3760798e-07]\n"
     ]
    },
    {
     "name": "stderr",
     "output_type": "stream",
     "text": [
      " 20%|█▉        | 599998/3000000 [9:50:51<9:57:26, 66.95it/s]"
     ]
    },
    {
     "name": "stdout",
     "output_type": "stream",
     "text": [
      "test_rew_main =  0.00023597904233700091\n",
      "current_time =  2022-02-03T07:56:57.001022\n"
     ]
    },
    {
     "name": "stderr",
     "output_type": "stream",
     "text": [
      " 20%|██        | 600000/3000000 [9:52:52<4077:48:10,  6.12s/it]"
     ]
    },
    {
     "name": "stdout",
     "output_type": "stream",
     "text": [
      "current_time =  2022-02-03T07:58:19.933256\n"
     ]
    },
    {
     "name": "stderr",
     "output_type": "stream",
     "text": [
      " 20%|██        | 602995/3000000 [9:55:25<12:51:51, 51.76it/s]  "
     ]
    },
    {
     "name": "stdout",
     "output_type": "stream",
     "text": [
      "ep_rew_main =  [0.00017598]\n"
     ]
    },
    {
     "name": "stderr",
     "output_type": "stream",
     "text": [
      " 20%|██        | 603000/3000000 [9:56:24<2067:45:54,  3.11s/it]"
     ]
    },
    {
     "name": "stdout",
     "output_type": "stream",
     "text": [
      "test_rew_main =  2.3624725664863688e-05\n"
     ]
    },
    {
     "name": "stderr",
     "output_type": "stream",
     "text": [
      " 20%|██        | 605993/3000000 [9:59:01<12:08:01, 54.81it/s]  "
     ]
    },
    {
     "name": "stdout",
     "output_type": "stream",
     "text": [
      "ep_rew_main =  [0.03858107]\n"
     ]
    },
    {
     "name": "stderr",
     "output_type": "stream",
     "text": [
      " 20%|██        | 606000/3000000 [9:59:55<1518:26:07,  2.28s/it]"
     ]
    },
    {
     "name": "stdout",
     "output_type": "stream",
     "text": [
      "test_rew_main =  0.0013503657280404535\n"
     ]
    },
    {
     "name": "stderr",
     "output_type": "stream",
     "text": [
      " 20%|██        | 608998/3000000 [10:02:36<10:25:19, 63.73it/s] "
     ]
    },
    {
     "name": "stdout",
     "output_type": "stream",
     "text": [
      "ep_rew_main =  [2.2687796e-06]\n"
     ]
    },
    {
     "name": "stderr",
     "output_type": "stream",
     "text": [
      " 20%|██        | 609000/3000000 [10:03:33<1845:02:42,  2.78s/it]"
     ]
    },
    {
     "name": "stdout",
     "output_type": "stream",
     "text": [
      "test_rew_main =  0.0012457294331730006\n"
     ]
    },
    {
     "name": "stderr",
     "output_type": "stream",
     "text": [
      " 20%|██        | 611992/3000000 [10:06:13<10:46:54, 61.52it/s]  "
     ]
    },
    {
     "name": "stdout",
     "output_type": "stream",
     "text": [
      "ep_rew_main =  [0.03645477]\n"
     ]
    },
    {
     "name": "stderr",
     "output_type": "stream",
     "text": [
      " 20%|██        | 612000/3000000 [10:07:13<1480:50:19,  2.23s/it]"
     ]
    },
    {
     "name": "stdout",
     "output_type": "stream",
     "text": [
      "test_rew_main =  0.0003345365499219653\n"
     ]
    },
    {
     "name": "stderr",
     "output_type": "stream",
     "text": [
      " 20%|██        | 614999/3000000 [10:09:57<11:03:07, 59.94it/s]  "
     ]
    },
    {
     "name": "stdout",
     "output_type": "stream",
     "text": [
      "ep_rew_main =  [0.5002282]\n"
     ]
    },
    {
     "name": "stderr",
     "output_type": "stream",
     "text": [
      " 20%|██        | 615000/3000000 [10:10:54<2092:44:20,  3.16s/it]"
     ]
    },
    {
     "name": "stdout",
     "output_type": "stream",
     "text": [
      "test_rew_main =  0.004800059829668404\n"
     ]
    },
    {
     "name": "stderr",
     "output_type": "stream",
     "text": [
      " 21%|██        | 617995/3000000 [10:13:36<11:13:46, 58.92it/s]  "
     ]
    },
    {
     "name": "stdout",
     "output_type": "stream",
     "text": [
      "ep_rew_main =  [7.195538e-07]\n"
     ]
    },
    {
     "name": "stderr",
     "output_type": "stream",
     "text": [
      " 21%|██        | 618000/3000000 [10:14:35<1828:28:24,  2.76s/it]"
     ]
    },
    {
     "name": "stdout",
     "output_type": "stream",
     "text": [
      "test_rew_main =  7.997484492276683e-05\n"
     ]
    },
    {
     "name": "stderr",
     "output_type": "stream",
     "text": [
      " 21%|██        | 620998/3000000 [10:17:13<11:11:27, 59.05it/s]  "
     ]
    },
    {
     "name": "stdout",
     "output_type": "stream",
     "text": [
      "ep_rew_main =  [0.00446356]\n"
     ]
    },
    {
     "name": "stderr",
     "output_type": "stream",
     "text": [
      " 21%|██        | 621000/3000000 [10:18:11<2067:19:18,  3.13s/it]"
     ]
    },
    {
     "name": "stdout",
     "output_type": "stream",
     "text": [
      "test_rew_main =  0.0260345563684385\n"
     ]
    },
    {
     "name": "stderr",
     "output_type": "stream",
     "text": [
      " 21%|██        | 623994/3000000 [10:20:52<11:15:20, 58.64it/s]  "
     ]
    },
    {
     "name": "stdout",
     "output_type": "stream",
     "text": [
      "ep_rew_main =  [0.00299662]\n"
     ]
    },
    {
     "name": "stderr",
     "output_type": "stream",
     "text": [
      " 21%|██        | 624000/3000000 [10:21:53<1812:30:40,  2.75s/it]"
     ]
    },
    {
     "name": "stdout",
     "output_type": "stream",
     "text": [
      "test_rew_main =  0.003308425299199367\n"
     ]
    },
    {
     "name": "stderr",
     "output_type": "stream",
     "text": [
      " 21%|██        | 626996/3000000 [10:24:39<11:33:30, 57.03it/s]  "
     ]
    },
    {
     "name": "stdout",
     "output_type": "stream",
     "text": [
      "ep_rew_main =  [0.00069963]\n"
     ]
    },
    {
     "name": "stderr",
     "output_type": "stream",
     "text": [
      " 21%|██        | 627000/3000000 [10:25:43<2091:16:03,  3.17s/it]"
     ]
    },
    {
     "name": "stdout",
     "output_type": "stream",
     "text": [
      "test_rew_main =  0.00014519162433923773\n"
     ]
    },
    {
     "name": "stderr",
     "output_type": "stream",
     "text": [
      " 21%|██        | 629997/3000000 [10:28:29<12:01:16, 54.76it/s]  "
     ]
    },
    {
     "name": "stdout",
     "output_type": "stream",
     "text": [
      "ep_rew_main =  [1.5481464e-09]\n"
     ]
    },
    {
     "name": "stderr",
     "output_type": "stream",
     "text": [
      " 21%|██        | 629997/3000000 [10:28:45<12:01:16, 54.76it/s]"
     ]
    },
    {
     "name": "stdout",
     "output_type": "stream",
     "text": [
      "test_rew_main =  0.0031618976345198597\n",
      "current_time =  2022-02-03T08:34:58.514966\n"
     ]
    },
    {
     "name": "stderr",
     "output_type": "stream",
     "text": [
      " 21%|██        | 630000/3000000 [10:30:51<4841:04:32,  7.35s/it]"
     ]
    },
    {
     "name": "stdout",
     "output_type": "stream",
     "text": [
      "current_time =  2022-02-03T08:36:18.396027\n"
     ]
    },
    {
     "name": "stderr",
     "output_type": "stream",
     "text": [
      " 21%|██        | 632995/3000000 [10:33:36<9:38:13, 68.23it/s]   "
     ]
    },
    {
     "name": "stdout",
     "output_type": "stream",
     "text": [
      "ep_rew_main =  [1.02672175e-05]\n"
     ]
    },
    {
     "name": "stderr",
     "output_type": "stream",
     "text": [
      " 21%|██        | 633000/3000000 [10:34:36<1593:22:21,  2.42s/it]"
     ]
    },
    {
     "name": "stdout",
     "output_type": "stream",
     "text": [
      "test_rew_main =  0.03430558502722235\n"
     ]
    },
    {
     "name": "stderr",
     "output_type": "stream",
     "text": [
      " 21%|██        | 635999/3000000 [10:37:19<11:12:11, 58.61it/s]  "
     ]
    },
    {
     "name": "stdout",
     "output_type": "stream",
     "text": [
      "ep_rew_main =  [4.778217e-09]\n"
     ]
    },
    {
     "name": "stderr",
     "output_type": "stream",
     "text": [
      " 21%|██        | 636000/3000000 [10:38:15<2136:21:39,  3.25s/it]"
     ]
    },
    {
     "name": "stdout",
     "output_type": "stream",
     "text": [
      "test_rew_main =  0.0017406376070601462\n"
     ]
    },
    {
     "name": "stderr",
     "output_type": "stream",
     "text": [
      " 21%|██▏       | 638998/3000000 [10:41:02<10:13:42, 64.12it/s]  "
     ]
    },
    {
     "name": "stdout",
     "output_type": "stream",
     "text": [
      "ep_rew_main =  [0.01522066]\n"
     ]
    },
    {
     "name": "stderr",
     "output_type": "stream",
     "text": [
      " 21%|██▏       | 639000/3000000 [10:42:04<1964:37:51,  3.00s/it]"
     ]
    },
    {
     "name": "stdout",
     "output_type": "stream",
     "text": [
      "test_rew_main =  0.08610055483830312\n"
     ]
    },
    {
     "name": "stderr",
     "output_type": "stream",
     "text": [
      " 21%|██▏       | 641992/3000000 [10:44:49<10:20:54, 63.29it/s]  "
     ]
    },
    {
     "name": "stdout",
     "output_type": "stream",
     "text": [
      "ep_rew_main =  [0.00271253]\n"
     ]
    },
    {
     "name": "stderr",
     "output_type": "stream",
     "text": [
      " 21%|██▏       | 642000/3000000 [10:45:48<1466:39:32,  2.24s/it]"
     ]
    },
    {
     "name": "stdout",
     "output_type": "stream",
     "text": [
      "test_rew_main =  0.02521592011704758\n"
     ]
    },
    {
     "name": "stderr",
     "output_type": "stream",
     "text": [
      " 21%|██▏       | 644995/3000000 [10:48:33<11:57:21, 54.71it/s]  "
     ]
    },
    {
     "name": "stdout",
     "output_type": "stream",
     "text": [
      "ep_rew_main =  [0.0033004]\n"
     ]
    },
    {
     "name": "stderr",
     "output_type": "stream",
     "text": [
      " 22%|██▏       | 645000/3000000 [10:49:39<1929:56:52,  2.95s/it]"
     ]
    },
    {
     "name": "stdout",
     "output_type": "stream",
     "text": [
      "test_rew_main =  0.01128096649099753\n"
     ]
    },
    {
     "name": "stderr",
     "output_type": "stream",
     "text": [
      " 22%|██▏       | 647993/3000000 [10:52:25<10:35:38, 61.67it/s]  "
     ]
    },
    {
     "name": "stdout",
     "output_type": "stream",
     "text": [
      "ep_rew_main =  [0.2264398]\n"
     ]
    },
    {
     "name": "stderr",
     "output_type": "stream",
     "text": [
      " 22%|██▏       | 648000/3000000 [10:53:31<1715:08:18,  2.63s/it]"
     ]
    },
    {
     "name": "stdout",
     "output_type": "stream",
     "text": [
      "test_rew_main =  0.03271455175431342\n"
     ]
    },
    {
     "name": "stderr",
     "output_type": "stream",
     "text": [
      " 22%|██▏       | 650992/3000000 [10:56:18<10:30:53, 62.06it/s]  "
     ]
    },
    {
     "name": "stdout",
     "output_type": "stream",
     "text": [
      "ep_rew_main =  [0.00101111]\n"
     ]
    },
    {
     "name": "stderr",
     "output_type": "stream",
     "text": [
      " 22%|██▏       | 651000/3000000 [10:57:21<1322:03:49,  2.03s/it]"
     ]
    },
    {
     "name": "stdout",
     "output_type": "stream",
     "text": [
      "test_rew_main =  0.13479143919536554\n"
     ]
    },
    {
     "name": "stderr",
     "output_type": "stream",
     "text": [
      " 22%|██▏       | 653994/3000000 [11:00:07<11:29:37, 56.70it/s]  "
     ]
    },
    {
     "name": "stdout",
     "output_type": "stream",
     "text": [
      "ep_rew_main =  [2.1762378e-06]\n"
     ]
    },
    {
     "name": "stderr",
     "output_type": "stream",
     "text": [
      " 22%|██▏       | 654000/3000000 [11:01:03<1643:22:49,  2.52s/it]"
     ]
    },
    {
     "name": "stdout",
     "output_type": "stream",
     "text": [
      "test_rew_main =  0.14239120888009277\n"
     ]
    },
    {
     "name": "stderr",
     "output_type": "stream",
     "text": [
      " 22%|██▏       | 656996/3000000 [11:03:50<10:24:38, 62.52it/s]  "
     ]
    },
    {
     "name": "stdout",
     "output_type": "stream",
     "text": [
      "ep_rew_main =  [0.09792624]\n"
     ]
    },
    {
     "name": "stderr",
     "output_type": "stream",
     "text": [
      " 22%|██▏       | 657000/3000000 [11:04:53<1970:48:40,  3.03s/it]"
     ]
    },
    {
     "name": "stdout",
     "output_type": "stream",
     "text": [
      "test_rew_main =  0.21230717791549975\n"
     ]
    },
    {
     "name": "stderr",
     "output_type": "stream",
     "text": [
      " 22%|██▏       | 659993/3000000 [11:07:41<10:48:04, 60.18it/s]  "
     ]
    },
    {
     "name": "stdout",
     "output_type": "stream",
     "text": [
      "ep_rew_main =  [0.12065873]\n"
     ]
    },
    {
     "name": "stderr",
     "output_type": "stream",
     "text": [
      " 22%|██▏       | 659993/3000000 [11:07:57<10:48:04, 60.18it/s]"
     ]
    },
    {
     "name": "stdout",
     "output_type": "stream",
     "text": [
      "test_rew_main =  0.0031737363195170907\n",
      "current_time =  2022-02-03T09:14:01.667446\n"
     ]
    },
    {
     "name": "stderr",
     "output_type": "stream",
     "text": [
      " 22%|██▏       | 660000/3000000 [11:09:56<3773:40:59,  5.81s/it]"
     ]
    },
    {
     "name": "stdout",
     "output_type": "stream",
     "text": [
      "current_time =  2022-02-03T09:15:23.984406\n"
     ]
    },
    {
     "name": "stderr",
     "output_type": "stream",
     "text": [
      " 22%|██▏       | 662995/3000000 [11:12:41<10:11:22, 63.71it/s]  "
     ]
    },
    {
     "name": "stdout",
     "output_type": "stream",
     "text": [
      "ep_rew_main =  [0.00774022]\n"
     ]
    },
    {
     "name": "stderr",
     "output_type": "stream",
     "text": [
      " 22%|██▏       | 663000/3000000 [11:13:41<1615:52:32,  2.49s/it]"
     ]
    },
    {
     "name": "stdout",
     "output_type": "stream",
     "text": [
      "test_rew_main =  0.013828164686956707\n"
     ]
    },
    {
     "name": "stderr",
     "output_type": "stream",
     "text": [
      " 22%|██▏       | 665993/3000000 [11:16:30<10:51:03, 59.75it/s]  "
     ]
    },
    {
     "name": "stdout",
     "output_type": "stream",
     "text": [
      "ep_rew_main =  [1.0934287e-08]\n"
     ]
    },
    {
     "name": "stderr",
     "output_type": "stream",
     "text": [
      " 22%|██▏       | 666000/3000000 [11:17:30<1611:28:16,  2.49s/it]"
     ]
    },
    {
     "name": "stdout",
     "output_type": "stream",
     "text": [
      "test_rew_main =  0.004348561414352804\n"
     ]
    },
    {
     "name": "stderr",
     "output_type": "stream",
     "text": [
      " 22%|██▏       | 668996/3000000 [11:20:21<12:32:58, 51.60it/s]  "
     ]
    },
    {
     "name": "stdout",
     "output_type": "stream",
     "text": [
      "ep_rew_main =  [0.00376254]\n"
     ]
    },
    {
     "name": "stderr",
     "output_type": "stream",
     "text": [
      " 22%|██▏       | 669000/3000000 [11:21:18<2057:47:34,  3.18s/it]"
     ]
    },
    {
     "name": "stdout",
     "output_type": "stream",
     "text": [
      "test_rew_main =  0.03230594139868982\n"
     ]
    },
    {
     "name": "stderr",
     "output_type": "stream",
     "text": [
      " 22%|██▏       | 671999/3000000 [11:24:07<12:07:44, 53.32it/s]  "
     ]
    },
    {
     "name": "stdout",
     "output_type": "stream",
     "text": [
      "ep_rew_main =  [0.01174405]\n"
     ]
    },
    {
     "name": "stderr",
     "output_type": "stream",
     "text": [
      " 22%|██▏       | 672000/3000000 [11:25:02<2363:37:18,  3.66s/it]"
     ]
    },
    {
     "name": "stdout",
     "output_type": "stream",
     "text": [
      "test_rew_main =  0.020437030724595198\n"
     ]
    },
    {
     "name": "stderr",
     "output_type": "stream",
     "text": [
      " 22%|██▏       | 674994/3000000 [11:27:57<10:29:22, 61.57it/s]  "
     ]
    },
    {
     "name": "stdout",
     "output_type": "stream",
     "text": [
      "ep_rew_main =  [0.00051052]\n"
     ]
    },
    {
     "name": "stderr",
     "output_type": "stream",
     "text": [
      " 22%|██▎       | 675000/3000000 [11:28:52<1323:49:01,  2.05s/it]"
     ]
    },
    {
     "name": "stdout",
     "output_type": "stream",
     "text": [
      "test_rew_main =  0.0035147478586485294\n"
     ]
    },
    {
     "name": "stderr",
     "output_type": "stream",
     "text": [
      " 23%|██▎       | 677995/3000000 [11:31:45<10:41:53, 60.29it/s]  "
     ]
    },
    {
     "name": "stdout",
     "output_type": "stream",
     "text": [
      "ep_rew_main =  [0.01061639]\n"
     ]
    },
    {
     "name": "stderr",
     "output_type": "stream",
     "text": [
      " 23%|██▎       | 678000/3000000 [11:32:39<1659:30:22,  2.57s/it]"
     ]
    },
    {
     "name": "stdout",
     "output_type": "stream",
     "text": [
      "test_rew_main =  0.0891243038150789\n"
     ]
    },
    {
     "name": "stderr",
     "output_type": "stream",
     "text": [
      " 23%|██▎       | 680993/3000000 [11:35:34<10:17:01, 62.64it/s]  "
     ]
    },
    {
     "name": "stdout",
     "output_type": "stream",
     "text": [
      "ep_rew_main =  [0.0138845]\n"
     ]
    },
    {
     "name": "stderr",
     "output_type": "stream",
     "text": [
      " 23%|██▎       | 681000/3000000 [11:36:32<1360:46:36,  2.11s/it]"
     ]
    },
    {
     "name": "stdout",
     "output_type": "stream",
     "text": [
      "test_rew_main =  0.05368117035620682\n"
     ]
    },
    {
     "name": "stderr",
     "output_type": "stream",
     "text": [
      " 23%|██▎       | 683993/3000000 [11:39:23<10:17:50, 62.48it/s]  "
     ]
    },
    {
     "name": "stdout",
     "output_type": "stream",
     "text": [
      "ep_rew_main =  [0.04815313]\n"
     ]
    },
    {
     "name": "stderr",
     "output_type": "stream",
     "text": [
      " 23%|██▎       | 684000/3000000 [11:40:17<1375:02:56,  2.14s/it]"
     ]
    },
    {
     "name": "stdout",
     "output_type": "stream",
     "text": [
      "test_rew_main =  0.16633035053819958\n"
     ]
    },
    {
     "name": "stderr",
     "output_type": "stream",
     "text": [
      " 23%|██▎       | 686996/3000000 [11:43:08<11:12:11, 57.35it/s]  "
     ]
    },
    {
     "name": "stdout",
     "output_type": "stream",
     "text": [
      "ep_rew_main =  [0.00021342]\n"
     ]
    },
    {
     "name": "stderr",
     "output_type": "stream",
     "text": [
      " 23%|██▎       | 687000/3000000 [11:44:01<1683:18:23,  2.62s/it]"
     ]
    },
    {
     "name": "stdout",
     "output_type": "stream",
     "text": [
      "test_rew_main =  0.08687903664382035\n"
     ]
    },
    {
     "name": "stderr",
     "output_type": "stream",
     "text": [
      " 23%|██▎       | 689995/3000000 [11:46:52<12:32:29, 51.16it/s]  "
     ]
    },
    {
     "name": "stdout",
     "output_type": "stream",
     "text": [
      "ep_rew_main =  [9.886838e-06]\n"
     ]
    },
    {
     "name": "stderr",
     "output_type": "stream",
     "text": [
      " 23%|██▎       | 689995/3000000 [11:47:09<12:32:29, 51.16it/s]"
     ]
    },
    {
     "name": "stdout",
     "output_type": "stream",
     "text": [
      "test_rew_main =  0.11464753190032059\n",
      "current_time =  2022-02-03T09:53:14.378998\n"
     ]
    },
    {
     "name": "stderr",
     "output_type": "stream",
     "text": [
      " 23%|██▎       | 690000/3000000 [11:49:12<4669:52:41,  7.28s/it]"
     ]
    },
    {
     "name": "stdout",
     "output_type": "stream",
     "text": [
      "current_time =  2022-02-03T09:54:40.140498\n"
     ]
    },
    {
     "name": "stderr",
     "output_type": "stream",
     "text": [
      " 23%|██▎       | 692999/3000000 [11:52:07<12:52:45, 49.76it/s]  "
     ]
    },
    {
     "name": "stdout",
     "output_type": "stream",
     "text": [
      "ep_rew_main =  [0.01494341]\n"
     ]
    },
    {
     "name": "stderr",
     "output_type": "stream",
     "text": [
      " 23%|██▎       | 693000/3000000 [11:53:05<2507:08:24,  3.91s/it]"
     ]
    },
    {
     "name": "stdout",
     "output_type": "stream",
     "text": [
      "test_rew_main =  0.020590432247902562\n"
     ]
    },
    {
     "name": "stderr",
     "output_type": "stream",
     "text": [
      " 23%|██▎       | 695991/3000000 [11:56:01<10:13:50, 62.56it/s]  "
     ]
    },
    {
     "name": "stdout",
     "output_type": "stream",
     "text": [
      "ep_rew_main =  [0.00016865]\n"
     ]
    },
    {
     "name": "stderr",
     "output_type": "stream",
     "text": [
      " 23%|██▎       | 696000/3000000 [11:56:59<1265:56:57,  1.98s/it]"
     ]
    },
    {
     "name": "stdout",
     "output_type": "stream",
     "text": [
      "test_rew_main =  0.0003568752734358344\n"
     ]
    },
    {
     "name": "stderr",
     "output_type": "stream",
     "text": [
      " 23%|██▎       | 698992/3000000 [11:59:54<11:03:39, 57.79it/s]  "
     ]
    },
    {
     "name": "stdout",
     "output_type": "stream",
     "text": [
      "ep_rew_main =  [0.01122397]\n"
     ]
    },
    {
     "name": "stderr",
     "output_type": "stream",
     "text": [
      " 23%|██▎       | 699000/3000000 [12:00:51<1395:20:01,  2.18s/it]"
     ]
    },
    {
     "name": "stdout",
     "output_type": "stream",
     "text": [
      "test_rew_main =  0.022459228934835918\n"
     ]
    },
    {
     "name": "stderr",
     "output_type": "stream",
     "text": [
      " 23%|██▎       | 701995/3000000 [12:03:49<11:58:49, 53.28it/s]  "
     ]
    },
    {
     "name": "stdout",
     "output_type": "stream",
     "text": [
      "ep_rew_main =  [0.01997353]\n"
     ]
    },
    {
     "name": "stderr",
     "output_type": "stream",
     "text": [
      " 23%|██▎       | 702000/3000000 [12:04:48<1985:21:00,  3.11s/it]"
     ]
    },
    {
     "name": "stdout",
     "output_type": "stream",
     "text": [
      "test_rew_main =  0.1506534238186657\n"
     ]
    },
    {
     "name": "stderr",
     "output_type": "stream",
     "text": [
      " 23%|██▎       | 704998/3000000 [12:07:43<10:39:48, 59.78it/s]  "
     ]
    },
    {
     "name": "stdout",
     "output_type": "stream",
     "text": [
      "ep_rew_main =  [0.01772146]\n"
     ]
    },
    {
     "name": "stderr",
     "output_type": "stream",
     "text": [
      " 24%|██▎       | 705000/3000000 [12:08:42<1852:18:21,  2.91s/it]"
     ]
    },
    {
     "name": "stdout",
     "output_type": "stream",
     "text": [
      "test_rew_main =  0.0022263164360756317\n"
     ]
    },
    {
     "name": "stderr",
     "output_type": "stream",
     "text": [
      " 24%|██▎       | 707997/3000000 [12:11:35<10:06:11, 63.02it/s]  "
     ]
    },
    {
     "name": "stdout",
     "output_type": "stream",
     "text": [
      "ep_rew_main =  [0.00366556]\n"
     ]
    },
    {
     "name": "stderr",
     "output_type": "stream",
     "text": [
      " 24%|██▎       | 708000/3000000 [12:12:34<1759:59:52,  2.76s/it]"
     ]
    },
    {
     "name": "stdout",
     "output_type": "stream",
     "text": [
      "test_rew_main =  0.004134392933542464\n"
     ]
    },
    {
     "name": "stderr",
     "output_type": "stream",
     "text": [
      " 24%|██▎       | 710997/3000000 [12:15:26<10:17:33, 61.78it/s]  "
     ]
    },
    {
     "name": "stdout",
     "output_type": "stream",
     "text": [
      "ep_rew_main =  [7.7638376e-08]\n"
     ]
    },
    {
     "name": "stderr",
     "output_type": "stream",
     "text": [
      " 24%|██▎       | 711000/3000000 [12:16:23<1589:26:31,  2.50s/it]"
     ]
    },
    {
     "name": "stdout",
     "output_type": "stream",
     "text": [
      "test_rew_main =  0.0263752642071229\n"
     ]
    },
    {
     "name": "stderr",
     "output_type": "stream",
     "text": [
      " 24%|██▍       | 713999/3000000 [12:19:23<12:16:25, 51.74it/s]  "
     ]
    },
    {
     "name": "stdout",
     "output_type": "stream",
     "text": [
      "ep_rew_main =  [3.0594474e-05]\n"
     ]
    },
    {
     "name": "stderr",
     "output_type": "stream",
     "text": [
      " 24%|██▍       | 714000/3000000 [12:20:29<2829:28:11,  4.46s/it]"
     ]
    },
    {
     "name": "stdout",
     "output_type": "stream",
     "text": [
      "test_rew_main =  0.03798529145002311\n"
     ]
    },
    {
     "name": "stderr",
     "output_type": "stream",
     "text": [
      " 24%|██▍       | 716994/3000000 [12:23:42<11:58:00, 52.99it/s]  "
     ]
    },
    {
     "name": "stdout",
     "output_type": "stream",
     "text": [
      "ep_rew_main =  [0.00414786]\n"
     ]
    },
    {
     "name": "stderr",
     "output_type": "stream",
     "text": [
      " 24%|██▍       | 717000/3000000 [12:24:42<1851:45:44,  2.92s/it]"
     ]
    },
    {
     "name": "stdout",
     "output_type": "stream",
     "text": [
      "test_rew_main =  0.07464083190929514\n"
     ]
    },
    {
     "name": "stderr",
     "output_type": "stream",
     "text": [
      " 24%|██▍       | 719995/3000000 [12:27:43<10:52:47, 58.21it/s]  "
     ]
    },
    {
     "name": "stdout",
     "output_type": "stream",
     "text": [
      "ep_rew_main =  [0.06806983]\n"
     ]
    },
    {
     "name": "stderr",
     "output_type": "stream",
     "text": [
      " 24%|██▍       | 719995/3000000 [12:28:02<10:52:47, 58.21it/s]"
     ]
    },
    {
     "name": "stdout",
     "output_type": "stream",
     "text": [
      "test_rew_main =  0.003843963348338823\n",
      "current_time =  2022-02-03T10:34:11.548362\n"
     ]
    },
    {
     "name": "stderr",
     "output_type": "stream",
     "text": [
      " 24%|██▍       | 720000/3000000 [12:30:09<4017:04:14,  6.34s/it]"
     ]
    },
    {
     "name": "stdout",
     "output_type": "stream",
     "text": [
      "current_time =  2022-02-03T10:35:36.229603\n"
     ]
    },
    {
     "name": "stderr",
     "output_type": "stream",
     "text": [
      " 24%|██▍       | 722993/3000000 [12:33:16<10:55:34, 57.89it/s]  "
     ]
    },
    {
     "name": "stdout",
     "output_type": "stream",
     "text": [
      "ep_rew_main =  [0.00136915]\n"
     ]
    },
    {
     "name": "stderr",
     "output_type": "stream",
     "text": [
      " 24%|██▍       | 723000/3000000 [12:34:21<1770:31:15,  2.80s/it]"
     ]
    },
    {
     "name": "stdout",
     "output_type": "stream",
     "text": [
      "test_rew_main =  0.017593571991926453\n"
     ]
    },
    {
     "name": "stderr",
     "output_type": "stream",
     "text": [
      " 24%|██▍       | 725993/3000000 [12:37:38<10:20:08, 61.11it/s]  "
     ]
    },
    {
     "name": "stdout",
     "output_type": "stream",
     "text": [
      "ep_rew_main =  [8.698455e-09]\n"
     ]
    },
    {
     "name": "stderr",
     "output_type": "stream",
     "text": [
      " 24%|██▍       | 726000/3000000 [12:38:38<1479:36:21,  2.34s/it]"
     ]
    },
    {
     "name": "stdout",
     "output_type": "stream",
     "text": [
      "test_rew_main =  0.028822815639439597\n"
     ]
    },
    {
     "name": "stderr",
     "output_type": "stream",
     "text": [
      " 24%|██▍       | 728994/3000000 [12:41:48<10:51:37, 58.09it/s]  "
     ]
    },
    {
     "name": "stdout",
     "output_type": "stream",
     "text": [
      "ep_rew_main =  [0.00384002]\n"
     ]
    },
    {
     "name": "stderr",
     "output_type": "stream",
     "text": [
      " 24%|██▍       | 729000/3000000 [12:42:49<1732:31:58,  2.75s/it]"
     ]
    },
    {
     "name": "stdout",
     "output_type": "stream",
     "text": [
      "test_rew_main =  0.12944209327335318\n"
     ]
    },
    {
     "name": "stderr",
     "output_type": "stream",
     "text": [
      " 24%|██▍       | 731997/3000000 [12:45:51<11:42:21, 53.82it/s]  "
     ]
    },
    {
     "name": "stdout",
     "output_type": "stream",
     "text": [
      "ep_rew_main =  [0.00025721]\n"
     ]
    },
    {
     "name": "stderr",
     "output_type": "stream",
     "text": [
      " 24%|██▍       | 732000/3000000 [12:46:50<1741:48:47,  2.76s/it]"
     ]
    },
    {
     "name": "stdout",
     "output_type": "stream",
     "text": [
      "test_rew_main =  0.028915067557867775\n"
     ]
    },
    {
     "name": "stderr",
     "output_type": "stream",
     "text": [
      " 24%|██▍       | 734998/3000000 [12:49:53<10:06:39, 62.23it/s]  "
     ]
    },
    {
     "name": "stdout",
     "output_type": "stream",
     "text": [
      "ep_rew_main =  [0.00401054]\n"
     ]
    },
    {
     "name": "stderr",
     "output_type": "stream",
     "text": [
      " 24%|██▍       | 735000/3000000 [12:50:51<1438:54:35,  2.29s/it]"
     ]
    },
    {
     "name": "stdout",
     "output_type": "stream",
     "text": [
      "test_rew_main =  0.11434286224491401\n"
     ]
    },
    {
     "name": "stderr",
     "output_type": "stream",
     "text": [
      " 25%|██▍       | 737992/3000000 [12:53:58<10:07:00, 62.11it/s]  "
     ]
    },
    {
     "name": "stdout",
     "output_type": "stream",
     "text": [
      "ep_rew_main =  [0.00373366]\n"
     ]
    },
    {
     "name": "stderr",
     "output_type": "stream",
     "text": [
      " 25%|██▍       | 738000/3000000 [12:54:57<1291:15:36,  2.06s/it]"
     ]
    },
    {
     "name": "stdout",
     "output_type": "stream",
     "text": [
      "test_rew_main =  0.05799100097567631\n"
     ]
    },
    {
     "name": "stderr",
     "output_type": "stream",
     "text": [
      " 25%|██▍       | 740994/3000000 [12:58:04<11:36:22, 54.07it/s]  "
     ]
    },
    {
     "name": "stdout",
     "output_type": "stream",
     "text": [
      "ep_rew_main =  [0.07579505]\n"
     ]
    },
    {
     "name": "stderr",
     "output_type": "stream",
     "text": [
      " 25%|██▍       | 741000/3000000 [12:59:02<1828:11:54,  2.91s/it]"
     ]
    },
    {
     "name": "stdout",
     "output_type": "stream",
     "text": [
      "test_rew_main =  0.17228156909457487\n"
     ]
    },
    {
     "name": "stderr",
     "output_type": "stream",
     "text": [
      " 25%|██▍       | 743993/3000000 [13:02:05<10:43:10, 58.46it/s]  "
     ]
    },
    {
     "name": "stdout",
     "output_type": "stream",
     "text": [
      "ep_rew_main =  [0.0065145]\n"
     ]
    },
    {
     "name": "stderr",
     "output_type": "stream",
     "text": [
      " 25%|██▍       | 744000/3000000 [13:03:05<1478:56:51,  2.36s/it]"
     ]
    },
    {
     "name": "stdout",
     "output_type": "stream",
     "text": [
      "test_rew_main =  0.15758832311442142\n"
     ]
    },
    {
     "name": "stderr",
     "output_type": "stream",
     "text": [
      " 25%|██▍       | 746998/3000000 [13:06:13<10:32:26, 59.37it/s]  "
     ]
    },
    {
     "name": "stdout",
     "output_type": "stream",
     "text": [
      "ep_rew_main =  [0.00055752]\n"
     ]
    },
    {
     "name": "stderr",
     "output_type": "stream",
     "text": [
      " 25%|██▍       | 747000/3000000 [13:07:14<1847:25:44,  2.95s/it]"
     ]
    },
    {
     "name": "stdout",
     "output_type": "stream",
     "text": [
      "test_rew_main =  0.06680630971956096\n"
     ]
    },
    {
     "name": "stderr",
     "output_type": "stream",
     "text": [
      " 25%|██▍       | 749995/3000000 [13:10:13<10:20:10, 60.47it/s]  "
     ]
    },
    {
     "name": "stdout",
     "output_type": "stream",
     "text": [
      "ep_rew_main =  [0.17406921]\n"
     ]
    },
    {
     "name": "stderr",
     "output_type": "stream",
     "text": [
      " 25%|██▍       | 749995/3000000 [13:10:24<10:20:10, 60.47it/s]"
     ]
    },
    {
     "name": "stdout",
     "output_type": "stream",
     "text": [
      "test_rew_main =  0.0015000189552952397\n",
      "current_time =  2022-02-03T11:16:33.802049\n"
     ]
    },
    {
     "name": "stderr",
     "output_type": "stream",
     "text": [
      " 25%|██▌       | 750000/3000000 [13:12:22<3443:27:07,  5.51s/it]"
     ]
    },
    {
     "name": "stdout",
     "output_type": "stream",
     "text": [
      "current_time =  2022-02-03T11:17:49.284528\n"
     ]
    },
    {
     "name": "stderr",
     "output_type": "stream",
     "text": [
      " 25%|██▌       | 752995/3000000 [13:15:29<10:55:51, 57.10it/s]  "
     ]
    },
    {
     "name": "stdout",
     "output_type": "stream",
     "text": [
      "ep_rew_main =  [0.27318865]\n"
     ]
    },
    {
     "name": "stderr",
     "output_type": "stream",
     "text": [
      " 25%|██▌       | 753000/3000000 [13:16:37<1982:01:49,  3.18s/it]"
     ]
    },
    {
     "name": "stdout",
     "output_type": "stream",
     "text": [
      "test_rew_main =  0.06940712630137638\n"
     ]
    },
    {
     "name": "stderr",
     "output_type": "stream",
     "text": [
      " 25%|██▌       | 755999/3000000 [13:19:57<12:07:56, 51.38it/s]  "
     ]
    },
    {
     "name": "stdout",
     "output_type": "stream",
     "text": [
      "ep_rew_main =  [0.00108269]\n"
     ]
    },
    {
     "name": "stderr",
     "output_type": "stream",
     "text": [
      " 25%|██▌       | 756000/3000000 [13:21:00<2600:01:25,  4.17s/it]"
     ]
    },
    {
     "name": "stdout",
     "output_type": "stream",
     "text": [
      "test_rew_main =  0.07413916377932482\n"
     ]
    },
    {
     "name": "stderr",
     "output_type": "stream",
     "text": [
      " 25%|██▌       | 758991/3000000 [13:24:18<10:31:01, 59.19it/s]  "
     ]
    },
    {
     "name": "stdout",
     "output_type": "stream",
     "text": [
      "ep_rew_main =  [0.00016529]\n"
     ]
    },
    {
     "name": "stderr",
     "output_type": "stream",
     "text": [
      " 25%|██▌       | 759000/3000000 [13:25:22<1340:32:48,  2.15s/it]"
     ]
    },
    {
     "name": "stdout",
     "output_type": "stream",
     "text": [
      "test_rew_main =  0.018495806180102346\n"
     ]
    },
    {
     "name": "stderr",
     "output_type": "stream",
     "text": [
      " 25%|██▌       | 761993/3000000 [13:28:44<11:30:04, 54.05it/s]  "
     ]
    },
    {
     "name": "stdout",
     "output_type": "stream",
     "text": [
      "ep_rew_main =  [0.00175179]\n"
     ]
    },
    {
     "name": "stderr",
     "output_type": "stream",
     "text": [
      " 25%|██▌       | 762000/3000000 [13:29:48<1853:59:25,  2.98s/it]"
     ]
    },
    {
     "name": "stdout",
     "output_type": "stream",
     "text": [
      "test_rew_main =  0.026333162350782452\n"
     ]
    },
    {
     "name": "stderr",
     "output_type": "stream",
     "text": [
      " 25%|██▌       | 764996/3000000 [13:33:12<11:09:05, 55.67it/s]  "
     ]
    },
    {
     "name": "stdout",
     "output_type": "stream",
     "text": [
      "ep_rew_main =  [0.24787058]\n"
     ]
    },
    {
     "name": "stderr",
     "output_type": "stream",
     "text": [
      " 26%|██▌       | 765000/3000000 [13:34:21<2133:38:08,  3.44s/it]"
     ]
    },
    {
     "name": "stdout",
     "output_type": "stream",
     "text": [
      "test_rew_main =  0.058357866747095755\n"
     ]
    },
    {
     "name": "stderr",
     "output_type": "stream",
     "text": [
      " 26%|██▌       | 767997/3000000 [13:37:38<11:18:42, 54.81it/s]  "
     ]
    },
    {
     "name": "stdout",
     "output_type": "stream",
     "text": [
      "ep_rew_main =  [6.0382223e-07]\n"
     ]
    },
    {
     "name": "stderr",
     "output_type": "stream",
     "text": [
      " 26%|██▌       | 768000/3000000 [13:38:43<2077:30:13,  3.35s/it]"
     ]
    },
    {
     "name": "stdout",
     "output_type": "stream",
     "text": [
      "test_rew_main =  0.1628027056855287\n"
     ]
    },
    {
     "name": "stderr",
     "output_type": "stream",
     "text": [
      " 26%|██▌       | 770994/3000000 [13:42:02<10:36:53, 58.33it/s]  "
     ]
    },
    {
     "name": "stdout",
     "output_type": "stream",
     "text": [
      "ep_rew_main =  [0.14574175]\n"
     ]
    },
    {
     "name": "stderr",
     "output_type": "stream",
     "text": [
      " 26%|██▌       | 771000/3000000 [13:43:09<1859:20:54,  3.00s/it]"
     ]
    },
    {
     "name": "stdout",
     "output_type": "stream",
     "text": [
      "test_rew_main =  0.0019241366887380019\n"
     ]
    },
    {
     "name": "stderr",
     "output_type": "stream",
     "text": [
      " 26%|██▌       | 773999/3000000 [13:46:30<12:12:05, 50.68it/s]  "
     ]
    },
    {
     "name": "stdout",
     "output_type": "stream",
     "text": [
      "ep_rew_main =  [6.7621313e-06]\n"
     ]
    },
    {
     "name": "stderr",
     "output_type": "stream",
     "text": [
      " 26%|██▌       | 774000/3000000 [13:47:36<2733:48:24,  4.42s/it]"
     ]
    },
    {
     "name": "stdout",
     "output_type": "stream",
     "text": [
      "test_rew_main =  0.08602012152826831\n"
     ]
    },
    {
     "name": "stderr",
     "output_type": "stream",
     "text": [
      " 26%|██▌       | 776966/3000000 [13:50:57<39:37:32, 15.58it/s]  \n"
     ]
    },
    {
     "ename": "KeyboardInterrupt",
     "evalue": "",
     "output_type": "error",
     "traceback": [
      "\u001b[0;31m---------------------------------------------------------------------------\u001b[0m",
      "\u001b[0;31mKeyboardInterrupt\u001b[0m                         Traceback (most recent call last)",
      "\u001b[0;32m/tmp/ipykernel_31921/2343728750.py\u001b[0m in \u001b[0;36m<module>\u001b[0;34m\u001b[0m\n\u001b[1;32m     14\u001b[0m     \u001b[0ma_cpu\u001b[0m \u001b[0;34m=\u001b[0m \u001b[0ma\u001b[0m\u001b[0;34m.\u001b[0m\u001b[0mcpu\u001b[0m\u001b[0;34m(\u001b[0m\u001b[0;34m)\u001b[0m\u001b[0;34m.\u001b[0m\u001b[0mdata\u001b[0m\u001b[0;34m.\u001b[0m\u001b[0mnumpy\u001b[0m\u001b[0;34m(\u001b[0m\u001b[0;34m)\u001b[0m\u001b[0;34m\u001b[0m\u001b[0;34m\u001b[0m\u001b[0m\n\u001b[1;32m     15\u001b[0m     \u001b[0;31m# Step the env\u001b[0m\u001b[0;34m\u001b[0m\u001b[0;34m\u001b[0m\u001b[0;34m\u001b[0m\u001b[0m\n\u001b[0;32m---> 16\u001b[0;31m     \u001b[0mobs2\u001b[0m\u001b[0;34m,\u001b[0m \u001b[0mr\u001b[0m\u001b[0;34m,\u001b[0m \u001b[0md\u001b[0m\u001b[0;34m,\u001b[0m \u001b[0m_\u001b[0m \u001b[0;34m=\u001b[0m \u001b[0menv\u001b[0m\u001b[0;34m.\u001b[0m\u001b[0mstep\u001b[0m\u001b[0;34m(\u001b[0m\u001b[0ma_cpu\u001b[0m\u001b[0;34m[\u001b[0m\u001b[0;36m0\u001b[0m\u001b[0;34m]\u001b[0m\u001b[0;34m)\u001b[0m\u001b[0;34m\u001b[0m\u001b[0;34m\u001b[0m\u001b[0m\n\u001b[0m\u001b[1;32m     17\u001b[0m \u001b[0;34m\u001b[0m\u001b[0m\n\u001b[1;32m     18\u001b[0m     \u001b[0mo2\u001b[0m \u001b[0;34m=\u001b[0m \u001b[0mlist\u001b[0m\u001b[0;34m(\u001b[0m\u001b[0mobs2\u001b[0m\u001b[0;34m[\u001b[0m\u001b[0;34m'robot0_proprio-state'\u001b[0m\u001b[0;34m]\u001b[0m\u001b[0;34m)\u001b[0m \u001b[0;34m+\u001b[0m \u001b[0mlist\u001b[0m\u001b[0;34m(\u001b[0m\u001b[0mobs2\u001b[0m\u001b[0;34m[\u001b[0m\u001b[0;34m'object-state'\u001b[0m\u001b[0;34m]\u001b[0m\u001b[0;34m)\u001b[0m\u001b[0;34m\u001b[0m\u001b[0;34m\u001b[0m\u001b[0m\n",
      "\u001b[0;32m~/Cosmic_rays_X/X_Robot/robosuite/robosuite/environments/base.py\u001b[0m in \u001b[0;36mstep\u001b[0;34m(self, action)\u001b[0m\n\u001b[1;32m    404\u001b[0m         \u001b[0;32mfor\u001b[0m \u001b[0mi\u001b[0m \u001b[0;32min\u001b[0m \u001b[0mrange\u001b[0m\u001b[0;34m(\u001b[0m\u001b[0mint\u001b[0m\u001b[0;34m(\u001b[0m\u001b[0mself\u001b[0m\u001b[0;34m.\u001b[0m\u001b[0mcontrol_timestep\u001b[0m \u001b[0;34m/\u001b[0m \u001b[0mself\u001b[0m\u001b[0;34m.\u001b[0m\u001b[0mmodel_timestep\u001b[0m\u001b[0;34m)\u001b[0m\u001b[0;34m)\u001b[0m\u001b[0;34m:\u001b[0m\u001b[0;34m\u001b[0m\u001b[0;34m\u001b[0m\u001b[0m\n\u001b[1;32m    405\u001b[0m             \u001b[0mself\u001b[0m\u001b[0;34m.\u001b[0m\u001b[0msim\u001b[0m\u001b[0;34m.\u001b[0m\u001b[0mforward\u001b[0m\u001b[0;34m(\u001b[0m\u001b[0;34m)\u001b[0m\u001b[0;34m\u001b[0m\u001b[0;34m\u001b[0m\u001b[0m\n\u001b[0;32m--> 406\u001b[0;31m             \u001b[0mself\u001b[0m\u001b[0;34m.\u001b[0m\u001b[0m_pre_action\u001b[0m\u001b[0;34m(\u001b[0m\u001b[0maction\u001b[0m\u001b[0;34m,\u001b[0m \u001b[0mpolicy_step\u001b[0m\u001b[0;34m)\u001b[0m\u001b[0;34m\u001b[0m\u001b[0;34m\u001b[0m\u001b[0m\n\u001b[0m\u001b[1;32m    407\u001b[0m             \u001b[0mself\u001b[0m\u001b[0;34m.\u001b[0m\u001b[0msim\u001b[0m\u001b[0;34m.\u001b[0m\u001b[0mstep\u001b[0m\u001b[0;34m(\u001b[0m\u001b[0;34m)\u001b[0m\u001b[0;34m\u001b[0m\u001b[0;34m\u001b[0m\u001b[0m\n\u001b[1;32m    408\u001b[0m             \u001b[0mself\u001b[0m\u001b[0;34m.\u001b[0m\u001b[0m_update_observables\u001b[0m\u001b[0;34m(\u001b[0m\u001b[0;34m)\u001b[0m\u001b[0;34m\u001b[0m\u001b[0;34m\u001b[0m\u001b[0m\n",
      "\u001b[0;32m~/Cosmic_rays_X/X_Robot/robosuite/robosuite/environments/robot_env.py\u001b[0m in \u001b[0;36m_pre_action\u001b[0;34m(self, action, policy_step)\u001b[0m\n\u001b[1;32m    581\u001b[0m         \u001b[0;32mfor\u001b[0m \u001b[0midx\u001b[0m\u001b[0;34m,\u001b[0m \u001b[0mrobot\u001b[0m \u001b[0;32min\u001b[0m \u001b[0menumerate\u001b[0m\u001b[0;34m(\u001b[0m\u001b[0mself\u001b[0m\u001b[0;34m.\u001b[0m\u001b[0mrobots\u001b[0m\u001b[0;34m)\u001b[0m\u001b[0;34m:\u001b[0m\u001b[0;34m\u001b[0m\u001b[0;34m\u001b[0m\u001b[0m\n\u001b[1;32m    582\u001b[0m             \u001b[0mrobot_action\u001b[0m \u001b[0;34m=\u001b[0m \u001b[0maction\u001b[0m\u001b[0;34m[\u001b[0m\u001b[0mcutoff\u001b[0m \u001b[0;34m:\u001b[0m \u001b[0mcutoff\u001b[0m \u001b[0;34m+\u001b[0m \u001b[0mrobot\u001b[0m\u001b[0;34m.\u001b[0m\u001b[0maction_dim\u001b[0m\u001b[0;34m]\u001b[0m\u001b[0;34m\u001b[0m\u001b[0;34m\u001b[0m\u001b[0m\n\u001b[0;32m--> 583\u001b[0;31m             \u001b[0mrobot\u001b[0m\u001b[0;34m.\u001b[0m\u001b[0mcontrol\u001b[0m\u001b[0;34m(\u001b[0m\u001b[0mrobot_action\u001b[0m\u001b[0;34m,\u001b[0m \u001b[0mpolicy_step\u001b[0m\u001b[0;34m=\u001b[0m\u001b[0mpolicy_step\u001b[0m\u001b[0;34m)\u001b[0m\u001b[0;34m\u001b[0m\u001b[0;34m\u001b[0m\u001b[0m\n\u001b[0m\u001b[1;32m    584\u001b[0m             \u001b[0mcutoff\u001b[0m \u001b[0;34m+=\u001b[0m \u001b[0mrobot\u001b[0m\u001b[0;34m.\u001b[0m\u001b[0maction_dim\u001b[0m\u001b[0;34m\u001b[0m\u001b[0;34m\u001b[0m\u001b[0m\n\u001b[1;32m    585\u001b[0m \u001b[0;34m\u001b[0m\u001b[0m\n",
      "\u001b[0;32m~/Cosmic_rays_X/X_Robot/robosuite/robosuite/robots/single_arm.py\u001b[0m in \u001b[0;36mcontrol\u001b[0;34m(self, action, policy_step)\u001b[0m\n\u001b[1;32m    246\u001b[0m \u001b[0;34m\u001b[0m\u001b[0m\n\u001b[1;32m    247\u001b[0m         \u001b[0;31m# Now run the controller for a step\u001b[0m\u001b[0;34m\u001b[0m\u001b[0;34m\u001b[0m\u001b[0;34m\u001b[0m\u001b[0m\n\u001b[0;32m--> 248\u001b[0;31m         \u001b[0mtorques\u001b[0m \u001b[0;34m=\u001b[0m \u001b[0mself\u001b[0m\u001b[0;34m.\u001b[0m\u001b[0mcontroller\u001b[0m\u001b[0;34m.\u001b[0m\u001b[0mrun_controller\u001b[0m\u001b[0;34m(\u001b[0m\u001b[0;34m)\u001b[0m\u001b[0;34m\u001b[0m\u001b[0;34m\u001b[0m\u001b[0m\n\u001b[0m\u001b[1;32m    249\u001b[0m \u001b[0;34m\u001b[0m\u001b[0m\n\u001b[1;32m    250\u001b[0m         \u001b[0;31m# Clip the torques\u001b[0m\u001b[0;34m\u001b[0m\u001b[0;34m\u001b[0m\u001b[0;34m\u001b[0m\u001b[0m\n",
      "\u001b[0;32m~/Cosmic_rays_X/X_Robot/robosuite/robosuite/controllers/joint_vel.py\u001b[0m in \u001b[0;36mrun_controller\u001b[0;34m(self)\u001b[0m\n\u001b[1;32m    183\u001b[0m \u001b[0;34m\u001b[0m\u001b[0m\n\u001b[1;32m    184\u001b[0m         \u001b[0;31m# Compute command torques via PID velocity controller plus gravity compensation torques\u001b[0m\u001b[0;34m\u001b[0m\u001b[0;34m\u001b[0m\u001b[0;34m\u001b[0m\u001b[0m\n\u001b[0;32m--> 185\u001b[0;31m         \u001b[0mtorques\u001b[0m \u001b[0;34m=\u001b[0m \u001b[0mself\u001b[0m\u001b[0;34m.\u001b[0m\u001b[0mkp\u001b[0m \u001b[0;34m*\u001b[0m \u001b[0merr\u001b[0m \u001b[0;34m+\u001b[0m \u001b[0mself\u001b[0m\u001b[0;34m.\u001b[0m\u001b[0mki\u001b[0m \u001b[0;34m*\u001b[0m \u001b[0mself\u001b[0m\u001b[0;34m.\u001b[0m\u001b[0msummed_err\u001b[0m \u001b[0;34m+\u001b[0m \u001b[0mself\u001b[0m\u001b[0;34m.\u001b[0m\u001b[0mkd\u001b[0m \u001b[0;34m*\u001b[0m \u001b[0mself\u001b[0m\u001b[0;34m.\u001b[0m\u001b[0mderr_buf\u001b[0m\u001b[0;34m.\u001b[0m\u001b[0maverage\u001b[0m \u001b[0;34m+\u001b[0m \u001b[0mself\u001b[0m\u001b[0;34m.\u001b[0m\u001b[0mtorque_compensation\u001b[0m\u001b[0;34m\u001b[0m\u001b[0;34m\u001b[0m\u001b[0m\n\u001b[0m\u001b[1;32m    186\u001b[0m \u001b[0;34m\u001b[0m\u001b[0m\n\u001b[1;32m    187\u001b[0m         \u001b[0;31m# Clip torques\u001b[0m\u001b[0;34m\u001b[0m\u001b[0;34m\u001b[0m\u001b[0;34m\u001b[0m\u001b[0m\n",
      "\u001b[0;31mKeyboardInterrupt\u001b[0m: "
     ]
    },
    {
     "name": "stdout",
     "output_type": "stream",
     "text": [
      "Shutting down background jobs, please wait a moment...\n",
      "Done!\n"
     ]
    },
    {
     "name": "stderr",
     "output_type": "stream",
     "text": [
      "Waiting for the remaining 1 operations to synchronize with Neptune. Do not kill this process.\n"
     ]
    },
    {
     "name": "stdout",
     "output_type": "stream",
     "text": [
      "All 1 operations synced, thanks for waiting!\n"
     ]
    }
   ],
   "source": [
    "# Main loop: collect experience in env and update/log each epoch\n",
    "low, high = env.action_spec\n",
    "\n",
    "for t in tqdm(range(total_steps)):\n",
    "    \n",
    "    # Until start_steps have elapsed, randomly sample actions\n",
    "    # from a uniform distribution for better exploration. Afterwards, \n",
    "    # use the learned policy (with some noise, via act_noise). \n",
    "    if t > params[\"start_steps\"]:\n",
    "        a = get_action(o, params[\"act_noise\"])      # Tensor\n",
    "    else:\n",
    "        a = torch.tensor([np.random.uniform(low, high)], dtype=torch.float32, device=device)\n",
    "        \n",
    "    a_cpu = a.cpu().data.numpy()\n",
    "    # Step the env\n",
    "    obs2, r, d, _ = env.step(a_cpu[0])\n",
    "    \n",
    "    o2 = list(obs2['robot0_proprio-state']) + list(obs2['object-state'])\n",
    "    # print('len(o2) = ', len(o2))\n",
    "\n",
    "    ep_len += 1\n",
    "    total_main += r\n",
    "\n",
    "\n",
    "    # Ignore the \"done\" signal if it comes from hitting the time\n",
    "    # horizon (that is, when it's an artificial terminal signal\n",
    "    # that isn't based on the agent's state)\n",
    "    d = False if ep_len==params[\"max_ep_len\"] else d\n",
    "\n",
    "    o2 = torch.tensor([o2], dtype=torch.float32, device=device)\n",
    "    r = torch.tensor([r], dtype=torch.float32, device=device)\n",
    "    d = torch.tensor([d], dtype=torch.float32, device=device)\n",
    "\n",
    "    # Store experience to replay buffer\n",
    "    memory.push(o, a, r, o2, d)\n",
    "    nep_log[\"train/o\"].log(o)\n",
    "    nep_log[\"train/a\"].log(a)\n",
    "    nep_log[\"train/r\"].log(r)\n",
    "    nep_log[\"train/o2\"].log(o2)\n",
    "    nep_log[\"train/d\"].log(d)\n",
    "\n",
    "    # Super critical, easy to overlook step: make sure to update \n",
    "    # most recent observation!\n",
    "    o=o2\n",
    "    ep_ret += r\n",
    "    \n",
    "    \n",
    "    # End of trajectory handling\n",
    "    if d or (ep_len == params[\"max_ep_len\"]):\n",
    "        ep_rew = ep_ret/ep_len\n",
    "        obs, ep_ret, ep_len = env.reset(), 0, 0\n",
    "        o = list(obs['robot0_proprio-state']) + list(obs['object-state'])\n",
    "        o = torch.tensor([o], device=device)\n",
    "\n",
    "\n",
    "    # Update handling\n",
    "    if t >= params[\"update_after\"] and t % params[\"update_every\"] == 0:\n",
    "        for i in range(params[\"update_every\"]):\n",
    "\n",
    "            transitions = memory.sample(params[\"batch_size\"])\n",
    "            # Transpose the batch (see https://stackoverflow.com/a/19343/3343043 for\n",
    "            # detailed explanation). This converts batch-array of Transitions\n",
    "            # to Transition of batch-arrays.\n",
    "            batch = Transition(*zip(*transitions))\n",
    "            update(data=batch)\n",
    "\n",
    "    # End of epoch handling\n",
    "    if (t+1) % params[\"steps_per_epoch\"] == 0:\n",
    "        epoch = (t+1) // params[\"steps_per_epoch\"]\n",
    "        ep_rew_main = ep_rew\n",
    "\n",
    "        nep_log[\"train/reward\"].log(ep_rew_main)\n",
    "        print('ep_rew_main = ', ep_rew_main.cpu().data.numpy())\n",
    "        # Test the performance of the deterministic version of the agent.\n",
    "        test_agent(epoch)\n",
    "        \n",
    "\n",
    "    if (t+1) % params[\"steps_video\"] == 0:\n",
    "        epoch = (t+1) // params[\"steps_per_epoch\"]\n",
    "        now = datetime.now()\n",
    "        current_time = str(now.isoformat())\n",
    "        print('current_time = ', current_time)\n",
    "        video_agent(epoch)\n",
    "        now = datetime.now()\n",
    "        current_time = str(now.isoformat())\n",
    "        print('current_time = ', current_time)\n",
    "\n",
    "    if (t+1) % params[\"save_model_len\"] == 0:\n",
    "        epoch = (t+1) // params[\"steps_per_epoch\"]\n",
    "        now = datetime.now()\n",
    "        current_time = str(now.isoformat())\n",
    "        torch.save({\n",
    "                    'model of ac.q': ac.q.state_dict(),\n",
    "                    'model of ac.pi': ac.pi.state_dict(),\n",
    "                    'q_optimizer_state_dict': q_optimizer.state_dict(),\n",
    "                    'pi_optimizer_state_dict': pi_optimizer.state_dict(),\n",
    "                    \n",
    "                    }, \"model_nn/model_nn_%s%d.pt\" % (current_time, epoch))\n",
    "\n",
    "\n",
    "        "
   ]
  },
  {
   "cell_type": "code",
   "execution_count": null,
   "metadata": {},
   "outputs": [],
   "source": []
  },
  {
   "cell_type": "code",
   "execution_count": null,
   "metadata": {},
   "outputs": [
    {
     "name": "stdout",
     "output_type": "stream",
     "text": [
      "Model_q's state_dict:\n",
      "q.0.weight \t torch.Size([256, 41])\n",
      "q.0.bias \t torch.Size([256])\n",
      "q.2.weight \t torch.Size([256, 256])\n",
      "q.2.bias \t torch.Size([256])\n",
      "q.4.weight \t torch.Size([256, 256])\n",
      "q.4.bias \t torch.Size([256])\n",
      "q.6.weight \t torch.Size([1, 256])\n",
      "q.6.bias \t torch.Size([1])\n",
      "Model_pi's state_dict:\n",
      "pi.0.weight \t torch.Size([256, 35])\n",
      "pi.0.bias \t torch.Size([256])\n",
      "pi.2.weight \t torch.Size([256, 256])\n",
      "pi.2.bias \t torch.Size([256])\n",
      "pi.4.weight \t torch.Size([256, 256])\n",
      "pi.4.bias \t torch.Size([256])\n",
      "pi.6.weight \t torch.Size([6, 256])\n",
      "pi.6.bias \t torch.Size([6])\n"
     ]
    }
   ],
   "source": [
    "model = ac.q\n",
    "print(\"Model_q's state_dict:\")\n",
    "for param_tensor in model.state_dict():\n",
    "    print(param_tensor, \"\\t\", model.state_dict()[param_tensor].size())\n",
    "\n",
    "model = ac.pi\n",
    "print(\"Model_pi's state_dict:\")\n",
    "for param_tensor in model.state_dict():\n",
    "    print(param_tensor, \"\\t\", model.state_dict()[param_tensor].size())"
   ]
  },
  {
   "cell_type": "code",
   "execution_count": null,
   "metadata": {},
   "outputs": [
    {
     "name": "stderr",
     "output_type": "stream",
     "text": [
      "Warning: string series 'monitoring/stdout' value was longer than 1000 characters and was truncated. This warning is printed only once per series.\n"
     ]
    },
    {
     "name": "stdout",
     "output_type": "stream",
     "text": [
      "pi_optimizer's state_dict:\n",
      "state \t {0: {'step': 295000, 'square_avg': tensor([[1.5294e-07, 4.3574e-07, 1.7078e-07,  ..., 4.6295e-08, 1.3153e-07,\n",
      "         3.2821e-08],\n",
      "        [1.1260e-06, 1.0042e-06, 9.5667e-07,  ..., 3.2371e-07, 2.5242e-06,\n",
      "         2.0768e-07],\n",
      "        [3.3766e-07, 1.8660e-07, 2.4575e-07,  ..., 6.6838e-08, 3.6149e-07,\n",
      "         3.6968e-08],\n",
      "        ...,\n",
      "        [3.4772e-07, 6.0496e-07, 3.3804e-07,  ..., 8.6878e-08, 3.6086e-07,\n",
      "         6.7247e-08],\n",
      "        [1.1408e-06, 7.1713e-07, 6.1176e-07,  ..., 3.4519e-07, 1.2215e-06,\n",
      "         1.1788e-07],\n",
      "        [2.8419e-07, 7.1120e-07, 3.0715e-07,  ..., 6.3061e-08, 4.3581e-07,\n",
      "         7.5016e-08]], device='cuda:0')}, 1: {'step': 295000, 'square_avg': tensor([5.5312e-07, 3.3224e-06, 6.3727e-07, 5.1333e-07, 8.2843e-07, 6.8615e-07,\n",
      "        8.8244e-07, 1.9534e-06, 6.2446e-07, 1.3387e-06, 4.0938e-07, 1.2642e-06,\n",
      "        6.8603e-07, 9.9440e-07, 1.2369e-06, 7.1836e-07, 1.1587e-06, 1.1835e-06,\n",
      "        9.5166e-07, 5.0816e-07, 1.7202e-06, 5.6938e-07, 4.4152e-07, 1.0684e-06,\n",
      "        3.1871e-07, 1.2115e-06, 7.0910e-07, 5.9612e-07, 1.3182e-06, 4.3405e-07,\n",
      "        1.3060e-06, 4.9002e-07, 1.5110e-06, 7.4731e-07, 1.3223e-06, 1.3257e-06,\n",
      "        9.5778e-07, 5.1564e-07, 1.3252e-06, 5.1387e-07, 2.5570e-06, 1.0065e-06,\n",
      "        9.3963e-07, 5.5101e-07, 1.0983e-06, 5.5319e-07, 7.3117e-07, 1.0999e-06,\n",
      "        1.3151e-06, 4.2179e-07, 5.4948e-07, 5.7533e-07, 5.4058e-07, 4.1292e-06,\n",
      "        8.9550e-07, 8.9379e-07, 1.4890e-06, 8.2242e-07, 1.0184e-06, 9.3332e-07,\n",
      "        5.0147e-07, 1.0326e-06, 5.6830e-07, 9.6716e-07, 1.6930e-06, 1.4243e-06,\n",
      "        7.0928e-07, 2.3552e-07, 9.1991e-07, 2.0595e-06, 8.3736e-07, 1.8500e-06,\n",
      "        9.6629e-07, 9.1615e-07, 6.0231e-07, 6.0253e-07, 9.5487e-07, 5.6852e-07,\n",
      "        1.6028e-06, 7.8441e-07, 2.1564e-06, 7.0696e-07, 5.4571e-07, 6.9029e-07,\n",
      "        7.2878e-07, 4.5841e-07, 1.6332e-06, 7.2337e-07, 6.3352e-07, 1.6297e-06,\n",
      "        6.0255e-07, 1.2341e-06, 1.3196e-06, 7.3362e-07, 2.3132e-06, 3.7870e-07,\n",
      "        5.7771e-07, 6.5394e-07, 1.3188e-06, 2.2837e-06, 7.8352e-07, 1.3910e-06,\n",
      "        8.8812e-07, 1.0316e-06, 4.5920e-07, 8.7999e-07, 6.6733e-07, 1.0406e-06,\n",
      "        9.5847e-07, 8.0143e-07, 4.2200e-07, 1.0488e-06, 1.0378e-06, 6.3690e-07,\n",
      "        6.9079e-07, 5.8200e-07, 2.2845e-06, 1.3906e-06, 2.7831e-06, 3.1157e-06,\n",
      "        9.7969e-07, 1.1447e-06, 1.2942e-06, 9.7422e-07, 1.2397e-06, 1.8610e-07,\n",
      "        3.3845e-07, 1.8373e-06, 1.8163e-06, 7.8021e-07, 8.3872e-07, 1.4292e-06,\n",
      "        8.2664e-07, 1.4749e-06, 4.6770e-07, 3.3704e-07, 1.9078e-06, 9.4330e-07,\n",
      "        8.8852e-07, 8.6381e-07, 1.3557e-06, 9.6310e-07, 6.6882e-07, 8.1204e-07,\n",
      "        1.5272e-06, 7.9280e-07, 1.4181e-06, 1.9098e-06, 6.6300e-07, 1.2946e-06,\n",
      "        6.9522e-07, 8.5799e-07, 1.3232e-06, 1.5567e-06, 5.0456e-07, 5.9942e-07,\n",
      "        1.0643e-06, 9.0908e-07, 6.7114e-07, 6.8561e-07, 9.7002e-07, 2.7347e-06,\n",
      "        9.8231e-07, 5.3625e-07, 1.0869e-06, 8.6739e-07, 7.0934e-07, 8.1913e-07,\n",
      "        1.3662e-06, 1.0837e-06, 2.8735e-06, 1.0980e-06, 4.4656e-07, 3.7085e-07,\n",
      "        2.9545e-07, 8.3675e-07, 1.1475e-06, 3.0978e-06, 1.2737e-06, 1.9716e-06,\n",
      "        7.4679e-07, 1.2701e-06, 7.6067e-07, 2.2446e-06, 5.6750e-07, 7.6226e-07,\n",
      "        3.2957e-07, 2.8627e-06, 9.2688e-07, 1.2293e-06, 1.1479e-06, 5.9642e-07,\n",
      "        5.2939e-07, 3.2521e-06, 1.8728e-07, 8.2832e-07, 9.6715e-07, 8.0092e-07,\n",
      "        2.3647e-06, 4.7690e-07, 3.9721e-07, 1.1170e-06, 2.1490e-06, 8.3836e-07,\n",
      "        5.1579e-07, 2.5706e-06, 8.9556e-07, 1.4429e-06, 8.6339e-07, 3.4810e-07,\n",
      "        4.8095e-06, 5.9977e-07, 6.3561e-07, 1.3872e-06, 1.5696e-06, 5.6733e-07,\n",
      "        3.9694e-07, 8.0231e-07, 1.9316e-06, 1.2127e-06, 1.7018e-06, 1.2005e-06,\n",
      "        8.4203e-07, 2.7374e-07, 1.7970e-06, 1.7229e-06, 2.9321e-06, 7.1214e-07,\n",
      "        2.5184e-07, 1.1740e-06, 1.5586e-06, 1.4483e-06, 1.1358e-06, 1.1357e-06,\n",
      "        2.2400e-07, 5.0166e-07, 5.3679e-07, 6.6559e-07, 6.8442e-07, 9.3597e-07,\n",
      "        6.9036e-07, 7.6608e-07, 8.0037e-07, 9.6158e-07, 4.2180e-07, 1.1313e-06,\n",
      "        1.5995e-06, 7.2820e-07, 1.3905e-06, 7.3579e-07, 1.3210e-06, 1.9925e-06,\n",
      "        5.4515e-07, 9.3228e-07, 2.1240e-06, 8.1638e-07], device='cuda:0')}, 2: {'step': 295000, 'square_avg': tensor([[2.6364e-07, 2.2522e-07, 2.6878e-07,  ..., 4.7396e-07, 1.0001e-07,\n",
      "         7.6052e-08],\n",
      "        [8.5503e-09, 1.2509e-07, 4.3237e-08,  ..., 1.0311e-07, 1.2524e-08,\n",
      "         1.2141e-08],\n",
      "        [6.7685e-08, 1.2867e-07, 9.7317e-08,  ..., 2.3960e-07, 3.1709e-08,\n",
      "         3.0172e-09],\n",
      "        ...,\n",
      "        [1.9853e-09, 7.1651e-08, 7.0533e-08,  ..., 5.1073e-08, 4.5405e-08,\n",
      "         2.3598e-09],\n",
      "        [4.0061e-08, 1.8999e-08, 1.1788e-08,  ..., 4.2179e-08, 8.2509e-09,\n",
      "         8.3547e-09],\n",
      "        [8.7009e-09, 1.4293e-07, 1.7964e-07,  ..., 1.2611e-07, 7.5952e-08,\n",
      "         6.9463e-11]], device='cuda:0')}, 3: {'step': 295000, 'square_avg': tensor([1.3338e-06, 2.8732e-07, 5.1800e-07, 2.6833e-07, 3.5114e-07, 2.5751e-07,\n",
      "        7.3793e-07, 1.0731e-06, 7.0303e-07, 5.2857e-07, 6.3745e-07, 9.3030e-07,\n",
      "        3.7616e-08, 2.9885e-07, 3.3626e-07, 3.2385e-07, 2.4328e-07, 2.0632e-07,\n",
      "        7.0224e-07, 6.5806e-07, 5.5312e-07, 2.7065e-07, 5.9326e-07, 1.0039e-06,\n",
      "        2.7501e-07, 4.7491e-07, 4.1329e-07, 5.3936e-07, 7.1273e-07, 7.7757e-07,\n",
      "        2.7682e-07, 4.3035e-07, 6.6462e-07, 1.7276e-07, 1.2666e-06, 6.8352e-07,\n",
      "        2.8992e-07, 5.4134e-07, 4.4876e-07, 7.2785e-07, 2.1251e-07, 4.8728e-07,\n",
      "        4.7146e-07, 1.8229e-07, 7.7180e-07, 3.1533e-07, 5.1669e-07, 8.6744e-07,\n",
      "        3.8321e-07, 5.3658e-07, 2.0011e-07, 1.8571e-06, 2.6245e-07, 2.7908e-07,\n",
      "        6.6007e-07, 4.8321e-07, 8.9602e-07, 4.6330e-07, 2.1250e-07, 8.6825e-08,\n",
      "        2.7448e-07, 2.8190e-07, 1.3591e-07, 9.7716e-08, 6.4455e-07, 2.8552e-07,\n",
      "        3.3592e-07, 2.2875e-07, 1.0917e-06, 4.5126e-07, 7.4150e-07, 5.8700e-07,\n",
      "        1.0078e-06, 3.4984e-07, 2.3437e-07, 4.3321e-07, 3.8935e-07, 3.2052e-07,\n",
      "        6.1166e-07, 4.0685e-07, 3.2441e-07, 2.1697e-07, 4.1636e-07, 3.0527e-07,\n",
      "        4.4015e-07, 7.9645e-07, 2.4019e-07, 1.8029e-07, 5.0087e-07, 6.5011e-07,\n",
      "        3.6448e-07, 4.8143e-07, 3.7006e-07, 2.1088e-06, 9.4752e-07, 7.1240e-07,\n",
      "        9.1845e-07, 8.9059e-07, 5.2570e-07, 4.3511e-07, 4.6036e-07, 1.1099e-06,\n",
      "        1.0365e-06, 3.3845e-07, 5.8313e-07, 5.4943e-07, 3.7440e-07, 4.7996e-07,\n",
      "        3.4762e-07, 5.3849e-07, 3.2128e-07, 2.9810e-07, 5.7996e-07, 8.6317e-07,\n",
      "        2.7703e-07, 4.9465e-07, 1.3240e-06, 2.2212e-07, 3.0681e-07, 1.1604e-07,\n",
      "        2.2839e-07, 3.2602e-07, 3.4324e-07, 2.4034e-07, 1.2205e-07, 3.7709e-07,\n",
      "        3.3391e-07, 6.7559e-07, 2.8020e-07, 2.2182e-07, 5.8942e-07, 1.9866e-07,\n",
      "        6.7924e-07, 1.2486e-06, 4.4893e-07, 8.2482e-07, 1.5853e-07, 6.6744e-07,\n",
      "        8.5739e-08, 4.1593e-07, 3.7109e-07, 4.2747e-07, 4.5249e-07, 1.8811e-07,\n",
      "        9.1907e-07, 2.9936e-07, 2.7776e-07, 6.0889e-07, 2.6149e-07, 8.9493e-07,\n",
      "        8.0736e-07, 1.7997e-07, 2.3811e-07, 1.1472e-06, 4.4953e-07, 1.2218e-07,\n",
      "        3.1180e-07, 3.7743e-07, 2.7124e-07, 6.0669e-07, 2.0176e-07, 2.5950e-07,\n",
      "        3.3980e-07, 4.7618e-07, 8.4249e-07, 7.9413e-07, 6.0415e-07, 6.7151e-07,\n",
      "        5.9305e-07, 5.4607e-07, 6.7823e-07, 2.2616e-07, 5.8593e-07, 5.0708e-07,\n",
      "        1.7715e-07, 6.0535e-07, 5.8566e-07, 2.2872e-07, 1.8342e-07, 5.6274e-07,\n",
      "        5.7370e-07, 4.7224e-07, 3.6537e-07, 1.0944e-06, 5.1585e-07, 3.4805e-07,\n",
      "        2.0934e-07, 1.2736e-06, 5.7299e-07, 2.5321e-07, 6.3862e-07, 7.6575e-07,\n",
      "        1.9565e-07, 1.4500e-07, 6.6701e-07, 7.0296e-07, 1.6571e-07, 7.7348e-07,\n",
      "        1.0200e-06, 2.7622e-07, 6.1201e-07, 3.1422e-07, 1.1798e-07, 4.0956e-07,\n",
      "        3.0563e-07, 8.9075e-07, 2.1461e-07, 7.2730e-07, 3.4742e-07, 1.7042e-07,\n",
      "        6.5309e-07, 9.1955e-07, 1.8736e-07, 3.1510e-07, 1.4743e-06, 4.2827e-07,\n",
      "        5.5637e-07, 4.3796e-07, 3.2133e-07, 2.8234e-07, 4.5314e-07, 1.1563e-07,\n",
      "        1.1016e-06, 1.2050e-06, 3.0249e-07, 6.0765e-07, 4.4911e-07, 1.6574e-07,\n",
      "        1.7728e-07, 1.6654e-06, 1.1465e-07, 2.3199e-07, 8.1542e-07, 7.2397e-07,\n",
      "        9.1439e-07, 3.4069e-07, 1.8869e-07, 3.8633e-07, 2.8953e-07, 6.8189e-07,\n",
      "        4.6632e-07, 1.0782e-07, 3.8895e-07, 5.6133e-07, 4.2811e-07, 1.5588e-07,\n",
      "        4.8586e-07, 7.4463e-07, 6.9351e-07, 3.1670e-07, 6.4388e-07, 5.8201e-07,\n",
      "        5.9323e-07, 2.2376e-07, 1.8152e-07, 3.8706e-07], device='cuda:0')}, 4: {'step': 295000, 'square_avg': tensor([[3.1394e-09, 9.5149e-10, 1.0238e-09,  ..., 9.0438e-11, 6.1631e-09,\n",
      "         5.9294e-11],\n",
      "        [2.2682e-09, 4.4827e-10, 6.2714e-10,  ..., 1.6272e-10, 4.1773e-09,\n",
      "         2.1893e-10],\n",
      "        [6.4304e-09, 1.2936e-09, 2.8372e-09,  ..., 7.6575e-10, 1.5071e-08,\n",
      "         8.6409e-10],\n",
      "        ...,\n",
      "        [2.3437e-09, 7.1944e-10, 1.7054e-09,  ..., 3.7593e-10, 2.3442e-09,\n",
      "         1.8384e-10],\n",
      "        [1.9351e-09, 3.4401e-10, 6.5610e-10,  ..., 7.6308e-11, 3.9624e-09,\n",
      "         1.5092e-10],\n",
      "        [2.3511e-09, 3.9019e-10, 1.2407e-09,  ..., 1.8418e-10, 2.0405e-09,\n",
      "         1.2793e-10]], device='cuda:0')}, 5: {'step': 295000, 'square_avg': tensor([9.2065e-09, 7.0973e-09, 2.3651e-08, 9.7506e-09, 5.5370e-09, 5.8348e-09,\n",
      "        3.4424e-09, 1.5745e-08, 4.9498e-09, 6.8082e-09, 9.7877e-09, 1.4240e-08,\n",
      "        5.5357e-09, 7.3659e-09, 3.1238e-09, 4.3835e-09, 1.4412e-08, 1.4305e-08,\n",
      "        1.1191e-08, 1.2285e-08, 1.0460e-08, 8.2069e-09, 6.1616e-09, 1.1412e-08,\n",
      "        1.3441e-08, 7.0059e-09, 6.3353e-09, 1.2801e-08, 3.8395e-09, 8.6126e-09,\n",
      "        1.4371e-08, 1.4981e-08, 8.8991e-09, 9.1239e-09, 1.1283e-08, 1.2043e-08,\n",
      "        2.7040e-09, 8.8261e-09, 2.4090e-09, 1.1915e-08, 1.2796e-08, 1.4876e-08,\n",
      "        7.1222e-09, 7.9508e-09, 8.7164e-09, 1.5480e-08, 9.9099e-09, 8.4846e-09,\n",
      "        6.0553e-09, 7.3750e-09, 5.6852e-09, 7.7303e-09, 2.2906e-08, 1.6367e-08,\n",
      "        3.5251e-09, 1.1791e-08, 7.5733e-09, 3.5443e-08, 7.7152e-09, 1.1595e-08,\n",
      "        7.2742e-09, 4.1447e-09, 9.4950e-09, 1.6653e-08, 2.9730e-09, 1.5146e-08,\n",
      "        1.0986e-08, 8.0505e-09, 1.1477e-08, 1.2165e-08, 5.2469e-09, 2.0293e-08,\n",
      "        5.3898e-09, 7.6215e-09, 1.5095e-08, 5.6133e-09, 6.6316e-09, 1.5686e-08,\n",
      "        8.2381e-09, 9.0120e-09, 1.6478e-08, 1.6011e-08, 2.2966e-08, 1.7814e-08,\n",
      "        1.3873e-08, 9.2506e-09, 1.3875e-08, 6.3246e-09, 2.5015e-09, 1.9397e-08,\n",
      "        1.1993e-08, 1.4565e-08, 7.3679e-09, 6.2618e-09, 4.8038e-09, 1.9393e-08,\n",
      "        1.2679e-08, 1.0975e-08, 7.5628e-09, 1.1598e-08, 4.9220e-09, 1.1663e-08,\n",
      "        8.5824e-09, 1.4010e-08, 6.4099e-09, 1.1440e-08, 1.1121e-08, 3.5779e-09,\n",
      "        7.4233e-09, 1.0481e-08, 5.6514e-09, 1.2491e-08, 2.4878e-09, 6.5521e-09,\n",
      "        7.0606e-09, 8.2678e-09, 1.0034e-08, 9.7843e-09, 8.5420e-09, 1.2525e-08,\n",
      "        6.2454e-09, 7.7457e-09, 1.9937e-08, 8.6755e-09, 9.9217e-09, 3.9916e-09,\n",
      "        9.8247e-09, 6.1970e-09, 8.1826e-09, 7.4502e-09, 1.5098e-08, 4.0280e-09,\n",
      "        6.5410e-09, 8.8682e-09, 3.8162e-09, 4.7413e-09, 3.6692e-08, 7.4869e-09,\n",
      "        1.4816e-08, 1.4210e-08, 4.4805e-09, 4.9680e-09, 9.2692e-09, 5.4416e-09,\n",
      "        2.0447e-08, 5.0088e-09, 1.3441e-08, 6.0192e-09, 6.8987e-09, 5.2347e-09,\n",
      "        4.4433e-09, 1.7076e-08, 1.5862e-08, 5.9263e-09, 1.1715e-08, 5.5197e-09,\n",
      "        4.4242e-09, 3.1045e-08, 1.5255e-08, 7.7892e-09, 1.0493e-08, 9.1635e-09,\n",
      "        1.1453e-08, 6.6077e-09, 5.1822e-09, 1.8968e-08, 2.0914e-08, 9.6755e-09,\n",
      "        7.6440e-09, 1.1165e-08, 6.7669e-09, 4.2202e-09, 5.8813e-09, 5.2459e-09,\n",
      "        7.4019e-09, 5.4443e-09, 6.2190e-09, 2.3115e-08, 1.7096e-08, 1.5924e-08,\n",
      "        8.2722e-09, 9.5527e-09, 2.8956e-09, 2.0172e-08, 8.6545e-09, 1.0099e-08,\n",
      "        2.2530e-08, 8.0111e-09, 8.4913e-09, 3.2567e-08, 9.3316e-09, 1.2699e-08,\n",
      "        1.1258e-08, 9.3863e-09, 9.3650e-09, 9.1275e-09, 5.2864e-09, 1.9495e-08,\n",
      "        6.2983e-09, 5.7350e-09, 6.5108e-09, 4.5395e-09, 7.1603e-09, 3.7605e-09,\n",
      "        1.0630e-08, 7.6619e-09, 5.9646e-09, 7.8970e-09, 4.2678e-09, 1.7743e-08,\n",
      "        1.7611e-08, 5.8940e-09, 1.8404e-08, 1.0969e-08, 3.7260e-09, 1.2455e-08,\n",
      "        1.7226e-08, 9.2261e-09, 7.6250e-09, 7.7405e-09, 9.4202e-09, 3.8526e-09,\n",
      "        3.0899e-09, 7.1657e-09, 2.5533e-09, 1.4856e-08, 2.8082e-09, 2.8267e-09,\n",
      "        1.2820e-08, 7.5158e-09, 9.6652e-09, 5.3506e-09, 1.8341e-08, 8.7977e-09,\n",
      "        5.7462e-09, 5.5747e-09, 1.2062e-08, 6.6798e-09, 1.0871e-08, 6.1218e-09,\n",
      "        1.1647e-08, 9.7184e-09, 3.4347e-09, 8.5693e-09, 4.6036e-09, 2.1932e-08,\n",
      "        9.2513e-09, 1.4924e-08, 1.2800e-08, 5.4725e-09, 6.0429e-09, 2.0492e-09,\n",
      "        1.6344e-08, 8.6694e-09, 5.7225e-09, 5.8494e-09], device='cuda:0')}, 6: {'step': 295000, 'square_avg': tensor([[1.8143e-08, 9.6778e-08, 4.4752e-08,  ..., 1.5556e-08, 8.9718e-09,\n",
      "         3.0606e-09],\n",
      "        [1.5187e-08, 8.2496e-08, 3.5922e-08,  ..., 1.3472e-08, 7.6406e-09,\n",
      "         3.1729e-09],\n",
      "        [1.4229e-08, 9.1585e-08, 3.7812e-08,  ..., 6.9501e-09, 8.1942e-09,\n",
      "         3.5396e-09],\n",
      "        [1.5162e-08, 7.6787e-08, 3.0689e-08,  ..., 9.8035e-09, 5.7403e-09,\n",
      "         2.8772e-09],\n",
      "        [1.4446e-08, 9.0092e-08, 3.1677e-08,  ..., 1.6612e-08, 8.1558e-09,\n",
      "         2.9016e-09],\n",
      "        [1.0153e-08, 5.7720e-08, 2.8019e-08,  ..., 8.9603e-09, 5.9201e-09,\n",
      "         2.2449e-09]], device='cuda:0')}, 7: {'step': 295000, 'square_avg': tensor([1.3585e-08, 1.3872e-08, 1.5136e-08, 1.0790e-08, 1.2573e-08, 8.6486e-09],\n",
      "       device='cuda:0')}}\n",
      "param_groups \t [{'lr': 0.0001, 'momentum': 0, 'alpha': 0.99, 'eps': 1e-08, 'centered': False, 'weight_decay': 0, 'params': [0, 1, 2, 3, 4, 5, 6, 7]}]\n",
      "q_optimizer's state_dict:\n",
      "state \t {0: {'step': 295000, 'square_avg': tensor([[4.1939e-06, 2.0386e-05, 1.0340e-05,  ..., 2.6008e-05, 8.6066e-06,\n",
      "         1.0164e-05],\n",
      "        [4.2373e-06, 9.3233e-05, 1.5095e-05,  ..., 3.0826e-05, 7.8962e-06,\n",
      "         6.8220e-06],\n",
      "        [3.8908e-06, 2.8025e-05, 5.3164e-05,  ..., 2.4105e-05, 1.2283e-05,\n",
      "         3.9156e-06],\n",
      "        ...,\n",
      "        [8.0495e-06, 1.4984e-04, 4.8289e-05,  ..., 2.6330e-05, 2.7567e-05,\n",
      "         3.4536e-06],\n",
      "        [3.6349e-06, 1.2911e-04, 3.5417e-05,  ..., 6.6526e-05, 5.0442e-05,\n",
      "         7.0868e-06],\n",
      "        [3.7262e-06, 6.0754e-06, 9.5844e-06,  ..., 2.8285e-06, 5.4790e-06,\n",
      "         4.2079e-06]], device='cuda:0')}, 1: {'step': 295000, 'square_avg': tensor([8.7849e-05, 9.8852e-05, 4.2656e-05, 9.5353e-06, 4.5463e-05, 1.2520e-04,\n",
      "        4.5016e-04, 4.6749e-05, 1.2066e-03, 2.3178e-05, 1.2974e-05, 1.0481e-04,\n",
      "        1.0671e-04, 6.9184e-04, 1.7677e-04, 3.2919e-05, 2.3412e-03, 2.3987e-03,\n",
      "        4.5631e-03, 1.0609e-04, 2.5966e-04, 5.2981e-05, 3.4757e-05, 2.6116e-04,\n",
      "        2.6255e-04, 2.4795e-05, 2.2004e-05, 4.2195e-05, 1.2401e-04, 3.5645e-05,\n",
      "        4.4766e-06, 7.6052e-05, 1.5305e-04, 2.7887e-04, 1.9747e-05, 2.3619e-04,\n",
      "        3.7841e-05, 4.0247e-05, 2.1463e-04, 1.4441e-04, 2.9290e-05, 6.4643e-05,\n",
      "        7.8654e-05, 9.4276e-06, 9.6274e-05, 2.9529e-04, 8.7449e-04, 4.3755e-04,\n",
      "        1.6519e-05, 2.7221e-05, 9.9027e-04, 8.1645e-04, 1.1912e-04, 7.0045e-04,\n",
      "        2.6515e-04, 2.2641e-04, 1.8238e-03, 4.4026e-04, 5.4623e-05, 5.8092e-04,\n",
      "        8.9378e-05, 3.8272e-04, 1.3166e-04, 3.9376e-04, 7.3565e-06, 1.1857e-04,\n",
      "        6.4535e-05, 1.9083e-04, 1.3562e-04, 2.5039e-04, 1.0139e-04, 1.9717e-04,\n",
      "        5.9456e-05, 1.9565e-05, 2.8555e-04, 9.1134e-04, 4.3788e-06, 2.8440e-04,\n",
      "        8.2106e-06, 1.0087e-03, 1.2028e-04, 4.7298e-05, 9.0666e-04, 1.3180e-04,\n",
      "        9.7248e-04, 1.8795e-05, 1.8423e-05, 1.2645e-04, 4.6493e-05, 3.5828e-04,\n",
      "        4.2391e-04, 5.3139e-06, 6.3490e-06, 8.5972e-05, 3.3547e-05, 5.9684e-04,\n",
      "        1.0657e-03, 3.4164e-05, 1.7844e-04, 1.3019e-04, 1.8096e-03, 2.4706e-05,\n",
      "        1.1003e-04, 3.1748e-05, 1.1282e-04, 8.5358e-05, 1.9831e-04, 1.2385e-03,\n",
      "        1.8910e-04, 1.0442e-03, 1.3086e-05, 7.0794e-04, 7.9573e-05, 6.8655e-05,\n",
      "        3.1675e-05, 2.3522e-04, 1.5557e-04, 4.9362e-05, 1.5749e-05, 4.7135e-05,\n",
      "        8.0662e-06, 7.1670e-04, 9.4128e-06, 8.8645e-05, 3.3485e-04, 9.4143e-04,\n",
      "        1.1637e-05, 7.9334e-04, 6.0275e-05, 1.3140e-04, 1.5636e-04, 7.1497e-04,\n",
      "        8.8482e-05, 5.5664e-04, 6.1084e-05, 7.4272e-05, 5.2713e-04, 1.0872e-03,\n",
      "        1.8584e-04, 8.2091e-06, 3.9458e-04, 8.5188e-04, 2.6943e-04, 5.6437e-06,\n",
      "        7.7692e-05, 1.1348e-05, 3.0929e-04, 3.1031e-04, 1.5223e-03, 7.9694e-05,\n",
      "        1.1173e-05, 7.3066e-05, 1.7918e-05, 4.3802e-04, 1.3059e-04, 9.1980e-05,\n",
      "        1.2037e-03, 9.6213e-05, 1.5834e-04, 1.4410e-03, 4.1158e-05, 9.8695e-05,\n",
      "        8.0618e-04, 1.3268e-04, 1.5222e-05, 5.4840e-05, 4.5020e-06, 3.5136e-06,\n",
      "        4.3119e-04, 6.6766e-04, 1.3152e-03, 3.0215e-04, 1.1659e-03, 5.1760e-05,\n",
      "        4.2360e-04, 1.2852e-04, 5.4765e-05, 5.3446e-04, 1.6088e-05, 5.4929e-04,\n",
      "        9.0863e-06, 1.8639e-06, 6.2785e-04, 1.5647e-05, 9.0842e-04, 5.8446e-04,\n",
      "        6.8624e-04, 2.7205e-05, 5.5646e-05, 3.2741e-04, 1.5849e-04, 2.7655e-04,\n",
      "        1.6863e-05, 7.8610e-05, 2.3567e-05, 6.7423e-04, 1.1956e-05, 1.3928e-05,\n",
      "        3.9139e-04, 9.0665e-06, 3.2174e-03, 1.4655e-04, 2.0543e-05, 1.1991e-04,\n",
      "        2.4626e-05, 1.9660e-04, 2.0324e-05, 3.4074e-05, 3.8066e-05, 7.1634e-05,\n",
      "        7.3244e-04, 1.8949e-03, 9.6042e-04, 2.0932e-03, 1.8203e-04, 8.7447e-04,\n",
      "        8.1851e-05, 7.0393e-04, 4.0586e-04, 1.2025e-05, 3.4128e-04, 1.9528e-03,\n",
      "        1.0909e-03, 1.3874e-04, 3.9225e-05, 5.3037e-05, 2.6769e-04, 2.1728e-04,\n",
      "        1.4244e-04, 3.4850e-04, 6.5478e-04, 1.4859e-03, 2.8261e-05, 1.6445e-03,\n",
      "        7.3157e-04, 2.6311e-04, 1.3992e-04, 1.0839e-03, 1.1449e-03, 7.0498e-06,\n",
      "        7.2654e-06, 3.6625e-04, 3.8629e-04, 1.7159e-04, 7.7905e-04, 1.9329e-05,\n",
      "        2.3209e-04, 2.4025e-04, 4.1458e-04, 6.9861e-04, 8.4709e-05, 1.5632e-05,\n",
      "        1.7790e-03, 3.9337e-04, 1.3727e-04, 7.8193e-06], device='cuda:0')}, 2: {'step': 295000, 'square_avg': tensor([[4.2911e-06, 2.2538e-06, 3.6651e-06,  ..., 1.7238e-05, 1.3849e-05,\n",
      "         3.2014e-06],\n",
      "        [2.9905e-06, 6.0649e-06, 4.5594e-07,  ..., 3.0999e-06, 2.7937e-06,\n",
      "         3.9508e-07],\n",
      "        [8.1861e-06, 4.6251e-06, 1.8774e-06,  ..., 3.8681e-06, 7.7600e-06,\n",
      "         1.5324e-08],\n",
      "        ...,\n",
      "        [6.2069e-09, 6.1433e-07, 2.1986e-08,  ..., 3.4447e-08, 3.3981e-08,\n",
      "         2.4977e-07],\n",
      "        [8.5373e-07, 2.1039e-06, 2.6956e-06,  ..., 1.0856e-05, 1.2775e-05,\n",
      "         1.7584e-07],\n",
      "        [8.6048e-07, 2.0775e-07, 4.7818e-07,  ..., 1.1179e-06, 7.4598e-07,\n",
      "         2.9455e-08]], device='cuda:0')}, 3: {'step': 295000, 'square_avg': tensor([2.1050e-04, 4.4140e-05, 2.9702e-05, 1.3804e-04, 7.8093e-06, 1.4336e-04,\n",
      "        4.2507e-05, 2.3322e-05, 7.8833e-06, 1.1311e-05, 1.1371e-05, 4.7772e-05,\n",
      "        8.3590e-05, 7.7291e-06, 1.4164e-05, 1.7983e-05, 3.5207e-04, 2.1336e-05,\n",
      "        2.4911e-05, 5.6384e-03, 2.1879e-04, 2.4246e-06, 5.3054e-05, 7.0065e-44,\n",
      "        3.0995e-04, 3.3343e-05, 8.4979e-06, 7.8993e-06, 9.5633e-06, 1.9962e-06,\n",
      "        1.5385e-04, 2.7260e-04, 3.6392e-04, 5.5069e-05, 4.0679e-06, 5.9398e-03,\n",
      "        1.7296e-05, 2.9112e-05, 6.7669e-05, 2.8620e-06, 6.9599e-05, 7.8767e-06,\n",
      "        1.6694e-05, 6.9726e-05, 4.0415e-02, 6.8459e-04, 7.5177e-06, 1.9444e-06,\n",
      "        1.3193e-06, 6.8488e-14, 5.0579e-05, 6.8262e-04, 2.4130e-06, 1.2339e-05,\n",
      "        1.1598e-05, 2.4048e-05, 8.9496e-06, 1.1867e-05, 3.1335e-05, 2.6877e-05,\n",
      "        7.0065e-44, 5.0692e-04, 4.9237e-04, 1.4074e-05, 1.0599e-04, 1.9185e-06,\n",
      "        2.7275e-05, 4.4490e-05, 7.3403e-06, 2.4666e-05, 1.8924e-05, 3.5257e-05,\n",
      "        2.2568e-05, 2.5803e-05, 1.4128e-05, 8.4172e-05, 3.2093e-06, 6.2860e-06,\n",
      "        6.3383e-05, 6.1707e-06, 1.9500e-06, 1.7466e-05, 2.2518e-06, 7.0065e-44,\n",
      "        7.9788e-06, 8.5299e-05, 1.5588e-05, 3.3643e-05, 1.6715e-05, 3.9396e-03,\n",
      "        1.9045e-06, 4.5298e-05, 3.4899e-05, 1.8372e-03, 1.8606e-05, 2.5517e-06,\n",
      "        7.0065e-44, 1.5433e-05, 1.4680e-05, 5.0489e-21, 2.9802e-05, 1.4034e-04,\n",
      "        3.7861e-05, 6.7677e-05, 2.0725e-06, 3.0231e-04, 4.4453e-06, 1.2430e-04,\n",
      "        2.3964e-05, 1.9882e-06, 1.4719e-04, 3.4762e-06, 7.0065e-44, 7.7974e-06,\n",
      "        2.0814e-04, 1.2906e-05, 5.3899e-04, 1.3708e-05, 1.4238e-04, 2.7612e-05,\n",
      "        1.3659e-03, 9.2879e-05, 1.2752e-05, 8.6821e-05, 1.6390e-03, 2.0107e-05,\n",
      "        7.5400e-05, 6.8893e-06, 5.2530e-05, 1.0066e-05, 8.3078e-06, 1.7413e-04,\n",
      "        4.0604e-06, 2.2565e-06, 2.5014e-05, 1.0381e-05, 1.3724e-05, 7.1509e-06,\n",
      "        5.4671e-06, 5.1613e-06, 8.0444e-05, 3.1813e-05, 2.8136e-04, 9.4577e-06,\n",
      "        1.1015e-05, 5.9216e-04, 1.3525e-06, 1.6636e-05, 1.0322e-06, 8.1112e-06,\n",
      "        9.5727e-05, 2.1960e-04, 5.9422e-05, 1.5703e-05, 2.7502e-06, 7.4609e-06,\n",
      "        9.6002e-08, 5.7911e-05, 3.6859e-05, 2.3409e-04, 4.8148e-05, 2.0828e-04,\n",
      "        4.0199e-05, 3.1377e-05, 7.0065e-44, 3.7933e-06, 7.2860e-06, 7.0065e-44,\n",
      "        5.5934e-07, 7.9428e-04, 7.0065e-44, 1.9071e-04, 2.6322e-05, 4.6078e-05,\n",
      "        3.5326e-05, 1.2941e-04, 1.3517e-04, 2.6643e-05, 7.2913e-05, 1.2805e-02,\n",
      "        2.0220e-05, 5.6862e-05, 2.1878e-05, 1.0370e-05, 2.0768e-06, 5.3132e-05,\n",
      "        4.3760e-05, 1.9172e-04, 6.9827e-06, 1.3859e-05, 7.7525e-05, 7.0065e-44,\n",
      "        5.5698e-05, 1.4482e-04, 3.4872e-05, 7.0065e-44, 2.5199e-04, 4.0766e-05,\n",
      "        6.9252e-06, 1.4475e-05, 1.1238e-05, 4.0783e-05, 1.8324e-05, 8.9072e-06,\n",
      "        7.9642e-06, 4.3297e-06, 4.3783e-06, 5.1776e-06, 5.8525e-05, 2.9122e-03,\n",
      "        1.1237e-05, 9.0858e-05, 6.0170e-06, 4.0460e-05, 1.3509e-05, 5.2171e-06,\n",
      "        1.0339e-05, 7.7761e-06, 8.7067e-06, 6.0398e-06, 2.8039e-04, 1.4206e-05,\n",
      "        1.2952e-05, 2.8747e-03, 7.8536e-06, 8.4643e-06, 7.0065e-44, 4.0749e-04,\n",
      "        1.1134e-06, 2.1715e-05, 7.3437e-06, 7.7655e-06, 5.1490e-05, 2.9075e-06,\n",
      "        7.2841e-05, 1.2185e-05, 2.8295e-06, 2.4385e-05, 9.4356e-05, 5.8227e-06,\n",
      "        3.1033e-04, 3.4100e-04, 2.3684e-03, 1.9029e-04, 4.8082e-06, 1.3853e-04,\n",
      "        1.4233e-05, 9.2471e-06, 8.2887e-04, 5.4834e-06, 7.0065e-44, 1.5350e-05,\n",
      "        1.6397e-05, 5.8132e-06, 1.3331e-04, 3.4080e-06], device='cuda:0')}, 4: {'step': 295000, 'square_avg': tensor([[3.5696e-08, 7.1484e-07, 1.3053e-06,  ..., 3.2013e-12, 4.6882e-07,\n",
      "         2.5677e-07],\n",
      "        [8.5588e-09, 6.1730e-08, 4.6834e-07,  ..., 1.6460e-11, 2.1767e-07,\n",
      "         8.3449e-07],\n",
      "        [2.8638e-09, 3.0289e-07, 4.6224e-07,  ..., 1.1766e-08, 2.2211e-07,\n",
      "         4.2029e-06],\n",
      "        ...,\n",
      "        [4.7223e-09, 3.1774e-08, 4.6597e-07,  ..., 1.0383e-10, 6.3139e-08,\n",
      "         8.3737e-07],\n",
      "        [1.6400e-08, 1.5203e-07, 1.2358e-06,  ..., 1.5718e-10, 1.4246e-07,\n",
      "         1.4657e-06],\n",
      "        [2.4833e-08, 5.1939e-07, 2.2974e-06,  ..., 1.3195e-09, 5.1189e-07,\n",
      "         2.1911e-06]], device='cuda:0')}, 5: {'step': 295000, 'square_avg': tensor([2.2069e-05, 2.4962e-05, 9.1224e-05, 9.0689e-06, 5.0521e-07, 2.5022e-06,\n",
      "        3.1789e-05, 1.9503e-05, 2.8996e-05, 1.9334e-04, 1.8955e-06, 1.1179e-05,\n",
      "        6.7576e-05, 4.7561e-05, 4.8750e-05, 2.8893e-05, 4.4214e-05, 3.2075e-05,\n",
      "        3.0891e-05, 3.0441e-06, 7.0065e-44, 1.0251e-05, 1.2461e-04, 1.3754e-04,\n",
      "        1.5680e-04, 9.3635e-07, 3.9204e-05, 1.8534e-05, 5.2271e-05, 4.0602e-05,\n",
      "        7.0065e-44, 4.1735e-05, 7.0065e-44, 4.5641e-05, 1.3835e-09, 5.0747e-07,\n",
      "        2.0517e-06, 1.9302e-06, 2.5388e-05, 1.3312e-04, 7.0065e-44, 3.3112e-05,\n",
      "        4.4596e-05, 1.1890e-04, 1.2448e-04, 2.9606e-04, 9.5033e-05, 6.1622e-05,\n",
      "        2.2032e-04, 3.1356e-05, 2.5708e-04, 2.1222e-05, 1.2598e-05, 1.9516e-05,\n",
      "        1.6576e-06, 5.8569e-05, 1.6458e-06, 1.8600e-05, 1.3311e-04, 1.0797e-07,\n",
      "        4.9058e-08, 8.8288e-25, 7.6096e-05, 6.1734e-05, 6.2216e-05, 3.5787e-04,\n",
      "        1.1773e-04, 4.9290e-05, 1.0332e-04, 1.8670e-05, 6.2633e-05, 1.2250e-05,\n",
      "        1.3122e-04, 6.0126e-05, 7.0065e-44, 1.3599e-04, 3.4468e-05, 1.1138e-04,\n",
      "        1.1484e-04, 5.9129e-05, 7.0065e-44, 2.2831e-05, 1.2766e-04, 1.3543e-04,\n",
      "        5.0757e-05, 3.2938e-05, 4.5833e-05, 7.6395e-05, 1.6005e-05, 1.6639e-04,\n",
      "        2.5280e-04, 4.5664e-05, 1.0005e-04, 2.7951e-05, 4.3632e-05, 3.8237e-06,\n",
      "        9.7638e-05, 8.5297e-05, 1.4808e-04, 6.1966e-05, 3.1191e-05, 7.8007e-05,\n",
      "        8.9718e-05, 1.3472e-04, 7.1345e-05, 1.8375e-05, 8.7227e-05, 1.3630e-06,\n",
      "        3.7947e-05, 1.0897e-04, 1.6251e-04, 6.3320e-05, 5.7951e-06, 4.6927e-05,\n",
      "        1.9161e-05, 2.6139e-05, 1.6494e-05, 7.2812e-05, 1.1774e-05, 3.0978e-05,\n",
      "        5.3004e-05, 6.5576e-07, 2.8766e-04, 7.0065e-44, 1.1008e-04, 2.0200e-05,\n",
      "        3.3459e-05, 1.7136e-04, 7.0065e-44, 6.6992e-05, 6.9359e-07, 7.0065e-44,\n",
      "        1.1168e-04, 3.3455e-05, 2.6088e-05, 4.2951e-05, 8.3882e-05, 1.0761e-05,\n",
      "        9.2526e-05, 4.6615e-05, 1.1905e-07, 7.0065e-44, 4.0672e-05, 4.8540e-05,\n",
      "        1.9549e-05, 9.4810e-05, 4.9615e-05, 3.7928e-05, 1.8083e-04, 4.3060e-06,\n",
      "        1.4069e-05, 5.4413e-05, 2.9865e-05, 8.0720e-05, 9.8365e-05, 1.3733e-04,\n",
      "        4.2220e-05, 2.3794e-05, 1.3761e-05, 6.2096e-22, 5.9376e-05, 2.5214e-05,\n",
      "        2.1652e-05, 1.0217e-04, 2.5381e-05, 3.0545e-05, 1.2046e-04, 9.1593e-05,\n",
      "        2.3666e-05, 2.4096e-05, 5.6172e-06, 3.4883e-05, 1.3848e-04, 4.2017e-05,\n",
      "        1.0685e-04, 8.6760e-06, 1.6286e-06, 5.8707e-05, 7.1062e-05, 8.0055e-05,\n",
      "        3.7067e-05, 1.4544e-05, 1.4183e-04, 1.3931e-07, 1.3112e-05, 1.1796e-05,\n",
      "        7.0065e-44, 1.4852e-04, 1.2021e-05, 1.9298e-06, 2.7710e-06, 1.3337e-04,\n",
      "        1.6564e-04, 7.0065e-44, 1.0064e-04, 4.7048e-05, 4.2430e-05, 6.3083e-05,\n",
      "        1.0909e-05, 9.7704e-05, 1.5245e-04, 8.3572e-05, 7.0536e-05, 4.2276e-06,\n",
      "        9.1367e-06, 7.0065e-44, 7.0065e-44, 9.5439e-06, 6.1408e-05, 1.6441e-04,\n",
      "        2.9764e-05, 2.1164e-05, 1.7692e-06, 4.5740e-05, 1.1129e-04, 2.0714e-05,\n",
      "        1.3145e-05, 5.7860e-06, 5.8400e-06, 1.5521e-05, 1.4707e-04, 1.0870e-05,\n",
      "        1.1019e-04, 8.7529e-05, 1.1545e-05, 2.4934e-05, 1.5160e-05, 1.2108e-04,\n",
      "        3.8679e-05, 2.1009e-04, 1.5191e-05, 2.6395e-05, 1.0201e-05, 7.0065e-44,\n",
      "        1.2909e-05, 1.4926e-05, 3.7693e-05, 8.8540e-07, 9.2054e-06, 8.8228e-05,\n",
      "        5.0694e-05, 7.2939e-06, 3.2562e-06, 5.5580e-05, 6.5899e-08, 8.0548e-05,\n",
      "        8.1230e-05, 1.7769e-04, 6.6392e-05, 1.8917e-05, 1.4363e-04, 7.9471e-05,\n",
      "        3.3204e-04, 2.3110e-05, 4.6965e-05, 7.1254e-05], device='cuda:0')}, 6: {'step': 295000, 'square_avg': tensor([[3.9940e-04, 3.0003e-04, 5.1601e-05, 5.0418e-07, 7.1377e-05, 4.9727e-05,\n",
      "         6.9208e-04, 1.6984e-06, 8.5683e-05, 9.9927e-02, 2.3124e-07, 3.3807e-06,\n",
      "         6.0389e-02, 9.9238e-06, 4.6590e-02, 1.1713e-03, 2.4637e-02, 8.8982e-03,\n",
      "         4.6853e-05, 3.1176e-07, 7.0065e-44, 9.6787e-04, 2.1084e-05, 6.6303e-02,\n",
      "         1.0708e-01, 2.3247e-07, 2.3679e-05, 1.9134e-06, 2.7203e-04, 5.7405e-02,\n",
      "         7.0065e-44, 3.5407e-04, 7.0065e-44, 5.0626e-04, 9.8972e-10, 4.1469e-06,\n",
      "         1.0155e-07, 1.1988e-04, 1.4034e-05, 2.1205e-03, 7.0065e-44, 4.8379e-02,\n",
      "         2.4560e-04, 1.1666e-02, 8.1394e-02, 1.7219e-02, 7.9107e-02, 7.3978e-05,\n",
      "         8.1367e-02, 2.8263e-05, 1.2310e-04, 1.5568e-03, 1.1003e-06, 5.0591e-06,\n",
      "         4.7197e-07, 1.0857e-02, 1.2291e-04, 7.2607e-06, 7.5486e-04, 1.6427e-08,\n",
      "         1.5169e-08, 4.4446e-27, 7.8628e-04, 5.0333e-04, 8.8368e-04, 2.0037e-04,\n",
      "         1.0439e-01, 7.0942e-06, 7.2771e-02, 3.1256e-04, 1.7278e-04, 8.0725e-06,\n",
      "         5.1481e-05, 2.6127e-02, 7.0065e-44, 8.8201e-02, 5.6978e-02, 1.2958e-02,\n",
      "         1.4610e-04, 1.8737e-05, 7.0065e-44, 3.5328e-06, 9.3453e-02, 1.0134e-03,\n",
      "         5.0992e-04, 5.9388e-02, 1.0746e-05, 4.0584e-05, 7.1249e-06, 8.6110e-02,\n",
      "         1.5749e-02, 2.5914e-04, 2.7457e-03, 5.3474e-04, 2.7068e-04, 1.2934e-06,\n",
      "         1.4998e-03, 2.5630e-02, 1.1966e-01, 5.1044e-04, 3.9779e-06, 1.3816e-02,\n",
      "         9.1931e-04, 9.7963e-05, 1.7625e-03, 8.0542e-03, 1.7102e-05, 1.4442e-07,\n",
      "         1.0194e-05, 4.7550e-04, 7.4566e-02, 4.0373e-03, 1.3496e-04, 5.7124e-02,\n",
      "         1.6302e-06, 2.2144e-06, 3.1013e-06, 2.7866e-04, 2.4394e-06, 1.1884e-05,\n",
      "         1.1054e-03, 3.1599e-08, 8.9278e-05, 7.0065e-44, 6.3237e-02, 9.3552e-06,\n",
      "         1.1592e-02, 1.6745e-02, 7.0065e-44, 3.3558e-05, 4.2776e-08, 7.0065e-44,\n",
      "         8.7390e-04, 1.9819e-05, 2.4705e-04, 1.6947e-02, 8.3153e-03, 1.4114e-06,\n",
      "         7.9981e-02, 6.8656e-02, 8.9633e-08, 7.0065e-44, 2.6260e-04, 1.3577e-05,\n",
      "         3.0730e-06, 8.9332e-02, 5.0383e-02, 7.1243e-03, 1.0712e-01, 6.3627e-07,\n",
      "         1.9955e-05, 6.2649e-03, 7.4438e-06, 1.5451e-02, 1.1854e-02, 1.9980e-02,\n",
      "         6.0905e-06, 9.5832e-06, 8.8520e-07, 8.5501e-26, 4.2721e-04, 6.9903e-06,\n",
      "         3.4387e-06, 4.6429e-02, 5.4566e-06, 1.0166e-05, 5.7251e-03, 1.1161e-02,\n",
      "         8.5327e-03, 1.2328e-03, 5.7367e-07, 3.9891e-04, 4.6188e-05, 5.0658e-02,\n",
      "         1.5980e-02, 5.5254e-06, 2.0466e-07, 1.1321e-02, 7.0848e-04, 8.1003e-04,\n",
      "         3.2640e-04, 1.0351e-05, 1.2429e-02, 3.9440e-08, 4.5683e-06, 1.3261e-06,\n",
      "         7.0065e-44, 9.1314e-02, 1.3085e-06, 2.3812e-06, 2.2424e-07, 5.6710e-04,\n",
      "         1.1087e-01, 7.0065e-44, 9.7417e-02, 3.0816e-05, 5.3656e-03, 5.6266e-06,\n",
      "         6.2112e-06, 9.0786e-02, 1.8719e-02, 8.8474e-02, 1.1178e-02, 3.9773e-07,\n",
      "         1.7527e-06, 7.0065e-44, 7.0065e-44, 8.1970e-07, 1.2756e-02, 4.9963e-05,\n",
      "         1.1741e-03, 3.5804e-04, 2.4908e-07, 2.4739e-05, 2.3587e-04, 7.8829e-04,\n",
      "         3.3659e-06, 2.9178e-06, 1.8230e-06, 1.4980e-05, 1.7556e-03, 1.1654e-04,\n",
      "         3.2213e-05, 9.9981e-04, 3.4051e-06, 1.9039e-04, 1.6919e-02, 1.2045e-01,\n",
      "         3.4580e-04, 1.4536e-02, 4.2670e-06, 3.3796e-06, 7.6231e-07, 7.0065e-44,\n",
      "         7.0881e-06, 2.0218e-04, 6.2349e-04, 1.3577e-07, 2.0583e-06, 5.8964e-02,\n",
      "         4.6225e-03, 2.7288e-06, 1.6588e-04, 8.0801e-03, 3.8683e-08, 1.3630e-02,\n",
      "         1.0342e-01, 1.3616e-01, 7.7127e-04, 2.8757e-06, 9.3089e-02, 9.5003e-03,\n",
      "         1.4992e-02, 8.0744e-03, 9.8173e-03, 2.7656e-02]], device='cuda:0')}, 7: {'step': 295000, 'square_avg': tensor([0.0162], device='cuda:0')}}\n",
      "param_groups \t [{'lr': 0.0001, 'momentum': 0, 'alpha': 0.99, 'eps': 1e-08, 'centered': False, 'weight_decay': 0, 'params': [0, 1, 2, 3, 4, 5, 6, 7]}]\n"
     ]
    }
   ],
   "source": [
    "print(\"pi_optimizer's state_dict:\")\n",
    "for var_name in pi_optimizer.state_dict():\n",
    "    print(var_name, \"\\t\", pi_optimizer.state_dict()[var_name])\n",
    "\n",
    "print(\"q_optimizer's state_dict:\")\n",
    "for var_name in q_optimizer.state_dict():\n",
    "    print(var_name, \"\\t\", q_optimizer.state_dict()[var_name])"
   ]
  },
  {
   "cell_type": "code",
   "execution_count": null,
   "metadata": {},
   "outputs": [],
   "source": [
    "now = datetime.now()\n",
    "\n",
    "current_time = str(now.isoformat())\n",
    "\n",
    "\n",
    "\n",
    "torch.save({\n",
    "            'model of ac.q': ac.q.state_dict(),\n",
    "            'model of ac.pi': ac.pi.state_dict(),\n",
    "            'q_optimizer_state_dict': q_optimizer.state_dict(),\n",
    "            'pi_optimizer_state_dict': pi_optimizer.state_dict(),\n",
    "            \n",
    "            }, \"model_nn/model_nn_%s.pt\" % current_time)\n",
    "\n"
   ]
  },
  {
   "cell_type": "code",
   "execution_count": null,
   "metadata": {},
   "outputs": [
    {
     "name": "stdout",
     "output_type": "stream",
     "text": [
      "Shutting down background jobs, please wait a moment...\n",
      "Done!\n"
     ]
    },
    {
     "name": "stderr",
     "output_type": "stream",
     "text": [
      "Waiting for the remaining 140 operations to synchronize with Neptune. Do not kill this process.\n"
     ]
    },
    {
     "name": "stdout",
     "output_type": "stream",
     "text": [
      "All 140 operations synced, thanks for waiting!\n"
     ]
    }
   ],
   "source": [
    "nep_log.stop()"
   ]
  }
 ],
 "metadata": {
  "interpreter": {
   "hash": "1a48a149bc7a8dee0435672efcae6f64e48d62311a35302b209b3ac517d7f9c6"
  },
  "kernelspec": {
   "display_name": "Python 3.8.12 64-bit ('cosmic_rays_x_py38_env': conda)",
   "language": "python",
   "name": "python3"
  },
  "language_info": {
   "codemirror_mode": {
    "name": "ipython",
    "version": 3
   },
   "file_extension": ".py",
   "mimetype": "text/x-python",
   "name": "python",
   "nbconvert_exporter": "python",
   "pygments_lexer": "ipython3",
   "version": "3.8.12"
  },
  "orig_nbformat": 4
 },
 "nbformat": 4,
 "nbformat_minor": 2
}
