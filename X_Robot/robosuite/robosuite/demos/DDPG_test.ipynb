{
 "cells": [
  {
   "cell_type": "code",
   "execution_count": 1,
   "metadata": {},
   "outputs": [],
   "source": [
    "import scipy.signal\n",
    "import sys\n",
    "import torch\n",
    "import torch.nn as nn\n",
    "import numpy as np"
   ]
  },
  {
   "cell_type": "code",
   "execution_count": 2,
   "metadata": {},
   "outputs": [],
   "source": [
    "from typing import Dict, List, Optional, Tuple\n",
    "import gym\n",
    "from PIL import Image\n",
    "# from pyvirtualdisplay import Display\n",
    "# Display().start()\n",
    "from datetime import datetime\n",
    "from tqdm import tqdm"
   ]
  },
  {
   "cell_type": "code",
   "execution_count": 3,
   "metadata": {},
   "outputs": [],
   "source": [
    "import math\n",
    "import random\n",
    "from copy import deepcopy\n",
    "import torch\n",
    "from torch.optim import Adam\n",
    "from torch.optim import RMSprop\n",
    "import gym\n",
    "import time\n",
    "from collections import namedtuple, deque\n",
    "import neptune.new as neptune"
   ]
  },
  {
   "cell_type": "code",
   "execution_count": 4,
   "metadata": {},
   "outputs": [],
   "source": [
    "import robosuite as suite\n",
    "from robosuite.controllers import load_controller_config\n",
    "from robosuite.controllers.controller_factory import reset_controllers\n",
    "from robosuite.utils import observables\n",
    "from robosuite.utils.input_utils import *\n",
    "from robosuite.robots import Bimanual\n",
    "import imageio\n",
    "import numpy as np\n",
    "import robosuite.utils.macros as macros\n",
    "macros.IMAGE_CONVENTION = \"opencv\""
   ]
  },
  {
   "cell_type": "code",
   "execution_count": 5,
   "metadata": {},
   "outputs": [
    {
     "name": "stdout",
     "output_type": "stream",
     "text": [
      "https://app.neptune.ai/xhnfirst/DDPG-robosuite/e/DDPGROB-149\n",
      "Remember to stop your run once you’ve finished logging your metadata (https://docs.neptune.ai/api-reference/run#.stop). It will be stopped automatically only when the notebook kernel/interactive console is terminated.\n"
     ]
    }
   ],
   "source": [
    "nep_log = neptune.init(\n",
    "    project=\"xhnfirst/DDPG-robosuite\",\n",
    "    api_token=\"eyJhcGlfYWRkcmVzcyI6Imh0dHBzOi8vYXBwLm5lcHR1bmUuYWkiLCJhcGlfdXJsIjoiaHR0cHM6Ly9hcHAubmVwdHVuZS5haSIsImFwaV9rZXkiOiI1NTg5MDI2OS01MTVmLTQ2YjUtODA1Yy02ZWQyNDgxZDcwN2UifQ==\",\n",
    ")"
   ]
  },
  {
   "cell_type": "code",
   "execution_count": 6,
   "metadata": {},
   "outputs": [
    {
     "name": "stdout",
     "output_type": "stream",
     "text": [
      "device =  cuda\n"
     ]
    }
   ],
   "source": [
    "options = {\n",
    "    'env_name': 'EElab_test2',\n",
    "    \"robots\": \"UR5e\"\n",
    "}\n",
    "controller_name = \"JOINT_VELOCITY\"\n",
    "options[\"controller_configs\"] = suite.load_controller_config(default_controller=controller_name)\n",
    "\n",
    "env = suite.make(\n",
    "    **options,\n",
    "    has_renderer=False,\n",
    "    has_offscreen_renderer=True,\n",
    "    ignore_done=True,\n",
    "    use_camera_obs=False,\n",
    "    gripper_types=None,\n",
    "    renderer = 'mujoco',\n",
    "\n",
    ")\n",
    "\n",
    "test_env = suite.make(\n",
    "    **options,\n",
    "    has_renderer=False,\n",
    "    has_offscreen_renderer=True,\n",
    "    ignore_done=True,\n",
    "    use_camera_obs=False,\n",
    "    gripper_types=None,\n",
    "    renderer = 'mujoco',\n",
    ")\n",
    "\n",
    "\n",
    "video_env = suite.make(\n",
    "    **options,\n",
    "    gripper_types=None,\n",
    "    has_renderer=False,\n",
    "    has_offscreen_renderer=True,\n",
    "    ignore_done=True,\n",
    "    use_camera_obs=True,\n",
    "    use_object_obs=True, \n",
    "    camera_names='Labviewer',\n",
    "    camera_heights=512,\n",
    "    camera_widths=512,\n",
    "    # control_freq=200,\n",
    "    renderer = 'mujoco',\n",
    ")\n",
    "\n",
    "frame = []\n",
    "device= torch.device(\"cuda\" if torch.cuda.is_available() else \"cpu\")\n",
    "print('device = ', device)"
   ]
  },
  {
   "cell_type": "code",
   "execution_count": 7,
   "metadata": {},
   "outputs": [],
   "source": [
    "def mlp(sizes, activation, output_activation=nn.Identity):\n",
    "    layers = []\n",
    "    for j in range(len(sizes)-1):\n",
    "        act = activation if j < len(sizes)-2 else output_activation\n",
    "        layers += [nn.Linear(sizes[j], sizes[j+1]), act()]\n",
    "    return nn.Sequential(*layers)\n",
    "\n",
    "\n",
    "class MLPActor(nn.Module):\n",
    "\n",
    "    def __init__(self, obs_dim, act_dim, hidden_sizes, activation, act_limit):\n",
    "        super().__init__()\n",
    "        pi_sizes = [obs_dim] + list(hidden_sizes) + [act_dim]\n",
    "        self.pi = mlp(pi_sizes, activation, nn.Tanh)\n",
    "        self.act_limit = act_limit\n",
    "\n",
    "    def forward(self, obs):\n",
    "        # Return output from network scaled to action space limits.\n",
    "        return self.act_limit * self.pi(obs)\n",
    "\n",
    "class MLPQFunction(nn.Module):\n",
    "\n",
    "    def __init__(self, obs_dim, act_dim, hidden_sizes, activation):\n",
    "        super().__init__()\n",
    "        self.q = mlp([obs_dim + act_dim] + list(hidden_sizes) + [1], activation)\n",
    "\n",
    "    def forward(self, obs, act):\n",
    "        q = self.q(torch.cat([obs, act], dim=-1))\n",
    "        return torch.squeeze(q, -1) # Critical to ensure q has right shape.\n",
    "\n",
    "class MLPActorCritic(nn.Module):\n",
    "\n",
    "    def __init__(self, hidden_sizes=(256,256),\n",
    "                 activation=nn.ReLU, device=torch.device(\"cuda\" if torch.cuda.is_available() else \"cpu\")):\n",
    "        super().__init__()\n",
    "\n",
    "        obs_dim = 35\n",
    "        act_dim = 6\n",
    "        act_limit = 1\n",
    "\n",
    "        # build policy and value functions\n",
    "        self.pi = MLPActor(obs_dim, act_dim, hidden_sizes, activation, act_limit).to(device)\n",
    "        self.q = MLPQFunction(obs_dim, act_dim, hidden_sizes, activation).to(device)\n",
    "\n",
    "    def act(self, obs):\n",
    "        with torch.no_grad():\n",
    "            return self.pi(obs)"
   ]
  },
  {
   "cell_type": "code",
   "execution_count": 8,
   "metadata": {},
   "outputs": [],
   "source": [
    "Transition = namedtuple('Transition',\n",
    "                        ('obs', 'act', 'rew', 'next_obs', 'done'))\n",
    "\n",
    "class ReplayMemory(object):\n",
    "\n",
    "    def __init__(self, capacity):\n",
    "        self.memory = deque([],maxlen=capacity)\n",
    "\n",
    "    def push(self, *args):\n",
    "        \"\"\"Save a transition\"\"\"\n",
    "        self.memory.append(Transition(*args))\n",
    "\n",
    "    def sample(self, batch_size):\n",
    "        return random.sample(self.memory, batch_size)\n",
    "\n",
    "    def __len__(self):\n",
    "        return len(self.memory)"
   ]
  },
  {
   "cell_type": "code",
   "execution_count": 9,
   "metadata": {},
   "outputs": [],
   "source": [
    "\n",
    "params = {\n",
    "    \"dropout\": 0.2,\n",
    "    \"learning_rate\": 0.001,\n",
    "    \"optimizer\": \"Adam\",\n",
    "    \"hid\": 256,\n",
    "    \"l\": 3,\n",
    "    \"seed\": 0,\n",
    "    \"steps_per_epoch\": 3000,\n",
    "    \"steps_video\": 30000,\n",
    "    \"epochs\": 1000,\n",
    "    \"replay_size\": int(1e8),\n",
    "    \"gamma\": 0.99,\n",
    "    \"polyak\": 0.995,\n",
    "    \"pi_lr\": 1e-4,\n",
    "    \"q_lr\": 1e-4,\n",
    "    \"batch_size\": 1000,\n",
    "    \"start_steps\": 10000, \n",
    "    \"update_after\": 5000,\n",
    "    \"update_every\": 100,\n",
    "    \"act_noise\": 0.01,\n",
    "    \"num_test_episodes\": 5,\n",
    "    \"max_ep_len\": 1000,\n",
    "    \"max_video_len\": 1000,\n",
    "    \"save_model_len\": 10000,\n",
    "    # \"obs_dim\": 47,\n",
    "    # \"act_dim\": 7,\n",
    "    # \"act_limit\": 1\n",
    "}\n",
    "\n",
    "ac_kwargs=dict(hidden_sizes=[params[\"hid\"]]*params[\"l\"])"
   ]
  },
  {
   "cell_type": "code",
   "execution_count": 10,
   "metadata": {},
   "outputs": [
    {
     "name": "stdout",
     "output_type": "stream",
     "text": [
      "obs_dim =  35\n",
      "act_dim =  6\n",
      "act_limit =  1\n"
     ]
    }
   ],
   "source": [
    "nep_log[\"parameters\"] = params\n",
    "\n",
    "torch.manual_seed(params[\"seed\"])\n",
    "np.random.seed(params[\"seed\"])\n",
    "\n",
    "obs_dim = 35\n",
    "print('obs_dim = ', obs_dim)\n",
    "act_dim = 6\n",
    "print('act_dim = ', act_dim)\n",
    "# Action limit for clamping: critically, assumes all dimensions share the same bound!\n",
    "act_limit = 1\n",
    "print('act_limit = ', act_limit)\n",
    "# Create actor-critic module and target networks\n",
    "ac = MLPActorCritic(**ac_kwargs)\n",
    "ac_targ = deepcopy(ac)\n",
    "\n",
    "# Freeze target networks with respect to optimizers (only update via polyak averaging)\n",
    "for p in ac_targ.parameters():\n",
    "    p.requires_grad = False\n",
    "\n",
    "memory = ReplayMemory(params[\"replay_size\"])"
   ]
  },
  {
   "cell_type": "code",
   "execution_count": 11,
   "metadata": {},
   "outputs": [],
   "source": [
    "# Set up function for computing DDPG Q-loss\n",
    "def compute_loss_q(data):\n",
    "\n",
    "    o = torch.cat(data.obs).float()\n",
    "    a = torch.cat(data.act).float()\n",
    "    r = torch.cat(data.rew).float()\n",
    "    o2 =torch.cat(data.next_obs).float()\n",
    "    d = torch.cat(data.done).float()\n",
    "\n",
    "    q = ac.q(o,a)\n",
    "\n",
    "\n",
    "    # Bellman backup for Q function\n",
    "    with torch.no_grad():\n",
    "        q_pi_targ = ac_targ.q(o2, ac_targ.pi(o2))\n",
    "        backup = r + params[\"gamma\"] * (1 - d) * q_pi_targ\n",
    "\n",
    "    # MSE loss against Bellman backup\n",
    "    loss_q = ((q - backup)**2).mean()\n",
    "\n",
    "    return loss_q\n",
    "\n",
    "# Set up function for computing DDPG pi loss\n",
    "def compute_loss_pi(data):\n",
    "\n",
    "    o = torch.cat(data.obs).float()\n",
    "\n",
    "    q_pi = ac.q(o, ac.pi(o))\n",
    "\n",
    "    return -q_pi.mean()\n"
   ]
  },
  {
   "cell_type": "code",
   "execution_count": 12,
   "metadata": {},
   "outputs": [],
   "source": [
    "pi_optimizer = RMSprop(ac.pi.parameters(), lr=params[\"pi_lr\"])\n",
    "q_optimizer = RMSprop(ac.q.parameters(), lr=params[\"q_lr\"])\n",
    "\n",
    "def update(data):\n",
    "    # First run one gradient descent step for Q.\n",
    "\n",
    "\n",
    "    q_optimizer.zero_grad()\n",
    "    loss_q = compute_loss_q(data)\n",
    "\n",
    "    loss_q.backward()\n",
    "\n",
    "    q_optimizer.step()\n",
    "\n",
    "\n",
    "    # Freeze Q-network so you don't waste computational effort \n",
    "    # computing gradients for it during the policy learning step.\n",
    "    for p in ac.q.parameters():\n",
    "        p.requires_grad = False\n",
    "\n",
    "    # Next run one gradient descent step for pi.\n",
    "    pi_optimizer.zero_grad()\n",
    "    loss_pi = compute_loss_pi(data)\n",
    "    loss_pi.backward()\n",
    "    pi_optimizer.step()\n",
    "\n",
    "    # Unfreeze Q-network so you can optimize it at next DDPG step.\n",
    "    for p in ac.q.parameters():\n",
    "        p.requires_grad = True\n",
    "\n",
    "\n",
    "\n",
    "    # Finally, update target networks by polyak averaging.\n",
    "    with torch.no_grad():\n",
    "        for p, p_targ in zip(ac.parameters(), ac_targ.parameters()):\n",
    "            # NB: We use an in-place operations \"mul_\", \"add_\" to update target\n",
    "            # params, as opposed to \"mul\" and \"add\", which would make new tensors.\n",
    "            p_targ.data.mul_(params[\"polyak\"])\n",
    "            p_targ.data.add_((1 - params[\"polyak\"]) * p.data)\n"
   ]
  },
  {
   "cell_type": "code",
   "execution_count": 13,
   "metadata": {},
   "outputs": [],
   "source": [
    "\n",
    "\n",
    "\n",
    "def get_action(o, noise_scale):\n",
    "    a = ac.act(torch.as_tensor(o, dtype=torch.float32))\n",
    "    a += noise_scale * torch.randn(act_dim).to(device)\n",
    "    return torch.clip(a, -act_limit, act_limit)\n",
    "\n",
    "def test_agent(epoch):\n",
    "    test_main = 0\n",
    "    test_step = 0\n",
    "    for j in range(params[\"num_test_episodes\"]):\n",
    "        obs, d, test_ep_ret, test_ep_len = test_env.reset(), False, 0, 0\n",
    "        o = list(obs['robot0_proprio-state']) + list(obs['object-state'])\n",
    "        o = torch.tensor([o], dtype=torch.float32, device=device)\n",
    "        while not(d or (test_ep_len == params[\"max_ep_len\"])):\n",
    "            a_cpu = get_action(o, 0).cpu().data.numpy()\n",
    "            obs, r, d, _ = test_env.step(a_cpu[0])\n",
    "            o = list(obs['robot0_proprio-state']) + list(obs['object-state'])\n",
    "            o = torch.tensor([o], dtype=torch.float32, device=device)\n",
    "            test_ep_ret += r\n",
    "            test_ep_len += 1\n",
    "        test_ep_main = test_ep_ret/test_ep_len\n",
    "        test_step +=1\n",
    "        test_main += test_ep_main\n",
    "    print('test_rew_main = ', float(test_main/test_step))\n",
    "    nep_log[\"test/reward\"].log(test_main/test_step)\n",
    "    \n",
    "def video_agent(epoch):\n",
    "    obs, d, test_ep_len = video_env.reset(), False, 0\n",
    "    o = list(obs['robot0_proprio-state']) + list(obs['object-state'])\n",
    "    o = torch.tensor([o], dtype=torch.float32, device=device)\n",
    "    now = datetime.now()\n",
    "    current_time = str(now.isoformat())\n",
    "    writer = imageio.get_writer(\n",
    "        \"/home/xhnfly/Cosmic_rays_X/X_Robot/robosuite/robosuite/demos/video/DDPG_UR5_%s_ep_%d.mp4\" % (current_time, epoch), fps=100)\n",
    "    frame = obs[\"Labviewer_image\"]\n",
    "    writer.append_data(frame)\n",
    "\n",
    "    while not(d or (test_ep_len == params[\"max_video_len\"])):\n",
    "        a_cpu = get_action(o, 0).cpu().data.numpy()\n",
    "        obs, _, d, _ = video_env.step(a_cpu[0])\n",
    "        o = list(obs['robot0_proprio-state']) + list(obs['object-state'])\n",
    "        o = torch.tensor([o], dtype=torch.float32, device=device)\n",
    "        frame = obs[\"Labviewer_image\"]\n",
    "        writer.append_data(frame)\n",
    "        test_ep_len += 1\n",
    "    writer.close()\n",
    "    nep_log['video'] = neptune.types.File('/home/xhnfly/Cosmic_rays_X/X_Robot/robosuite/robosuite/demos/video/DDPG_UR5_%s_ep_%d.mp4' % (current_time, epoch))\n",
    "\n",
    "\n",
    "\n"
   ]
  },
  {
   "cell_type": "code",
   "execution_count": 14,
   "metadata": {},
   "outputs": [],
   "source": [
    "# obs = {\n",
    "#     'robot0_joint_pos_cos': None,\n",
    "#     'robot0_joint_pos_sin': None,\n",
    "#     'robot0_joint_vel': None,\n",
    "#     'robot0_eef_pos': None,\n",
    "#     'robot0_eef_quat': None,\n",
    "#     'robot0_gripper_qpos': None,\n",
    "#     'robot0_gripper_qvel': None,\n",
    "#     'cubeA_pos': None,\n",
    "#     'cubeA_quat': None,\n",
    "#     'cubeB_pos': None,\n",
    "#     'cubeB_quat': None,\n",
    "#     'gripper_to_cubeA': None,\n",
    "#     'gripper_to_cubeB': None,\n",
    "#     'cubeA_to_cubeB': None,\n",
    "# }\n",
    "\n",
    "obs, ep_ret, ep_len = env.reset(), 0, 0\n",
    "\n",
    "o = list(obs['robot0_proprio-state']) + list(obs['object-state'])\n",
    "\n",
    "# env.viewer.set_camera(camera_id=0)\n",
    "\n",
    "\n",
    "# Define neutral value\n",
    "neutral = np.zeros(7)\n",
    "\n",
    "# Keep track of done variable to know when to break loop\n",
    "\n",
    "# Prepare for interaction with environment\n",
    "total_steps = params[\"steps_per_epoch\"] * params[\"epochs\"]\n",
    "start_time = time.time()\n",
    "\n",
    "o = torch.tensor([o], device=device)\n",
    "\n",
    "\n",
    "start_time_rec = datetime.now()\n",
    "r_true = 0\n",
    "total_main = 0\n",
    "ep_rew_main = 0\n",
    "reward_dict={}"
   ]
  },
  {
   "cell_type": "code",
   "execution_count": 15,
   "metadata": {},
   "outputs": [
    {
     "name": "stderr",
     "output_type": "stream",
     "text": [
      "  1%|          | 2990/300000 [00:38<55:01, 89.97it/s]  "
     ]
    },
    {
     "name": "stdout",
     "output_type": "stream",
     "text": [
      "ep_rew_main =  [8.116835e-09]\n"
     ]
    },
    {
     "name": "stderr",
     "output_type": "stream",
     "text": [
      "  1%|          | 3009/300000 [02:19<181:43:59,  2.20s/it]"
     ]
    },
    {
     "name": "stdout",
     "output_type": "stream",
     "text": [
      "test_rew_main =  7.978789546945197e-08\n"
     ]
    },
    {
     "name": "stderr",
     "output_type": "stream",
     "text": [
      "  2%|▏         | 5996/300000 [03:09<1:00:54, 80.46it/s]  "
     ]
    },
    {
     "name": "stdout",
     "output_type": "stream",
     "text": [
      "ep_rew_main =  [7.6302445e-07]\n"
     ]
    },
    {
     "name": "stderr",
     "output_type": "stream",
     "text": [
      "  2%|▏         | 6000/300000 [05:36<482:42:01,  5.91s/it]"
     ]
    },
    {
     "name": "stdout",
     "output_type": "stream",
     "text": [
      "test_rew_main =  7.316223477488425e-06\n"
     ]
    },
    {
     "name": "stderr",
     "output_type": "stream",
     "text": [
      "  3%|▎         | 8994/300000 [06:49<1:03:31, 76.35it/s]  "
     ]
    },
    {
     "name": "stdout",
     "output_type": "stream",
     "text": [
      "ep_rew_main =  [2.7725366e-07]\n"
     ]
    },
    {
     "name": "stderr",
     "output_type": "stream",
     "text": [
      "  3%|▎         | 9000/300000 [09:07<417:31:35,  5.17s/it]"
     ]
    },
    {
     "name": "stdout",
     "output_type": "stream",
     "text": [
      "test_rew_main =  9.925339488618221e-06\n"
     ]
    },
    {
     "name": "stderr",
     "output_type": "stream",
     "text": [
      "  4%|▍         | 11999/300000 [10:29<1:28:25, 54.28it/s] "
     ]
    },
    {
     "name": "stdout",
     "output_type": "stream",
     "text": [
      "ep_rew_main =  [0.00011014]\n"
     ]
    },
    {
     "name": "stderr",
     "output_type": "stream",
     "text": [
      "  4%|▍         | 12000/300000 [12:43<714:57:14,  8.94s/it]"
     ]
    },
    {
     "name": "stdout",
     "output_type": "stream",
     "text": [
      "test_rew_main =  0.0005425442013856856\n"
     ]
    },
    {
     "name": "stderr",
     "output_type": "stream",
     "text": [
      "  5%|▍         | 14996/300000 [14:15<1:40:03, 47.47it/s]  "
     ]
    },
    {
     "name": "stdout",
     "output_type": "stream",
     "text": [
      "ep_rew_main =  [0.00045168]\n"
     ]
    },
    {
     "name": "stderr",
     "output_type": "stream",
     "text": [
      "  5%|▌         | 15000/300000 [16:39<709:42:39,  8.96s/it]"
     ]
    },
    {
     "name": "stdout",
     "output_type": "stream",
     "text": [
      "test_rew_main =  0.0003990717013324079\n"
     ]
    },
    {
     "name": "stderr",
     "output_type": "stream",
     "text": [
      "  6%|▌         | 17999/300000 [18:06<1:18:28, 59.89it/s]  "
     ]
    },
    {
     "name": "stdout",
     "output_type": "stream",
     "text": [
      "ep_rew_main =  [7.512274e-05]\n"
     ]
    },
    {
     "name": "stderr",
     "output_type": "stream",
     "text": [
      "  6%|▌         | 18000/300000 [20:29<651:25:37,  8.32s/it]"
     ]
    },
    {
     "name": "stdout",
     "output_type": "stream",
     "text": [
      "test_rew_main =  0.00117182467886475\n"
     ]
    },
    {
     "name": "stderr",
     "output_type": "stream",
     "text": [
      "  7%|▋         | 20995/300000 [21:53<1:19:44, 58.31it/s]  "
     ]
    },
    {
     "name": "stdout",
     "output_type": "stream",
     "text": [
      "ep_rew_main =  [0.00104657]\n"
     ]
    },
    {
     "name": "stderr",
     "output_type": "stream",
     "text": [
      "  7%|▋         | 21000/300000 [24:24<617:16:15,  7.96s/it]"
     ]
    },
    {
     "name": "stdout",
     "output_type": "stream",
     "text": [
      "test_rew_main =  0.0009437874948477826\n"
     ]
    },
    {
     "name": "stderr",
     "output_type": "stream",
     "text": [
      "  8%|▊         | 23997/300000 [25:52<1:16:24, 60.20it/s]  "
     ]
    },
    {
     "name": "stdout",
     "output_type": "stream",
     "text": [
      "ep_rew_main =  [5.987002e-06]\n"
     ]
    },
    {
     "name": "stderr",
     "output_type": "stream",
     "text": [
      "  8%|▊         | 24000/300000 [28:02<514:37:26,  6.71s/it]"
     ]
    },
    {
     "name": "stdout",
     "output_type": "stream",
     "text": [
      "test_rew_main =  0.0029330048616512975\n"
     ]
    },
    {
     "name": "stderr",
     "output_type": "stream",
     "text": [
      "  9%|▉         | 26997/300000 [29:27<1:10:53, 64.18it/s]  "
     ]
    },
    {
     "name": "stdout",
     "output_type": "stream",
     "text": [
      "ep_rew_main =  [0.00086409]\n"
     ]
    },
    {
     "name": "stderr",
     "output_type": "stream",
     "text": [
      "  9%|▉         | 27000/300000 [31:45<533:16:02,  7.03s/it]"
     ]
    },
    {
     "name": "stdout",
     "output_type": "stream",
     "text": [
      "test_rew_main =  0.000601662182953737\n"
     ]
    },
    {
     "name": "stderr",
     "output_type": "stream",
     "text": [
      " 10%|▉         | 29996/300000 [33:10<1:17:49, 57.82it/s]  "
     ]
    },
    {
     "name": "stdout",
     "output_type": "stream",
     "text": [
      "ep_rew_main =  [0.00878541]\n"
     ]
    },
    {
     "name": "stderr",
     "output_type": "stream",
     "text": [
      " 10%|▉         | 29996/300000 [33:21<1:17:49, 57.82it/s]"
     ]
    },
    {
     "name": "stdout",
     "output_type": "stream",
     "text": [
      "test_rew_main =  0.0023408060605306278\n",
      "current_time =  2022-02-02T14:59:08.923028\n"
     ]
    },
    {
     "name": "stderr",
     "output_type": "stream",
     "text": [
      " 10%|█         | 30000/300000 [36:46<898:55:31, 11.99s/it]"
     ]
    },
    {
     "name": "stdout",
     "output_type": "stream",
     "text": [
      "current_time =  2022-02-02T15:00:34.088989\n"
     ]
    },
    {
     "name": "stderr",
     "output_type": "stream",
     "text": [
      " 11%|█         | 32993/300000 [38:11<1:07:54, 65.53it/s]  "
     ]
    },
    {
     "name": "stdout",
     "output_type": "stream",
     "text": [
      "ep_rew_main =  [1.4000696e-05]\n"
     ]
    },
    {
     "name": "stderr",
     "output_type": "stream",
     "text": [
      " 11%|█         | 33000/300000 [40:16<390:30:55,  5.27s/it]"
     ]
    },
    {
     "name": "stdout",
     "output_type": "stream",
     "text": [
      "test_rew_main =  0.003738326134177021\n"
     ]
    },
    {
     "name": "stderr",
     "output_type": "stream",
     "text": [
      " 12%|█▏        | 35992/300000 [41:39<57:50, 76.07it/s]    "
     ]
    },
    {
     "name": "stdout",
     "output_type": "stream",
     "text": [
      "ep_rew_main =  [2.3337474e-05]\n"
     ]
    },
    {
     "name": "stderr",
     "output_type": "stream",
     "text": [
      " 12%|█▏        | 36000/300000 [43:40<306:08:37,  4.17s/it]"
     ]
    },
    {
     "name": "stdout",
     "output_type": "stream",
     "text": [
      "test_rew_main =  0.0025846272305685594\n"
     ]
    },
    {
     "name": "stderr",
     "output_type": "stream",
     "text": [
      " 13%|█▎        | 38999/300000 [45:01<57:42, 75.38it/s]    "
     ]
    },
    {
     "name": "stdout",
     "output_type": "stream",
     "text": [
      "ep_rew_main =  [4.1424053e-05]\n"
     ]
    },
    {
     "name": "stderr",
     "output_type": "stream",
     "text": [
      " 13%|█▎        | 39000/300000 [46:59<397:46:22,  5.49s/it]"
     ]
    },
    {
     "name": "stdout",
     "output_type": "stream",
     "text": [
      "test_rew_main =  0.0019964958228432727\n"
     ]
    },
    {
     "name": "stderr",
     "output_type": "stream",
     "text": [
      " 14%|█▍        | 41997/300000 [48:18<1:06:38, 64.52it/s]  "
     ]
    },
    {
     "name": "stdout",
     "output_type": "stream",
     "text": [
      "ep_rew_main =  [1.8854164e-08]\n"
     ]
    },
    {
     "name": "stderr",
     "output_type": "stream",
     "text": [
      " 14%|█▍        | 42000/300000 [50:16<396:20:42,  5.53s/it]"
     ]
    },
    {
     "name": "stdout",
     "output_type": "stream",
     "text": [
      "test_rew_main =  1.7876476904404858e-07\n"
     ]
    },
    {
     "name": "stderr",
     "output_type": "stream",
     "text": [
      " 15%|█▍        | 44995/300000 [51:40<1:10:29, 60.29it/s]  "
     ]
    },
    {
     "name": "stdout",
     "output_type": "stream",
     "text": [
      "ep_rew_main =  [6.2044787e-06]\n"
     ]
    },
    {
     "name": "stderr",
     "output_type": "stream",
     "text": [
      " 15%|█▌        | 45000/300000 [53:40<398:42:00,  5.63s/it]"
     ]
    },
    {
     "name": "stdout",
     "output_type": "stream",
     "text": [
      "test_rew_main =  4.7225908907821963e-07\n"
     ]
    },
    {
     "name": "stderr",
     "output_type": "stream",
     "text": [
      " 16%|█▌        | 47998/300000 [55:00<1:04:33, 65.05it/s]  "
     ]
    },
    {
     "name": "stdout",
     "output_type": "stream",
     "text": [
      "ep_rew_main =  [2.9094595e-06]\n"
     ]
    },
    {
     "name": "stderr",
     "output_type": "stream",
     "text": [
      " 16%|█▌        | 48000/300000 [56:52<383:22:02,  5.48s/it]"
     ]
    },
    {
     "name": "stdout",
     "output_type": "stream",
     "text": [
      "test_rew_main =  1.1375700755617003e-06\n"
     ]
    },
    {
     "name": "stderr",
     "output_type": "stream",
     "text": [
      " 17%|█▋        | 50999/300000 [58:15<1:12:32, 57.21it/s]  "
     ]
    },
    {
     "name": "stdout",
     "output_type": "stream",
     "text": [
      "ep_rew_main =  [0.00030748]\n"
     ]
    },
    {
     "name": "stderr",
     "output_type": "stream",
     "text": [
      " 17%|█▋        | 51000/300000 [1:00:13<475:26:27,  6.87s/it]"
     ]
    },
    {
     "name": "stdout",
     "output_type": "stream",
     "text": [
      "test_rew_main =  3.849427039915591e-05\n"
     ]
    },
    {
     "name": "stderr",
     "output_type": "stream",
     "text": [
      " 18%|█▊        | 53999/300000 [1:01:41<1:06:16, 61.87it/s]  "
     ]
    },
    {
     "name": "stdout",
     "output_type": "stream",
     "text": [
      "ep_rew_main =  [5.520126e-08]\n"
     ]
    },
    {
     "name": "stderr",
     "output_type": "stream",
     "text": [
      " 18%|█▊        | 54000/300000 [1:03:42<477:58:26,  6.99s/it]"
     ]
    },
    {
     "name": "stdout",
     "output_type": "stream",
     "text": [
      "test_rew_main =  0.0004487004564448143\n"
     ]
    },
    {
     "name": "stderr",
     "output_type": "stream",
     "text": [
      " 19%|█▉        | 56995/300000 [1:05:06<1:14:33, 54.33it/s]  "
     ]
    },
    {
     "name": "stdout",
     "output_type": "stream",
     "text": [
      "ep_rew_main =  [0.00045868]\n"
     ]
    },
    {
     "name": "stderr",
     "output_type": "stream",
     "text": [
      " 19%|█▉        | 57000/300000 [1:07:04<420:44:30,  6.23s/it]"
     ]
    },
    {
     "name": "stdout",
     "output_type": "stream",
     "text": [
      "test_rew_main =  0.0010776260530689816\n"
     ]
    },
    {
     "name": "stderr",
     "output_type": "stream",
     "text": [
      " 20%|█▉        | 59996/300000 [1:08:23<51:34, 77.55it/s]    "
     ]
    },
    {
     "name": "stdout",
     "output_type": "stream",
     "text": [
      "ep_rew_main =  [4.6959626e-06]\n"
     ]
    },
    {
     "name": "stderr",
     "output_type": "stream",
     "text": [
      " 20%|█▉        | 59996/300000 [1:08:43<51:34, 77.55it/s]"
     ]
    },
    {
     "name": "stdout",
     "output_type": "stream",
     "text": [
      "test_rew_main =  0.000471975196257476\n",
      "current_time =  2022-02-02T15:34:06.633220\n"
     ]
    },
    {
     "name": "stderr",
     "output_type": "stream",
     "text": [
      " 20%|██        | 60000/300000 [1:11:41<516:09:28,  7.74s/it]"
     ]
    },
    {
     "name": "stdout",
     "output_type": "stream",
     "text": [
      "current_time =  2022-02-02T15:35:29.502459\n"
     ]
    },
    {
     "name": "stderr",
     "output_type": "stream",
     "text": [
      " 21%|██        | 62997/300000 [1:13:05<1:00:57, 64.80it/s]  "
     ]
    },
    {
     "name": "stdout",
     "output_type": "stream",
     "text": [
      "ep_rew_main =  [7.7933414e-08]\n"
     ]
    },
    {
     "name": "stderr",
     "output_type": "stream",
     "text": [
      " 21%|██        | 63000/300000 [1:15:08<416:39:32,  6.33s/it]"
     ]
    },
    {
     "name": "stdout",
     "output_type": "stream",
     "text": [
      "test_rew_main =  0.0016917401008619674\n"
     ]
    },
    {
     "name": "stderr",
     "output_type": "stream",
     "text": [
      " 22%|██▏       | 65995/300000 [1:16:35<1:08:38, 56.81it/s]  "
     ]
    },
    {
     "name": "stdout",
     "output_type": "stream",
     "text": [
      "ep_rew_main =  [8.576234e-07]\n"
     ]
    },
    {
     "name": "stderr",
     "output_type": "stream",
     "text": [
      " 22%|██▏       | 66000/300000 [1:18:36<370:12:01,  5.70s/it]"
     ]
    },
    {
     "name": "stdout",
     "output_type": "stream",
     "text": [
      "test_rew_main =  0.0022311079103641013\n"
     ]
    },
    {
     "name": "stderr",
     "output_type": "stream",
     "text": [
      " 23%|██▎       | 68999/300000 [1:20:00<1:21:44, 47.10it/s]  "
     ]
    },
    {
     "name": "stdout",
     "output_type": "stream",
     "text": [
      "ep_rew_main =  [1.9282169e-07]\n"
     ]
    },
    {
     "name": "stderr",
     "output_type": "stream",
     "text": [
      " 23%|██▎       | 69000/300000 [1:22:02<553:33:27,  8.63s/it]"
     ]
    },
    {
     "name": "stdout",
     "output_type": "stream",
     "text": [
      "test_rew_main =  0.0006571817852336156\n"
     ]
    },
    {
     "name": "stderr",
     "output_type": "stream",
     "text": [
      " 24%|██▍       | 71995/300000 [1:23:31<1:11:52, 52.87it/s]  "
     ]
    },
    {
     "name": "stdout",
     "output_type": "stream",
     "text": [
      "ep_rew_main =  [0.00308572]\n"
     ]
    },
    {
     "name": "stderr",
     "output_type": "stream",
     "text": [
      " 24%|██▍       | 72000/300000 [1:25:34<412:58:24,  6.52s/it]"
     ]
    },
    {
     "name": "stdout",
     "output_type": "stream",
     "text": [
      "test_rew_main =  6.273269783152832e-05\n"
     ]
    },
    {
     "name": "stderr",
     "output_type": "stream",
     "text": [
      " 25%|██▍       | 74995/300000 [1:26:58<1:03:13, 59.32it/s]  "
     ]
    },
    {
     "name": "stdout",
     "output_type": "stream",
     "text": [
      "ep_rew_main =  [1.2526738e-05]\n"
     ]
    },
    {
     "name": "stderr",
     "output_type": "stream",
     "text": [
      " 25%|██▌       | 75000/300000 [1:28:52<346:47:23,  5.55s/it]"
     ]
    },
    {
     "name": "stdout",
     "output_type": "stream",
     "text": [
      "test_rew_main =  1.1176983070350975e-05\n"
     ]
    },
    {
     "name": "stderr",
     "output_type": "stream",
     "text": [
      " 26%|██▌       | 77994/300000 [1:30:22<1:01:02, 60.62it/s]  "
     ]
    },
    {
     "name": "stdout",
     "output_type": "stream",
     "text": [
      "ep_rew_main =  [4.772797e-09]\n"
     ]
    },
    {
     "name": "stderr",
     "output_type": "stream",
     "text": [
      " 26%|██▌       | 78000/300000 [1:32:31<358:30:44,  5.81s/it]"
     ]
    },
    {
     "name": "stdout",
     "output_type": "stream",
     "text": [
      "test_rew_main =  1.9329537585758977e-05\n"
     ]
    },
    {
     "name": "stderr",
     "output_type": "stream",
     "text": [
      " 27%|██▋       | 80996/300000 [1:34:00<1:05:59, 55.31it/s]  "
     ]
    },
    {
     "name": "stdout",
     "output_type": "stream",
     "text": [
      "ep_rew_main =  [7.540485e-08]\n"
     ]
    },
    {
     "name": "stderr",
     "output_type": "stream",
     "text": [
      " 27%|██▋       | 81000/300000 [1:35:57<394:22:21,  6.48s/it]"
     ]
    },
    {
     "name": "stdout",
     "output_type": "stream",
     "text": [
      "test_rew_main =  9.787157588803967e-05\n"
     ]
    },
    {
     "name": "stderr",
     "output_type": "stream",
     "text": [
      " 28%|██▊       | 83994/300000 [1:37:16<47:35, 75.64it/s]    "
     ]
    },
    {
     "name": "stdout",
     "output_type": "stream",
     "text": [
      "ep_rew_main =  [3.9871047e-05]\n"
     ]
    },
    {
     "name": "stderr",
     "output_type": "stream",
     "text": [
      " 28%|██▊       | 84000/300000 [1:39:16<255:37:33,  4.26s/it]"
     ]
    },
    {
     "name": "stdout",
     "output_type": "stream",
     "text": [
      "test_rew_main =  3.0752502030287896e-07\n"
     ]
    },
    {
     "name": "stderr",
     "output_type": "stream",
     "text": [
      " 29%|██▉       | 86997/300000 [1:40:40<54:34, 65.05it/s]    "
     ]
    },
    {
     "name": "stdout",
     "output_type": "stream",
     "text": [
      "ep_rew_main =  [1.2295071e-07]\n"
     ]
    },
    {
     "name": "stderr",
     "output_type": "stream",
     "text": [
      " 29%|██▉       | 87000/300000 [1:42:30<331:04:37,  5.60s/it]"
     ]
    },
    {
     "name": "stdout",
     "output_type": "stream",
     "text": [
      "test_rew_main =  4.7072017651216273e-07\n"
     ]
    },
    {
     "name": "stderr",
     "output_type": "stream",
     "text": [
      " 30%|██▉       | 89999/300000 [1:43:53<48:05, 72.77it/s]    "
     ]
    },
    {
     "name": "stdout",
     "output_type": "stream",
     "text": [
      "ep_rew_main =  [1.2412696e-07]\n"
     ]
    },
    {
     "name": "stderr",
     "output_type": "stream",
     "text": [
      " 30%|██▉       | 89999/300000 [1:44:05<48:05, 72.77it/s]"
     ]
    },
    {
     "name": "stdout",
     "output_type": "stream",
     "text": [
      "test_rew_main =  1.4632563685909261e-06\n",
      "current_time =  2022-02-02T16:09:48.391076\n"
     ]
    },
    {
     "name": "stderr",
     "output_type": "stream",
     "text": [
      " 30%|███       | 90000/300000 [1:47:25<629:58:44, 10.80s/it]"
     ]
    },
    {
     "name": "stdout",
     "output_type": "stream",
     "text": [
      "current_time =  2022-02-02T16:11:13.285017\n"
     ]
    },
    {
     "name": "stderr",
     "output_type": "stream",
     "text": [
      " 31%|███       | 92994/300000 [1:48:52<56:57, 60.58it/s]    "
     ]
    },
    {
     "name": "stdout",
     "output_type": "stream",
     "text": [
      "ep_rew_main =  [4.9751856e-07]\n"
     ]
    },
    {
     "name": "stderr",
     "output_type": "stream",
     "text": [
      " 31%|███       | 93000/300000 [1:51:25<395:06:00,  6.87s/it]"
     ]
    },
    {
     "name": "stdout",
     "output_type": "stream",
     "text": [
      "test_rew_main =  4.881741144093621e-06\n"
     ]
    },
    {
     "name": "stderr",
     "output_type": "stream",
     "text": [
      " 32%|███▏      | 95994/300000 [1:52:56<1:05:25, 51.97it/s]  "
     ]
    },
    {
     "name": "stdout",
     "output_type": "stream",
     "text": [
      "ep_rew_main =  [6.385345e-10]\n"
     ]
    },
    {
     "name": "stderr",
     "output_type": "stream",
     "text": [
      " 32%|███▏      | 96000/300000 [1:55:22<414:40:04,  7.32s/it]"
     ]
    },
    {
     "name": "stdout",
     "output_type": "stream",
     "text": [
      "test_rew_main =  7.010779753359887e-06\n"
     ]
    },
    {
     "name": "stderr",
     "output_type": "stream",
     "text": [
      " 33%|███▎      | 98994/300000 [1:56:56<45:31, 73.60it/s]    "
     ]
    },
    {
     "name": "stdout",
     "output_type": "stream",
     "text": [
      "ep_rew_main =  [5.719931e-07]\n"
     ]
    },
    {
     "name": "stderr",
     "output_type": "stream",
     "text": [
      " 33%|███▎      | 99000/300000 [1:59:14<297:14:53,  5.32s/it]"
     ]
    },
    {
     "name": "stdout",
     "output_type": "stream",
     "text": [
      "test_rew_main =  6.527648566663125e-05\n"
     ]
    },
    {
     "name": "stderr",
     "output_type": "stream",
     "text": [
      " 34%|███▍      | 101993/300000 [2:00:41<44:45, 73.73it/s]   "
     ]
    },
    {
     "name": "stdout",
     "output_type": "stream",
     "text": [
      "ep_rew_main =  [1.5104629e-09]\n"
     ]
    },
    {
     "name": "stderr",
     "output_type": "stream",
     "text": [
      " 34%|███▍      | 102000/300000 [2:02:42<240:28:07,  4.37s/it]"
     ]
    },
    {
     "name": "stdout",
     "output_type": "stream",
     "text": [
      "test_rew_main =  0.0011057380588087268\n"
     ]
    },
    {
     "name": "stderr",
     "output_type": "stream",
     "text": [
      " 35%|███▍      | 104999/300000 [2:04:10<45:56, 70.74it/s]    "
     ]
    },
    {
     "name": "stdout",
     "output_type": "stream",
     "text": [
      "ep_rew_main =  [1.8536637e-08]\n"
     ]
    },
    {
     "name": "stderr",
     "output_type": "stream",
     "text": [
      " 35%|███▌      | 105000/300000 [2:06:15<344:41:10,  6.36s/it]"
     ]
    },
    {
     "name": "stdout",
     "output_type": "stream",
     "text": [
      "test_rew_main =  8.587494602738554e-06\n"
     ]
    },
    {
     "name": "stderr",
     "output_type": "stream",
     "text": [
      " 36%|███▌      | 107994/300000 [2:07:44<57:26, 55.70it/s]    "
     ]
    },
    {
     "name": "stdout",
     "output_type": "stream",
     "text": [
      "ep_rew_main =  [2.4892672e-09]\n"
     ]
    },
    {
     "name": "stderr",
     "output_type": "stream",
     "text": [
      " 36%|███▌      | 108000/300000 [2:10:00<361:47:59,  6.78s/it]"
     ]
    },
    {
     "name": "stdout",
     "output_type": "stream",
     "text": [
      "test_rew_main =  5.4464606776600914e-05\n"
     ]
    },
    {
     "name": "stderr",
     "output_type": "stream",
     "text": [
      " 37%|███▋      | 110996/300000 [2:11:24<59:09, 53.25it/s]    "
     ]
    },
    {
     "name": "stdout",
     "output_type": "stream",
     "text": [
      "ep_rew_main =  [1.359622e-09]\n"
     ]
    },
    {
     "name": "stderr",
     "output_type": "stream",
     "text": [
      " 37%|███▋      | 111000/300000 [2:13:26<356:35:01,  6.79s/it]"
     ]
    },
    {
     "name": "stdout",
     "output_type": "stream",
     "text": [
      "test_rew_main =  0.0006246761768369291\n"
     ]
    },
    {
     "name": "stderr",
     "output_type": "stream",
     "text": [
      " 38%|███▊      | 113992/300000 [2:14:51<43:10, 71.80it/s]    "
     ]
    },
    {
     "name": "stdout",
     "output_type": "stream",
     "text": [
      "ep_rew_main =  [0.01280551]\n"
     ]
    },
    {
     "name": "stderr",
     "output_type": "stream",
     "text": [
      " 38%|███▊      | 114000/300000 [2:16:55<242:14:57,  4.69s/it]"
     ]
    },
    {
     "name": "stdout",
     "output_type": "stream",
     "text": [
      "test_rew_main =  0.000947682576958715\n"
     ]
    },
    {
     "name": "stderr",
     "output_type": "stream",
     "text": [
      " 39%|███▉      | 116996/300000 [2:18:20<44:54, 67.91it/s]    "
     ]
    },
    {
     "name": "stdout",
     "output_type": "stream",
     "text": [
      "ep_rew_main =  [9.5005795e-11]\n"
     ]
    },
    {
     "name": "stderr",
     "output_type": "stream",
     "text": [
      " 39%|███▉      | 117000/300000 [2:20:14<255:34:12,  5.03s/it]"
     ]
    },
    {
     "name": "stdout",
     "output_type": "stream",
     "text": [
      "test_rew_main =  2.645921638664617e-06\n"
     ]
    },
    {
     "name": "stderr",
     "output_type": "stream",
     "text": [
      " 40%|███▉      | 119996/300000 [2:21:40<53:31, 56.05it/s]    "
     ]
    },
    {
     "name": "stdout",
     "output_type": "stream",
     "text": [
      "ep_rew_main =  [1.47239145e-08]\n"
     ]
    },
    {
     "name": "stderr",
     "output_type": "stream",
     "text": [
      " 40%|███▉      | 119996/300000 [2:21:57<53:31, 56.05it/s]"
     ]
    },
    {
     "name": "stdout",
     "output_type": "stream",
     "text": [
      "test_rew_main =  0.008483549004963963\n",
      "current_time =  2022-02-02T16:47:17.298362\n"
     ]
    },
    {
     "name": "stderr",
     "output_type": "stream",
     "text": [
      " 40%|████      | 120000/300000 [2:24:51<514:06:41, 10.28s/it]"
     ]
    },
    {
     "name": "stdout",
     "output_type": "stream",
     "text": [
      "current_time =  2022-02-02T16:48:39.506357\n"
     ]
    },
    {
     "name": "stderr",
     "output_type": "stream",
     "text": [
      " 41%|████      | 122995/300000 [2:26:16<39:32, 74.61it/s]    "
     ]
    },
    {
     "name": "stdout",
     "output_type": "stream",
     "text": [
      "ep_rew_main =  [2.1914155e-11]\n"
     ]
    },
    {
     "name": "stderr",
     "output_type": "stream",
     "text": [
      " 41%|████      | 123000/300000 [2:28:08<215:24:54,  4.38s/it]"
     ]
    },
    {
     "name": "stdout",
     "output_type": "stream",
     "text": [
      "test_rew_main =  3.605080667736349e-07\n"
     ]
    },
    {
     "name": "stderr",
     "output_type": "stream",
     "text": [
      " 42%|████▏     | 125998/300000 [2:29:39<1:02:28, 46.41it/s]  "
     ]
    },
    {
     "name": "stdout",
     "output_type": "stream",
     "text": [
      "ep_rew_main =  [0.0001249]\n"
     ]
    },
    {
     "name": "stderr",
     "output_type": "stream",
     "text": [
      " 42%|████▏     | 126000/300000 [2:31:46<451:00:38,  9.33s/it]"
     ]
    },
    {
     "name": "stdout",
     "output_type": "stream",
     "text": [
      "test_rew_main =  0.0010720599689472649\n"
     ]
    },
    {
     "name": "stderr",
     "output_type": "stream",
     "text": [
      " 43%|████▎     | 128998/300000 [2:33:22<36:22, 78.35it/s]    "
     ]
    },
    {
     "name": "stdout",
     "output_type": "stream",
     "text": [
      "ep_rew_main =  [1.3991919e-06]\n"
     ]
    },
    {
     "name": "stderr",
     "output_type": "stream",
     "text": [
      " 43%|████▎     | 129000/300000 [2:35:39<293:23:41,  6.18s/it]"
     ]
    },
    {
     "name": "stdout",
     "output_type": "stream",
     "text": [
      "test_rew_main =  0.00034723959488817366\n"
     ]
    },
    {
     "name": "stderr",
     "output_type": "stream",
     "text": [
      " 44%|████▍     | 131999/300000 [2:37:23<1:04:14, 43.59it/s]  "
     ]
    },
    {
     "name": "stdout",
     "output_type": "stream",
     "text": [
      "ep_rew_main =  [8.8547175e-05]\n"
     ]
    },
    {
     "name": "stderr",
     "output_type": "stream",
     "text": [
      " 44%|████▍     | 132000/300000 [2:40:07<605:56:28, 12.98s/it]"
     ]
    },
    {
     "name": "stdout",
     "output_type": "stream",
     "text": [
      "test_rew_main =  2.1141223838793176e-05\n"
     ]
    },
    {
     "name": "stderr",
     "output_type": "stream",
     "text": [
      " 45%|████▍     | 134998/300000 [2:41:49<51:12, 53.70it/s]    "
     ]
    },
    {
     "name": "stdout",
     "output_type": "stream",
     "text": [
      "ep_rew_main =  [4.8935144e-06]\n"
     ]
    },
    {
     "name": "stderr",
     "output_type": "stream",
     "text": [
      " 45%|████▌     | 135000/300000 [2:44:38<484:07:41, 10.56s/it]"
     ]
    },
    {
     "name": "stdout",
     "output_type": "stream",
     "text": [
      "test_rew_main =  4.7903627400441474e-05\n"
     ]
    },
    {
     "name": "stderr",
     "output_type": "stream",
     "text": [
      " 46%|████▌     | 137999/300000 [2:46:13<55:48, 48.38it/s]    "
     ]
    },
    {
     "name": "stdout",
     "output_type": "stream",
     "text": [
      "ep_rew_main =  [0.00303296]\n"
     ]
    },
    {
     "name": "stderr",
     "output_type": "stream",
     "text": [
      " 46%|████▌     | 138000/300000 [2:48:25<410:03:45,  9.11s/it]"
     ]
    },
    {
     "name": "stdout",
     "output_type": "stream",
     "text": [
      "test_rew_main =  0.0005033417920215597\n"
     ]
    },
    {
     "name": "stderr",
     "output_type": "stream",
     "text": [
      " 47%|████▋     | 140998/300000 [2:50:01<38:37, 68.60it/s]    "
     ]
    },
    {
     "name": "stdout",
     "output_type": "stream",
     "text": [
      "ep_rew_main =  [6.5210246e-05]\n"
     ]
    },
    {
     "name": "stderr",
     "output_type": "stream",
     "text": [
      " 47%|████▋     | 141000/300000 [2:52:09<250:29:43,  5.67s/it]"
     ]
    },
    {
     "name": "stdout",
     "output_type": "stream",
     "text": [
      "test_rew_main =  0.0009403099013782246\n"
     ]
    },
    {
     "name": "stderr",
     "output_type": "stream",
     "text": [
      " 48%|████▊     | 143995/300000 [2:53:42<39:34, 65.70it/s]    "
     ]
    },
    {
     "name": "stdout",
     "output_type": "stream",
     "text": [
      "ep_rew_main =  [1.7691495e-07]\n"
     ]
    },
    {
     "name": "stderr",
     "output_type": "stream",
     "text": [
      " 48%|████▊     | 144000/300000 [2:55:34<218:40:18,  5.05s/it]"
     ]
    },
    {
     "name": "stdout",
     "output_type": "stream",
     "text": [
      "test_rew_main =  0.0013079903664531126\n"
     ]
    },
    {
     "name": "stderr",
     "output_type": "stream",
     "text": [
      " 49%|████▉     | 146992/300000 [2:57:04<35:18, 72.21it/s]    "
     ]
    },
    {
     "name": "stdout",
     "output_type": "stream",
     "text": [
      "ep_rew_main =  [1.1361033e-06]\n"
     ]
    },
    {
     "name": "stderr",
     "output_type": "stream",
     "text": [
      " 49%|████▉     | 147000/300000 [2:58:56<167:36:10,  3.94s/it]"
     ]
    },
    {
     "name": "stdout",
     "output_type": "stream",
     "text": [
      "test_rew_main =  0.0008967263500225456\n"
     ]
    },
    {
     "name": "stderr",
     "output_type": "stream",
     "text": [
      " 50%|████▉     | 149997/300000 [3:00:23<44:12, 56.56it/s]    "
     ]
    },
    {
     "name": "stdout",
     "output_type": "stream",
     "text": [
      "ep_rew_main =  [0.02896586]\n"
     ]
    },
    {
     "name": "stderr",
     "output_type": "stream",
     "text": [
      " 50%|████▉     | 149997/300000 [3:00:38<44:12, 56.56it/s]"
     ]
    },
    {
     "name": "stdout",
     "output_type": "stream",
     "text": [
      "test_rew_main =  0.00019347290393412293\n",
      "current_time =  2022-02-02T17:25:56.631644\n"
     ]
    },
    {
     "name": "stderr",
     "output_type": "stream",
     "text": [
      " 50%|█████     | 150000/300000 [3:03:27<396:27:38,  9.52s/it]"
     ]
    },
    {
     "name": "stdout",
     "output_type": "stream",
     "text": [
      "current_time =  2022-02-02T17:27:15.407865\n"
     ]
    },
    {
     "name": "stderr",
     "output_type": "stream",
     "text": [
      " 51%|█████     | 152998/300000 [3:04:57<43:37, 56.16it/s]    "
     ]
    },
    {
     "name": "stdout",
     "output_type": "stream",
     "text": [
      "ep_rew_main =  [0.0009605]\n"
     ]
    },
    {
     "name": "stderr",
     "output_type": "stream",
     "text": [
      " 51%|█████     | 153000/300000 [3:06:48<248:59:58,  6.10s/it]"
     ]
    },
    {
     "name": "stdout",
     "output_type": "stream",
     "text": [
      "test_rew_main =  0.0022382576982879604\n"
     ]
    },
    {
     "name": "stderr",
     "output_type": "stream",
     "text": [
      " 52%|█████▏    | 155993/300000 [3:08:18<38:01, 63.13it/s]    "
     ]
    },
    {
     "name": "stdout",
     "output_type": "stream",
     "text": [
      "ep_rew_main =  [3.399361e-10]\n"
     ]
    },
    {
     "name": "stderr",
     "output_type": "stream",
     "text": [
      " 52%|█████▏    | 156000/300000 [3:10:06<181:45:33,  4.54s/it]"
     ]
    },
    {
     "name": "stdout",
     "output_type": "stream",
     "text": [
      "test_rew_main =  0.00034261907928324675\n"
     ]
    },
    {
     "name": "stderr",
     "output_type": "stream",
     "text": [
      " 53%|█████▎    | 158997/300000 [3:11:36<33:36, 69.92it/s]    "
     ]
    },
    {
     "name": "stdout",
     "output_type": "stream",
     "text": [
      "ep_rew_main =  [4.9603436e-06]\n"
     ]
    },
    {
     "name": "stderr",
     "output_type": "stream",
     "text": [
      " 53%|█████▎    | 159000/300000 [3:13:35<207:47:26,  5.31s/it]"
     ]
    },
    {
     "name": "stdout",
     "output_type": "stream",
     "text": [
      "test_rew_main =  0.0002773481824996015\n"
     ]
    },
    {
     "name": "stderr",
     "output_type": "stream",
     "text": [
      " 54%|█████▍    | 161992/300000 [3:15:08<31:38, 72.68it/s]    "
     ]
    },
    {
     "name": "stdout",
     "output_type": "stream",
     "text": [
      "ep_rew_main =  [0.00338793]\n"
     ]
    },
    {
     "name": "stderr",
     "output_type": "stream",
     "text": [
      " 54%|█████▍    | 162000/300000 [3:16:59<146:50:41,  3.83s/it]"
     ]
    },
    {
     "name": "stdout",
     "output_type": "stream",
     "text": [
      "test_rew_main =  0.0011930634627327487\n"
     ]
    },
    {
     "name": "stderr",
     "output_type": "stream",
     "text": [
      " 55%|█████▍    | 164997/300000 [3:18:34<41:27, 54.27it/s]    "
     ]
    },
    {
     "name": "stdout",
     "output_type": "stream",
     "text": [
      "ep_rew_main =  [7.9801384e-07]\n"
     ]
    },
    {
     "name": "stderr",
     "output_type": "stream",
     "text": [
      " 55%|█████▌    | 165000/300000 [3:20:36<270:58:08,  7.23s/it]"
     ]
    },
    {
     "name": "stdout",
     "output_type": "stream",
     "text": [
      "test_rew_main =  0.00029287242855847946\n"
     ]
    },
    {
     "name": "stderr",
     "output_type": "stream",
     "text": [
      " 56%|█████▌    | 167993/300000 [3:22:06<30:51, 71.31it/s]    "
     ]
    },
    {
     "name": "stdout",
     "output_type": "stream",
     "text": [
      "ep_rew_main =  [5.495324e-06]\n"
     ]
    },
    {
     "name": "stderr",
     "output_type": "stream",
     "text": [
      " 56%|█████▌    | 168000/300000 [3:23:58<150:03:28,  4.09s/it]"
     ]
    },
    {
     "name": "stdout",
     "output_type": "stream",
     "text": [
      "test_rew_main =  0.0013413282952553145\n"
     ]
    },
    {
     "name": "stderr",
     "output_type": "stream",
     "text": [
      " 57%|█████▋    | 170999/300000 [3:25:34<33:35, 64.01it/s]    "
     ]
    },
    {
     "name": "stdout",
     "output_type": "stream",
     "text": [
      "ep_rew_main =  [0.02416068]\n"
     ]
    },
    {
     "name": "stderr",
     "output_type": "stream",
     "text": [
      " 57%|█████▋    | 171000/300000 [3:27:23<224:57:26,  6.28s/it]"
     ]
    },
    {
     "name": "stdout",
     "output_type": "stream",
     "text": [
      "test_rew_main =  0.00010509411333248749\n"
     ]
    },
    {
     "name": "stderr",
     "output_type": "stream",
     "text": [
      " 58%|█████▊    | 173997/300000 [3:28:55<32:44, 64.13it/s]    "
     ]
    },
    {
     "name": "stdout",
     "output_type": "stream",
     "text": [
      "ep_rew_main =  [0.00010858]\n"
     ]
    },
    {
     "name": "stderr",
     "output_type": "stream",
     "text": [
      " 58%|█████▊    | 174000/300000 [3:30:52<212:40:31,  6.08s/it]"
     ]
    },
    {
     "name": "stdout",
     "output_type": "stream",
     "text": [
      "test_rew_main =  0.0003150801817555122\n"
     ]
    },
    {
     "name": "stderr",
     "output_type": "stream",
     "text": [
      " 59%|█████▉    | 176998/300000 [3:32:28<38:29, 53.25it/s]    "
     ]
    },
    {
     "name": "stdout",
     "output_type": "stream",
     "text": [
      "ep_rew_main =  [9.934589e-06]\n"
     ]
    },
    {
     "name": "stderr",
     "output_type": "stream",
     "text": [
      " 59%|█████▉    | 177000/300000 [3:34:17<233:20:25,  6.83s/it]"
     ]
    },
    {
     "name": "stdout",
     "output_type": "stream",
     "text": [
      "test_rew_main =  0.001726641223381241\n"
     ]
    },
    {
     "name": "stderr",
     "output_type": "stream",
     "text": [
      " 60%|█████▉    | 179991/300000 [3:35:51<26:41, 74.92it/s]    "
     ]
    },
    {
     "name": "stdout",
     "output_type": "stream",
     "text": [
      "ep_rew_main =  [1.1027182e-08]\n"
     ]
    },
    {
     "name": "stderr",
     "output_type": "stream",
     "text": [
      " 60%|█████▉    | 179991/300000 [3:36:03<26:41, 74.92it/s]"
     ]
    },
    {
     "name": "stdout",
     "output_type": "stream",
     "text": [
      "test_rew_main =  4.929439182862371e-07\n",
      "current_time =  2022-02-02T18:01:32.422471\n"
     ]
    },
    {
     "name": "stderr",
     "output_type": "stream",
     "text": [
      " 60%|██████    | 180000/300000 [3:39:08<219:55:38,  6.60s/it]"
     ]
    },
    {
     "name": "stdout",
     "output_type": "stream",
     "text": [
      "current_time =  2022-02-02T18:02:56.573935\n"
     ]
    },
    {
     "name": "stderr",
     "output_type": "stream",
     "text": [
      " 61%|██████    | 182999/300000 [3:40:41<24:55, 78.23it/s]    "
     ]
    },
    {
     "name": "stdout",
     "output_type": "stream",
     "text": [
      "ep_rew_main =  [1.3706995e-07]\n"
     ]
    },
    {
     "name": "stderr",
     "output_type": "stream",
     "text": [
      " 61%|██████    | 183000/300000 [3:42:23<150:29:57,  4.63s/it]"
     ]
    },
    {
     "name": "stdout",
     "output_type": "stream",
     "text": [
      "test_rew_main =  0.00041374308743914864\n"
     ]
    },
    {
     "name": "stderr",
     "output_type": "stream",
     "text": [
      " 62%|██████▏   | 185995/300000 [3:43:55<26:44, 71.05it/s]    "
     ]
    },
    {
     "name": "stdout",
     "output_type": "stream",
     "text": [
      "ep_rew_main =  [0.00057795]\n"
     ]
    },
    {
     "name": "stderr",
     "output_type": "stream",
     "text": [
      " 62%|██████▏   | 186000/300000 [3:45:43<134:20:05,  4.24s/it]"
     ]
    },
    {
     "name": "stdout",
     "output_type": "stream",
     "text": [
      "test_rew_main =  5.3528990944050523e-05\n"
     ]
    },
    {
     "name": "stderr",
     "output_type": "stream",
     "text": [
      " 63%|██████▎   | 188998/300000 [3:47:17<26:18, 70.32it/s]    "
     ]
    },
    {
     "name": "stdout",
     "output_type": "stream",
     "text": [
      "ep_rew_main =  [7.566089e-08]\n"
     ]
    },
    {
     "name": "stderr",
     "output_type": "stream",
     "text": [
      " 63%|██████▎   | 189000/300000 [3:49:12<172:02:53,  5.58s/it]"
     ]
    },
    {
     "name": "stdout",
     "output_type": "stream",
     "text": [
      "test_rew_main =  0.0006829995703329212\n"
     ]
    },
    {
     "name": "stderr",
     "output_type": "stream",
     "text": [
      " 64%|██████▍   | 191992/300000 [3:50:47<25:19, 71.09it/s]    "
     ]
    },
    {
     "name": "stdout",
     "output_type": "stream",
     "text": [
      "ep_rew_main =  [1.6573313e-05]\n"
     ]
    },
    {
     "name": "stderr",
     "output_type": "stream",
     "text": [
      " 64%|██████▍   | 192000/300000 [3:52:43<131:23:08,  4.38s/it]"
     ]
    },
    {
     "name": "stdout",
     "output_type": "stream",
     "text": [
      "test_rew_main =  0.0003885311328589034\n"
     ]
    },
    {
     "name": "stderr",
     "output_type": "stream",
     "text": [
      " 65%|██████▍   | 194996/300000 [3:54:18<30:16, 57.79it/s]    "
     ]
    },
    {
     "name": "stdout",
     "output_type": "stream",
     "text": [
      "ep_rew_main =  [0.00046225]\n"
     ]
    },
    {
     "name": "stderr",
     "output_type": "stream",
     "text": [
      " 65%|██████▌   | 195000/300000 [3:56:14<172:55:12,  5.93s/it]"
     ]
    },
    {
     "name": "stdout",
     "output_type": "stream",
     "text": [
      "test_rew_main =  0.000285948441381867\n"
     ]
    },
    {
     "name": "stderr",
     "output_type": "stream",
     "text": [
      " 66%|██████▌   | 197999/300000 [3:57:51<26:43, 63.62it/s]    "
     ]
    },
    {
     "name": "stdout",
     "output_type": "stream",
     "text": [
      "ep_rew_main =  [3.8480035e-08]\n"
     ]
    },
    {
     "name": "stderr",
     "output_type": "stream",
     "text": [
      " 66%|██████▌   | 198000/300000 [3:59:41<173:10:36,  6.11s/it]"
     ]
    },
    {
     "name": "stdout",
     "output_type": "stream",
     "text": [
      "test_rew_main =  1.3603662368753689e-05\n"
     ]
    },
    {
     "name": "stderr",
     "output_type": "stream",
     "text": [
      " 67%|██████▋   | 200993/300000 [4:01:17<24:52, 66.36it/s]    "
     ]
    },
    {
     "name": "stdout",
     "output_type": "stream",
     "text": [
      "ep_rew_main =  [2.6157126e-08]\n"
     ]
    },
    {
     "name": "stderr",
     "output_type": "stream",
     "text": [
      " 67%|██████▋   | 201000/300000 [4:03:18<135:09:18,  4.91s/it]"
     ]
    },
    {
     "name": "stdout",
     "output_type": "stream",
     "text": [
      "test_rew_main =  0.0006011870442138476\n"
     ]
    },
    {
     "name": "stderr",
     "output_type": "stream",
     "text": [
      " 68%|██████▊   | 203999/300000 [4:04:56<24:22, 65.66it/s]    "
     ]
    },
    {
     "name": "stdout",
     "output_type": "stream",
     "text": [
      "ep_rew_main =  [0.01687321]\n"
     ]
    },
    {
     "name": "stderr",
     "output_type": "stream",
     "text": [
      " 68%|██████▊   | 204000/300000 [4:06:54<182:55:03,  6.86s/it]"
     ]
    },
    {
     "name": "stdout",
     "output_type": "stream",
     "text": [
      "test_rew_main =  0.0004620271644229519\n"
     ]
    },
    {
     "name": "stderr",
     "output_type": "stream",
     "text": [
      " 69%|██████▉   | 206993/300000 [4:08:30<23:11, 66.83it/s]    "
     ]
    },
    {
     "name": "stdout",
     "output_type": "stream",
     "text": [
      "ep_rew_main =  [1.9296094e-08]\n"
     ]
    },
    {
     "name": "stderr",
     "output_type": "stream",
     "text": [
      " 69%|██████▉   | 207000/300000 [4:10:31<121:33:02,  4.71s/it]"
     ]
    },
    {
     "name": "stdout",
     "output_type": "stream",
     "text": [
      "test_rew_main =  2.3368709944834754e-06\n"
     ]
    },
    {
     "name": "stderr",
     "output_type": "stream",
     "text": [
      " 70%|██████▉   | 209999/300000 [4:12:08<23:50, 62.92it/s]    "
     ]
    },
    {
     "name": "stdout",
     "output_type": "stream",
     "text": [
      "ep_rew_main =  [1.8620902e-07]\n"
     ]
    },
    {
     "name": "stderr",
     "output_type": "stream",
     "text": [
      " 70%|██████▉   | 209999/300000 [4:12:26<23:50, 62.92it/s]"
     ]
    },
    {
     "name": "stdout",
     "output_type": "stream",
     "text": [
      "test_rew_main =  0.00033867791885156256\n",
      "current_time =  2022-02-02T18:37:59.016585\n"
     ]
    },
    {
     "name": "stderr",
     "output_type": "stream",
     "text": [
      " 70%|███████   | 210000/300000 [4:15:26<251:56:28, 10.08s/it]"
     ]
    },
    {
     "name": "stdout",
     "output_type": "stream",
     "text": [
      "current_time =  2022-02-02T18:39:13.844316\n"
     ]
    },
    {
     "name": "stderr",
     "output_type": "stream",
     "text": [
      " 71%|███████   | 212994/300000 [4:17:01<20:32, 70.57it/s]    "
     ]
    },
    {
     "name": "stdout",
     "output_type": "stream",
     "text": [
      "ep_rew_main =  [1.07448095e-05]\n"
     ]
    },
    {
     "name": "stderr",
     "output_type": "stream",
     "text": [
      " 71%|███████   | 213000/300000 [4:18:57<113:57:27,  4.72s/it]"
     ]
    },
    {
     "name": "stdout",
     "output_type": "stream",
     "text": [
      "test_rew_main =  0.012309189029353247\n"
     ]
    },
    {
     "name": "stderr",
     "output_type": "stream",
     "text": [
      " 72%|███████▏  | 215998/300000 [4:20:33<19:50, 70.59it/s]    "
     ]
    },
    {
     "name": "stdout",
     "output_type": "stream",
     "text": [
      "ep_rew_main =  [0.00022998]\n"
     ]
    },
    {
     "name": "stderr",
     "output_type": "stream",
     "text": [
      " 72%|███████▏  | 216000/300000 [4:22:17<107:00:57,  4.59s/it]"
     ]
    },
    {
     "name": "stdout",
     "output_type": "stream",
     "text": [
      "test_rew_main =  0.004815194143161475\n"
     ]
    },
    {
     "name": "stderr",
     "output_type": "stream",
     "text": [
      " 73%|███████▎  | 218994/300000 [4:23:56<18:39, 72.33it/s]    "
     ]
    },
    {
     "name": "stdout",
     "output_type": "stream",
     "text": [
      "ep_rew_main =  [0.00515173]\n"
     ]
    },
    {
     "name": "stderr",
     "output_type": "stream",
     "text": [
      " 73%|███████▎  | 219000/300000 [4:25:38<85:12:19,  3.79s/it]"
     ]
    },
    {
     "name": "stdout",
     "output_type": "stream",
     "text": [
      "test_rew_main =  0.005874069586473843\n"
     ]
    },
    {
     "name": "stderr",
     "output_type": "stream",
     "text": [
      " 74%|███████▍  | 221991/300000 [4:27:13<18:10, 71.57it/s]   "
     ]
    },
    {
     "name": "stdout",
     "output_type": "stream",
     "text": [
      "ep_rew_main =  [1.318877e-06]\n"
     ]
    },
    {
     "name": "stderr",
     "output_type": "stream",
     "text": [
      " 74%|███████▍  | 222000/300000 [4:29:01<78:43:34,  3.63s/it]"
     ]
    },
    {
     "name": "stdout",
     "output_type": "stream",
     "text": [
      "test_rew_main =  0.0007533234236343498\n"
     ]
    },
    {
     "name": "stderr",
     "output_type": "stream",
     "text": [
      " 75%|███████▍  | 224997/300000 [4:30:38<18:51, 66.29it/s]   "
     ]
    },
    {
     "name": "stdout",
     "output_type": "stream",
     "text": [
      "ep_rew_main =  [0.00618156]\n"
     ]
    },
    {
     "name": "stderr",
     "output_type": "stream",
     "text": [
      " 75%|███████▌  | 225000/300000 [4:32:34<112:43:07,  5.41s/it]"
     ]
    },
    {
     "name": "stdout",
     "output_type": "stream",
     "text": [
      "test_rew_main =  0.005685077845413703\n"
     ]
    },
    {
     "name": "stderr",
     "output_type": "stream",
     "text": [
      " 76%|███████▌  | 227991/300000 [4:34:11<17:06, 70.17it/s]    "
     ]
    },
    {
     "name": "stdout",
     "output_type": "stream",
     "text": [
      "ep_rew_main =  [0.00202044]\n"
     ]
    },
    {
     "name": "stderr",
     "output_type": "stream",
     "text": [
      " 76%|███████▌  | 228000/300000 [4:36:04<75:29:36,  3.77s/it]"
     ]
    },
    {
     "name": "stdout",
     "output_type": "stream",
     "text": [
      "test_rew_main =  0.0014425072222599522\n"
     ]
    },
    {
     "name": "stderr",
     "output_type": "stream",
     "text": [
      " 77%|███████▋  | 230999/300000 [4:37:43<18:46, 61.26it/s]   "
     ]
    },
    {
     "name": "stdout",
     "output_type": "stream",
     "text": [
      "ep_rew_main =  [0.01742379]\n"
     ]
    },
    {
     "name": "stderr",
     "output_type": "stream",
     "text": [
      " 77%|███████▋  | 231000/300000 [4:39:32<109:56:35,  5.74s/it]"
     ]
    },
    {
     "name": "stdout",
     "output_type": "stream",
     "text": [
      "test_rew_main =  0.021162904476819434\n"
     ]
    },
    {
     "name": "stderr",
     "output_type": "stream",
     "text": [
      " 78%|███████▊  | 233998/300000 [4:41:10<15:37, 70.43it/s]    "
     ]
    },
    {
     "name": "stdout",
     "output_type": "stream",
     "text": [
      "ep_rew_main =  [0.00187111]\n"
     ]
    },
    {
     "name": "stderr",
     "output_type": "stream",
     "text": [
      " 78%|███████▊  | 234000/300000 [4:43:01<98:25:58,  5.37s/it]"
     ]
    },
    {
     "name": "stdout",
     "output_type": "stream",
     "text": [
      "test_rew_main =  0.00725342371529811\n"
     ]
    },
    {
     "name": "stderr",
     "output_type": "stream",
     "text": [
      " 79%|███████▉  | 236994/300000 [4:44:43<19:46, 53.11it/s]   "
     ]
    },
    {
     "name": "stdout",
     "output_type": "stream",
     "text": [
      "ep_rew_main =  [0.00058563]\n"
     ]
    },
    {
     "name": "stderr",
     "output_type": "stream",
     "text": [
      " 79%|███████▉  | 237000/300000 [4:46:33<96:25:24,  5.51s/it]"
     ]
    },
    {
     "name": "stdout",
     "output_type": "stream",
     "text": [
      "test_rew_main =  0.0030188235998980266\n"
     ]
    },
    {
     "name": "stderr",
     "output_type": "stream",
     "text": [
      " 80%|███████▉  | 239998/300000 [4:48:24<19:43, 50.69it/s]   "
     ]
    },
    {
     "name": "stdout",
     "output_type": "stream",
     "text": [
      "ep_rew_main =  [2.4894283e-07]\n"
     ]
    },
    {
     "name": "stderr",
     "output_type": "stream",
     "text": [
      " 80%|███████▉  | 239998/300000 [4:48:39<19:43, 50.69it/s]"
     ]
    },
    {
     "name": "stdout",
     "output_type": "stream",
     "text": [
      "test_rew_main =  0.0027771202352339557\n",
      "current_time =  2022-02-02T19:14:14.004634\n"
     ]
    },
    {
     "name": "stderr",
     "output_type": "stream",
     "text": [
      " 80%|████████  | 240000/300000 [4:51:48<213:01:30, 12.78s/it]"
     ]
    },
    {
     "name": "stdout",
     "output_type": "stream",
     "text": [
      "current_time =  2022-02-02T19:15:36.682750\n"
     ]
    },
    {
     "name": "stderr",
     "output_type": "stream",
     "text": [
      " 81%|████████  | 242999/300000 [4:53:30<14:40, 64.71it/s]    "
     ]
    },
    {
     "name": "stdout",
     "output_type": "stream",
     "text": [
      "ep_rew_main =  [0.01504344]\n"
     ]
    },
    {
     "name": "stderr",
     "output_type": "stream",
     "text": [
      " 81%|████████  | 243000/300000 [4:56:15<133:33:09,  8.43s/it]"
     ]
    },
    {
     "name": "stdout",
     "output_type": "stream",
     "text": [
      "test_rew_main =  0.0029356768916973626\n"
     ]
    },
    {
     "name": "stderr",
     "output_type": "stream",
     "text": [
      " 82%|████████▏ | 245999/300000 [4:58:04<20:49, 43.23it/s]    "
     ]
    },
    {
     "name": "stdout",
     "output_type": "stream",
     "text": [
      "ep_rew_main =  [6.982467e-07]\n"
     ]
    },
    {
     "name": "stderr",
     "output_type": "stream",
     "text": [
      " 82%|████████▏ | 246000/300000 [5:00:33<176:37:11, 11.77s/it]"
     ]
    },
    {
     "name": "stdout",
     "output_type": "stream",
     "text": [
      "test_rew_main =  0.0002369745140748383\n"
     ]
    },
    {
     "name": "stderr",
     "output_type": "stream",
     "text": [
      " 83%|████████▎ | 248993/300000 [5:02:26<14:42, 57.83it/s]    "
     ]
    },
    {
     "name": "stdout",
     "output_type": "stream",
     "text": [
      "ep_rew_main =  [0.01842669]\n"
     ]
    },
    {
     "name": "stderr",
     "output_type": "stream",
     "text": [
      " 83%|████████▎ | 249000/300000 [5:04:48<86:34:53,  6.11s/it]"
     ]
    },
    {
     "name": "stdout",
     "output_type": "stream",
     "text": [
      "test_rew_main =  0.011924124926156004\n"
     ]
    },
    {
     "name": "stderr",
     "output_type": "stream",
     "text": [
      " 84%|████████▍ | 251995/300000 [5:06:42<12:15, 65.25it/s]   "
     ]
    },
    {
     "name": "stdout",
     "output_type": "stream",
     "text": [
      "ep_rew_main =  [0.04129611]\n"
     ]
    },
    {
     "name": "stderr",
     "output_type": "stream",
     "text": [
      " 84%|████████▍ | 252000/300000 [5:08:47<71:12:32,  5.34s/it]"
     ]
    },
    {
     "name": "stdout",
     "output_type": "stream",
     "text": [
      "test_rew_main =  0.000825411120836584\n"
     ]
    },
    {
     "name": "stderr",
     "output_type": "stream",
     "text": [
      " 85%|████████▍ | 254994/300000 [5:10:32<10:43, 69.98it/s]   "
     ]
    },
    {
     "name": "stdout",
     "output_type": "stream",
     "text": [
      "ep_rew_main =  [2.141562e-09]\n"
     ]
    },
    {
     "name": "stderr",
     "output_type": "stream",
     "text": [
      " 85%|████████▌ | 255000/300000 [5:12:13<50:38:14,  4.05s/it]"
     ]
    },
    {
     "name": "stdout",
     "output_type": "stream",
     "text": [
      "test_rew_main =  4.823832078304502e-09\n"
     ]
    },
    {
     "name": "stderr",
     "output_type": "stream",
     "text": [
      " 86%|████████▌ | 257996/300000 [5:13:53<09:24, 74.37it/s]   "
     ]
    },
    {
     "name": "stdout",
     "output_type": "stream",
     "text": [
      "ep_rew_main =  [9.368295e-10]\n"
     ]
    },
    {
     "name": "stderr",
     "output_type": "stream",
     "text": [
      " 86%|████████▌ | 258000/300000 [5:15:30<45:30:36,  3.90s/it]"
     ]
    },
    {
     "name": "stdout",
     "output_type": "stream",
     "text": [
      "test_rew_main =  1.9375096707057615e-05\n"
     ]
    },
    {
     "name": "stderr",
     "output_type": "stream",
     "text": [
      " 87%|████████▋ | 260996/300000 [5:17:08<08:43, 74.52it/s]   "
     ]
    },
    {
     "name": "stdout",
     "output_type": "stream",
     "text": [
      "ep_rew_main =  [2.9516248e-10]\n"
     ]
    },
    {
     "name": "stderr",
     "output_type": "stream",
     "text": [
      " 87%|████████▋ | 261000/300000 [5:18:43<41:20:21,  3.82s/it]"
     ]
    },
    {
     "name": "stdout",
     "output_type": "stream",
     "text": [
      "test_rew_main =  5.057292778587464e-09\n"
     ]
    },
    {
     "name": "stderr",
     "output_type": "stream",
     "text": [
      " 88%|████████▊ | 263998/300000 [5:20:23<13:15, 45.26it/s]   "
     ]
    },
    {
     "name": "stdout",
     "output_type": "stream",
     "text": [
      "ep_rew_main =  [2.750187e-08]\n"
     ]
    },
    {
     "name": "stderr",
     "output_type": "stream",
     "text": [
      " 88%|████████▊ | 264000/300000 [5:22:02<43:08:10,  4.31s/it]"
     ]
    },
    {
     "name": "stdout",
     "output_type": "stream",
     "text": [
      "test_rew_main =  5.822935479217962e-05\n"
     ]
    },
    {
     "name": "stderr",
     "output_type": "stream",
     "text": [
      " 89%|████████▉ | 266998/300000 [5:23:44<08:22, 65.62it/s]   "
     ]
    },
    {
     "name": "stdout",
     "output_type": "stream",
     "text": [
      "ep_rew_main =  [2.532644e-05]\n"
     ]
    },
    {
     "name": "stderr",
     "output_type": "stream",
     "text": [
      " 89%|████████▉ | 267000/300000 [5:25:16<41:15:52,  4.50s/it]"
     ]
    },
    {
     "name": "stdout",
     "output_type": "stream",
     "text": [
      "test_rew_main =  5.515834524671969e-09\n"
     ]
    },
    {
     "name": "stderr",
     "output_type": "stream",
     "text": [
      " 90%|████████▉ | 269991/300000 [5:27:03<07:07, 70.19it/s]   "
     ]
    },
    {
     "name": "stdout",
     "output_type": "stream",
     "text": [
      "ep_rew_main =  [1.4897468e-09]\n"
     ]
    },
    {
     "name": "stderr",
     "output_type": "stream",
     "text": [
      " 90%|████████▉ | 269991/300000 [5:27:21<07:07, 70.19it/s]"
     ]
    },
    {
     "name": "stdout",
     "output_type": "stream",
     "text": [
      "test_rew_main =  0.0005830196312047751\n",
      "current_time =  2022-02-02T19:52:43.431666\n"
     ]
    },
    {
     "name": "stderr",
     "output_type": "stream",
     "text": [
      " 90%|█████████ | 270000/300000 [5:30:17<53:51:39,  6.46s/it]"
     ]
    },
    {
     "name": "stdout",
     "output_type": "stream",
     "text": [
      "current_time =  2022-02-02T19:54:05.014590\n"
     ]
    },
    {
     "name": "stderr",
     "output_type": "stream",
     "text": [
      " 91%|█████████ | 272993/300000 [5:32:07<06:31, 68.95it/s]   "
     ]
    },
    {
     "name": "stdout",
     "output_type": "stream",
     "text": [
      "ep_rew_main =  [7.0386846e-10]\n"
     ]
    },
    {
     "name": "stderr",
     "output_type": "stream",
     "text": [
      " 91%|█████████ | 273000/300000 [5:33:58<32:37:44,  4.35s/it]"
     ]
    },
    {
     "name": "stdout",
     "output_type": "stream",
     "text": [
      "test_rew_main =  7.531446111771471e-05\n"
     ]
    },
    {
     "name": "stderr",
     "output_type": "stream",
     "text": [
      " 92%|█████████▏| 275998/300000 [5:35:50<06:12, 64.49it/s]   "
     ]
    },
    {
     "name": "stdout",
     "output_type": "stream",
     "text": [
      "ep_rew_main =  [6.857297e-05]\n"
     ]
    },
    {
     "name": "stderr",
     "output_type": "stream",
     "text": [
      " 92%|█████████▏| 276000/300000 [5:37:46<38:00:54,  5.70s/it]"
     ]
    },
    {
     "name": "stdout",
     "output_type": "stream",
     "text": [
      "test_rew_main =  0.0161649871882733\n"
     ]
    },
    {
     "name": "stderr",
     "output_type": "stream",
     "text": [
      " 93%|█████████▎| 278996/300000 [5:39:38<05:20, 65.60it/s]   "
     ]
    },
    {
     "name": "stdout",
     "output_type": "stream",
     "text": [
      "ep_rew_main =  [0.00092527]\n"
     ]
    },
    {
     "name": "stderr",
     "output_type": "stream",
     "text": [
      " 93%|█████████▎| 279000/300000 [5:41:52<34:17:53,  5.88s/it]"
     ]
    },
    {
     "name": "stdout",
     "output_type": "stream",
     "text": [
      "test_rew_main =  0.00019782101688900047\n"
     ]
    },
    {
     "name": "stderr",
     "output_type": "stream",
     "text": [
      " 94%|█████████▍| 281994/300000 [5:43:47<04:39, 64.38it/s]   "
     ]
    },
    {
     "name": "stdout",
     "output_type": "stream",
     "text": [
      "ep_rew_main =  [2.0410836e-05]\n"
     ]
    },
    {
     "name": "stderr",
     "output_type": "stream",
     "text": [
      " 94%|█████████▍| 282000/300000 [5:46:05<28:05:14,  5.62s/it]"
     ]
    },
    {
     "name": "stdout",
     "output_type": "stream",
     "text": [
      "test_rew_main =  0.0009070309697766928\n"
     ]
    },
    {
     "name": "stderr",
     "output_type": "stream",
     "text": [
      " 95%|█████████▍| 284993/300000 [5:47:59<03:42, 67.55it/s]   "
     ]
    },
    {
     "name": "stdout",
     "output_type": "stream",
     "text": [
      "ep_rew_main =  [0.00511883]\n"
     ]
    },
    {
     "name": "stderr",
     "output_type": "stream",
     "text": [
      " 95%|█████████▌| 285000/300000 [5:50:01<19:51:44,  4.77s/it]"
     ]
    },
    {
     "name": "stdout",
     "output_type": "stream",
     "text": [
      "test_rew_main =  0.0006900186668521932\n"
     ]
    },
    {
     "name": "stderr",
     "output_type": "stream",
     "text": [
      " 96%|█████████▌| 287992/300000 [5:51:53<02:56, 67.97it/s]   "
     ]
    },
    {
     "name": "stdout",
     "output_type": "stream",
     "text": [
      "ep_rew_main =  [0.00690101]\n"
     ]
    },
    {
     "name": "stderr",
     "output_type": "stream",
     "text": [
      " 96%|█████████▌| 288000/300000 [5:54:14<17:37:38,  5.29s/it]"
     ]
    },
    {
     "name": "stdout",
     "output_type": "stream",
     "text": [
      "test_rew_main =  0.00031915707391694655\n"
     ]
    },
    {
     "name": "stderr",
     "output_type": "stream",
     "text": [
      " 97%|█████████▋| 290996/300000 [5:56:12<02:17, 65.55it/s]   "
     ]
    },
    {
     "name": "stdout",
     "output_type": "stream",
     "text": [
      "ep_rew_main =  [0.00498093]\n"
     ]
    },
    {
     "name": "stderr",
     "output_type": "stream",
     "text": [
      " 97%|█████████▋| 291000/300000 [5:58:34<15:36:57,  6.25s/it]"
     ]
    },
    {
     "name": "stdout",
     "output_type": "stream",
     "text": [
      "test_rew_main =  0.0026710750259626498\n"
     ]
    },
    {
     "name": "stderr",
     "output_type": "stream",
     "text": [
      " 98%|█████████▊| 293993/300000 [6:00:31<01:31, 65.48it/s]   "
     ]
    },
    {
     "name": "stdout",
     "output_type": "stream",
     "text": [
      "ep_rew_main =  [1.507676e-06]\n"
     ]
    },
    {
     "name": "stderr",
     "output_type": "stream",
     "text": [
      " 98%|█████████▊| 294000/300000 [6:02:38<8:17:17,  4.97s/it]"
     ]
    },
    {
     "name": "stdout",
     "output_type": "stream",
     "text": [
      "test_rew_main =  0.044263550184293364\n"
     ]
    },
    {
     "name": "stderr",
     "output_type": "stream",
     "text": [
      " 99%|█████████▉| 296997/300000 [6:04:35<00:59, 50.49it/s]  "
     ]
    },
    {
     "name": "stdout",
     "output_type": "stream",
     "text": [
      "ep_rew_main =  [0.35137716]\n"
     ]
    },
    {
     "name": "stderr",
     "output_type": "stream",
     "text": [
      " 99%|█████████▉| 297000/300000 [6:06:51<6:32:01,  7.84s/it]"
     ]
    },
    {
     "name": "stdout",
     "output_type": "stream",
     "text": [
      "test_rew_main =  0.02397870305703833\n"
     ]
    },
    {
     "name": "stderr",
     "output_type": "stream",
     "text": [
      "100%|█████████▉| 299995/300000 [6:08:45<00:00, 59.69it/s]  "
     ]
    },
    {
     "name": "stdout",
     "output_type": "stream",
     "text": [
      "ep_rew_main =  [0.19846305]\n"
     ]
    },
    {
     "name": "stderr",
     "output_type": "stream",
     "text": [
      "100%|█████████▉| 299995/300000 [6:08:57<00:00, 59.69it/s]"
     ]
    },
    {
     "name": "stdout",
     "output_type": "stream",
     "text": [
      "test_rew_main =  0.005614001077933981\n",
      "current_time =  2022-02-02T20:34:33.882469\n"
     ]
    },
    {
     "name": "stderr",
     "output_type": "stream",
     "text": [
      "100%|██████████| 300000/300000 [6:11:58<00:00, 13.44it/s]"
     ]
    },
    {
     "name": "stdout",
     "output_type": "stream",
     "text": [
      "current_time =  2022-02-02T20:35:46.734247\n"
     ]
    },
    {
     "name": "stderr",
     "output_type": "stream",
     "text": [
      "\n"
     ]
    }
   ],
   "source": [
    "# Main loop: collect experience in env and update/log each epoch\n",
    "low, high = env.action_spec\n",
    "\n",
    "for t in tqdm(range(total_steps)):\n",
    "    \n",
    "    # Until start_steps have elapsed, randomly sample actions\n",
    "    # from a uniform distribution for better exploration. Afterwards, \n",
    "    # use the learned policy (with some noise, via act_noise). \n",
    "    if t > params[\"start_steps\"]:\n",
    "        a = get_action(o, params[\"act_noise\"])      # Tensor\n",
    "    else:\n",
    "        a = torch.tensor([np.random.uniform(low, high)], dtype=torch.float32, device=device)\n",
    "        \n",
    "    a_cpu = a.cpu().data.numpy()\n",
    "    # Step the env\n",
    "    obs2, r, d, _ = env.step(a_cpu[0])\n",
    "    \n",
    "    o2 = list(obs2['robot0_proprio-state']) + list(obs2['object-state'])\n",
    "    # print('len(o2) = ', len(o2))\n",
    "\n",
    "    ep_len += 1\n",
    "    total_main += r\n",
    "\n",
    "\n",
    "    # Ignore the \"done\" signal if it comes from hitting the time\n",
    "    # horizon (that is, when it's an artificial terminal signal\n",
    "    # that isn't based on the agent's state)\n",
    "    d = False if ep_len==params[\"max_ep_len\"] else d\n",
    "\n",
    "    o2 = torch.tensor([o2], dtype=torch.float32, device=device)\n",
    "    r = torch.tensor([r], dtype=torch.float32, device=device)\n",
    "    d = torch.tensor([d], dtype=torch.float32, device=device)\n",
    "\n",
    "    # Store experience to replay buffer\n",
    "    memory.push(o, a, r, o2, d)\n",
    "    nep_log[\"train/o\"].log(o)\n",
    "    nep_log[\"train/a\"].log(a)\n",
    "    nep_log[\"train/r\"].log(r)\n",
    "    nep_log[\"train/o2\"].log(o2)\n",
    "    nep_log[\"train/d\"].log(d)\n",
    "\n",
    "    # Super critical, easy to overlook step: make sure to update \n",
    "    # most recent observation!\n",
    "    o=o2\n",
    "    ep_ret += r\n",
    "    \n",
    "    \n",
    "    # End of trajectory handling\n",
    "    if d or (ep_len == params[\"max_ep_len\"]):\n",
    "        ep_rew = ep_ret/ep_len\n",
    "        obs, ep_ret, ep_len = env.reset(), 0, 0\n",
    "        o = list(obs['robot0_proprio-state']) + list(obs['object-state'])\n",
    "        o = torch.tensor([o], device=device)\n",
    "\n",
    "\n",
    "    # Update handling\n",
    "    if t >= params[\"update_after\"] and t % params[\"update_every\"] == 0:\n",
    "        for i in range(params[\"update_every\"]):\n",
    "\n",
    "            transitions = memory.sample(params[\"batch_size\"])\n",
    "            # Transpose the batch (see https://stackoverflow.com/a/19343/3343043 for\n",
    "            # detailed explanation). This converts batch-array of Transitions\n",
    "            # to Transition of batch-arrays.\n",
    "            batch = Transition(*zip(*transitions))\n",
    "            update(data=batch)\n",
    "\n",
    "    # End of epoch handling\n",
    "    if (t+1) % params[\"steps_per_epoch\"] == 0:\n",
    "        epoch = (t+1) // params[\"steps_per_epoch\"]\n",
    "        ep_rew_main = ep_rew\n",
    "\n",
    "        nep_log[\"train/reward\"].log(ep_rew_main)\n",
    "        print('ep_rew_main = ', ep_rew_main.cpu().data.numpy())\n",
    "        # Test the performance of the deterministic version of the agent.\n",
    "        test_agent(epoch)\n",
    "        \n",
    "\n",
    "    if (t+1) % params[\"steps_video\"] == 0:\n",
    "        epoch = (t+1) // params[\"steps_per_epoch\"]\n",
    "        now = datetime.now()\n",
    "        current_time = str(now.isoformat())\n",
    "        print('current_time = ', current_time)\n",
    "        video_agent(epoch)\n",
    "        now = datetime.now()\n",
    "        current_time = str(now.isoformat())\n",
    "        print('current_time = ', current_time)\n",
    "\n",
    "    if (t+1) % params[\"save_model_len\"] == 0:\n",
    "        epoch = (t+1) // params[\"steps_per_epoch\"]\n",
    "        now = datetime.now()\n",
    "        current_time = str(now.isoformat())\n",
    "        torch.save({\n",
    "                    'model of ac.q': ac.q.state_dict(),\n",
    "                    'model of ac.pi': ac.pi.state_dict(),\n",
    "                    'q_optimizer_state_dict': q_optimizer.state_dict(),\n",
    "                    'pi_optimizer_state_dict': pi_optimizer.state_dict(),\n",
    "                    \n",
    "                    }, \"model_nn/model_nn_%s%d.pt\" % (current_time, epoch))\n",
    "\n",
    "\n",
    "        "
   ]
  },
  {
   "cell_type": "code",
   "execution_count": null,
   "metadata": {},
   "outputs": [],
   "source": []
  },
  {
   "cell_type": "code",
   "execution_count": 16,
   "metadata": {},
   "outputs": [
    {
     "name": "stdout",
     "output_type": "stream",
     "text": [
      "Model_q's state_dict:\n",
      "q.0.weight \t torch.Size([256, 41])\n",
      "q.0.bias \t torch.Size([256])\n",
      "q.2.weight \t torch.Size([256, 256])\n",
      "q.2.bias \t torch.Size([256])\n",
      "q.4.weight \t torch.Size([256, 256])\n",
      "q.4.bias \t torch.Size([256])\n",
      "q.6.weight \t torch.Size([1, 256])\n",
      "q.6.bias \t torch.Size([1])\n",
      "Model_pi's state_dict:\n",
      "pi.0.weight \t torch.Size([256, 35])\n",
      "pi.0.bias \t torch.Size([256])\n",
      "pi.2.weight \t torch.Size([256, 256])\n",
      "pi.2.bias \t torch.Size([256])\n",
      "pi.4.weight \t torch.Size([256, 256])\n",
      "pi.4.bias \t torch.Size([256])\n",
      "pi.6.weight \t torch.Size([6, 256])\n",
      "pi.6.bias \t torch.Size([6])\n"
     ]
    }
   ],
   "source": [
    "model = ac.q\n",
    "print(\"Model_q's state_dict:\")\n",
    "for param_tensor in model.state_dict():\n",
    "    print(param_tensor, \"\\t\", model.state_dict()[param_tensor].size())\n",
    "\n",
    "model = ac.pi\n",
    "print(\"Model_pi's state_dict:\")\n",
    "for param_tensor in model.state_dict():\n",
    "    print(param_tensor, \"\\t\", model.state_dict()[param_tensor].size())"
   ]
  },
  {
   "cell_type": "code",
   "execution_count": 17,
   "metadata": {},
   "outputs": [
    {
     "name": "stderr",
     "output_type": "stream",
     "text": [
      "Warning: string series 'monitoring/stdout' value was longer than 1000 characters and was truncated. This warning is printed only once per series.\n"
     ]
    },
    {
     "name": "stdout",
     "output_type": "stream",
     "text": [
      "pi_optimizer's state_dict:\n",
      "state \t {0: {'step': 295000, 'square_avg': tensor([[1.5294e-07, 4.3574e-07, 1.7078e-07,  ..., 4.6295e-08, 1.3153e-07,\n",
      "         3.2821e-08],\n",
      "        [1.1260e-06, 1.0042e-06, 9.5667e-07,  ..., 3.2371e-07, 2.5242e-06,\n",
      "         2.0768e-07],\n",
      "        [3.3766e-07, 1.8660e-07, 2.4575e-07,  ..., 6.6838e-08, 3.6149e-07,\n",
      "         3.6968e-08],\n",
      "        ...,\n",
      "        [3.4772e-07, 6.0496e-07, 3.3804e-07,  ..., 8.6878e-08, 3.6086e-07,\n",
      "         6.7247e-08],\n",
      "        [1.1408e-06, 7.1713e-07, 6.1176e-07,  ..., 3.4519e-07, 1.2215e-06,\n",
      "         1.1788e-07],\n",
      "        [2.8419e-07, 7.1120e-07, 3.0715e-07,  ..., 6.3061e-08, 4.3581e-07,\n",
      "         7.5016e-08]], device='cuda:0')}, 1: {'step': 295000, 'square_avg': tensor([5.5312e-07, 3.3224e-06, 6.3727e-07, 5.1333e-07, 8.2843e-07, 6.8615e-07,\n",
      "        8.8244e-07, 1.9534e-06, 6.2446e-07, 1.3387e-06, 4.0938e-07, 1.2642e-06,\n",
      "        6.8603e-07, 9.9440e-07, 1.2369e-06, 7.1836e-07, 1.1587e-06, 1.1835e-06,\n",
      "        9.5166e-07, 5.0816e-07, 1.7202e-06, 5.6938e-07, 4.4152e-07, 1.0684e-06,\n",
      "        3.1871e-07, 1.2115e-06, 7.0910e-07, 5.9612e-07, 1.3182e-06, 4.3405e-07,\n",
      "        1.3060e-06, 4.9002e-07, 1.5110e-06, 7.4731e-07, 1.3223e-06, 1.3257e-06,\n",
      "        9.5778e-07, 5.1564e-07, 1.3252e-06, 5.1387e-07, 2.5570e-06, 1.0065e-06,\n",
      "        9.3963e-07, 5.5101e-07, 1.0983e-06, 5.5319e-07, 7.3117e-07, 1.0999e-06,\n",
      "        1.3151e-06, 4.2179e-07, 5.4948e-07, 5.7533e-07, 5.4058e-07, 4.1292e-06,\n",
      "        8.9550e-07, 8.9379e-07, 1.4890e-06, 8.2242e-07, 1.0184e-06, 9.3332e-07,\n",
      "        5.0147e-07, 1.0326e-06, 5.6830e-07, 9.6716e-07, 1.6930e-06, 1.4243e-06,\n",
      "        7.0928e-07, 2.3552e-07, 9.1991e-07, 2.0595e-06, 8.3736e-07, 1.8500e-06,\n",
      "        9.6629e-07, 9.1615e-07, 6.0231e-07, 6.0253e-07, 9.5487e-07, 5.6852e-07,\n",
      "        1.6028e-06, 7.8441e-07, 2.1564e-06, 7.0696e-07, 5.4571e-07, 6.9029e-07,\n",
      "        7.2878e-07, 4.5841e-07, 1.6332e-06, 7.2337e-07, 6.3352e-07, 1.6297e-06,\n",
      "        6.0255e-07, 1.2341e-06, 1.3196e-06, 7.3362e-07, 2.3132e-06, 3.7870e-07,\n",
      "        5.7771e-07, 6.5394e-07, 1.3188e-06, 2.2837e-06, 7.8352e-07, 1.3910e-06,\n",
      "        8.8812e-07, 1.0316e-06, 4.5920e-07, 8.7999e-07, 6.6733e-07, 1.0406e-06,\n",
      "        9.5847e-07, 8.0143e-07, 4.2200e-07, 1.0488e-06, 1.0378e-06, 6.3690e-07,\n",
      "        6.9079e-07, 5.8200e-07, 2.2845e-06, 1.3906e-06, 2.7831e-06, 3.1157e-06,\n",
      "        9.7969e-07, 1.1447e-06, 1.2942e-06, 9.7422e-07, 1.2397e-06, 1.8610e-07,\n",
      "        3.3845e-07, 1.8373e-06, 1.8163e-06, 7.8021e-07, 8.3872e-07, 1.4292e-06,\n",
      "        8.2664e-07, 1.4749e-06, 4.6770e-07, 3.3704e-07, 1.9078e-06, 9.4330e-07,\n",
      "        8.8852e-07, 8.6381e-07, 1.3557e-06, 9.6310e-07, 6.6882e-07, 8.1204e-07,\n",
      "        1.5272e-06, 7.9280e-07, 1.4181e-06, 1.9098e-06, 6.6300e-07, 1.2946e-06,\n",
      "        6.9522e-07, 8.5799e-07, 1.3232e-06, 1.5567e-06, 5.0456e-07, 5.9942e-07,\n",
      "        1.0643e-06, 9.0908e-07, 6.7114e-07, 6.8561e-07, 9.7002e-07, 2.7347e-06,\n",
      "        9.8231e-07, 5.3625e-07, 1.0869e-06, 8.6739e-07, 7.0934e-07, 8.1913e-07,\n",
      "        1.3662e-06, 1.0837e-06, 2.8735e-06, 1.0980e-06, 4.4656e-07, 3.7085e-07,\n",
      "        2.9545e-07, 8.3675e-07, 1.1475e-06, 3.0978e-06, 1.2737e-06, 1.9716e-06,\n",
      "        7.4679e-07, 1.2701e-06, 7.6067e-07, 2.2446e-06, 5.6750e-07, 7.6226e-07,\n",
      "        3.2957e-07, 2.8627e-06, 9.2688e-07, 1.2293e-06, 1.1479e-06, 5.9642e-07,\n",
      "        5.2939e-07, 3.2521e-06, 1.8728e-07, 8.2832e-07, 9.6715e-07, 8.0092e-07,\n",
      "        2.3647e-06, 4.7690e-07, 3.9721e-07, 1.1170e-06, 2.1490e-06, 8.3836e-07,\n",
      "        5.1579e-07, 2.5706e-06, 8.9556e-07, 1.4429e-06, 8.6339e-07, 3.4810e-07,\n",
      "        4.8095e-06, 5.9977e-07, 6.3561e-07, 1.3872e-06, 1.5696e-06, 5.6733e-07,\n",
      "        3.9694e-07, 8.0231e-07, 1.9316e-06, 1.2127e-06, 1.7018e-06, 1.2005e-06,\n",
      "        8.4203e-07, 2.7374e-07, 1.7970e-06, 1.7229e-06, 2.9321e-06, 7.1214e-07,\n",
      "        2.5184e-07, 1.1740e-06, 1.5586e-06, 1.4483e-06, 1.1358e-06, 1.1357e-06,\n",
      "        2.2400e-07, 5.0166e-07, 5.3679e-07, 6.6559e-07, 6.8442e-07, 9.3597e-07,\n",
      "        6.9036e-07, 7.6608e-07, 8.0037e-07, 9.6158e-07, 4.2180e-07, 1.1313e-06,\n",
      "        1.5995e-06, 7.2820e-07, 1.3905e-06, 7.3579e-07, 1.3210e-06, 1.9925e-06,\n",
      "        5.4515e-07, 9.3228e-07, 2.1240e-06, 8.1638e-07], device='cuda:0')}, 2: {'step': 295000, 'square_avg': tensor([[2.6364e-07, 2.2522e-07, 2.6878e-07,  ..., 4.7396e-07, 1.0001e-07,\n",
      "         7.6052e-08],\n",
      "        [8.5503e-09, 1.2509e-07, 4.3237e-08,  ..., 1.0311e-07, 1.2524e-08,\n",
      "         1.2141e-08],\n",
      "        [6.7685e-08, 1.2867e-07, 9.7317e-08,  ..., 2.3960e-07, 3.1709e-08,\n",
      "         3.0172e-09],\n",
      "        ...,\n",
      "        [1.9853e-09, 7.1651e-08, 7.0533e-08,  ..., 5.1073e-08, 4.5405e-08,\n",
      "         2.3598e-09],\n",
      "        [4.0061e-08, 1.8999e-08, 1.1788e-08,  ..., 4.2179e-08, 8.2509e-09,\n",
      "         8.3547e-09],\n",
      "        [8.7009e-09, 1.4293e-07, 1.7964e-07,  ..., 1.2611e-07, 7.5952e-08,\n",
      "         6.9463e-11]], device='cuda:0')}, 3: {'step': 295000, 'square_avg': tensor([1.3338e-06, 2.8732e-07, 5.1800e-07, 2.6833e-07, 3.5114e-07, 2.5751e-07,\n",
      "        7.3793e-07, 1.0731e-06, 7.0303e-07, 5.2857e-07, 6.3745e-07, 9.3030e-07,\n",
      "        3.7616e-08, 2.9885e-07, 3.3626e-07, 3.2385e-07, 2.4328e-07, 2.0632e-07,\n",
      "        7.0224e-07, 6.5806e-07, 5.5312e-07, 2.7065e-07, 5.9326e-07, 1.0039e-06,\n",
      "        2.7501e-07, 4.7491e-07, 4.1329e-07, 5.3936e-07, 7.1273e-07, 7.7757e-07,\n",
      "        2.7682e-07, 4.3035e-07, 6.6462e-07, 1.7276e-07, 1.2666e-06, 6.8352e-07,\n",
      "        2.8992e-07, 5.4134e-07, 4.4876e-07, 7.2785e-07, 2.1251e-07, 4.8728e-07,\n",
      "        4.7146e-07, 1.8229e-07, 7.7180e-07, 3.1533e-07, 5.1669e-07, 8.6744e-07,\n",
      "        3.8321e-07, 5.3658e-07, 2.0011e-07, 1.8571e-06, 2.6245e-07, 2.7908e-07,\n",
      "        6.6007e-07, 4.8321e-07, 8.9602e-07, 4.6330e-07, 2.1250e-07, 8.6825e-08,\n",
      "        2.7448e-07, 2.8190e-07, 1.3591e-07, 9.7716e-08, 6.4455e-07, 2.8552e-07,\n",
      "        3.3592e-07, 2.2875e-07, 1.0917e-06, 4.5126e-07, 7.4150e-07, 5.8700e-07,\n",
      "        1.0078e-06, 3.4984e-07, 2.3437e-07, 4.3321e-07, 3.8935e-07, 3.2052e-07,\n",
      "        6.1166e-07, 4.0685e-07, 3.2441e-07, 2.1697e-07, 4.1636e-07, 3.0527e-07,\n",
      "        4.4015e-07, 7.9645e-07, 2.4019e-07, 1.8029e-07, 5.0087e-07, 6.5011e-07,\n",
      "        3.6448e-07, 4.8143e-07, 3.7006e-07, 2.1088e-06, 9.4752e-07, 7.1240e-07,\n",
      "        9.1845e-07, 8.9059e-07, 5.2570e-07, 4.3511e-07, 4.6036e-07, 1.1099e-06,\n",
      "        1.0365e-06, 3.3845e-07, 5.8313e-07, 5.4943e-07, 3.7440e-07, 4.7996e-07,\n",
      "        3.4762e-07, 5.3849e-07, 3.2128e-07, 2.9810e-07, 5.7996e-07, 8.6317e-07,\n",
      "        2.7703e-07, 4.9465e-07, 1.3240e-06, 2.2212e-07, 3.0681e-07, 1.1604e-07,\n",
      "        2.2839e-07, 3.2602e-07, 3.4324e-07, 2.4034e-07, 1.2205e-07, 3.7709e-07,\n",
      "        3.3391e-07, 6.7559e-07, 2.8020e-07, 2.2182e-07, 5.8942e-07, 1.9866e-07,\n",
      "        6.7924e-07, 1.2486e-06, 4.4893e-07, 8.2482e-07, 1.5853e-07, 6.6744e-07,\n",
      "        8.5739e-08, 4.1593e-07, 3.7109e-07, 4.2747e-07, 4.5249e-07, 1.8811e-07,\n",
      "        9.1907e-07, 2.9936e-07, 2.7776e-07, 6.0889e-07, 2.6149e-07, 8.9493e-07,\n",
      "        8.0736e-07, 1.7997e-07, 2.3811e-07, 1.1472e-06, 4.4953e-07, 1.2218e-07,\n",
      "        3.1180e-07, 3.7743e-07, 2.7124e-07, 6.0669e-07, 2.0176e-07, 2.5950e-07,\n",
      "        3.3980e-07, 4.7618e-07, 8.4249e-07, 7.9413e-07, 6.0415e-07, 6.7151e-07,\n",
      "        5.9305e-07, 5.4607e-07, 6.7823e-07, 2.2616e-07, 5.8593e-07, 5.0708e-07,\n",
      "        1.7715e-07, 6.0535e-07, 5.8566e-07, 2.2872e-07, 1.8342e-07, 5.6274e-07,\n",
      "        5.7370e-07, 4.7224e-07, 3.6537e-07, 1.0944e-06, 5.1585e-07, 3.4805e-07,\n",
      "        2.0934e-07, 1.2736e-06, 5.7299e-07, 2.5321e-07, 6.3862e-07, 7.6575e-07,\n",
      "        1.9565e-07, 1.4500e-07, 6.6701e-07, 7.0296e-07, 1.6571e-07, 7.7348e-07,\n",
      "        1.0200e-06, 2.7622e-07, 6.1201e-07, 3.1422e-07, 1.1798e-07, 4.0956e-07,\n",
      "        3.0563e-07, 8.9075e-07, 2.1461e-07, 7.2730e-07, 3.4742e-07, 1.7042e-07,\n",
      "        6.5309e-07, 9.1955e-07, 1.8736e-07, 3.1510e-07, 1.4743e-06, 4.2827e-07,\n",
      "        5.5637e-07, 4.3796e-07, 3.2133e-07, 2.8234e-07, 4.5314e-07, 1.1563e-07,\n",
      "        1.1016e-06, 1.2050e-06, 3.0249e-07, 6.0765e-07, 4.4911e-07, 1.6574e-07,\n",
      "        1.7728e-07, 1.6654e-06, 1.1465e-07, 2.3199e-07, 8.1542e-07, 7.2397e-07,\n",
      "        9.1439e-07, 3.4069e-07, 1.8869e-07, 3.8633e-07, 2.8953e-07, 6.8189e-07,\n",
      "        4.6632e-07, 1.0782e-07, 3.8895e-07, 5.6133e-07, 4.2811e-07, 1.5588e-07,\n",
      "        4.8586e-07, 7.4463e-07, 6.9351e-07, 3.1670e-07, 6.4388e-07, 5.8201e-07,\n",
      "        5.9323e-07, 2.2376e-07, 1.8152e-07, 3.8706e-07], device='cuda:0')}, 4: {'step': 295000, 'square_avg': tensor([[3.1394e-09, 9.5149e-10, 1.0238e-09,  ..., 9.0438e-11, 6.1631e-09,\n",
      "         5.9294e-11],\n",
      "        [2.2682e-09, 4.4827e-10, 6.2714e-10,  ..., 1.6272e-10, 4.1773e-09,\n",
      "         2.1893e-10],\n",
      "        [6.4304e-09, 1.2936e-09, 2.8372e-09,  ..., 7.6575e-10, 1.5071e-08,\n",
      "         8.6409e-10],\n",
      "        ...,\n",
      "        [2.3437e-09, 7.1944e-10, 1.7054e-09,  ..., 3.7593e-10, 2.3442e-09,\n",
      "         1.8384e-10],\n",
      "        [1.9351e-09, 3.4401e-10, 6.5610e-10,  ..., 7.6308e-11, 3.9624e-09,\n",
      "         1.5092e-10],\n",
      "        [2.3511e-09, 3.9019e-10, 1.2407e-09,  ..., 1.8418e-10, 2.0405e-09,\n",
      "         1.2793e-10]], device='cuda:0')}, 5: {'step': 295000, 'square_avg': tensor([9.2065e-09, 7.0973e-09, 2.3651e-08, 9.7506e-09, 5.5370e-09, 5.8348e-09,\n",
      "        3.4424e-09, 1.5745e-08, 4.9498e-09, 6.8082e-09, 9.7877e-09, 1.4240e-08,\n",
      "        5.5357e-09, 7.3659e-09, 3.1238e-09, 4.3835e-09, 1.4412e-08, 1.4305e-08,\n",
      "        1.1191e-08, 1.2285e-08, 1.0460e-08, 8.2069e-09, 6.1616e-09, 1.1412e-08,\n",
      "        1.3441e-08, 7.0059e-09, 6.3353e-09, 1.2801e-08, 3.8395e-09, 8.6126e-09,\n",
      "        1.4371e-08, 1.4981e-08, 8.8991e-09, 9.1239e-09, 1.1283e-08, 1.2043e-08,\n",
      "        2.7040e-09, 8.8261e-09, 2.4090e-09, 1.1915e-08, 1.2796e-08, 1.4876e-08,\n",
      "        7.1222e-09, 7.9508e-09, 8.7164e-09, 1.5480e-08, 9.9099e-09, 8.4846e-09,\n",
      "        6.0553e-09, 7.3750e-09, 5.6852e-09, 7.7303e-09, 2.2906e-08, 1.6367e-08,\n",
      "        3.5251e-09, 1.1791e-08, 7.5733e-09, 3.5443e-08, 7.7152e-09, 1.1595e-08,\n",
      "        7.2742e-09, 4.1447e-09, 9.4950e-09, 1.6653e-08, 2.9730e-09, 1.5146e-08,\n",
      "        1.0986e-08, 8.0505e-09, 1.1477e-08, 1.2165e-08, 5.2469e-09, 2.0293e-08,\n",
      "        5.3898e-09, 7.6215e-09, 1.5095e-08, 5.6133e-09, 6.6316e-09, 1.5686e-08,\n",
      "        8.2381e-09, 9.0120e-09, 1.6478e-08, 1.6011e-08, 2.2966e-08, 1.7814e-08,\n",
      "        1.3873e-08, 9.2506e-09, 1.3875e-08, 6.3246e-09, 2.5015e-09, 1.9397e-08,\n",
      "        1.1993e-08, 1.4565e-08, 7.3679e-09, 6.2618e-09, 4.8038e-09, 1.9393e-08,\n",
      "        1.2679e-08, 1.0975e-08, 7.5628e-09, 1.1598e-08, 4.9220e-09, 1.1663e-08,\n",
      "        8.5824e-09, 1.4010e-08, 6.4099e-09, 1.1440e-08, 1.1121e-08, 3.5779e-09,\n",
      "        7.4233e-09, 1.0481e-08, 5.6514e-09, 1.2491e-08, 2.4878e-09, 6.5521e-09,\n",
      "        7.0606e-09, 8.2678e-09, 1.0034e-08, 9.7843e-09, 8.5420e-09, 1.2525e-08,\n",
      "        6.2454e-09, 7.7457e-09, 1.9937e-08, 8.6755e-09, 9.9217e-09, 3.9916e-09,\n",
      "        9.8247e-09, 6.1970e-09, 8.1826e-09, 7.4502e-09, 1.5098e-08, 4.0280e-09,\n",
      "        6.5410e-09, 8.8682e-09, 3.8162e-09, 4.7413e-09, 3.6692e-08, 7.4869e-09,\n",
      "        1.4816e-08, 1.4210e-08, 4.4805e-09, 4.9680e-09, 9.2692e-09, 5.4416e-09,\n",
      "        2.0447e-08, 5.0088e-09, 1.3441e-08, 6.0192e-09, 6.8987e-09, 5.2347e-09,\n",
      "        4.4433e-09, 1.7076e-08, 1.5862e-08, 5.9263e-09, 1.1715e-08, 5.5197e-09,\n",
      "        4.4242e-09, 3.1045e-08, 1.5255e-08, 7.7892e-09, 1.0493e-08, 9.1635e-09,\n",
      "        1.1453e-08, 6.6077e-09, 5.1822e-09, 1.8968e-08, 2.0914e-08, 9.6755e-09,\n",
      "        7.6440e-09, 1.1165e-08, 6.7669e-09, 4.2202e-09, 5.8813e-09, 5.2459e-09,\n",
      "        7.4019e-09, 5.4443e-09, 6.2190e-09, 2.3115e-08, 1.7096e-08, 1.5924e-08,\n",
      "        8.2722e-09, 9.5527e-09, 2.8956e-09, 2.0172e-08, 8.6545e-09, 1.0099e-08,\n",
      "        2.2530e-08, 8.0111e-09, 8.4913e-09, 3.2567e-08, 9.3316e-09, 1.2699e-08,\n",
      "        1.1258e-08, 9.3863e-09, 9.3650e-09, 9.1275e-09, 5.2864e-09, 1.9495e-08,\n",
      "        6.2983e-09, 5.7350e-09, 6.5108e-09, 4.5395e-09, 7.1603e-09, 3.7605e-09,\n",
      "        1.0630e-08, 7.6619e-09, 5.9646e-09, 7.8970e-09, 4.2678e-09, 1.7743e-08,\n",
      "        1.7611e-08, 5.8940e-09, 1.8404e-08, 1.0969e-08, 3.7260e-09, 1.2455e-08,\n",
      "        1.7226e-08, 9.2261e-09, 7.6250e-09, 7.7405e-09, 9.4202e-09, 3.8526e-09,\n",
      "        3.0899e-09, 7.1657e-09, 2.5533e-09, 1.4856e-08, 2.8082e-09, 2.8267e-09,\n",
      "        1.2820e-08, 7.5158e-09, 9.6652e-09, 5.3506e-09, 1.8341e-08, 8.7977e-09,\n",
      "        5.7462e-09, 5.5747e-09, 1.2062e-08, 6.6798e-09, 1.0871e-08, 6.1218e-09,\n",
      "        1.1647e-08, 9.7184e-09, 3.4347e-09, 8.5693e-09, 4.6036e-09, 2.1932e-08,\n",
      "        9.2513e-09, 1.4924e-08, 1.2800e-08, 5.4725e-09, 6.0429e-09, 2.0492e-09,\n",
      "        1.6344e-08, 8.6694e-09, 5.7225e-09, 5.8494e-09], device='cuda:0')}, 6: {'step': 295000, 'square_avg': tensor([[1.8143e-08, 9.6778e-08, 4.4752e-08,  ..., 1.5556e-08, 8.9718e-09,\n",
      "         3.0606e-09],\n",
      "        [1.5187e-08, 8.2496e-08, 3.5922e-08,  ..., 1.3472e-08, 7.6406e-09,\n",
      "         3.1729e-09],\n",
      "        [1.4229e-08, 9.1585e-08, 3.7812e-08,  ..., 6.9501e-09, 8.1942e-09,\n",
      "         3.5396e-09],\n",
      "        [1.5162e-08, 7.6787e-08, 3.0689e-08,  ..., 9.8035e-09, 5.7403e-09,\n",
      "         2.8772e-09],\n",
      "        [1.4446e-08, 9.0092e-08, 3.1677e-08,  ..., 1.6612e-08, 8.1558e-09,\n",
      "         2.9016e-09],\n",
      "        [1.0153e-08, 5.7720e-08, 2.8019e-08,  ..., 8.9603e-09, 5.9201e-09,\n",
      "         2.2449e-09]], device='cuda:0')}, 7: {'step': 295000, 'square_avg': tensor([1.3585e-08, 1.3872e-08, 1.5136e-08, 1.0790e-08, 1.2573e-08, 8.6486e-09],\n",
      "       device='cuda:0')}}\n",
      "param_groups \t [{'lr': 0.0001, 'momentum': 0, 'alpha': 0.99, 'eps': 1e-08, 'centered': False, 'weight_decay': 0, 'params': [0, 1, 2, 3, 4, 5, 6, 7]}]\n",
      "q_optimizer's state_dict:\n",
      "state \t {0: {'step': 295000, 'square_avg': tensor([[4.1939e-06, 2.0386e-05, 1.0340e-05,  ..., 2.6008e-05, 8.6066e-06,\n",
      "         1.0164e-05],\n",
      "        [4.2373e-06, 9.3233e-05, 1.5095e-05,  ..., 3.0826e-05, 7.8962e-06,\n",
      "         6.8220e-06],\n",
      "        [3.8908e-06, 2.8025e-05, 5.3164e-05,  ..., 2.4105e-05, 1.2283e-05,\n",
      "         3.9156e-06],\n",
      "        ...,\n",
      "        [8.0495e-06, 1.4984e-04, 4.8289e-05,  ..., 2.6330e-05, 2.7567e-05,\n",
      "         3.4536e-06],\n",
      "        [3.6349e-06, 1.2911e-04, 3.5417e-05,  ..., 6.6526e-05, 5.0442e-05,\n",
      "         7.0868e-06],\n",
      "        [3.7262e-06, 6.0754e-06, 9.5844e-06,  ..., 2.8285e-06, 5.4790e-06,\n",
      "         4.2079e-06]], device='cuda:0')}, 1: {'step': 295000, 'square_avg': tensor([8.7849e-05, 9.8852e-05, 4.2656e-05, 9.5353e-06, 4.5463e-05, 1.2520e-04,\n",
      "        4.5016e-04, 4.6749e-05, 1.2066e-03, 2.3178e-05, 1.2974e-05, 1.0481e-04,\n",
      "        1.0671e-04, 6.9184e-04, 1.7677e-04, 3.2919e-05, 2.3412e-03, 2.3987e-03,\n",
      "        4.5631e-03, 1.0609e-04, 2.5966e-04, 5.2981e-05, 3.4757e-05, 2.6116e-04,\n",
      "        2.6255e-04, 2.4795e-05, 2.2004e-05, 4.2195e-05, 1.2401e-04, 3.5645e-05,\n",
      "        4.4766e-06, 7.6052e-05, 1.5305e-04, 2.7887e-04, 1.9747e-05, 2.3619e-04,\n",
      "        3.7841e-05, 4.0247e-05, 2.1463e-04, 1.4441e-04, 2.9290e-05, 6.4643e-05,\n",
      "        7.8654e-05, 9.4276e-06, 9.6274e-05, 2.9529e-04, 8.7449e-04, 4.3755e-04,\n",
      "        1.6519e-05, 2.7221e-05, 9.9027e-04, 8.1645e-04, 1.1912e-04, 7.0045e-04,\n",
      "        2.6515e-04, 2.2641e-04, 1.8238e-03, 4.4026e-04, 5.4623e-05, 5.8092e-04,\n",
      "        8.9378e-05, 3.8272e-04, 1.3166e-04, 3.9376e-04, 7.3565e-06, 1.1857e-04,\n",
      "        6.4535e-05, 1.9083e-04, 1.3562e-04, 2.5039e-04, 1.0139e-04, 1.9717e-04,\n",
      "        5.9456e-05, 1.9565e-05, 2.8555e-04, 9.1134e-04, 4.3788e-06, 2.8440e-04,\n",
      "        8.2106e-06, 1.0087e-03, 1.2028e-04, 4.7298e-05, 9.0666e-04, 1.3180e-04,\n",
      "        9.7248e-04, 1.8795e-05, 1.8423e-05, 1.2645e-04, 4.6493e-05, 3.5828e-04,\n",
      "        4.2391e-04, 5.3139e-06, 6.3490e-06, 8.5972e-05, 3.3547e-05, 5.9684e-04,\n",
      "        1.0657e-03, 3.4164e-05, 1.7844e-04, 1.3019e-04, 1.8096e-03, 2.4706e-05,\n",
      "        1.1003e-04, 3.1748e-05, 1.1282e-04, 8.5358e-05, 1.9831e-04, 1.2385e-03,\n",
      "        1.8910e-04, 1.0442e-03, 1.3086e-05, 7.0794e-04, 7.9573e-05, 6.8655e-05,\n",
      "        3.1675e-05, 2.3522e-04, 1.5557e-04, 4.9362e-05, 1.5749e-05, 4.7135e-05,\n",
      "        8.0662e-06, 7.1670e-04, 9.4128e-06, 8.8645e-05, 3.3485e-04, 9.4143e-04,\n",
      "        1.1637e-05, 7.9334e-04, 6.0275e-05, 1.3140e-04, 1.5636e-04, 7.1497e-04,\n",
      "        8.8482e-05, 5.5664e-04, 6.1084e-05, 7.4272e-05, 5.2713e-04, 1.0872e-03,\n",
      "        1.8584e-04, 8.2091e-06, 3.9458e-04, 8.5188e-04, 2.6943e-04, 5.6437e-06,\n",
      "        7.7692e-05, 1.1348e-05, 3.0929e-04, 3.1031e-04, 1.5223e-03, 7.9694e-05,\n",
      "        1.1173e-05, 7.3066e-05, 1.7918e-05, 4.3802e-04, 1.3059e-04, 9.1980e-05,\n",
      "        1.2037e-03, 9.6213e-05, 1.5834e-04, 1.4410e-03, 4.1158e-05, 9.8695e-05,\n",
      "        8.0618e-04, 1.3268e-04, 1.5222e-05, 5.4840e-05, 4.5020e-06, 3.5136e-06,\n",
      "        4.3119e-04, 6.6766e-04, 1.3152e-03, 3.0215e-04, 1.1659e-03, 5.1760e-05,\n",
      "        4.2360e-04, 1.2852e-04, 5.4765e-05, 5.3446e-04, 1.6088e-05, 5.4929e-04,\n",
      "        9.0863e-06, 1.8639e-06, 6.2785e-04, 1.5647e-05, 9.0842e-04, 5.8446e-04,\n",
      "        6.8624e-04, 2.7205e-05, 5.5646e-05, 3.2741e-04, 1.5849e-04, 2.7655e-04,\n",
      "        1.6863e-05, 7.8610e-05, 2.3567e-05, 6.7423e-04, 1.1956e-05, 1.3928e-05,\n",
      "        3.9139e-04, 9.0665e-06, 3.2174e-03, 1.4655e-04, 2.0543e-05, 1.1991e-04,\n",
      "        2.4626e-05, 1.9660e-04, 2.0324e-05, 3.4074e-05, 3.8066e-05, 7.1634e-05,\n",
      "        7.3244e-04, 1.8949e-03, 9.6042e-04, 2.0932e-03, 1.8203e-04, 8.7447e-04,\n",
      "        8.1851e-05, 7.0393e-04, 4.0586e-04, 1.2025e-05, 3.4128e-04, 1.9528e-03,\n",
      "        1.0909e-03, 1.3874e-04, 3.9225e-05, 5.3037e-05, 2.6769e-04, 2.1728e-04,\n",
      "        1.4244e-04, 3.4850e-04, 6.5478e-04, 1.4859e-03, 2.8261e-05, 1.6445e-03,\n",
      "        7.3157e-04, 2.6311e-04, 1.3992e-04, 1.0839e-03, 1.1449e-03, 7.0498e-06,\n",
      "        7.2654e-06, 3.6625e-04, 3.8629e-04, 1.7159e-04, 7.7905e-04, 1.9329e-05,\n",
      "        2.3209e-04, 2.4025e-04, 4.1458e-04, 6.9861e-04, 8.4709e-05, 1.5632e-05,\n",
      "        1.7790e-03, 3.9337e-04, 1.3727e-04, 7.8193e-06], device='cuda:0')}, 2: {'step': 295000, 'square_avg': tensor([[4.2911e-06, 2.2538e-06, 3.6651e-06,  ..., 1.7238e-05, 1.3849e-05,\n",
      "         3.2014e-06],\n",
      "        [2.9905e-06, 6.0649e-06, 4.5594e-07,  ..., 3.0999e-06, 2.7937e-06,\n",
      "         3.9508e-07],\n",
      "        [8.1861e-06, 4.6251e-06, 1.8774e-06,  ..., 3.8681e-06, 7.7600e-06,\n",
      "         1.5324e-08],\n",
      "        ...,\n",
      "        [6.2069e-09, 6.1433e-07, 2.1986e-08,  ..., 3.4447e-08, 3.3981e-08,\n",
      "         2.4977e-07],\n",
      "        [8.5373e-07, 2.1039e-06, 2.6956e-06,  ..., 1.0856e-05, 1.2775e-05,\n",
      "         1.7584e-07],\n",
      "        [8.6048e-07, 2.0775e-07, 4.7818e-07,  ..., 1.1179e-06, 7.4598e-07,\n",
      "         2.9455e-08]], device='cuda:0')}, 3: {'step': 295000, 'square_avg': tensor([2.1050e-04, 4.4140e-05, 2.9702e-05, 1.3804e-04, 7.8093e-06, 1.4336e-04,\n",
      "        4.2507e-05, 2.3322e-05, 7.8833e-06, 1.1311e-05, 1.1371e-05, 4.7772e-05,\n",
      "        8.3590e-05, 7.7291e-06, 1.4164e-05, 1.7983e-05, 3.5207e-04, 2.1336e-05,\n",
      "        2.4911e-05, 5.6384e-03, 2.1879e-04, 2.4246e-06, 5.3054e-05, 7.0065e-44,\n",
      "        3.0995e-04, 3.3343e-05, 8.4979e-06, 7.8993e-06, 9.5633e-06, 1.9962e-06,\n",
      "        1.5385e-04, 2.7260e-04, 3.6392e-04, 5.5069e-05, 4.0679e-06, 5.9398e-03,\n",
      "        1.7296e-05, 2.9112e-05, 6.7669e-05, 2.8620e-06, 6.9599e-05, 7.8767e-06,\n",
      "        1.6694e-05, 6.9726e-05, 4.0415e-02, 6.8459e-04, 7.5177e-06, 1.9444e-06,\n",
      "        1.3193e-06, 6.8488e-14, 5.0579e-05, 6.8262e-04, 2.4130e-06, 1.2339e-05,\n",
      "        1.1598e-05, 2.4048e-05, 8.9496e-06, 1.1867e-05, 3.1335e-05, 2.6877e-05,\n",
      "        7.0065e-44, 5.0692e-04, 4.9237e-04, 1.4074e-05, 1.0599e-04, 1.9185e-06,\n",
      "        2.7275e-05, 4.4490e-05, 7.3403e-06, 2.4666e-05, 1.8924e-05, 3.5257e-05,\n",
      "        2.2568e-05, 2.5803e-05, 1.4128e-05, 8.4172e-05, 3.2093e-06, 6.2860e-06,\n",
      "        6.3383e-05, 6.1707e-06, 1.9500e-06, 1.7466e-05, 2.2518e-06, 7.0065e-44,\n",
      "        7.9788e-06, 8.5299e-05, 1.5588e-05, 3.3643e-05, 1.6715e-05, 3.9396e-03,\n",
      "        1.9045e-06, 4.5298e-05, 3.4899e-05, 1.8372e-03, 1.8606e-05, 2.5517e-06,\n",
      "        7.0065e-44, 1.5433e-05, 1.4680e-05, 5.0489e-21, 2.9802e-05, 1.4034e-04,\n",
      "        3.7861e-05, 6.7677e-05, 2.0725e-06, 3.0231e-04, 4.4453e-06, 1.2430e-04,\n",
      "        2.3964e-05, 1.9882e-06, 1.4719e-04, 3.4762e-06, 7.0065e-44, 7.7974e-06,\n",
      "        2.0814e-04, 1.2906e-05, 5.3899e-04, 1.3708e-05, 1.4238e-04, 2.7612e-05,\n",
      "        1.3659e-03, 9.2879e-05, 1.2752e-05, 8.6821e-05, 1.6390e-03, 2.0107e-05,\n",
      "        7.5400e-05, 6.8893e-06, 5.2530e-05, 1.0066e-05, 8.3078e-06, 1.7413e-04,\n",
      "        4.0604e-06, 2.2565e-06, 2.5014e-05, 1.0381e-05, 1.3724e-05, 7.1509e-06,\n",
      "        5.4671e-06, 5.1613e-06, 8.0444e-05, 3.1813e-05, 2.8136e-04, 9.4577e-06,\n",
      "        1.1015e-05, 5.9216e-04, 1.3525e-06, 1.6636e-05, 1.0322e-06, 8.1112e-06,\n",
      "        9.5727e-05, 2.1960e-04, 5.9422e-05, 1.5703e-05, 2.7502e-06, 7.4609e-06,\n",
      "        9.6002e-08, 5.7911e-05, 3.6859e-05, 2.3409e-04, 4.8148e-05, 2.0828e-04,\n",
      "        4.0199e-05, 3.1377e-05, 7.0065e-44, 3.7933e-06, 7.2860e-06, 7.0065e-44,\n",
      "        5.5934e-07, 7.9428e-04, 7.0065e-44, 1.9071e-04, 2.6322e-05, 4.6078e-05,\n",
      "        3.5326e-05, 1.2941e-04, 1.3517e-04, 2.6643e-05, 7.2913e-05, 1.2805e-02,\n",
      "        2.0220e-05, 5.6862e-05, 2.1878e-05, 1.0370e-05, 2.0768e-06, 5.3132e-05,\n",
      "        4.3760e-05, 1.9172e-04, 6.9827e-06, 1.3859e-05, 7.7525e-05, 7.0065e-44,\n",
      "        5.5698e-05, 1.4482e-04, 3.4872e-05, 7.0065e-44, 2.5199e-04, 4.0766e-05,\n",
      "        6.9252e-06, 1.4475e-05, 1.1238e-05, 4.0783e-05, 1.8324e-05, 8.9072e-06,\n",
      "        7.9642e-06, 4.3297e-06, 4.3783e-06, 5.1776e-06, 5.8525e-05, 2.9122e-03,\n",
      "        1.1237e-05, 9.0858e-05, 6.0170e-06, 4.0460e-05, 1.3509e-05, 5.2171e-06,\n",
      "        1.0339e-05, 7.7761e-06, 8.7067e-06, 6.0398e-06, 2.8039e-04, 1.4206e-05,\n",
      "        1.2952e-05, 2.8747e-03, 7.8536e-06, 8.4643e-06, 7.0065e-44, 4.0749e-04,\n",
      "        1.1134e-06, 2.1715e-05, 7.3437e-06, 7.7655e-06, 5.1490e-05, 2.9075e-06,\n",
      "        7.2841e-05, 1.2185e-05, 2.8295e-06, 2.4385e-05, 9.4356e-05, 5.8227e-06,\n",
      "        3.1033e-04, 3.4100e-04, 2.3684e-03, 1.9029e-04, 4.8082e-06, 1.3853e-04,\n",
      "        1.4233e-05, 9.2471e-06, 8.2887e-04, 5.4834e-06, 7.0065e-44, 1.5350e-05,\n",
      "        1.6397e-05, 5.8132e-06, 1.3331e-04, 3.4080e-06], device='cuda:0')}, 4: {'step': 295000, 'square_avg': tensor([[3.5696e-08, 7.1484e-07, 1.3053e-06,  ..., 3.2013e-12, 4.6882e-07,\n",
      "         2.5677e-07],\n",
      "        [8.5588e-09, 6.1730e-08, 4.6834e-07,  ..., 1.6460e-11, 2.1767e-07,\n",
      "         8.3449e-07],\n",
      "        [2.8638e-09, 3.0289e-07, 4.6224e-07,  ..., 1.1766e-08, 2.2211e-07,\n",
      "         4.2029e-06],\n",
      "        ...,\n",
      "        [4.7223e-09, 3.1774e-08, 4.6597e-07,  ..., 1.0383e-10, 6.3139e-08,\n",
      "         8.3737e-07],\n",
      "        [1.6400e-08, 1.5203e-07, 1.2358e-06,  ..., 1.5718e-10, 1.4246e-07,\n",
      "         1.4657e-06],\n",
      "        [2.4833e-08, 5.1939e-07, 2.2974e-06,  ..., 1.3195e-09, 5.1189e-07,\n",
      "         2.1911e-06]], device='cuda:0')}, 5: {'step': 295000, 'square_avg': tensor([2.2069e-05, 2.4962e-05, 9.1224e-05, 9.0689e-06, 5.0521e-07, 2.5022e-06,\n",
      "        3.1789e-05, 1.9503e-05, 2.8996e-05, 1.9334e-04, 1.8955e-06, 1.1179e-05,\n",
      "        6.7576e-05, 4.7561e-05, 4.8750e-05, 2.8893e-05, 4.4214e-05, 3.2075e-05,\n",
      "        3.0891e-05, 3.0441e-06, 7.0065e-44, 1.0251e-05, 1.2461e-04, 1.3754e-04,\n",
      "        1.5680e-04, 9.3635e-07, 3.9204e-05, 1.8534e-05, 5.2271e-05, 4.0602e-05,\n",
      "        7.0065e-44, 4.1735e-05, 7.0065e-44, 4.5641e-05, 1.3835e-09, 5.0747e-07,\n",
      "        2.0517e-06, 1.9302e-06, 2.5388e-05, 1.3312e-04, 7.0065e-44, 3.3112e-05,\n",
      "        4.4596e-05, 1.1890e-04, 1.2448e-04, 2.9606e-04, 9.5033e-05, 6.1622e-05,\n",
      "        2.2032e-04, 3.1356e-05, 2.5708e-04, 2.1222e-05, 1.2598e-05, 1.9516e-05,\n",
      "        1.6576e-06, 5.8569e-05, 1.6458e-06, 1.8600e-05, 1.3311e-04, 1.0797e-07,\n",
      "        4.9058e-08, 8.8288e-25, 7.6096e-05, 6.1734e-05, 6.2216e-05, 3.5787e-04,\n",
      "        1.1773e-04, 4.9290e-05, 1.0332e-04, 1.8670e-05, 6.2633e-05, 1.2250e-05,\n",
      "        1.3122e-04, 6.0126e-05, 7.0065e-44, 1.3599e-04, 3.4468e-05, 1.1138e-04,\n",
      "        1.1484e-04, 5.9129e-05, 7.0065e-44, 2.2831e-05, 1.2766e-04, 1.3543e-04,\n",
      "        5.0757e-05, 3.2938e-05, 4.5833e-05, 7.6395e-05, 1.6005e-05, 1.6639e-04,\n",
      "        2.5280e-04, 4.5664e-05, 1.0005e-04, 2.7951e-05, 4.3632e-05, 3.8237e-06,\n",
      "        9.7638e-05, 8.5297e-05, 1.4808e-04, 6.1966e-05, 3.1191e-05, 7.8007e-05,\n",
      "        8.9718e-05, 1.3472e-04, 7.1345e-05, 1.8375e-05, 8.7227e-05, 1.3630e-06,\n",
      "        3.7947e-05, 1.0897e-04, 1.6251e-04, 6.3320e-05, 5.7951e-06, 4.6927e-05,\n",
      "        1.9161e-05, 2.6139e-05, 1.6494e-05, 7.2812e-05, 1.1774e-05, 3.0978e-05,\n",
      "        5.3004e-05, 6.5576e-07, 2.8766e-04, 7.0065e-44, 1.1008e-04, 2.0200e-05,\n",
      "        3.3459e-05, 1.7136e-04, 7.0065e-44, 6.6992e-05, 6.9359e-07, 7.0065e-44,\n",
      "        1.1168e-04, 3.3455e-05, 2.6088e-05, 4.2951e-05, 8.3882e-05, 1.0761e-05,\n",
      "        9.2526e-05, 4.6615e-05, 1.1905e-07, 7.0065e-44, 4.0672e-05, 4.8540e-05,\n",
      "        1.9549e-05, 9.4810e-05, 4.9615e-05, 3.7928e-05, 1.8083e-04, 4.3060e-06,\n",
      "        1.4069e-05, 5.4413e-05, 2.9865e-05, 8.0720e-05, 9.8365e-05, 1.3733e-04,\n",
      "        4.2220e-05, 2.3794e-05, 1.3761e-05, 6.2096e-22, 5.9376e-05, 2.5214e-05,\n",
      "        2.1652e-05, 1.0217e-04, 2.5381e-05, 3.0545e-05, 1.2046e-04, 9.1593e-05,\n",
      "        2.3666e-05, 2.4096e-05, 5.6172e-06, 3.4883e-05, 1.3848e-04, 4.2017e-05,\n",
      "        1.0685e-04, 8.6760e-06, 1.6286e-06, 5.8707e-05, 7.1062e-05, 8.0055e-05,\n",
      "        3.7067e-05, 1.4544e-05, 1.4183e-04, 1.3931e-07, 1.3112e-05, 1.1796e-05,\n",
      "        7.0065e-44, 1.4852e-04, 1.2021e-05, 1.9298e-06, 2.7710e-06, 1.3337e-04,\n",
      "        1.6564e-04, 7.0065e-44, 1.0064e-04, 4.7048e-05, 4.2430e-05, 6.3083e-05,\n",
      "        1.0909e-05, 9.7704e-05, 1.5245e-04, 8.3572e-05, 7.0536e-05, 4.2276e-06,\n",
      "        9.1367e-06, 7.0065e-44, 7.0065e-44, 9.5439e-06, 6.1408e-05, 1.6441e-04,\n",
      "        2.9764e-05, 2.1164e-05, 1.7692e-06, 4.5740e-05, 1.1129e-04, 2.0714e-05,\n",
      "        1.3145e-05, 5.7860e-06, 5.8400e-06, 1.5521e-05, 1.4707e-04, 1.0870e-05,\n",
      "        1.1019e-04, 8.7529e-05, 1.1545e-05, 2.4934e-05, 1.5160e-05, 1.2108e-04,\n",
      "        3.8679e-05, 2.1009e-04, 1.5191e-05, 2.6395e-05, 1.0201e-05, 7.0065e-44,\n",
      "        1.2909e-05, 1.4926e-05, 3.7693e-05, 8.8540e-07, 9.2054e-06, 8.8228e-05,\n",
      "        5.0694e-05, 7.2939e-06, 3.2562e-06, 5.5580e-05, 6.5899e-08, 8.0548e-05,\n",
      "        8.1230e-05, 1.7769e-04, 6.6392e-05, 1.8917e-05, 1.4363e-04, 7.9471e-05,\n",
      "        3.3204e-04, 2.3110e-05, 4.6965e-05, 7.1254e-05], device='cuda:0')}, 6: {'step': 295000, 'square_avg': tensor([[3.9940e-04, 3.0003e-04, 5.1601e-05, 5.0418e-07, 7.1377e-05, 4.9727e-05,\n",
      "         6.9208e-04, 1.6984e-06, 8.5683e-05, 9.9927e-02, 2.3124e-07, 3.3807e-06,\n",
      "         6.0389e-02, 9.9238e-06, 4.6590e-02, 1.1713e-03, 2.4637e-02, 8.8982e-03,\n",
      "         4.6853e-05, 3.1176e-07, 7.0065e-44, 9.6787e-04, 2.1084e-05, 6.6303e-02,\n",
      "         1.0708e-01, 2.3247e-07, 2.3679e-05, 1.9134e-06, 2.7203e-04, 5.7405e-02,\n",
      "         7.0065e-44, 3.5407e-04, 7.0065e-44, 5.0626e-04, 9.8972e-10, 4.1469e-06,\n",
      "         1.0155e-07, 1.1988e-04, 1.4034e-05, 2.1205e-03, 7.0065e-44, 4.8379e-02,\n",
      "         2.4560e-04, 1.1666e-02, 8.1394e-02, 1.7219e-02, 7.9107e-02, 7.3978e-05,\n",
      "         8.1367e-02, 2.8263e-05, 1.2310e-04, 1.5568e-03, 1.1003e-06, 5.0591e-06,\n",
      "         4.7197e-07, 1.0857e-02, 1.2291e-04, 7.2607e-06, 7.5486e-04, 1.6427e-08,\n",
      "         1.5169e-08, 4.4446e-27, 7.8628e-04, 5.0333e-04, 8.8368e-04, 2.0037e-04,\n",
      "         1.0439e-01, 7.0942e-06, 7.2771e-02, 3.1256e-04, 1.7278e-04, 8.0725e-06,\n",
      "         5.1481e-05, 2.6127e-02, 7.0065e-44, 8.8201e-02, 5.6978e-02, 1.2958e-02,\n",
      "         1.4610e-04, 1.8737e-05, 7.0065e-44, 3.5328e-06, 9.3453e-02, 1.0134e-03,\n",
      "         5.0992e-04, 5.9388e-02, 1.0746e-05, 4.0584e-05, 7.1249e-06, 8.6110e-02,\n",
      "         1.5749e-02, 2.5914e-04, 2.7457e-03, 5.3474e-04, 2.7068e-04, 1.2934e-06,\n",
      "         1.4998e-03, 2.5630e-02, 1.1966e-01, 5.1044e-04, 3.9779e-06, 1.3816e-02,\n",
      "         9.1931e-04, 9.7963e-05, 1.7625e-03, 8.0542e-03, 1.7102e-05, 1.4442e-07,\n",
      "         1.0194e-05, 4.7550e-04, 7.4566e-02, 4.0373e-03, 1.3496e-04, 5.7124e-02,\n",
      "         1.6302e-06, 2.2144e-06, 3.1013e-06, 2.7866e-04, 2.4394e-06, 1.1884e-05,\n",
      "         1.1054e-03, 3.1599e-08, 8.9278e-05, 7.0065e-44, 6.3237e-02, 9.3552e-06,\n",
      "         1.1592e-02, 1.6745e-02, 7.0065e-44, 3.3558e-05, 4.2776e-08, 7.0065e-44,\n",
      "         8.7390e-04, 1.9819e-05, 2.4705e-04, 1.6947e-02, 8.3153e-03, 1.4114e-06,\n",
      "         7.9981e-02, 6.8656e-02, 8.9633e-08, 7.0065e-44, 2.6260e-04, 1.3577e-05,\n",
      "         3.0730e-06, 8.9332e-02, 5.0383e-02, 7.1243e-03, 1.0712e-01, 6.3627e-07,\n",
      "         1.9955e-05, 6.2649e-03, 7.4438e-06, 1.5451e-02, 1.1854e-02, 1.9980e-02,\n",
      "         6.0905e-06, 9.5832e-06, 8.8520e-07, 8.5501e-26, 4.2721e-04, 6.9903e-06,\n",
      "         3.4387e-06, 4.6429e-02, 5.4566e-06, 1.0166e-05, 5.7251e-03, 1.1161e-02,\n",
      "         8.5327e-03, 1.2328e-03, 5.7367e-07, 3.9891e-04, 4.6188e-05, 5.0658e-02,\n",
      "         1.5980e-02, 5.5254e-06, 2.0466e-07, 1.1321e-02, 7.0848e-04, 8.1003e-04,\n",
      "         3.2640e-04, 1.0351e-05, 1.2429e-02, 3.9440e-08, 4.5683e-06, 1.3261e-06,\n",
      "         7.0065e-44, 9.1314e-02, 1.3085e-06, 2.3812e-06, 2.2424e-07, 5.6710e-04,\n",
      "         1.1087e-01, 7.0065e-44, 9.7417e-02, 3.0816e-05, 5.3656e-03, 5.6266e-06,\n",
      "         6.2112e-06, 9.0786e-02, 1.8719e-02, 8.8474e-02, 1.1178e-02, 3.9773e-07,\n",
      "         1.7527e-06, 7.0065e-44, 7.0065e-44, 8.1970e-07, 1.2756e-02, 4.9963e-05,\n",
      "         1.1741e-03, 3.5804e-04, 2.4908e-07, 2.4739e-05, 2.3587e-04, 7.8829e-04,\n",
      "         3.3659e-06, 2.9178e-06, 1.8230e-06, 1.4980e-05, 1.7556e-03, 1.1654e-04,\n",
      "         3.2213e-05, 9.9981e-04, 3.4051e-06, 1.9039e-04, 1.6919e-02, 1.2045e-01,\n",
      "         3.4580e-04, 1.4536e-02, 4.2670e-06, 3.3796e-06, 7.6231e-07, 7.0065e-44,\n",
      "         7.0881e-06, 2.0218e-04, 6.2349e-04, 1.3577e-07, 2.0583e-06, 5.8964e-02,\n",
      "         4.6225e-03, 2.7288e-06, 1.6588e-04, 8.0801e-03, 3.8683e-08, 1.3630e-02,\n",
      "         1.0342e-01, 1.3616e-01, 7.7127e-04, 2.8757e-06, 9.3089e-02, 9.5003e-03,\n",
      "         1.4992e-02, 8.0744e-03, 9.8173e-03, 2.7656e-02]], device='cuda:0')}, 7: {'step': 295000, 'square_avg': tensor([0.0162], device='cuda:0')}}\n",
      "param_groups \t [{'lr': 0.0001, 'momentum': 0, 'alpha': 0.99, 'eps': 1e-08, 'centered': False, 'weight_decay': 0, 'params': [0, 1, 2, 3, 4, 5, 6, 7]}]\n"
     ]
    }
   ],
   "source": [
    "print(\"pi_optimizer's state_dict:\")\n",
    "for var_name in pi_optimizer.state_dict():\n",
    "    print(var_name, \"\\t\", pi_optimizer.state_dict()[var_name])\n",
    "\n",
    "print(\"q_optimizer's state_dict:\")\n",
    "for var_name in q_optimizer.state_dict():\n",
    "    print(var_name, \"\\t\", q_optimizer.state_dict()[var_name])"
   ]
  },
  {
   "cell_type": "code",
   "execution_count": 18,
   "metadata": {},
   "outputs": [],
   "source": [
    "now = datetime.now()\n",
    "\n",
    "current_time = str(now.isoformat())\n",
    "\n",
    "\n",
    "\n",
    "torch.save({\n",
    "            'model of ac.q': ac.q.state_dict(),\n",
    "            'model of ac.pi': ac.pi.state_dict(),\n",
    "            'q_optimizer_state_dict': q_optimizer.state_dict(),\n",
    "            'pi_optimizer_state_dict': pi_optimizer.state_dict(),\n",
    "            \n",
    "            }, \"model_nn/model_nn_%s.pt\" % current_time)\n",
    "\n"
   ]
  },
  {
   "cell_type": "code",
   "execution_count": 19,
   "metadata": {},
   "outputs": [
    {
     "name": "stdout",
     "output_type": "stream",
     "text": [
      "Shutting down background jobs, please wait a moment...\n",
      "Done!\n"
     ]
    },
    {
     "name": "stderr",
     "output_type": "stream",
     "text": [
      "Waiting for the remaining 140 operations to synchronize with Neptune. Do not kill this process.\n"
     ]
    },
    {
     "name": "stdout",
     "output_type": "stream",
     "text": [
      "All 140 operations synced, thanks for waiting!\n"
     ]
    }
   ],
   "source": [
    "nep_log.stop()"
   ]
  }
 ],
 "metadata": {
  "interpreter": {
   "hash": "1a48a149bc7a8dee0435672efcae6f64e48d62311a35302b209b3ac517d7f9c6"
  },
  "kernelspec": {
   "display_name": "Python 3.8.12 64-bit ('cosmic_rays_x_py38_env': conda)",
   "language": "python",
   "name": "python3"
  },
  "language_info": {
   "codemirror_mode": {
    "name": "ipython",
    "version": 3
   },
   "file_extension": ".py",
   "mimetype": "text/x-python",
   "name": "python",
   "nbconvert_exporter": "python",
   "pygments_lexer": "ipython3",
   "version": "3.8.12"
  },
  "orig_nbformat": 4
 },
 "nbformat": 4,
 "nbformat_minor": 2
}
